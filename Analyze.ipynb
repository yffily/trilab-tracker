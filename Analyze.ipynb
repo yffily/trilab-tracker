{
 "cells": [
  {
   "cell_type": "code",
   "execution_count": 3,
   "metadata": {},
   "outputs": [],
   "source": [
    "from importlib import reload\n",
    "import platform, os, sys, datetime, re, itertools\n",
    "from os.path import join\n",
    "from glob import glob\n",
    "import cv2\n",
    "import numpy as np\n",
    "import pandas as pd\n",
    "import matplotlib.pyplot as plt\n",
    "# sys.path.append(join(root_dir,'cvtracer'))\n",
    "# from cvt.TrAQ.Trial import Trial\n",
    "from cvt.TrAQ.Tank import Tank\n",
    "import cvt.utils as utils\n",
    "\n",
    "tank_diameter_vs_age = { 7:9.6, 14:10.4, 21:12.8, 28:17.7, 42:33.8 }"
   ]
  },
  {
   "cell_type": "markdown",
   "metadata": {},
   "source": [
    "# Load a trial and parse its name."
   ]
  },
  {
   "cell_type": "code",
   "execution_count": 24,
   "metadata": {},
   "outputs": [
    {
     "data": {
      "text/plain": [
       "['test/SF_Sat_7dpf_GroupA_n2a_CORRUPT-ffmpeg/trial.pik']"
      ]
     },
     "metadata": {},
     "output_type": "display_data"
    },
    {
     "data": {
      "text/html": [
       "<div>\n",
       "<style scoped>\n",
       "    .dataframe tbody tr th:only-of-type {\n",
       "        vertical-align: middle;\n",
       "    }\n",
       "\n",
       "    .dataframe tbody tr th {\n",
       "        vertical-align: top;\n",
       "    }\n",
       "\n",
       "    .dataframe thead tr th {\n",
       "        text-align: left;\n",
       "    }\n",
       "\n",
       "    .dataframe thead tr:last-of-type th {\n",
       "        text-align: right;\n",
       "    }\n",
       "</style>\n",
       "<table border=\"1\" class=\"dataframe\">\n",
       "  <thead>\n",
       "    <tr>\n",
       "      <th></th>\n",
       "      <th colspan=\"4\" halign=\"left\">0</th>\n",
       "      <th colspan=\"4\" halign=\"left\">1</th>\n",
       "    </tr>\n",
       "    <tr>\n",
       "      <th></th>\n",
       "      <th>x_px</th>\n",
       "      <th>y_px</th>\n",
       "      <th>ang</th>\n",
       "      <th>area</th>\n",
       "      <th>x_px</th>\n",
       "      <th>y_px</th>\n",
       "      <th>ang</th>\n",
       "      <th>area</th>\n",
       "    </tr>\n",
       "    <tr>\n",
       "      <th>frame</th>\n",
       "      <th></th>\n",
       "      <th></th>\n",
       "      <th></th>\n",
       "      <th></th>\n",
       "      <th></th>\n",
       "      <th></th>\n",
       "      <th></th>\n",
       "      <th></th>\n",
       "    </tr>\n",
       "  </thead>\n",
       "  <tbody>\n",
       "    <tr>\n",
       "      <th>1</th>\n",
       "      <td>1386.988764</td>\n",
       "      <td>687.951311</td>\n",
       "      <td>1.355983</td>\n",
       "      <td>44.5</td>\n",
       "      <td>NaN</td>\n",
       "      <td>NaN</td>\n",
       "      <td>NaN</td>\n",
       "      <td>NaN</td>\n",
       "    </tr>\n",
       "    <tr>\n",
       "      <th>2</th>\n",
       "      <td>1387.024096</td>\n",
       "      <td>688.184739</td>\n",
       "      <td>1.363917</td>\n",
       "      <td>41.5</td>\n",
       "      <td>NaN</td>\n",
       "      <td>NaN</td>\n",
       "      <td>NaN</td>\n",
       "      <td>NaN</td>\n",
       "    </tr>\n",
       "    <tr>\n",
       "      <th>3</th>\n",
       "      <td>1387.144578</td>\n",
       "      <td>688.526104</td>\n",
       "      <td>1.377465</td>\n",
       "      <td>41.5</td>\n",
       "      <td>NaN</td>\n",
       "      <td>NaN</td>\n",
       "      <td>NaN</td>\n",
       "      <td>NaN</td>\n",
       "    </tr>\n",
       "  </tbody>\n",
       "</table>\n",
       "</div>"
      ],
      "text/plain": [
       "                 0                                1              \n",
       "              x_px        y_px       ang  area x_px y_px ang area\n",
       "frame                                                            \n",
       "1      1386.988764  687.951311  1.355983  44.5  NaN  NaN NaN  NaN\n",
       "2      1387.024096  688.184739  1.363917  41.5  NaN  NaN NaN  NaN\n",
       "3      1387.144578  688.526104  1.377465  41.5  NaN  NaN NaN  NaN"
      ]
     },
     "metadata": {},
     "output_type": "display_data"
    }
   ],
   "source": [
    "# trial_files = sorted(glob('../tracking/full/*/trial.pik'))\n",
    "# trial_files = sorted(glob('test/*/trial.pik'))\n",
    "trial_files = ['test/SF_Sat_7dpf_GroupA_n2a_CORRUPT-ffmpeg/trial.pik']\n",
    "display(trial_files)\n",
    "\n",
    "trial_file  = trial_files[0]\n",
    "\n",
    "\n",
    "pop,_,age,group,Nfish = os.path.basename(os.path.dirname(trial_file)).split('_')[:5]\n",
    "age   = int(age[:-3])\n",
    "n_ind = int(re.findall('\\d+',Nfish)[0])\n",
    "# print(pop,age,group,n_ind)\n",
    "trial = { k:globals()[k] for k in ['pop','age','group','n_ind'] }\n",
    "\n",
    "trial.update(utils.load_pik(trial_file))\n",
    "# print(trial) #.keys())\n",
    "globals().update(trial)\n",
    "\n",
    "# Load the tracking data, originally a numpy.array, into a pandas.DataFrame.\n",
    "df = pd.DataFrame( data.reshape((data.shape[0],-1)))\n",
    "df.columns = pd.MultiIndex.from_product([ range(n_ind), ['x_px','y_px','ang','area'] ])\n",
    "df.index = pd.Index(time, name='frame')\n",
    "\n",
    "display(df[:3])\n",
    "# # trial.df.to_excel(trial.output_dir+'/df.xlsx')"
   ]
  },
  {
   "cell_type": "markdown",
   "metadata": {},
   "source": [
    "# Compute spatial and kinematic quantities"
   ]
  },
  {
   "cell_type": "code",
   "execution_count": 3,
   "metadata": {},
   "outputs": [
    {
     "data": {
      "text/html": [
       "<div>\n",
       "<style scoped>\n",
       "    .dataframe tbody tr th:only-of-type {\n",
       "        vertical-align: middle;\n",
       "    }\n",
       "\n",
       "    .dataframe tbody tr th {\n",
       "        vertical-align: top;\n",
       "    }\n",
       "\n",
       "    .dataframe thead tr th {\n",
       "        text-align: left;\n",
       "    }\n",
       "\n",
       "    .dataframe thead tr:last-of-type th {\n",
       "        text-align: right;\n",
       "    }\n",
       "</style>\n",
       "<table border=\"1\" class=\"dataframe\">\n",
       "  <thead>\n",
       "    <tr>\n",
       "      <th></th>\n",
       "      <th colspan=\"10\" halign=\"left\">0</th>\n",
       "      <th>...</th>\n",
       "      <th colspan=\"10\" halign=\"left\">4</th>\n",
       "    </tr>\n",
       "    <tr>\n",
       "      <th></th>\n",
       "      <th>x_px</th>\n",
       "      <th>y_px</th>\n",
       "      <th>area</th>\n",
       "      <th>ang</th>\n",
       "      <th>v_ang</th>\n",
       "      <th>x</th>\n",
       "      <th>y</th>\n",
       "      <th>v_x</th>\n",
       "      <th>v_y</th>\n",
       "      <th>v</th>\n",
       "      <th>...</th>\n",
       "      <th>y_px</th>\n",
       "      <th>area</th>\n",
       "      <th>ang</th>\n",
       "      <th>v_ang</th>\n",
       "      <th>x</th>\n",
       "      <th>y</th>\n",
       "      <th>v_x</th>\n",
       "      <th>v_y</th>\n",
       "      <th>v</th>\n",
       "      <th>d_wall</th>\n",
       "    </tr>\n",
       "    <tr>\n",
       "      <th>frame</th>\n",
       "      <th></th>\n",
       "      <th></th>\n",
       "      <th></th>\n",
       "      <th></th>\n",
       "      <th></th>\n",
       "      <th></th>\n",
       "      <th></th>\n",
       "      <th></th>\n",
       "      <th></th>\n",
       "      <th></th>\n",
       "      <th></th>\n",
       "      <th></th>\n",
       "      <th></th>\n",
       "      <th></th>\n",
       "      <th></th>\n",
       "      <th></th>\n",
       "      <th></th>\n",
       "      <th></th>\n",
       "      <th></th>\n",
       "      <th></th>\n",
       "      <th></th>\n",
       "    </tr>\n",
       "  </thead>\n",
       "  <tbody>\n",
       "    <tr>\n",
       "      <th>1801</th>\n",
       "      <td>1500.792023</td>\n",
       "      <td>735.712251</td>\n",
       "      <td>58.5</td>\n",
       "      <td>0.062246</td>\n",
       "      <td>NaN</td>\n",
       "      <td>4.124136</td>\n",
       "      <td>-1.790963</td>\n",
       "      <td>NaN</td>\n",
       "      <td>NaN</td>\n",
       "      <td>NaN</td>\n",
       "      <td>...</td>\n",
       "      <td>861.948718</td>\n",
       "      <td>71.5</td>\n",
       "      <td>1.481761</td>\n",
       "      <td>NaN</td>\n",
       "      <td>-0.477493</td>\n",
       "      <td>-3.215326</td>\n",
       "      <td>NaN</td>\n",
       "      <td>NaN</td>\n",
       "      <td>NaN</td>\n",
       "      <td>1.549413</td>\n",
       "    </tr>\n",
       "    <tr>\n",
       "      <th>1802</th>\n",
       "      <td>1501.182336</td>\n",
       "      <td>735.803419</td>\n",
       "      <td>58.5</td>\n",
       "      <td>0.034510</td>\n",
       "      <td>-0.832095</td>\n",
       "      <td>4.128540</td>\n",
       "      <td>-1.791992</td>\n",
       "      <td>0.132121</td>\n",
       "      <td>-0.030860</td>\n",
       "      <td>0.135677</td>\n",
       "      <td>...</td>\n",
       "      <td>861.894253</td>\n",
       "      <td>72.5</td>\n",
       "      <td>1.485195</td>\n",
       "      <td>0.103016</td>\n",
       "      <td>-0.477255</td>\n",
       "      <td>-3.214711</td>\n",
       "      <td>0.007167</td>\n",
       "      <td>0.018436</td>\n",
       "      <td>0.019780</td>\n",
       "      <td>1.550056</td>\n",
       "    </tr>\n",
       "    <tr>\n",
       "      <th>1803</th>\n",
       "      <td>1500.944444</td>\n",
       "      <td>735.836111</td>\n",
       "      <td>60.0</td>\n",
       "      <td>0.039423</td>\n",
       "      <td>0.147403</td>\n",
       "      <td>4.125856</td>\n",
       "      <td>-1.792361</td>\n",
       "      <td>-0.080526</td>\n",
       "      <td>-0.011066</td>\n",
       "      <td>0.081283</td>\n",
       "      <td>...</td>\n",
       "      <td>861.596372</td>\n",
       "      <td>73.5</td>\n",
       "      <td>1.479325</td>\n",
       "      <td>-0.176081</td>\n",
       "      <td>-0.477815</td>\n",
       "      <td>-3.211350</td>\n",
       "      <td>-0.016823</td>\n",
       "      <td>0.100832</td>\n",
       "      <td>0.102226</td>\n",
       "      <td>1.553298</td>\n",
       "    </tr>\n",
       "  </tbody>\n",
       "</table>\n",
       "<p>3 rows × 55 columns</p>\n",
       "</div>"
      ],
      "text/plain": [
       "                 0                                                            \\\n",
       "              x_px        y_px  area       ang     v_ang         x         y   \n",
       "frame                                                                          \n",
       "1801   1500.792023  735.712251  58.5  0.062246       NaN  4.124136 -1.790963   \n",
       "1802   1501.182336  735.803419  58.5  0.034510 -0.832095  4.128540 -1.791992   \n",
       "1803   1500.944444  735.836111  60.0  0.039423  0.147403  4.125856 -1.792361   \n",
       "\n",
       "                                     ...           4                  \\\n",
       "            v_x       v_y         v  ...        y_px  area       ang   \n",
       "frame                                ...                               \n",
       "1801        NaN       NaN       NaN  ...  861.948718  71.5  1.481761   \n",
       "1802   0.132121 -0.030860  0.135677  ...  861.894253  72.5  1.485195   \n",
       "1803  -0.080526 -0.011066  0.081283  ...  861.596372  73.5  1.479325   \n",
       "\n",
       "                                                                             \n",
       "          v_ang         x         y       v_x       v_y         v    d_wall  \n",
       "frame                                                                        \n",
       "1801        NaN -0.477493 -3.215326       NaN       NaN       NaN  1.549413  \n",
       "1802   0.103016 -0.477255 -3.214711  0.007167  0.018436  0.019780  1.550056  \n",
       "1803  -0.176081 -0.477815 -3.211350 -0.016823  0.100832  0.102226  1.553298  \n",
       "\n",
       "[3 rows x 55 columns]"
      ]
     },
     "metadata": {},
     "output_type": "display_data"
    }
   ],
   "source": [
    "globals().update(trial)\n",
    "\n",
    "# Convert pixels to cm.\n",
    "tank.r_cm = tank_diameter_vs_age[age]/2\n",
    "a = tank.r_cm/tank.r_px\n",
    "for i in range(n_ind):\n",
    "    df[i,'x'] =  a*(df[i,'x_px']-tank.x_px)\n",
    "    df[i,'y'] = -a*(df[i,'y_px']-tank.y_px)\n",
    "\n",
    "fish = df.columns.levels[0]\n",
    "\n",
    "for f in fish:\n",
    "    \n",
    "    df[f,'d_wall'] = tank.r_cm - np.hypot(df[f,'x'],df[f,'y'])\n",
    "    \n",
    "    df[f,'v_x']    = df[f,'x'].diff()*fps\n",
    "    df[f,'v_y']    = df[f,'y'].diff()*fps\n",
    "    df[f,'v']      = np.hypot(df[f,'v_x'],df[f,'v_y'])\n",
    "    \n",
    "    ang_diff       = df[f,'ang'].diff()\n",
    "    ang_diff      -= 2*np.pi*np.rint(ang_diff/(2*np.pi))\n",
    "    df[f,'v_ang']  = ang_diff*fps\n",
    "    \n",
    "# Reorder columns.\n",
    "# df = df.sort_index(axis=1) # Sort alphabetically, which also sorts by fish.\n",
    "columns = [ (f,q) for f in fish for q in ['x_px', 'y_px', 'area', 'ang', 'v_ang', \n",
    "                                          'x', 'y', 'v_x', 'v_y', 'v', 'd_wall'] ]\n",
    "df = df.reindex(columns=columns)\n",
    "display(df[:3])"
   ]
  },
  {
   "cell_type": "markdown",
   "metadata": {},
   "source": [
    "# Perform cuts"
   ]
  },
  {
   "cell_type": "code",
   "execution_count": 4,
   "metadata": {},
   "outputs": [
    {
     "data": {
      "text/plain": [
       "{'d_wall': 1.0,\n",
       " 'v': 0.9940066592674806,\n",
       " 'v_ang': 0.9988901220865705,\n",
       " 'final': 0.9940066592674806}"
      ]
     },
     "metadata": {},
     "output_type": "display_data"
    },
    {
     "data": {
      "text/html": [
       "<div>\n",
       "<style scoped>\n",
       "    .dataframe tbody tr th:only-of-type {\n",
       "        vertical-align: middle;\n",
       "    }\n",
       "\n",
       "    .dataframe tbody tr th {\n",
       "        vertical-align: top;\n",
       "    }\n",
       "\n",
       "    .dataframe thead tr th {\n",
       "        text-align: left;\n",
       "    }\n",
       "\n",
       "    .dataframe thead tr:last-of-type th {\n",
       "        text-align: right;\n",
       "    }\n",
       "</style>\n",
       "<table border=\"1\" class=\"dataframe\">\n",
       "  <thead>\n",
       "    <tr>\n",
       "      <th></th>\n",
       "      <th colspan=\"8\" halign=\"left\">0</th>\n",
       "      <th colspan=\"2\" halign=\"left\">1</th>\n",
       "      <th>...</th>\n",
       "      <th colspan=\"2\" halign=\"left\">3</th>\n",
       "      <th colspan=\"8\" halign=\"left\">4</th>\n",
       "    </tr>\n",
       "    <tr>\n",
       "      <th></th>\n",
       "      <th>ang</th>\n",
       "      <th>v_ang</th>\n",
       "      <th>x</th>\n",
       "      <th>y</th>\n",
       "      <th>v_x</th>\n",
       "      <th>v_y</th>\n",
       "      <th>v</th>\n",
       "      <th>d_wall</th>\n",
       "      <th>ang</th>\n",
       "      <th>v_ang</th>\n",
       "      <th>...</th>\n",
       "      <th>v</th>\n",
       "      <th>d_wall</th>\n",
       "      <th>ang</th>\n",
       "      <th>v_ang</th>\n",
       "      <th>x</th>\n",
       "      <th>y</th>\n",
       "      <th>v_x</th>\n",
       "      <th>v_y</th>\n",
       "      <th>v</th>\n",
       "      <th>d_wall</th>\n",
       "    </tr>\n",
       "    <tr>\n",
       "      <th>frame</th>\n",
       "      <th></th>\n",
       "      <th></th>\n",
       "      <th></th>\n",
       "      <th></th>\n",
       "      <th></th>\n",
       "      <th></th>\n",
       "      <th></th>\n",
       "      <th></th>\n",
       "      <th></th>\n",
       "      <th></th>\n",
       "      <th></th>\n",
       "      <th></th>\n",
       "      <th></th>\n",
       "      <th></th>\n",
       "      <th></th>\n",
       "      <th></th>\n",
       "      <th></th>\n",
       "      <th></th>\n",
       "      <th></th>\n",
       "      <th></th>\n",
       "      <th></th>\n",
       "    </tr>\n",
       "  </thead>\n",
       "  <tbody>\n",
       "    <tr>\n",
       "      <th>1801</th>\n",
       "      <td>NaN</td>\n",
       "      <td>NaN</td>\n",
       "      <td>NaN</td>\n",
       "      <td>NaN</td>\n",
       "      <td>NaN</td>\n",
       "      <td>NaN</td>\n",
       "      <td>NaN</td>\n",
       "      <td>NaN</td>\n",
       "      <td>NaN</td>\n",
       "      <td>NaN</td>\n",
       "      <td>...</td>\n",
       "      <td>NaN</td>\n",
       "      <td>NaN</td>\n",
       "      <td>NaN</td>\n",
       "      <td>NaN</td>\n",
       "      <td>NaN</td>\n",
       "      <td>NaN</td>\n",
       "      <td>NaN</td>\n",
       "      <td>NaN</td>\n",
       "      <td>NaN</td>\n",
       "      <td>NaN</td>\n",
       "    </tr>\n",
       "    <tr>\n",
       "      <th>1802</th>\n",
       "      <td>0.034510</td>\n",
       "      <td>-0.832095</td>\n",
       "      <td>4.128540</td>\n",
       "      <td>-1.791992</td>\n",
       "      <td>0.132121</td>\n",
       "      <td>-0.030860</td>\n",
       "      <td>0.135677</td>\n",
       "      <td>0.299325</td>\n",
       "      <td>-0.698818</td>\n",
       "      <td>-0.580367</td>\n",
       "      <td>...</td>\n",
       "      <td>0.039856</td>\n",
       "      <td>1.496701</td>\n",
       "      <td>1.485195</td>\n",
       "      <td>0.103016</td>\n",
       "      <td>-0.477255</td>\n",
       "      <td>-3.214711</td>\n",
       "      <td>0.007167</td>\n",
       "      <td>0.018436</td>\n",
       "      <td>0.019780</td>\n",
       "      <td>1.550056</td>\n",
       "    </tr>\n",
       "    <tr>\n",
       "      <th>1803</th>\n",
       "      <td>0.039423</td>\n",
       "      <td>0.147403</td>\n",
       "      <td>4.125856</td>\n",
       "      <td>-1.792361</td>\n",
       "      <td>-0.080526</td>\n",
       "      <td>-0.011066</td>\n",
       "      <td>0.081283</td>\n",
       "      <td>0.301640</td>\n",
       "      <td>-0.718249</td>\n",
       "      <td>-0.582945</td>\n",
       "      <td>...</td>\n",
       "      <td>0.053331</td>\n",
       "      <td>1.498431</td>\n",
       "      <td>1.479325</td>\n",
       "      <td>-0.176081</td>\n",
       "      <td>-0.477815</td>\n",
       "      <td>-3.211350</td>\n",
       "      <td>-0.016823</td>\n",
       "      <td>0.100832</td>\n",
       "      <td>0.102226</td>\n",
       "      <td>1.553298</td>\n",
       "    </tr>\n",
       "  </tbody>\n",
       "</table>\n",
       "<p>3 rows × 40 columns</p>\n",
       "</div>"
      ],
      "text/plain": [
       "              0                                                              \\\n",
       "            ang     v_ang         x         y       v_x       v_y         v   \n",
       "frame                                                                         \n",
       "1801        NaN       NaN       NaN       NaN       NaN       NaN       NaN   \n",
       "1802   0.034510 -0.832095  4.128540 -1.791992  0.132121 -0.030860  0.135677   \n",
       "1803   0.039423  0.147403  4.125856 -1.792361 -0.080526 -0.011066  0.081283   \n",
       "\n",
       "                        1            ...         3                   4  \\\n",
       "         d_wall       ang     v_ang  ...         v    d_wall       ang   \n",
       "frame                                ...                                 \n",
       "1801        NaN       NaN       NaN  ...       NaN       NaN       NaN   \n",
       "1802   0.299325 -0.698818 -0.580367  ...  0.039856  1.496701  1.485195   \n",
       "1803   0.301640 -0.718249 -0.582945  ...  0.053331  1.498431  1.479325   \n",
       "\n",
       "                                                                             \n",
       "          v_ang         x         y       v_x       v_y         v    d_wall  \n",
       "frame                                                                        \n",
       "1801        NaN       NaN       NaN       NaN       NaN       NaN       NaN  \n",
       "1802   0.103016 -0.477255 -3.214711  0.007167  0.018436  0.019780  1.550056  \n",
       "1803  -0.176081 -0.477815 -3.211350 -0.016823  0.100832  0.102226  1.553298  \n",
       "\n",
       "[3 rows x 40 columns]"
      ]
     },
     "metadata": {},
     "output_type": "display_data"
    }
   ],
   "source": [
    "cut_ranges = { 'd_wall': [0,tank.r_cm], \n",
    "               'v':      [0,np.inf], \n",
    "               'v_ang':  [-np.inf,np.inf] }\n",
    "\n",
    "\n",
    "# Locate fish/frame combinations that didn't make the cut(s).\n",
    "cut_names = [ 'cut_'+q for q in cut_ranges.keys() ]\n",
    "valid_fraction = {}\n",
    "for f in fish:\n",
    "    for q,(vmin,vmax) in cut_ranges.items():\n",
    "        df[f,'cut_'+q]  = (df[f,q]>vmin) & (df[f,q]<vmax)\n",
    "    df[f,'cut_final'] = df.loc[:,(f,cut_names)].all(axis=1)\n",
    "\n",
    "    \n",
    "# # For each fish, compute the fraction of points that made it through each cut.\n",
    "# valid_fraction = {}\n",
    "# for f in fish:\n",
    "#     for c in list(cut_ranges.keys())+['final']:\n",
    "#         valid_fraction[f,c] = df[f,'cut_'+c].mean()\n",
    "# display(valid_fraction)\n",
    "\n",
    "# Compute the fraction of points that made it through each cut.\n",
    "valid_fraction = {}\n",
    "for c in list(cut_ranges.keys())+['final']:\n",
    "    B = [df[f,'cut_'+c] for f in fish]\n",
    "    valid_fraction[c] = sum([b.sum() for b in B])/sum([len(b) for b in B])\n",
    "display(valid_fraction)\n",
    "\n",
    "# # Plot the fraction of points that made it through each cut.\n",
    "# plt.bar(*zip(*valid_fraction.items()))\n",
    "# plt.xlabel('Cut')\n",
    "# plt.ylabel('Valid fraction')\n",
    "# plt.show()\n",
    "\n",
    "\n",
    "# Reorder columns.\n",
    "columns = [ (f,q) for f in fish for q in ['x_px', 'y_px', 'area', \n",
    "                                          'ang', 'v_ang', 'cut_v_ang', \n",
    "                                          'x', 'y', 'v_x', 'v_y', 'v', 'cut_v', \n",
    "                                          'd_wall', 'cut_d_wall', \n",
    "                                          'cut_final'] ]\n",
    "df  = df.reindex(columns=columns)\n",
    "df0 = df.copy()\n",
    "# display(df0[:5])\n",
    "\n",
    "\n",
    "# Create a filtered dataframe.\n",
    "cols = ['ang', 'v_ang', 'x', 'y', 'v_x', 'v_y', 'v', 'd_wall']\n",
    "df   = df0.loc[:,(slice(None),cols)].copy()\n",
    "for f in fish:\n",
    "    df.loc[~df0[f,'cut_final'],f] = np.nan\n",
    "display(df[:3])"
   ]
  },
  {
   "cell_type": "markdown",
   "metadata": {},
   "source": [
    "# Compute and plot distributions\n",
    "\n",
    "TODO: Compute histogram for each fish, then use the standard error as the uncertainty on the distribution."
   ]
  },
  {
   "cell_type": "markdown",
   "metadata": {},
   "source": [
    "### Distance to the wall"
   ]
  },
  {
   "cell_type": "code",
   "execution_count": 5,
   "metadata": {},
   "outputs": [
    {
     "data": {
      "image/png": "[encoded data removed]",
      "text/plain": [
       "<Figure size 432x288 with 1 Axes>"
      ]
     },
     "metadata": {
      "needs_background": "light"
     },
     "output_type": "display_data"
    }
   ],
   "source": [
    "quantity = 'd_wall'\n",
    "unit = 'cm'\n",
    "bins = np.linspace(0,tank.r_cm,15)\n",
    "\n",
    "values = df.loc[:,(slice(None),quantity)].values.flatten()\n",
    "plt.hist(values,bins=bins)\n",
    "plt.xlabel(f'{quantity} ({unit})')\n",
    "plt.ylabel('frequency')\n",
    "plt.show()"
   ]
  },
  {
   "cell_type": "markdown",
   "metadata": {},
   "source": [
    "### Velocity"
   ]
  },
  {
   "cell_type": "code",
   "execution_count": 6,
   "metadata": {},
   "outputs": [
    {
     "name": "stderr",
     "output_type": "stream",
     "text": [
      "/home/yaouen/software/miniconda3/envs/main/lib/python3.6/site-packages/numpy/lib/histograms.py:839: RuntimeWarning: invalid value encountered in greater_equal\n",
      "  keep = (tmp_a >= first_edge)\n",
      "/home/yaouen/software/miniconda3/envs/main/lib/python3.6/site-packages/numpy/lib/histograms.py:840: RuntimeWarning: invalid value encountered in less_equal\n",
      "  keep &= (tmp_a <= last_edge)\n"
     ]
    },
    {
     "data": {
      "image/png": "[encoded data removed]",
      "text/plain": [
       "<Figure size 432x288 with 1 Axes>"
      ]
     },
     "metadata": {
      "needs_background": "light"
     },
     "output_type": "display_data"
    }
   ],
   "source": [
    "quantity = 'v'\n",
    "unit = 'cm/s'\n",
    "bins = 30\n",
    "\n",
    "values = df.loc[:,(slice(None),quantity)].values.flatten()\n",
    "plt.hist(values,bins=bins)\n",
    "plt.xlabel(f'{quantity} ({unit})')\n",
    "plt.ylabel('frequency')\n",
    "plt.yscale('log')\n",
    "plt.show()"
   ]
  },
  {
   "cell_type": "code",
   "execution_count": 7,
   "metadata": {},
   "outputs": [],
   "source": [
    "# fast = df.loc[:,(slice(None),'v')]>6\n",
    "# print(np.nonzero(fast.values))\n",
    "# display(df.iloc[266:269][4])"
   ]
  },
  {
   "cell_type": "markdown",
   "metadata": {},
   "source": [
    "### Angular velocity"
   ]
  },
  {
   "cell_type": "code",
   "execution_count": 8,
   "metadata": {},
   "outputs": [
    {
     "data": {
      "image/png": "[encoded data removed]",
      "text/plain": [
       "<Figure size 432x288 with 1 Axes>"
      ]
     },
     "metadata": {
      "needs_background": "light"
     },
     "output_type": "display_data"
    }
   ],
   "source": [
    "quantity = 'v_ang'\n",
    "unit = 'rad/s'\n",
    "bins = 50\n",
    "\n",
    "values = df.loc[:,(slice(None),quantity)].values.flatten()\n",
    "plt.hist(values,bins=bins)\n",
    "plt.xlabel(f'{quantity} ({unit})')\n",
    "plt.ylabel('frequency')\n",
    "plt.yscale('log')\n",
    "plt.show()"
   ]
  },
  {
   "cell_type": "code",
   "execution_count": 9,
   "metadata": {},
   "outputs": [
    {
     "name": "stdout",
     "output_type": "stream",
     "text": [
      "v_ang for pi/3 in (1/30) second: 31.415926535897928\n",
      "Instances of unusually high v_ang:\n"
     ]
    },
    {
     "name": "stderr",
     "output_type": "stream",
     "text": [
      "/home/yaouen/software/miniconda3/envs/main/lib/python3.6/site-packages/ipykernel_launcher.py:9: RuntimeWarning: invalid value encountered in greater\n",
      "  if __name__ == '__main__':\n"
     ]
    },
    {
     "data": {
      "text/plain": [
       "frame\n",
       "2044    0.923934\n",
       "2045    2.089075\n",
       "2046    1.706627\n",
       "Name: (0, ang), dtype: float64"
      ]
     },
     "metadata": {},
     "output_type": "display_data"
    },
    {
     "data": {
      "text/plain": [
       "frame\n",
       "1978   -0.915164\n",
       "1979    2.170932\n",
       "1980    2.202160\n",
       "Name: (1, ang), dtype: float64"
      ]
     },
     "metadata": {},
     "output_type": "display_data"
    },
    {
     "data": {
      "text/plain": [
       "frame\n",
       "2555   -0.668096\n",
       "2556    0.598230\n",
       "2557   -0.386382\n",
       "Name: (2, ang), dtype: float64"
      ]
     },
     "metadata": {},
     "output_type": "display_data"
    }
   ],
   "source": [
    "# At 30 fps, |v_ang|=30 (about where the rare peaks start) \n",
    "# corresponds to about pi/3 in one frame.\n",
    "print('v_ang for pi/3 in (1/30) second:',np.pi/3*fps)\n",
    "\n",
    "print('Instances of unusually high v_ang:')\n",
    "for f in fish:\n",
    "    ang_diff  = df[f,'ang'].diff()\n",
    "    ang_diff -= 2*np.pi*np.rint(ang_diff/(2*np.pi))\n",
    "    I = np.nonzero(np.absolute(ang_diff.values)>1)[0]\n",
    "    for i in I:\n",
    "        display(df[f,'ang'][i-1:i+2])"
   ]
  },
  {
   "cell_type": "markdown",
   "metadata": {},
   "source": [
    "### Pair distance-pair angle distribution"
   ]
  },
  {
   "cell_type": "code",
   "execution_count": 10,
   "metadata": {},
   "outputs": [
    {
     "data": {
      "image/png": "[encoded data removed]",
      "text/plain": [
       "<Figure size 432x288 with 2 Axes>"
      ]
     },
     "metadata": {
      "needs_background": "light"
     },
     "output_type": "display_data"
    }
   ],
   "source": [
    "bins_d = np.linspace(0,2*tank.r_cm,15)\n",
    "bins_a = np.linspace(0,np.pi,15)\n",
    "H      = [] # np.zeros((len(bins_d)-1,len(bins_a)-1))\n",
    "for f1,f2 in itertools.combinations(fish,2):\n",
    "#     print(f1,f2)\n",
    "    d = np.hypot(df[f1,'x']-df[f2,'x'],df[f1,'y']-df[f2,'y'])\n",
    "    a = df[f1,'ang']-df[f2,'ang']\n",
    "    a = np.absolute(a - 2*np.pi*np.rint(a/(2*np.pi)))\n",
    "    h,_,_ = np.histogram2d(d,a,bins=(bins_d,bins_a),normed=True)\n",
    "    H.append(h)\n",
    "\n",
    "H   = np.mean(H,axis=0)\n",
    "plt.pcolormesh(bins_d,bins_a,H.T)\n",
    "plt.xlabel('pair distance (cm)')\n",
    "plt.ylabel('pair angle (rad)')\n",
    "plt.colorbar()\n",
    "plt.show()"
   ]
  },
  {
   "cell_type": "markdown",
   "metadata": {},
   "source": [
    "# Angular dynamics"
   ]
  },
  {
   "cell_type": "code",
   "execution_count": 11,
   "metadata": {},
   "outputs": [
    {
     "data": {
      "image/png": "[encoded data removed]",
      "text/plain": [
       "<Figure size 864x432 with 1 Axes>"
      ]
     },
     "metadata": {
      "needs_background": "light"
     },
     "output_type": "display_data"
    }
   ],
   "source": [
    "# %matplotlib notebook\n",
    "# %matplotlib notebook\n",
    "# %matplotlib inline\n",
    "\n",
    "plt.figure(figsize=(12,6))\n",
    "for f in fish:\n",
    "\n",
    "    ang  = df[f,'ang']\n",
    "    t    = ang.index/fps\n",
    "    \n",
    "    dang = ang.diff()\n",
    "    dang = dang - 2*np.pi*np.rint(dang/(2*np.pi))\n",
    "    ang  = np.cumsum(dang)\n",
    "\n",
    "#     I = (t>297) & (t<301)\n",
    "#     t,th = t[I],th[I]\n",
    "\n",
    "    plt.plot(t,ang,label=f) #,marker='.')\n",
    "\n",
    "plt.xlabel('Time (s)')\n",
    "plt.ylabel('Angle (rad)')\n",
    "# plt.savefig(trial.make_fig_file('angle-vs-time',''),**trial.plot_options)\n",
    "plt.legend()\n",
    "plt.show()"
   ]
  },
  {
   "cell_type": "code",
   "execution_count": null,
   "metadata": {},
   "outputs": [],
   "source": []
  }
 ],
 "metadata": {
  "kernelspec": {
   "display_name": "Python (main)",
   "language": "python",
   "name": "main"
  },
  "language_info": {
   "codemirror_mode": {
    "name": "ipython",
    "version": 3
   },
   "file_extension": ".py",
   "mimetype": "text/x-python",
   "name": "python",
   "nbconvert_exporter": "python",
   "pygments_lexer": "ipython3",
   "version": "3.6.10"
  }
 },
 "nbformat": 4,
 "nbformat_minor": 4
}
