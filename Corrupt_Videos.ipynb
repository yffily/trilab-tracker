{
 "cells": [
  {
   "cell_type": "code",
   "execution_count": 2,
   "metadata": {},
   "outputs": [],
   "source": [
    "import platform, os, sys, datetime, re\n",
    "from os.path import join\n",
    "from glob import glob\n",
    "import numpy as np\n",
    "import matplotlib.pyplot as plt\n",
    "import cv2"
   ]
  },
  {
   "cell_type": "code",
   "execution_count": 11,
   "metadata": {},
   "outputs": [
    {
     "data": {
      "text/plain": [
       "['../raw_videos/SF_Sat_14dpf_GroupA_n1_2020-06-13-110931-0000.avi',\n",
       " '../raw_videos/SF_Sat_14dpf_GroupA_n1_2020-06-13-110941-0000.avi',\n",
       " '../raw_videos/SF_Sat_14dpf_GroupA_n1_2020-06-13-110945-0000.avi',\n",
       " '../raw_videos/SF_Sat_14dpf_GroupA_n2a_2020-06-13-090438-0000.avi',\n",
       " '../raw_videos/SF_Sat_14dpf_GroupA_n2b_2020-06-13-110452-0000.avi',\n",
       " '../raw_videos/SF_Sat_14dpf_GroupB_n2a_2020-06-13-115534-0000.avi']"
      ]
     },
     "metadata": {},
     "output_type": "display_data"
    }
   ],
   "source": [
    "# input_files = sorted(glob('../raw_videos/broken/*.avi'))\n",
    "# display(input_files)\n",
    "\n",
    "# input_files = sorted(glob('../raw_videos/*.avi'))\n",
    "# display(input_files)\n",
    "\n",
    "# Only files that haven't been tracked yet.\n",
    "input_files = []\n",
    "for f in sorted(glob('../raw_videos/*.avi')):\n",
    "    name = os.path.splitext(os.path.basename(f))[0]\n",
    "    trial_file = f'../tracking/full/{name}/trial.pik'\n",
    "    if not os.path.exists(trial_file):\n",
    "        input_files.append(f)\n",
    "display(input_files)"
   ]
  },
  {
   "cell_type": "code",
   "execution_count": 3,
   "metadata": {},
   "outputs": [
    {
     "name": "stdout",
     "output_type": "stream",
     "text": [
      "../raw_videos/broken/Pa_Fri_7dpf_GroupB_n2_2020-06-05-124632-0000.avi\n",
      "37100/37116\n",
      "Done\n",
      "\n",
      "../raw_videos/broken/Pa_Fri_7dpf_GroupC_n2_2020-06-05-132924-0000.avi\n",
      "40400/40417\n",
      "Done\n",
      "\n",
      "../raw_videos/broken/Pa_Fri_7dpf_GroupC_n2b_2020-06-05-122929-0000.avi\n",
      "5600/45086\n",
      "Couldn't read frame 5620.\n",
      "Done\n",
      "\n"
     ]
    }
   ],
   "source": [
    "input_files = sorted(glob('../raw_videos/broken/*.avi'))\n",
    "\n",
    "# input_file = input_files[-1]\n",
    "for input_file in input_files:\n",
    "    \n",
    "    print(input_file)\n",
    "\n",
    "    cap     = cv2.VideoCapture(input_file)\n",
    "    Nframes = int(cap.get(cv2.CAP_PROP_FRAME_COUNT))\n",
    "\n",
    "    try:\n",
    "        for i in range(Nframes):\n",
    "            if i%100==0:\n",
    "                print(f'{i}/{Nframes}',end='\\r')\n",
    "            if not cap.grab():\n",
    "                print(f'\\nCouldn\\'t read frame {i}.',end='')\n",
    "                break\n",
    "    except:\n",
    "        pass\n",
    "\n",
    "    cap.release()\n",
    "    print('\\nDone\\n')"
   ]
  },
  {
   "cell_type": "code",
   "execution_count": 12,
   "metadata": {},
   "outputs": [
    {
     "name": "stdout",
     "output_type": "stream",
     "text": [
      "../raw_videos/SF_Sat_14dpf_GroupA_n1_2020-06-13-110931-0000.avi\n",
      "0/31\n",
      "Done\n",
      "\n",
      "../raw_videos/SF_Sat_14dpf_GroupA_n1_2020-06-13-110941-0000.avi\n",
      "0/19\n",
      "Done\n",
      "\n",
      "../raw_videos/SF_Sat_14dpf_GroupA_n1_2020-06-13-110945-0000.avi\n",
      "39700/39720\n",
      "Done\n",
      "\n",
      "../raw_videos/SF_Sat_14dpf_GroupA_n2a_2020-06-13-090438-0000.avi\n",
      "47900/47901\n",
      "Done\n",
      "\n",
      "../raw_videos/SF_Sat_14dpf_GroupA_n2b_2020-06-13-110452-0000.avi\n",
      "48200/48209\n",
      "Done\n",
      "\n",
      "../raw_videos/SF_Sat_14dpf_GroupB_n2a_2020-06-13-115534-0000.avi\n",
      "39700/39706\n",
      "Done\n",
      "\n"
     ]
    }
   ],
   "source": [
    "# Only files that haven't been tracked yet.\n",
    "input_files = []\n",
    "for f in sorted(glob('../raw_videos/*.avi')):\n",
    "    name = os.path.splitext(os.path.basename(f))[0]\n",
    "    trial_file = f'../tracking/full/{name}/trial.pik'\n",
    "    if not os.path.exists(trial_file):\n",
    "        input_files.append(f)\n",
    "\n",
    "for input_file in input_files:\n",
    "    \n",
    "    print(input_file)\n",
    "\n",
    "    cap     = cv2.VideoCapture(input_file)\n",
    "    Nframes = int(cap.get(cv2.CAP_PROP_FRAME_COUNT))\n",
    "\n",
    "    try:\n",
    "        for i in range(Nframes):\n",
    "            if i%100==0:\n",
    "                print(f'{i}/{Nframes}',end='\\r')\n",
    "            if not cap.grab():\n",
    "                print(f'\\nCouldn\\'t read frame {i}.',end='')\n",
    "                break\n",
    "    except:\n",
    "        pass\n",
    "\n",
    "    cap.release()\n",
    "    print('\\nDone\\n')"
   ]
  },
  {
   "cell_type": "code",
   "execution_count": null,
   "metadata": {},
   "outputs": [],
   "source": []
  }
 ],
 "metadata": {
  "kernelspec": {
   "display_name": "Python (cvtracer)",
   "language": "python",
   "name": "cvtracer"
  },
  "language_info": {
   "codemirror_mode": {
    "name": "ipython",
    "version": 3
   },
   "file_extension": ".py",
   "mimetype": "text/x-python",
   "name": "python",
   "nbconvert_exporter": "python",
   "pygments_lexer": "ipython3",
   "version": "3.7.7"
  }
 },
 "nbformat": 4,
 "nbformat_minor": 4
}
