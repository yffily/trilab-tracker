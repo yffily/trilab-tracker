{
 "cells": [
  {
   "cell_type": "code",
   "execution_count": 7,
   "metadata": {},
   "outputs": [],
   "source": [
    "from importlib import reload\n",
    "import os\n",
    "import sys\n",
    "import platform\n",
    "import shutil\n",
    "import re\n",
    "import datetime\n",
    "import logging\n",
    "import multiprocessing\n",
    "from glob import glob\n",
    "from fnmatch import fnmatch\n",
    "from tracker.tank import Tank\n",
    "from tracker.tracker import Tracker\n",
    "from tracker import utils\n",
    "import cv2\n",
    "import numpy as np\n",
    "import pandas as pd\n",
    "\n",
    "import tracker\n",
    "reload(tracker.utils)\n",
    "from tracker import utils\n",
    "reload(tracker.tank)\n",
    "from tracker.tank import Tank\n",
    "reload(tracker.tracker)\n",
    "from tracker.tracker import Tracker"
   ]
  },
  {
   "cell_type": "code",
   "execution_count": 73,
   "metadata": {},
   "outputs": [],
   "source": [
    "default_settings = dict(\n",
    "    # Background subtraction.\n",
    "    bkgSub_options   = dict( n_training_frames = 100,   # number of frames used to compute background\n",
    "                             t_start = 0, t_end = 1200, # time range used to compute background\n",
    "                             contrast_factor = 5,       # post-subtraction contrast enhancement factor\n",
    "                             secondary_subtraction = True, \n",
    "                             secondary_factor = 2       # frame = frame-secondary_factor*secondary_background\n",
    "                           ),\n",
    "    t_start          = 0,     # Time at which to start tracking, in seconds.\n",
    "    t_end            = 1200,  # Time at which to end tracking, in seconds.\n",
    "    \n",
    "    # Contour detection.\n",
    "    n_blur           =  7,    # square-root of n-pixels for threshold blurring\n",
    "    block_size       = 15,    # contour block size\n",
    "    threshold_offset = 13,    # threshold offset for contour-finding\n",
    "    min_area         = 25,    # minimum area for detection\n",
    "    max_area         = 600,   # maximum area for detection\n",
    "    ideal_area       = 100,   # ideal area to rank contours in first frame (default=(min_area+max_area)/2)\n",
    "    max_aspect       = 15,    # maximum aspect ratio for detection\n",
    "    ideal_aspect     = 3,     # ideal aspect ratio to rank contours in first frame (default=max_aspect/2)\n",
    "    area_penalty     = 0.5,   # weight of area change when connecting fish across frames\n",
    "    n_extra          = 2,     # number of extra contours to keep track of\n",
    "    morph_transform  = [], \n",
    "#     morph_transform  = [(cv2.MORPH_OPEN,2),(cv2.MORPH_CLOSE,2)], \n",
    "#     morph_transform  = [(cv2.MORPH_CLOSE,20),(cv2.MORPH_OPEN,3)], \n",
    "#     morph_transform  = [(cv2.MORPH_DILATE,5),(cv2.MORPH_OPEN,8)], \n",
    "                              # sequence of morphological operations to perform\n",
    "                              # on thresholded image before extracting contours.\n",
    "    reversal_threshold = 0.5, # average frame-to-frame displacement against the director \n",
    "                              # over the last few frames to trigger a reversal. \n",
    "    \n",
    "    # Visualization.\n",
    "    save_video       = False, \n",
    "    # What information to draw on the tracking output video.\n",
    "    video_output_options = dict( tank=True, points=False, directors=True, \n",
    "                                 extra_points=True, timestamp=True, \n",
    "                                 contours=True, contour_color=(100,255,0), \n",
    "                                 contour_thickness=1 )\n",
    "    )"
   ]
  },
  {
   "cell_type": "code",
   "execution_count": 4,
   "metadata": {},
   "outputs": [
    {
     "name": "stdout",
     "output_type": "stream",
     "text": [
      "1\n"
     ]
    }
   ],
   "source": [
    "''' Select input files to track and an output directory for each. '''\n",
    "\n",
    "tracking_dir = '../tracking/full_21-01-17'\n",
    "# tracking_dir = 'output'\n",
    "\n",
    "input_dir   = '../raw_videos'\n",
    "# input_dir   = '/media/yaouen/trilab_data/larval_schooling/raw_videos'\n",
    "# input_files = sorted(glob(os.path.join(input_dir,'*_7dpf_*.avi'))) \\\n",
    "# input_files = sorted(glob(os.path.join(input_dir,'*_7dpf_*.avi'))) \\\n",
    "#                + sorted(glob(os.path.join(input_dir,'*_14dpf_*.avi')))\n",
    "# input_files = sorted(glob('../raw_videos/*.avi')) #[:2]\n",
    "input_files = [ '../raw_videos/Pa_Fri_7dpf_GroupD_n2_20200605_1400.avi' ]\n",
    "\n",
    "input_dict = {}\n",
    "for input_file in input_files:\n",
    "    d,fn       = os.path.split(input_file)\n",
    "    fn,ext     = os.path.splitext(fn)\n",
    "    output_dir = os.path.join(tracking_dir,fn)\n",
    "    n_ind      = int(re.findall('_n(\\d+)[^\\d]*_',fn)[0])\n",
    "    \n",
    "    # If a repaired version exists, use that instead.\n",
    "    repaired_file = os.path.join(d,'repaired',fn+'-repaired'+ext)\n",
    "    input_file = repaired_file if os.path.exists(repaired_file) else input_file\n",
    "    \n",
    "#     # If a trial file already exists, skip.\n",
    "#     if os.path.exists(os.path.join(output_dir,'trial.pik')):\n",
    "#         continue\n",
    "    \n",
    "    input_dict[input_file] = {}\n",
    "    input_dict[input_file].update(default_settings)\n",
    "    input_dict[input_file].update(dict( output_dir=output_dir, \n",
    "                                        n_ind=n_ind, trial_name=fn ))\n",
    "\n",
    "# Function to edit a pre-existing nested dictionary entry from\n",
    "# a dot-separated key list (used to apply settings variants).\n",
    "def set_nested_dict(d, key_list, val):\n",
    "    if len(key_list)==1:\n",
    "        d[key_list[0]] = val\n",
    "    else:\n",
    "        set_nested_dict(d[key_list[0]],key_list[1:],val)\n",
    "        \n",
    "# Load settings variants.\n",
    "df = pd.read_excel('settings.xlsx')\n",
    "for i,row in df.iterrows():\n",
    "    trial,par,val = row[:3]\n",
    "    for f,d in input_dict.items():\n",
    "        if fnmatch(d['trial_name'],trial):\n",
    "            set_nested_dict(input_dict[f], par.split('.'), val)\n",
    "\n",
    "print(len(input_dict))\n",
    "\n",
    "# for f,D in input_dict.items():\n",
    "#     print('   ',D['trial_name'])"
   ]
  },
  {
   "cell_type": "code",
   "execution_count": 9,
   "metadata": {
    "scrolled": false
   },
   "outputs": [],
   "source": [
    "''' Create output directories. Compute backgrounds. '''\n",
    "\n",
    "# If not None, look for pre-existing backgrounds in bkg_dir.\n",
    "bkg_dir = None\n",
    "# bkg_dir = os.path.join(tracking_dir,'../tank-only_20-09-25') # \n",
    "# bkg_dir = os.path.join(tracking_dir,'../full_21-01-05') # \n",
    "\n",
    "for input_file,D in input_dict.items():\n",
    "    tracker = Tracker(input_video=input_file, **D)\n",
    "    # Create output directory.\n",
    "    tracker.init_directory()\n",
    "    tracker.save_settings()\n",
    "    # Create a link to the input video in the output directory.\n",
    "    input_shortcut = os.path.join(D['output_dir'],'raw'+ext)\n",
    "#     if not 'windows' in platform.system().lower() and not os.path.exists(input_shortcut):\n",
    "    try:\n",
    "        os.symlink(os.path.relpath(input_file,D['output_dir']),input_shortcut)\n",
    "    except:\n",
    "        pass\n",
    "    \n",
    "    # If background file exists, use it.\n",
    "    b  = D['bkgSub_options']['secondary_subtraction']\n",
    "    f1 = os.path.join(tracker.output_dir,'background.npz')\n",
    "    f2 = os.path.join(tracker.output_dir,'background2.npz')\n",
    "    if os.path.exists(f1) and ( (not b) or os.path.exists(f2) ):\n",
    "        continue\n",
    "#     # If background file exists in bkg_dir, use it.\n",
    "#     try:\n",
    "#         d = os.path.join(bkg_dir,D['trial_name'])\n",
    "#         for i in ['','2']:\n",
    "#             for e in ['npz','png']:\n",
    "#                 f1 = os.path.join(d,f'background{i}.{e}')\n",
    "#                 f2 = os.path.join(D['output_dir'],f'background{i}.{e}')\n",
    "#                 shutil.copy2(f1,f2)\n",
    "#         continue\n",
    "#     except:\n",
    "#         %tb\n",
    "    # Otherwise, compute background.\n",
    "    tracker.init_video_input()\n",
    "    tracker.init_background()\n",
    "    tracker.init_secondary_background()\n",
    "    tracker.release()"
   ]
  },
  {
   "cell_type": "code",
   "execution_count": 10,
   "metadata": {},
   "outputs": [],
   "source": [
    "''' Trace tanks. '''\n",
    "\n",
    "# If not None, look for pre-existing tanks in tank_dir.\n",
    "tank_dir = None # os.path.join(tracking_dir,'../tank-only_20-09-25') # \n",
    "\n",
    "for input_file,D in input_dict.items():\n",
    "#     print(D['trial_name'])\n",
    "    try:\n",
    "        d = os.path.join(tank_dir,D['trial_name'])\n",
    "        for e in ['pik','png']:\n",
    "            f2 = os.path.join(D['output_dir'],f'tank.{e}')\n",
    "            if not os.path.exists(f2):\n",
    "                f1 = os.path.join(d,f'tank.{e}')\n",
    "                shutil.copy2(f1,f2)\n",
    "    except:\n",
    "#         print(D['trial_name'])\n",
    "        tracker = Tracker(input_video=input_file, **D)\n",
    "        tracker.init_video_input()\n",
    "        tracker.init_background()\n",
    "        tracker.release()\n",
    "        tracker.init_tank(thresh=5,dilate=18)"
   ]
  },
  {
   "cell_type": "code",
   "execution_count": 77,
   "metadata": {
    "scrolled": false
   },
   "outputs": [
    {
     "name": "stdout",
     "output_type": "stream",
     "text": [
      "../raw_videos/Pa_Fri_7dpf_GroupD_n2_20200605_1400.avi\n",
      "     Done                                                                                                                                                                                               "
     ]
    }
   ],
   "source": [
    "import tracker\n",
    "reload(tracker.utils)\n",
    "reload(tracker.frame)\n",
    "from tracker import utils\n",
    "reload(tracker.tank)\n",
    "from tracker.tank import Tank\n",
    "reload(tracker.tracker)\n",
    "from tracker.tracker import Tracker\n",
    "\n",
    "\n",
    "def track(input_file):\n",
    "    settings = input_dict[input_file]\n",
    "    globals().update(settings)\n",
    "    utils.add_log_file(os.path.join(output_dir,'log.txt'))\n",
    "    logging.info(utils.parindent+'Initializing')\n",
    "    tracker = Tracker(input_video=input_file, **settings)\n",
    "    tracker.init_all()\n",
    "    tracker.save_settings()\n",
    "    try:\n",
    "        tracker.set_frame(tracker.frame_start)\n",
    "        n_report = max(1,int((tracker.frame_end-tracker.frame_start)/100))\n",
    "        for i_frame in range(tracker.frame_start, tracker.frame_end):\n",
    "            if i_frame%n_report==0:\n",
    "                tracker.save_trial()\n",
    "                percent = (i_frame-tracker.frame_start)/(tracker.frame_end-tracker.frame_start)\n",
    "                t = str(datetime.datetime.now()).split('.')\n",
    "                logging.info(utils.parindent + f'Tracking: {tracker.get_current_timestamp()}, ' +\n",
    "                             f'{tracker.get_percent_complete():4.1f}% complete, {t[0]}.{t[1][:2]}' )\n",
    "            tracker.track_next_frame(save_frames=True)\n",
    "        tracker.release()\n",
    "        logging.info(utils.parindent+'Saving')\n",
    "        tracker.save_trial()\n",
    "        logging.info(utils.parindent+'Done')\n",
    "    except:\n",
    "        tracker.release()\n",
    "        logging.info('Failed')\n",
    "        for info in sys.exc_info():\n",
    "            logging.warning(info)\n",
    "        %tb\n",
    "    return\n",
    "\n",
    "\n",
    "# Multi-threading doesn't work in Windows. If the OS is Windows, set n_thread to 1.\n",
    "n_threads = 1 if 'windows' in platform.system().lower() else 1\n",
    "\n",
    "if n_threads==1:\n",
    "    for input_file in input_dict.keys():\n",
    "        utils.reset_logging()\n",
    "        utils.add_log_stream(sys.stdout)\n",
    "        logging.info(input_file)\n",
    "        handler = logging.root.handlers[-1]\n",
    "        handler.terminator = ''\n",
    "        handler.setFormatter(logging.Formatter('\\r'+' '*200+'\\r     %(message)s'))\n",
    "        track(input_file)\n",
    "        break\n",
    "else:\n",
    "    def track_(k):\n",
    "        utils.reset_logging()\n",
    "        return track(k)\n",
    "    pool = multiprocessing.Pool(n_threads)\n",
    "    pool.map(track_,input_dict.keys())"
   ]
  },
  {
   "cell_type": "code",
   "execution_count": null,
   "metadata": {},
   "outputs": [],
   "source": []
  },
  {
   "cell_type": "code",
   "execution_count": 59,
   "metadata": {},
   "outputs": [
    {
     "name": "stdout",
     "output_type": "stream",
     "text": [
      "../tracking/full_21-01-17/Pa_Fri_7dpf_GroupD_n2_20200605_1400/trial.pik\n"
     ]
    },
    {
     "data": {
      "image/png": "[encoded data removed]",
      "text/plain": [
       "<Figure size 432x288 with 1 Axes>"
      ]
     },
     "metadata": {
      "needs_background": "light"
     },
     "output_type": "display_data"
    }
   ],
   "source": [
    "import numpy as np\n",
    "import matplotlib.pyplot as plt\n",
    "\n",
    "trial_files = glob(os.path.join(tracking_dir,'*/trial.pik'))\n",
    "# display(trial_files)\n",
    "\n",
    "trial_file = trial_files[0]\n",
    "trial = utils.load_pik(trial_file)\n",
    "print(trial_file)\n",
    "data,frames = trial['data'],trial['frame_list']\n",
    "\n",
    "xy = trial['data'][:,:trial['n_ind'],:2]\n",
    "xy[:,0,:].shape\n",
    "for i in range(xy.shape[1]):\n",
    "    plt.plot(*xy[:,i,:].T,label=f'{i}')\n",
    "plt.legend(loc=(1.05,0.5))\n",
    "plt.show()"
   ]
  },
  {
   "cell_type": "code",
   "execution_count": 60,
   "metadata": {},
   "outputs": [
    {
     "name": "stdout",
     "output_type": "stream",
     "text": [
      "[[ 760.39 1012.01    3.87  112.      2.92]\n",
      " [ 643.56  511.45    2.46   34.5     1.92]\n",
      " [ 963.76  307.63   -0.37   28.      1.52]\n",
      " [1048.4   487.25    1.92  125.5     2.63]]\n"
     ]
    }
   ],
   "source": [
    "with np.printoptions(suppress=True):\n",
    "    print(np.around(data[0],2))"
   ]
  },
  {
   "cell_type": "code",
   "execution_count": null,
   "metadata": {},
   "outputs": [],
   "source": []
  }
 ],
 "metadata": {
  "kernelspec": {
   "display_name": "Python (main)",
   "language": "python",
   "name": "main"
  },
  "language_info": {
   "codemirror_mode": {
    "name": "ipython",
    "version": 3
   },
   "file_extension": ".py",
   "mimetype": "text/x-python",
   "name": "python",
   "nbconvert_exporter": "python",
   "pygments_lexer": "ipython3",
   "version": "3.6.10"
  }
 },
 "nbformat": 4,
 "nbformat_minor": 4
}
