{
 "cells": [
  {
   "cell_type": "markdown",
   "metadata": {},
   "source": [
    "**Description:** The tracking output folder for each trial contains a file named \"raw.txt\" with the relative path to the raw video. This notebook can help update those paths if the relative location of the raw videos has changed.\n",
    "\n",
    "**Note:** I don't quite remember what I was trying to fix with this. Reread thoroughly before running."
   ]
  },
  {
   "cell_type": "code",
   "execution_count": 2,
   "metadata": {},
   "outputs": [],
   "source": [
    "import os\n",
    "from os.path import split, join, normpath\n",
    "from glob import glob"
   ]
  },
  {
   "cell_type": "code",
   "execution_count": 6,
   "metadata": {},
   "outputs": [],
   "source": [
    "links = glob('../raw_videos2/tracking/*/raw.mkv')\n",
    "for l in links:\n",
    "    l  = normpath(l)\n",
    "#     print(l)\n",
    "    p  = os.readlink(l) # linux/macOS\n",
    "#     p  = join('..','..','videos',l.split('\\\\')[-2]+'.mkv') # windows\n",
    "    l2 = join(split(l)[0],'raw.txt')\n",
    "    print(l2)\n",
    "    print(p)\n",
    "#     with open(l2,'w') as f:\n",
    "#         f.write(p)\n",
    "    break"
   ]
  },
  {
   "cell_type": "code",
   "execution_count": null,
   "metadata": {},
   "outputs": [],
   "source": []
  }
 ],
 "metadata": {
  "kernelspec": {
   "display_name": "Python 3",
   "language": "python",
   "name": "python3"
  },
  "language_info": {
   "codemirror_mode": {
    "name": "ipython",
    "version": 3
   },
   "file_extension": ".py",
   "mimetype": "text/x-python",
   "name": "python",
   "nbconvert_exporter": "python",
   "pygments_lexer": "ipython3",
   "version": "3.8.10"
  }
 },
 "nbformat": 4,
 "nbformat_minor": 5
}
