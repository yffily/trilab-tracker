{
 "cells": [
  {
   "cell_type": "code",
   "execution_count": null,
   "metadata": {},
   "outputs": [],
   "source": [
    "import platform, os, sys, datetime, re, itertools\n",
    "from os.path import join\n",
    "from glob import glob\n",
    "import numpy as np\n",
    "import pandas as pd\n",
    "import matplotlib.pyplot as plt\n",
    "\n",
    "# plt.rcParams['figure.dpi'] = 150\n",
    "plt.rcParams['figure.figsize'] = 8,4"
   ]
  },
  {
   "cell_type": "code",
   "execution_count": null,
   "metadata": {},
   "outputs": [],
   "source": [
    "input_files = sorted(glob('../raw_videos/*.avi'))\n",
    "\n",
    "info = []\n",
    "for input_file in input_files:\n",
    "    d,fn    = os.path.split(input_file)\n",
    "    fn,ext  = os.path.splitext(fn)\n",
    "    \n",
    "    split   = fn.lower().split('_')\n",
    "    try:\n",
    "        pop,day,age,group,n,date,time = split[:7]\n",
    "        extra  = None if len(split)==7 else ','.join(split[7:])\n",
    "        age    = int(age[:-3])\n",
    "        n_ind  = int(re.findall('n(\\d+)[^\\d]*',n)[0])\n",
    "    except:\n",
    "        print(fn)\n",
    "        continue\n",
    "\n",
    "#     # If a repaired version exists, use that instead.\n",
    "#     repaired_file = os.path.join(d,'repaired',fn+'-repaired'+ext)\n",
    "#     input_file = repaired_file if os.path.exists(repaired_file) else input_file\n",
    "    \n",
    "#     # If a trial file already exists, skip.\n",
    "#     if os.path.exists(os.path.join(output_dir,'trial.pik')):\n",
    "#         continue\n",
    "\n",
    "    info.append(dict( pop=pop, day=day, age=age, group=group, \n",
    "                      n_ind=n_ind, date=date, time=time, extra=extra ))"
   ]
  },
  {
   "cell_type": "code",
   "execution_count": null,
   "metadata": {},
   "outputs": [],
   "source": [
    "trials = pd.DataFrame(info,index=input_files)\n",
    "grouped_trials = trials.groupby(['pop','age','n_ind'])\n",
    "count  = pd.DataFrame(grouped_trials['pop'].count().rename('count'))\n",
    "count = count.unstack(1)\n",
    "count.columns = count.columns.droplevel()\n",
    "count[pd.isna(count)] = 0\n",
    "count = count.astype(int)\n",
    "print('Number of trials of each type:')\n",
    "count"
   ]
  },
  {
   "cell_type": "code",
   "execution_count": null,
   "metadata": {},
   "outputs": [],
   "source": [
    "# Treat 43dpf and 71dpf as 42dpf and 70dpf respectively.\n",
    "count2 = count.copy()\n",
    "count2[42] += count2[43]\n",
    "count2[70] += count2[71]\n",
    "count2 = count2.drop(columns=[43,71])\n",
    "\n",
    "for pop in trials['pop'].unique():\n",
    "    count2.loc[pop].T.plot(marker='o')\n",
    "    plt.xlabel('age (dpf)')\n",
    "    plt.ylabel('number of trials')\n",
    "    plt.title(pop)"
   ]
  },
  {
   "cell_type": "code",
   "execution_count": null,
   "metadata": {},
   "outputs": [],
   "source": []
  }
 ],
 "metadata": {
  "kernelspec": {
   "display_name": "Python (main)",
   "language": "python",
   "name": "main"
  },
  "language_info": {
   "codemirror_mode": {
    "name": "ipython",
    "version": 3
   },
   "file_extension": ".py",
   "mimetype": "text/x-python",
   "name": "python",
   "nbconvert_exporter": "python",
   "pygments_lexer": "ipython3",
   "version": "3.6.10"
  }
 },
 "nbformat": 4,
 "nbformat_minor": 4
}
