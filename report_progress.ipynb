{
 "cells": [
  {
   "cell_type": "code",
   "execution_count": 1,
   "metadata": {},
   "outputs": [
    {
     "data": {
      "text/plain": [
       "68"
      ]
     },
     "execution_count": 1,
     "metadata": {},
     "output_type": "execute_result"
    }
   ],
   "source": [
    "import os, sys\n",
    "from glob import glob\n",
    "from trilabtracker.utils import tracking_status\n",
    "\n",
    "statuses = ['no log','tracking','complete','failed']\n",
    "\n",
    "trial_dirs = sorted(glob('../raw_videos2/tracking/*'))\n",
    "len(trial_dirs)"
   ]
  },
  {
   "cell_type": "code",
   "execution_count": 8,
   "metadata": {
    "scrolled": false
   },
   "outputs": [
    {
     "name": "stdout",
     "output_type": "stream",
     "text": [
      "failed               Pa_Wed_7dpf_GroupA_n2b_20210407_2021-04-07-125752\n",
      "tracking (21.0%)     Pa_Wed_7dpf_GroupA_n2c_20210407_2021-04-07-133548\n",
      "failed               Pa_sat_7dpf_GroupB_n1b_20210417_2021-04-17-180339\n",
      "tracking (30.0%)     Pa_sat_7dpf_GroupB_n1d_2021-04-17-180347\n",
      "failed               Pa_sat_7dpf_GroupB_n5i_2021-04-17-164947\n",
      "tracking (11.0%)     SF_wed_7dpf_groupB_n2_2021-04-14-155647\n",
      "tracking (23.0%)     pa_sat_28dpf_groupA_n5_20210508_2021-05-08-101343\n",
      "failed               pa_sat_28dpf_groupB_n5_20210508_2021-05-08-092856\n",
      "tracking (9.0%)      pa_sat_28dpf_groupB_n5b_20210508_2021-05-08-093322\n",
      "tracking (30.0%)     pa_sat_7dpf_groupA_n2b_20210417_2021-04-17-114135\n",
      "tracking (30.0%)     pa_sat_7dpf_groupA_n5c_20210417_2021-04-17-102204\n"
     ]
    }
   ],
   "source": [
    "for trial_dir in trial_dirs:\n",
    "    try:\n",
    "        globals().update(tracking_status(trial_dir))\n",
    "        if status in ['complete','no log']:\n",
    "#         if 'tracking' not in status:\n",
    "            continue\n",
    "        print(f'{status:20s} {name}')\n",
    "    except:\n",
    "        print(f'No info for {trial_dir}')"
   ]
  },
  {
   "cell_type": "code",
   "execution_count": 9,
   "metadata": {},
   "outputs": [
    {
     "data": {
      "text/plain": [
       "{'no log': 54, 'tracking': 7, 'complete': 3, 'failed': 4}"
      ]
     },
     "metadata": {},
     "output_type": "display_data"
    }
   ],
   "source": [
    "status_count = { s:0 for s in statuses }\n",
    "\n",
    "for path in trial_dirs:\n",
    "    for s in statuses:\n",
    "        if s in tracking_status(path)['status']:\n",
    "            status_count[s] += 1\n",
    "    \n",
    "display(status_count)"
   ]
  },
  {
   "cell_type": "code",
   "execution_count": 7,
   "metadata": {},
   "outputs": [],
   "source": [
    "'''\n",
    "Template to clean up interrupted trials. \n",
    "If the goal is to have the trial be picked up for retracking \n",
    "by \"track_batch.ipynb\", it's enough to delete \"trial.pik\".\n",
    "'''\n",
    "\n",
    "# for trial_dir in trial_dirs:\n",
    "#     locals().update(tracking_status(trial_dir))\n",
    "#     if status=='failed':\n",
    "#         trial_file = os.path.join(trial_dir,'trial.pik')\n",
    "#         log_file = os.path.join(trial_dir,'log.txt')\n",
    "#         if os.path.exists(trial_file):\n",
    "#             print(trial_dir)\n",
    "#             display(os.listdir(trial_dir))\n",
    "# #             os.remove(trial_file)"
   ]
  },
  {
   "cell_type": "code",
   "execution_count": null,
   "metadata": {},
   "outputs": [],
   "source": []
  }
 ],
 "metadata": {
  "kernelspec": {
   "display_name": "Python (main)",
   "language": "python",
   "name": "main"
  },
  "language_info": {
   "codemirror_mode": {
    "name": "ipython",
    "version": 3
   },
   "file_extension": ".py",
   "mimetype": "text/x-python",
   "name": "python",
   "nbconvert_exporter": "python",
   "pygments_lexer": "ipython3",
   "version": "3.6.10"
  }
 },
 "nbformat": 4,
 "nbformat_minor": 4
}
