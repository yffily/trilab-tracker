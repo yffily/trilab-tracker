{
 "cells": [
  {
   "cell_type": "markdown",
   "metadata": {},
   "source": [
    "**Description:** Repair a specific type of video file corruption encountered in the larval schooling project. The process does not salvage corrupted frames, however it produces videos that are readable by Ethovision and most video players. "
   ]
  },
  {
   "cell_type": "code",
   "execution_count": null,
   "metadata": {},
   "outputs": [],
   "source": [
    "import os\n",
    "from glob import glob\n",
    "from converter import Converter\n",
    "import pandas as pd\n",
    "import numpy as np\n",
    "\n",
    "raw_dir = '../../raw_videos/short'\n",
    "repaired_dir = os.path.join(raw_dir,'repaired')"
   ]
  },
  {
   "cell_type": "markdown",
   "metadata": {},
   "source": [
    "# Detect"
   ]
  },
  {
   "cell_type": "code",
   "execution_count": null,
   "metadata": {},
   "outputs": [],
   "source": [
    "input_files = sorted(glob(os.path.join(raw_dir,'*.avi')))\n",
    "\n",
    "file_info_list = []\n",
    "conv = Converter()\n",
    "for f1 in input_files:\n",
    "    fn,ext = os.path.splitext(os.path.basename(f1))\n",
    "    probe = conv.probe(f1)\n",
    "    file_info = { 'file':fn, 'status':'', \n",
    "                  'duration (seconds)':probe.video.duration, \n",
    "                  'fps':probe.video.video_fps,\n",
    "                  'size (bytes)':os.stat(f1).st_size }\n",
    "    if probe.video.bitrate is None:\n",
    "        f2 = os.path.join(repaired_dir,fn+'-repaired'+ext)\n",
    "        if os.path.exists(f2):\n",
    "            file_info['status'] = 'repaired'\n",
    "            probe2 = conv.probe(f2)\n",
    "            file_info['duration (seconds)'] = probe2.video.duration\n",
    "            file_info['fps'] = probe2.video.video_fps\n",
    "            file_info['size (bytes)'] = os.stat(f2).st_size\n",
    "        else:\n",
    "            file_info['status'] = 'corrupt'\n",
    "            file_info['duration (seconds)'] = np.nan\n",
    "            file_info['fps'] = np.nan\n",
    "    else:\n",
    "        file_info['status'] = 'valid'\n",
    "    file_info_list.append(file_info)\n",
    "\n",
    "# Convert to a dataframe.\n",
    "df = pd.DataFrame(file_info_list)\n",
    "df['duration (seconds)'] = np.around(df['duration (seconds)'],2)\n",
    "df['fps'] = np.around(df['fps'],2)\n",
    "df['size per frame (kB)'] = np.around(df['size (bytes)']/(1024*df['duration (seconds)']*df['fps']),1)\n",
    "\n",
    "# display(df.head())\n",
    "\n",
    "# Save as an excel spreadsheet.\n",
    "writer = pd.ExcelWriter('repair-info_.xlsx')\n",
    "df.to_excel(writer,sheet_name='sheet1',index=None)\n",
    "sheet = writer.sheets['sheet1']\n",
    "for col,width in zip('ABCDEF',[60,8,20,5,13,19]):\n",
    "    sheet.column_dimensions[col].width = width\n",
    "writer.save()"
   ]
  },
  {
   "cell_type": "code",
   "execution_count": null,
   "metadata": {},
   "outputs": [],
   "source": [
    "# Load from the excel spreadsheet above.\n",
    "df = pd.read_excel('repair-info_.xlsx')\n",
    "# df.head()"
   ]
  },
  {
   "cell_type": "code",
   "execution_count": null,
   "metadata": {},
   "outputs": [],
   "source": [
    "''' List shortest videos. Target duration = 20 minutes = 1200 seconds. '''\n",
    "\n",
    "df[df['duration (seconds)']<1200].sort_values('duration (seconds)')"
   ]
  },
  {
   "cell_type": "code",
   "execution_count": null,
   "metadata": {},
   "outputs": [],
   "source": [
    "''' List videos with unusual fps. '''\n",
    "\n",
    "df[np.absolute(df['fps']-30)>0.1].sort_values('fps')"
   ]
  },
  {
   "cell_type": "code",
   "execution_count": null,
   "metadata": {},
   "outputs": [],
   "source": [
    "''' List corrupt videos. '''\n",
    "\n",
    "I = (df['status']=='corrupt')|(df['status']=='repaired')\n",
    "df[I]"
   ]
  },
  {
   "cell_type": "code",
   "execution_count": null,
   "metadata": {},
   "outputs": [],
   "source": [
    "# ''' List unmarked corrupt videos (filename doesn't contain \"CORRUPT\") '''\n",
    "\n",
    "# corrupt = df[(df['status']=='corrupt')|(df['status']=='repaired')]['file']\n",
    "# # display(corrupt)\n",
    "# unmarked = corrupt[corrupt.apply(lambda x: 'corrupt' not in x.lower())]\n",
    "# print('\\n'.join(unmarked))"
   ]
  },
  {
   "cell_type": "markdown",
   "metadata": {},
   "source": [
    "# Repair"
   ]
  },
  {
   "cell_type": "code",
   "execution_count": null,
   "metadata": {
    "scrolled": false
   },
   "outputs": [],
   "source": [
    "input_files = sorted(glob(os.path.join(raw_dir,'*.avi')))\n",
    "\n",
    "conv = Converter()\n",
    "i = 0\n",
    "for f1 in input_files:\n",
    "    if type(conv.probe(f1).video.bitrate)==type(None):\n",
    "        i += 1\n",
    "        fn,ext = os.path.splitext(os.path.basename(f1))\n",
    "        f2 = os.path.join(repaired_dir,fn+'-repaired'+ext)\n",
    "        if not os.path.exists(f2):\n",
    "            convert = conv.convert(f1, f2, {\n",
    "                'format':'avi', \n",
    "                'video': {'codec':'copy'},\n",
    "                })\n",
    "            for progress in convert:\n",
    "                print(f'{i}/?   {fn}   {100*progress:.1f}%',end='\\r')\n",
    "            print()"
   ]
  },
  {
   "cell_type": "markdown",
   "metadata": {
    "scrolled": false
   },
   "source": [
    "# [old] Repair with opencv"
   ]
  },
  {
   "cell_type": "code",
   "execution_count": null,
   "metadata": {},
   "outputs": [],
   "source": [
    "# f1 = input_files[0]\n",
    "\n",
    "# fn,ext = os.path.splitext(os.path.basename(f1))\n",
    "# f2 = os.path.join(repaired_dir,fn+'-repaired-cv2'+ext)\n",
    "# print(f2)\n",
    "\n",
    "# cap    = cv2.VideoCapture(input_file)\n",
    "# fps    = int(cap.get(cv2.CAP_PROP_FPS))\n",
    "# fourcc = int(cap.get(cv2.CAP_PROP_FOURCC))\n",
    "# width  = int(cap.get(cv2.CAP_PROP_FRAME_WIDTH))\n",
    "# height = int(cap.get(cv2.CAP_PROP_FRAME_HEIGHT))\n",
    "# out    = cv2.VideoWriter( filename = output_file, frameSize = (width,height), \n",
    "#                            fourcc = fourcc, fps = fps, isColor = True )\n",
    "# try:\n",
    "#     i = 0\n",
    "#     while True:\n",
    "#         i += 1\n",
    "#         print(f'{i}',end='\\r')\n",
    "#         ret,frame = cap.read()\n",
    "#         if not ret:\n",
    "#             break\n",
    "# #         if i%1000==0:\n",
    "# #             print(output_file[:-4]+f'--{i}.jpg')\n",
    "# #             cv2.imwrite(output_file[:-4]+f'--{i}.jpg',frame)\n",
    "#         out.write(frame)\n",
    "# except:\n",
    "#     pass\n",
    "# cap.release()\n",
    "# out.release()"
   ]
  }
 ],
 "metadata": {
  "kernelspec": {
   "display_name": "Python (main)",
   "language": "python",
   "name": "main"
  },
  "language_info": {
   "codemirror_mode": {
    "name": "ipython",
    "version": 3
   },
   "file_extension": ".py",
   "mimetype": "text/x-python",
   "name": "python",
   "nbconvert_exporter": "python",
   "pygments_lexer": "ipython3",
   "version": "3.6.10"
  }
 },
 "nbformat": 4,
 "nbformat_minor": 4
}
