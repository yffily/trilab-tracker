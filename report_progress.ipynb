{
 "cells": [
  {
   "cell_type": "code",
   "execution_count": 28,
   "metadata": {},
   "outputs": [],
   "source": [
    "import os, sys, re\n",
    "from glob import glob\n",
    "\n",
    "def get_info(trial_dir):\n",
    "    name  = os.path.basename(trial_dir)\n",
    "    if not os.path.isdir(trial_dir):\n",
    "        return dict(name=name, status='not found')\n",
    "    in_trial_dir   = lambda x: os.path.join(trial_dir,x)\n",
    "    has_tank       = os.path.exists(in_trial_dir('tank.pik'))\n",
    "    has_background = os.path.exists(in_trial_dir('background.npz'))\n",
    "    has_trial      = os.path.exists(in_trial_dir('trial.pik'))\n",
    "    try:\n",
    "        with open(in_trial_dir('settings.txt')) as f:\n",
    "            settings = [ [x.strip() for x in line.split('=')] for line in f.readlines() ]\n",
    "    except:\n",
    "        settings = None\n",
    "    try:\n",
    "        with open(in_trial_dir('log.txt')) as f:\n",
    "            log = [ line.strip() for line in f.readlines() ]\n",
    "        if 'Failed' in log:\n",
    "            status = 'failed'\n",
    "        elif log[-1] == 'Done':\n",
    "            status = 'complete'\n",
    "        else:\n",
    "            progress = [ line.strip() for line in log if 'Tracking' in line ]\n",
    "            if len(progress)==0:\n",
    "                status = 'tracking (0%)'\n",
    "            else:\n",
    "                percent = re.findall('[\\d.]*%',progress[-1])[0]\n",
    "                status  = f'tracking ({percent})'\n",
    "    except:\n",
    "        status = 'no log'\n",
    "    \n",
    "    return locals()\n",
    "\n",
    "statuses = ['no log','tracking','complete','failed']"
   ]
  },
  {
   "cell_type": "code",
   "execution_count": 37,
   "metadata": {},
   "outputs": [
    {
     "data": {
      "text/plain": [
       "13"
      ]
     },
     "execution_count": 37,
     "metadata": {},
     "output_type": "execute_result"
    }
   ],
   "source": [
    "trial_dirs = sorted(glob('../tracking/test_21-01-03/*'))\n",
    "len(trial_dirs)"
   ]
  },
  {
   "cell_type": "code",
   "execution_count": 39,
   "metadata": {
    "scrolled": true
   },
   "outputs": [
    {
     "name": "stdout",
     "output_type": "stream",
     "text": [
      "complete             Pa_Fri_14dpf_groupA_n5_20200612_1300_10FPS\n",
      "complete             Pa_Fri_21dpf_GroupA_n5_20200619_1345\n",
      "complete             Pa_Fri_28dpf_groupA_n5_20200626_1800\n",
      "complete             Pa_Fri_7dpf_GroupA_n5_20200605_1100\n",
      "complete             Pa_Fri_84dpf_GroupA_n5_20200821_1304\n",
      "complete             Pa_fri_70dpf_GroupA_n5_20200807_1600\n",
      "complete             SF_Sat_14dpf_GroupA_n5_20200613_1205\n",
      "complete             SF_Sat_21dpf_GroupA_n5_20200620_1530\n",
      "complete             SF_Sat_28dpf_GroupA_n5_20200627_1340\n",
      "complete             SF_Sat_70dpf_GroupA_n5_20200808_1015\n",
      "complete             SF_Sat_7dpf_GroupA_n5_20200606_1200\n",
      "not found            notes.txt\n",
      "not found            notes.txt~\n"
     ]
    }
   ],
   "source": [
    "for trial_dir in trial_dirs:\n",
    "    try:\n",
    "        globals().update(get_info(trial_dir))\n",
    "#         if status == 'complete':\n",
    "#         if 'tracking' not in status:\n",
    "#             continue\n",
    "        print(f'{status:20s} {name}')\n",
    "    except:\n",
    "        print(f'No info for {trial_dir}')"
   ]
  },
  {
   "cell_type": "code",
   "execution_count": 20,
   "metadata": {},
   "outputs": [
    {
     "data": {
      "text/plain": [
       "{'no log': 0, 'tracking': 4, 'complete': 0, 'failed': 7}"
      ]
     },
     "metadata": {},
     "output_type": "display_data"
    }
   ],
   "source": [
    "status_count = { s:0 for s in statuses }\n",
    "\n",
    "for path in trial_dirs:\n",
    "    for s in statuses:\n",
    "        if s in get_info(path)['status']:\n",
    "            status_count[s] += 1\n",
    "    \n",
    "display(status_count)"
   ]
  },
  {
   "cell_type": "code",
   "execution_count": 21,
   "metadata": {},
   "outputs": [],
   "source": [
    "# for trial_dir in trial_dirs:\n",
    "#     locals().update(get_info(trial_dir))\n",
    "#     if status=='no log':\n",
    "#         trial_file = os.path.join(trial_dir,'trial.pik')\n",
    "#         log_file = os.path.join(trial_dir,'log.txt')\n",
    "#         if os.path.exists(trial_file):\n",
    "#             print(trial_dir)\n",
    "#             display(os.listdir(trial_dir))\n",
    "# #             os.remove(trial_file)\n"
   ]
  },
  {
   "cell_type": "code",
   "execution_count": null,
   "metadata": {},
   "outputs": [],
   "source": []
  }
 ],
 "metadata": {
  "kernelspec": {
   "display_name": "Python (main)",
   "language": "python",
   "name": "main"
  },
  "language_info": {
   "codemirror_mode": {
    "name": "ipython",
    "version": 3
   },
   "file_extension": ".py",
   "mimetype": "text/x-python",
   "name": "python",
   "nbconvert_exporter": "python",
   "pygments_lexer": "ipython3",
   "version": "3.6.10"
  }
 },
 "nbformat": 4,
 "nbformat_minor": 4
}
