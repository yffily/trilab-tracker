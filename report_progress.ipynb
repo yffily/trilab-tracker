{
 "cells": [
  {
   "cell_type": "markdown",
   "metadata": {},
   "source": [
    "### Pick a set of trials to monitor."
   ]
  },
  {
   "cell_type": "code",
   "execution_count": null,
   "metadata": {},
   "outputs": [],
   "source": [
    "import os, sys\n",
    "from glob import glob\n",
    "from trilabtracker.utils import tracking_status\n",
    "\n",
    "trial_dirs = sorted(glob('../dataset1/tracking/21-07-12_full/*'))\n",
    "print('Number of trials selected:', len(trial_dirs))"
   ]
  },
  {
   "cell_type": "markdown",
   "metadata": {},
   "source": [
    "### Tracking status summary\n",
    "Number of trials in each status."
   ]
  },
  {
   "cell_type": "code",
   "execution_count": null,
   "metadata": {},
   "outputs": [],
   "source": [
    "statuses = ['no log','tracking','complete','failed']\n",
    "status_count = { s:0 for s in statuses }\n",
    "for path in trial_dirs:\n",
    "    for s in statuses:\n",
    "        if s in tracking_status(path)['status']:\n",
    "            status_count[s] += 1\n",
    "display(status_count)"
   ]
  },
  {
   "cell_type": "markdown",
   "metadata": {},
   "source": [
    "### Detailed status of ongoing tracking jobs"
   ]
  },
  {
   "cell_type": "code",
   "execution_count": null,
   "metadata": {
    "scrolled": false
   },
   "outputs": [],
   "source": [
    "for trial_dir in trial_dirs:\n",
    "    try:\n",
    "        globals().update(tracking_status(trial_dir))\n",
    "        if status in ['complete','no log']:\n",
    "#         if 'tracking' not in status:\n",
    "            continue\n",
    "        print(f'{status:20s} {name}')\n",
    "    except:\n",
    "        print(f'No info for {trial_dir}')"
   ]
  },
  {
   "cell_type": "markdown",
   "metadata": {},
   "source": [
    "### Clean up failed trackings"
   ]
  },
  {
   "cell_type": "code",
   "execution_count": null,
   "metadata": {},
   "outputs": [],
   "source": [
    "'''\n",
    "Template to clean up interrupted trials. \n",
    "If the goal is to have the trial be picked up for retracking \n",
    "by \"track_batch.ipynb\", it's enough to delete \"trial.pik\".\n",
    "'''\n",
    "\n",
    "for trial_dir in trial_dirs:\n",
    "    locals().update(tracking_status(trial_dir))\n",
    "    if True: #status=='failed':\n",
    "        trial_file = os.path.join(trial_dir,'trial.pik')\n",
    "        log_file = os.path.join(trial_dir,'log.txt')\n",
    "        if os.path.exists(trial_file):\n",
    "            print(trial_dir)\n",
    "            display(os.listdir(trial_dir))\n",
    "#             os.remove(trial_file)"
   ]
  },
  {
   "cell_type": "code",
   "execution_count": null,
   "metadata": {},
   "outputs": [],
   "source": []
  }
 ],
 "metadata": {
  "kernelspec": {
   "display_name": "Python (main)",
   "language": "python",
   "name": "main"
  },
  "language_info": {
   "codemirror_mode": {
    "name": "ipython",
    "version": 3
   },
   "file_extension": ".py",
   "mimetype": "text/x-python",
   "name": "python",
   "nbconvert_exporter": "python",
   "pygments_lexer": "ipython3",
   "version": "3.8.10"
  }
 },
 "nbformat": 4,
 "nbformat_minor": 4
}
