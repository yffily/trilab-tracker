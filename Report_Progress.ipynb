{
 "cells": [
  {
   "cell_type": "code",
   "execution_count": 29,
   "metadata": {},
   "outputs": [],
   "source": [
    "import os, sys, re\n",
    "from glob import glob\n",
    "\n",
    "def get_info(path):\n",
    "    name  = os.path.basename(path)\n",
    "    if not os.path.isdir(path):\n",
    "        return dict(name=name, status='not found')\n",
    "    in_path = lambda x: os.path.join(path,x)\n",
    "    has_tank       = os.path.exists(in_path('tank.pik'))\n",
    "    has_background = os.path.exists(in_path('background.npz'))\n",
    "    has_trial      = os.path.exists(in_path('trial.pik'))\n",
    "    try:\n",
    "        with open(in_path('settings.txt')) as f:\n",
    "            settings = [ [x.strip() for x in line.split('=')] for line in f.readlines() ]\n",
    "    except:\n",
    "        settings = None\n",
    "    try:\n",
    "        with open(in_path('log.txt')) as f:\n",
    "            log = [ line.strip() for line in f.readlines() ]\n",
    "        if 'Failed' in log[-2:]:\n",
    "            status = 'failed'\n",
    "        elif log[-1] == 'Saving...' and 'Tracking frame' in log[-2]:\n",
    "            status = 'complete'\n",
    "        else:\n",
    "            progress = [ line for line in log if 'Tracking frame' in line ]\n",
    "            if len(progress)==0:\n",
    "                status = '0%'\n",
    "            else:\n",
    "                i,n = progress[-1].split(' ')[-1][:-3].split('/')\n",
    "                status = f'tracking ({100*float(i)/int(n):.1f}%)'\n",
    "    except:\n",
    "        status = 'no log'\n",
    "    \n",
    "    return locals()\n",
    "\n",
    "statuses = ['no log','tracking','complete','failed']"
   ]
  },
  {
   "cell_type": "code",
   "execution_count": 30,
   "metadata": {},
   "outputs": [
    {
     "data": {
      "text/plain": [
       "112"
      ]
     },
     "execution_count": 30,
     "metadata": {},
     "output_type": "execute_result"
    }
   ],
   "source": [
    "len(glob('../tracking/full_20-07-14/*'))"
   ]
  },
  {
   "cell_type": "code",
   "execution_count": 38,
   "metadata": {},
   "outputs": [
    {
     "name": "stdout",
     "output_type": "stream",
     "text": [
      "tracking (88.9%)     Pa_Sun_21dpf_GroupC_n1e_2020-06-28-152755-0000-repaired\n",
      "tracking (54.5%)     Pa_Sun_7dpf_GroupA_n2d_2020-06-14-132156-0000\n",
      "tracking (39.4%)     Pa_Sun_7dpf_GroupB_n1a_2020-06-14-150944-0000\n",
      "tracking (80.6%)     Pa_Sun_7dpf_GroupB_n2a_2020-06-14-115647-0000\n",
      "no log               Pa_Sun_7dpf_GroupB_n2b_2020-06-14-145701-0000\n",
      "tracking (60.1%)     Pa_Sun_7dpf_GroupB_n5a_2020-06-14-135711-0000-repaired\n",
      "no log               Pa_Sun_7dpf_GroupB_n5b_2020-06-14-123242-0000\n",
      "tracking (61.2%)     Pa_Sun_7dpf_GroupB_n5d_2020-06-14-130927-0000\n",
      "no log               Pa_Sun_7dpf_GroupC_n1a_2020-06-14-121412-0000\n",
      "tracking (49.3%)     Pa_Sun_7dpf_GroupC_n2b_2020-06-14-113936-0000\n",
      "no log               Pa_Sun_7dpf_GroupC_n2c_2020-06-14-101346-0000\n",
      "tracking (0.5%)      Pa_Sun_7dpf_groupC_n2a_2020-06-14-093915-0000\n",
      "no log               Pa_fri_28dpf_groupA_n2b_2020-06-26-181618-0000\n",
      "no log               Pa_fri_28dpf_groupB_n2b_2020-06-26-174326-0000\n",
      "no log               Pa_fri_28dpf_groupC_n2b_2020-06-26-185216-0000\n",
      "no log               Pa_fri_28dpf_groupD_n2b_2020-06-26-170814-0000\n"
     ]
    }
   ],
   "source": [
    "for path in sorted(glob('../tracking/full_20-07-14/*')):\n",
    "    get_info(path)\n",
    "    globals().update(get_info(path))\n",
    "    if status == 'complete':\n",
    "        continue\n",
    "    print(f'{status:20s} {name}')"
   ]
  },
  {
   "cell_type": "code",
   "execution_count": 37,
   "metadata": {},
   "outputs": [
    {
     "data": {
      "text/plain": [
       "{'no log': 8, 'tracking': 8, 'complete': 96, 'failed': 0}"
      ]
     },
     "metadata": {},
     "output_type": "display_data"
    }
   ],
   "source": [
    "status_count = { s:0 for s in statuses }\n",
    "\n",
    "for path in sorted(glob('../tracking/full_20-07-14/*')):\n",
    "    for s in statuses:\n",
    "        if s in get_info(path)['status']:\n",
    "            status_count[s] += 1\n",
    "    \n",
    "display(status_count)"
   ]
  },
  {
   "cell_type": "code",
   "execution_count": null,
   "metadata": {},
   "outputs": [],
   "source": []
  }
 ],
 "metadata": {
  "kernelspec": {
   "display_name": "Python (main)",
   "language": "python",
   "name": "main"
  },
  "language_info": {
   "codemirror_mode": {
    "name": "ipython",
    "version": 3
   },
   "file_extension": ".py",
   "mimetype": "text/x-python",
   "name": "python",
   "nbconvert_exporter": "python",
   "pygments_lexer": "ipython3",
   "version": "3.6.10"
  }
 },
 "nbformat": 4,
 "nbformat_minor": 4
}
