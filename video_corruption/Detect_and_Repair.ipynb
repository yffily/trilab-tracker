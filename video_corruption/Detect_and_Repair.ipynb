{
 "cells": [
  {
   "cell_type": "code",
   "execution_count": 16,
   "metadata": {},
   "outputs": [],
   "source": [
    "import os\n",
    "from glob import glob\n",
    "from converter import Converter"
   ]
  },
  {
   "cell_type": "code",
   "execution_count": 69,
   "metadata": {
    "scrolled": false
   },
   "outputs": [
    {
     "name": "stdout",
     "output_type": "stream",
     "text": [
      "Pa_Fri_7dpf_GroupB_n2_CORRUPT   98.7%\n",
      "Pa_Fri_7dpf_GroupC_n2_CORRUPT   98.6%\n",
      "Pa_Fri_7dpf_GroupC_n2b_CORRUPT   99.2%\n",
      "Pa_Fri_7dpf_GroupC_n5_CORRUPT   98.6%\n",
      "Pa_Sun_14dpf_GroupB_n2c_2020-06-21-114550-0000   90.0%\n",
      "Pa_Sun_21dpf_GroupC_n1d_2020-06-28-162747-0000   99.3%\n",
      "Pa_Sun_21dpf_GroupC_n1e_2020-06-28-152755-0000   99.9%\n",
      "Pa_Sun_21dpf_GroupC_n5_2020-06-28-162753-0000   99.0%\n",
      "Pa_Sun_7dpf_GroupB_n5a_2020-06-14-135711-0000   99.3%\n",
      "SF_Sat_28dpf_GroupD_n1a_2020-06-27-175703-0000   99.5%\n",
      "SF_Sat_28dpf_GroupD_n1b_2020-06-27-175700-0000-020   99.3%\n",
      "SF_Sat_28dpf_GroupD_n1c_2020-06-27-165707-0000   98.2%\n",
      "SF_Sat_7dpf_GroupA_n2a_CORRUPT   98.9%\n",
      "SF_Sat_7dpf_GroupA_n2b_CORRUPT   99.9%\n",
      "SF_Sat_7dpf_GroupA_n5_CORRUPT   99.9%\n",
      "SF_Sat_7dpf_GroupB_n2b_CORRUPT___   99.6%\n",
      "SF_Sat_7dpf_GroupC_n2a_CORRUPT   98.7%\n",
      "SF_Sat_7dpf_GroupC_n2c_CORRUPT   99.1%\n",
      "SF_Sat_7dpf_GroupC_n5_CORRUPT   99.7%\n",
      "SF_Sat_7dpf_GroupD_n2b_CORRUPT   98.5%\n",
      "SF_Sat_7dpf_GroupD_n2b_CORRUPT_   99.4%\n",
      "SF_Sat_7dpf_GroupD_n5_CORRUPT   99.5%\n"
     ]
    }
   ],
   "source": [
    "raw_dir = '../../raw_videos/google-drive'\n",
    "repaired_dir = '../../raw_videos/repaired'\n",
    "\n",
    "\n",
    "input_files = sorted(glob(os.path.join(raw_dir,'*.avi')))\n",
    "\n",
    "conv = Converter()\n",
    "for f1 in input_files:\n",
    "    info = conv.probe(f1)\n",
    "    if type(info.video.bitrate)==type(None):\n",
    "        fn,ext = os.path.splitext(os.path.basename(f1))\n",
    "        f2 = os.path.join(repaired_dir,fn+'-repaired'+ext)\n",
    "        if not os.path.exists(f2):\n",
    "            convert = conv.convert(f1, f2, {\n",
    "                'format':'avi', \n",
    "                'video': {'codec':'copy'},\n",
    "                })\n",
    "            for progress in convert:\n",
    "                print(f'{fn}   {100*progress:.1f}%',end='\\r')\n",
    "            print()"
   ]
  },
  {
   "cell_type": "code",
   "execution_count": null,
   "metadata": {
    "scrolled": false
   },
   "outputs": [],
   "source": []
  }
 ],
 "metadata": {
  "kernelspec": {
   "display_name": "Python (main)",
   "language": "python",
   "name": "main"
  },
  "language_info": {
   "codemirror_mode": {
    "name": "ipython",
    "version": 3
   },
   "file_extension": ".py",
   "mimetype": "text/x-python",
   "name": "python",
   "nbconvert_exporter": "python",
   "pygments_lexer": "ipython3",
   "version": "3.6.10"
  }
 },
 "nbformat": 4,
 "nbformat_minor": 4
}
