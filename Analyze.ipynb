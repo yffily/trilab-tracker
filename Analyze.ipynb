{
 "cells": [
  {
   "cell_type": "code",
   "execution_count": 1,
   "metadata": {},
   "outputs": [],
   "source": [
    "from importlib import reload\n",
    "import platform, os, sys, datetime, re, itertools\n",
    "from os.path import join\n",
    "from glob import glob\n",
    "import cv2\n",
    "import numpy as np\n",
    "import pandas as pd\n",
    "import matplotlib.pyplot as plt\n",
    "from cvt.TrAQ.Tank import Tank\n",
    "import cvt.utils as utils\n",
    "\n",
    "tank_diameter_vs_age = { 7:9.6, 14:10.4, 21:12.8, 28:17.7, 42:33.8 }\n",
    "plt.rcParams['figure.dpi'] = 150\n",
    "# plt.rcParams['figure.figsize'] = 9,6"
   ]
  },
  {
   "cell_type": "markdown",
   "metadata": {},
   "source": [
    "# Load trials"
   ]
  },
  {
   "cell_type": "code",
   "execution_count": 2,
   "metadata": {},
   "outputs": [
    {
     "name": "stdout",
     "output_type": "stream",
     "text": [
      "95\n"
     ]
    }
   ],
   "source": [
    "trial_files = sorted(glob('../tracking/full_20-07-14/*/trial.pik')) #[:1]\n",
    "print(len(trial_files))"
   ]
  },
  {
   "cell_type": "code",
   "execution_count": 3,
   "metadata": {},
   "outputs": [],
   "source": [
    "trials = {}\n",
    "for trial_file in trial_files:\n",
    "    \n",
    "    # Parse the trial's name.\n",
    "    trial_dir  = os.path.dirname(trial_file)\n",
    "    trial_name = os.path.basename(trial_dir)\n",
    "    pop,_,age,group,n_ind = trial_name.split('_')[:5]\n",
    "    age   = int(age[:-3])\n",
    "#     n_ind = int(re.findall('\\d+',n_ind)[0]) # The trial dictionary already contains n_ind.\n",
    "    trial = utils.load_pik(trial_file)\n",
    "    locals().update(trial)\n",
    "    \n",
    "    # Load the tracking data, originally a numpy.array, into a pandas.DataFrame.\n",
    "    fish_list = range(n_ind)\n",
    "    df = pd.DataFrame(data.reshape((data.shape[0],-1)))\n",
    "    df.columns = pd.MultiIndex.from_product([ fish_list, ['x_px','y_px','ang','area'] ])\n",
    "    df.index = pd.Index(frame_list.astype(float)/fps, name='time')\n",
    "    \n",
    "    # Create figure directory inside the tracking directory.\n",
    "    fig_dir = os.path.join(trial_dir,'figures')\n",
    "    if not os.path.exists(fig_dir):\n",
    "        os.mkdir(fig_dir)\n",
    "    \n",
    "    trials[trial_file] = { k:globals()[k] for k in ['trial_dir', 'trial_name', 'fig_dir', \n",
    "                                                    'pop', 'age', 'group','n_ind',\n",
    "                                                    'df', 'fish_list'] }"
   ]
  },
  {
   "cell_type": "markdown",
   "metadata": {},
   "source": [
    "# Analyze\n",
    "\n",
    "\n",
    "### Compute spatial and kinematic quantities"
   ]
  },
  {
   "cell_type": "code",
   "execution_count": 4,
   "metadata": {},
   "outputs": [],
   "source": [
    "def derivative(series):\n",
    "#     # First order forward derivative.\n",
    "#     x,y = series.index,series.values\n",
    "#     return pd.Series((y[1:]-y[:-1])/(x[1:]-x[:-1]),x[1:])\n",
    "    # Second order centered derivative.\n",
    "#     x,y = series.index,series.values\n",
    "#     return pd.Series((y[2:]-y[:-2])/(x[2:]-x[:-2]),x[1:-1])\n",
    "    return pd.Series(np.gradient(series,series.index),index=series.index)\n",
    "\n",
    "\n",
    "for trial_file,trial in trials.items():\n",
    "    locals().update(trial)\n",
    "    \n",
    "    # Convert pixels to cm.\n",
    "    tank.r_cm = tank_diameter_vs_age[age]/2\n",
    "    a = tank.r_cm/tank.r_px\n",
    "    for i in range(n_ind):\n",
    "        df[i,'x'] =  a*(df[i,'x_px']-tank.x_px)\n",
    "        df[i,'y'] = -a*(df[i,'y_px']-tank.y_px)\n",
    "    \n",
    "    # Compute spatial and kinematic quantities.\n",
    "    for f in fish_list:\n",
    "        df[f,'d_wall'] = tank.r_cm - np.hypot(df[f,'x'],df[f,'y'])\n",
    "        df[f,'v_x']    = derivative(df[f,'x'])\n",
    "        df[f,'v_y']    = derivative(df[f,'y'])\n",
    "        df[f,'v']      = np.hypot(df[f,'v_x'],df[f,'v_y'])\n",
    "        # Make sure the difference between the current angle and the last\n",
    "        # non-NaN angle is never larger than 2*pi, then take the derivative.\n",
    "        I              = ~df[f,'ang'].isna()\n",
    "        df[f,'ang'][I] = np.unwrap(df[f,'ang'][I])\n",
    "        df[f,'v_ang']  = derivative(df[f,'ang'])\n",
    "    \n",
    "    # Reorder columns.\n",
    "    # df = df.sort_index(axis=1) # Sort alphabetically, which also sorts by fish.\n",
    "    columns = [ (f,q) for f in fish_list for q in ['x_px', 'y_px', 'area', 'ang', 'v_ang', \n",
    "                                                   'x', 'y', 'v_x', 'v_y', 'v', 'd_wall'] ]\n",
    "    df = df.reindex(columns=columns)\n",
    "    "
   ]
  },
  {
   "cell_type": "markdown",
   "metadata": {},
   "source": [
    "### Perform cuts\n",
    "\n",
    "*TODO*: Add an entry to `valid_fraction` to report the amount of NaN prior to any cut."
   ]
  },
  {
   "cell_type": "code",
   "execution_count": 5,
   "metadata": {},
   "outputs": [],
   "source": [
    "for trial_file,trial in trials.items():\n",
    "    locals().update(trial)\n",
    "    \n",
    "    cut_ranges = { 'd_wall': [0,tank.r_cm], \n",
    "                   'v':      [0,np.inf], \n",
    "                   'v_ang':  [-np.inf,np.inf] }\n",
    "    \n",
    "    cut_label  = ', '.join([ f'{v[0]}<{k.split(\" \")[0]}<{v[1]}' for k,v in cut_ranges.items() ])\n",
    "    columns    = pd.MultiIndex.from_product([ fish_list, list(cut_ranges.keys())+['final'] ])\n",
    "    cuts       = pd.DataFrame(index=df.index, columns=columns, dtype=bool)\n",
    "    \n",
    "    # Compute cuts.\n",
    "    valid_fraction = {}\n",
    "    for f in fish_list:\n",
    "        for c,(vmin,vmax) in cut_ranges.items():\n",
    "            cuts[f,c]  = (df[f,c]>vmin) & (df[f,c]<vmax)\n",
    "        cuts[f,'final'] = cuts[f].all(axis=1)\n",
    "        \n",
    "    # Compute the fraction of points that made it through each cut.\n",
    "    valid_fraction = {}\n",
    "    for c in list(cut_ranges.keys())+['final']:\n",
    "        B = [cuts[f,c] for f in fish_list]\n",
    "        valid_fraction[c] = sum([b.sum() for b in B])/sum([len(b) for b in B])\n",
    "    \n",
    "    # Create filtered dataframe, i.e., perform the cut.\n",
    "    df2 = df.copy()\n",
    "    for f in fish_list:\n",
    "        df2.loc[~cuts[f,'final'],f] = np.nan\n",
    "    \n",
    "    trial.update({ k:globals()[k] for k in ['cut_ranges', 'cut_label', 'cuts', 'valid_fraction', 'df2'] })\n"
   ]
  },
  {
   "cell_type": "markdown",
   "metadata": {},
   "source": [
    "# Plot\n",
    "\n",
    "*TODO*? Use an \"acclimation cut\" (dismiss the first xx minutes).\n",
    "\n",
    "### Trajectories"
   ]
  },
  {
   "cell_type": "code",
   "execution_count": 6,
   "metadata": {
    "scrolled": true
   },
   "outputs": [],
   "source": [
    "for trial_file,trial in trials.items():\n",
    "#     print(trial_file)\n",
    "    locals().update(trial)\n",
    "    \n",
    "    plt.figure(figsize=(6,)*2)\n",
    "    circle = plt.Circle( (tank.x_px,tank.y_px), tank.r_px,\n",
    "                         facecolor='None', edgecolor='k', lw=0.5 )\n",
    "    plt.gca().add_patch(circle)\n",
    "    for fish in range(data.shape[1]):\n",
    "        x,y,theta,area = data[:,fish].T\n",
    "        plt.scatter(x,y,s=0.1,linewidths=0,label=str(fish))\n",
    "#         plt.plot(x,y,lw=0.5,label=str(fish))\n",
    "    plt.axis('equal')\n",
    "    plt.gca().yaxis.set_inverted(True)\n",
    "    plt.legend()\n",
    "    \n",
    "    plt.suptitle(trial_name)\n",
    "    plt.savefig(os.path.join(fig_dir,f'trajectories.png'))\n",
    " #     plt.show()\n",
    "    plt.close()\n"
   ]
  },
  {
   "cell_type": "code",
   "execution_count": 7,
   "metadata": {},
   "outputs": [],
   "source": [
    "# plt.close('all')"
   ]
  },
  {
   "cell_type": "markdown",
   "metadata": {},
   "source": [
    "### Angle dynamics"
   ]
  },
  {
   "cell_type": "code",
   "execution_count": 8,
   "metadata": {},
   "outputs": [],
   "source": [
    "for trial_file,trial in trials.items():\n",
    "#     print(trial_file)\n",
    "    locals().update(trial)\n",
    "    \n",
    "    plt.figure(figsize=(12,6))\n",
    "    for f in fish_list:\n",
    "        a  = df[f,'ang']\n",
    "        plt.plot(a.index,a,label=f) #,marker='.')\n",
    "    plt.xlabel('Time (s)')\n",
    "    plt.ylabel('Angle (rad)')\n",
    "    plt.legend()\n",
    "    \n",
    "    plt.suptitle(trial_name)\n",
    "    plt.savefig(os.path.join(fig_dir,f'angle-vs-time.png'))\n",
    " #     plt.show()\n",
    "    plt.close()\n"
   ]
  },
  {
   "cell_type": "markdown",
   "metadata": {},
   "source": [
    "### Valid fraction"
   ]
  },
  {
   "cell_type": "code",
   "execution_count": 9,
   "metadata": {},
   "outputs": [],
   "source": [
    "for trial_file,trial in trials.items():\n",
    "#     print(trial_file)\n",
    "    locals().update(trial)\n",
    "    \n",
    "    bp = plt.bar(*zip(*valid_fraction.items()))\n",
    "    for bar in bp:\n",
    "        h,x,w = bar.get_height(),bar.get_x(),bar.get_width()\n",
    "        plt.annotate(f'{h:.2f}', xy=(x+w/2,1.01), ha='center', va='bottom')\n",
    "    plt.ylim(0,1.1)\n",
    "    plt.ylabel('Valid fraction')\n",
    "    \n",
    "    plt.title(cut_label)\n",
    "    plt.suptitle(trial_name)\n",
    "    plt.savefig(os.path.join(fig_dir,f'valid_fraction.png'))\n",
    "#     plt.show()\n",
    "    plt.close()\n"
   ]
  },
  {
   "cell_type": "markdown",
   "metadata": {},
   "source": [
    "### Distance to the wall distribution"
   ]
  },
  {
   "cell_type": "code",
   "execution_count": 10,
   "metadata": {},
   "outputs": [],
   "source": [
    "for trial_file,trial in trials.items():\n",
    "#     print(trial_file)\n",
    "    locals().update(trial)\n",
    "    \n",
    "    quantity = 'd_wall'\n",
    "    unit = 'cm'\n",
    "    bins = np.linspace(0,tank.r_cm,20)\n",
    "    values = df2.loc[:,(slice(None),quantity)].values.flatten()\n",
    "    plt.hist(values,bins=bins)\n",
    "    plt.xlabel(f'{quantity} ({unit})')\n",
    "    plt.ylabel('frequency')\n",
    "    \n",
    "    plt.title(cut_label)\n",
    "    plt.suptitle(trial_name)\n",
    "    plt.savefig(os.path.join(fig_dir,f'dwall__histogram.png'))\n",
    "#     plt.show()\n",
    "    plt.close()\n"
   ]
  },
  {
   "cell_type": "markdown",
   "metadata": {},
   "source": [
    "### Velocity distribution"
   ]
  },
  {
   "cell_type": "code",
   "execution_count": 11,
   "metadata": {},
   "outputs": [
    {
     "name": "stderr",
     "output_type": "stream",
     "text": [
      "/home/yaouen/software/miniconda3/envs/main/lib/python3.6/site-packages/numpy/lib/histograms.py:839: RuntimeWarning: invalid value encountered in greater_equal\n",
      "  keep = (tmp_a >= first_edge)\n",
      "/home/yaouen/software/miniconda3/envs/main/lib/python3.6/site-packages/numpy/lib/histograms.py:840: RuntimeWarning: invalid value encountered in less_equal\n",
      "  keep &= (tmp_a <= last_edge)\n"
     ]
    }
   ],
   "source": [
    "for trial_file,trial in trials.items():\n",
    "#     print(trial_file)\n",
    "    locals().update(trial)\n",
    "    \n",
    "    quantity = 'v'\n",
    "    unit = 'cm/s'\n",
    "    bins = 30\n",
    "    values = df2.loc[:,(slice(None),quantity)].values.flatten()\n",
    "    plt.hist(values,bins=bins)\n",
    "    plt.xlabel(f'{quantity} ({unit})')\n",
    "    plt.ylabel('frequency')\n",
    "    plt.yscale('log')\n",
    "\n",
    "    plt.title(cut_label)\n",
    "    plt.suptitle(trial_name)\n",
    "    plt.savefig(os.path.join(fig_dir,f'v__histogram.png'))\n",
    "#     plt.show()\n",
    "    plt.close()\n"
   ]
  },
  {
   "cell_type": "markdown",
   "metadata": {},
   "source": [
    "### Angular velocity distribution"
   ]
  },
  {
   "cell_type": "code",
   "execution_count": 12,
   "metadata": {},
   "outputs": [],
   "source": [
    "for trial_file,trial in trials.items():\n",
    "#     print(trial_file)\n",
    "    locals().update(trial)\n",
    "    \n",
    "    quantity = 'v_ang'\n",
    "    unit = 'rad/s'\n",
    "    bins = 50\n",
    "\n",
    "    values = df2.loc[:,(slice(None),quantity)].values.flatten()\n",
    "    plt.hist(values,bins=bins)\n",
    "    plt.xlabel(f'{quantity} ({unit})')\n",
    "    plt.ylabel('frequency')\n",
    "    plt.yscale('log')\n",
    "\n",
    "    plt.title(cut_label)\n",
    "    plt.suptitle(trial_name)\n",
    "    plt.savefig(os.path.join(fig_dir,f'ang_v__histogram.png'))\n",
    "#     plt.show()\n",
    "    plt.close()\n"
   ]
  },
  {
   "cell_type": "code",
   "execution_count": 13,
   "metadata": {},
   "outputs": [],
   "source": [
    "# ''' Analyze instances of unusually high velocity. '''\n",
    "\n",
    "# # At 30 fps, |v_ang|=30 (about where the rare peaks start) \n",
    "# # corresponds to about pi/3 in one frame.\n",
    "# print('v_ang for pi/3 in (1/30) second:',np.pi/3*fps)\n",
    "\n",
    "# print('Instances of unusually high v_ang:')\n",
    "# for f in fish_list:\n",
    "#     ang_diff  = df[f,'ang'].diff()\n",
    "#     I = np.nonzero(np.absolute(ang_diff.values)>1)[0]\n",
    "#     for i in I[:5]:\n",
    "#         display(df[f,'ang'].iloc[i-1:i+2])"
   ]
  },
  {
   "cell_type": "markdown",
   "metadata": {},
   "source": [
    "### Joint pair distance-pair angle distribution"
   ]
  },
  {
   "cell_type": "code",
   "execution_count": 17,
   "metadata": {},
   "outputs": [],
   "source": [
    "bins_d = np.linspace(0,2*tank.r_cm,15) # pair distance bins\n",
    "bins_a = np.linspace(0,np.pi,15)       # pair angle bins\n",
    "\n",
    "for trial_file,trial in trials.items():\n",
    "#     print(trial_file)\n",
    "    locals().update(trial)\n",
    "    \n",
    "    if n_ind<2:\n",
    "        continue\n",
    "    \n",
    "    H = [] # np.zeros((len(bins_d)-1,len(bins_a)-1))\n",
    "    for f1,f2 in itertools.combinations(fish_list,2):\n",
    "        dx,dy    = df[f1,'x']-df[f2,'x'],df[f1,'y']-df[f2,'y']\n",
    "        d        = np.hypot(dx,dy)\n",
    "        a        = df[f1,'ang']-df[f2,'ang']\n",
    "        a        = np.absolute(a - 2*np.pi*np.rint(a/(2*np.pi)))\n",
    "        h,_,_    = np.histogram2d(d,a,bins=(bins_d,bins_a),normed=True)\n",
    "        H.append(h)\n",
    "\n",
    "    H = np.mean(H,axis=0)\n",
    "    plt.pcolormesh(bins_d,bins_a*180/np.pi,H.T)\n",
    "    plt.xlabel('pair distance (cm)')\n",
    "    plt.ylabel('pair angle (deg)')\n",
    "    plt.colorbar()\n",
    "    \n",
    "    plt.title(cut_label)\n",
    "    plt.suptitle(trial_name)\n",
    "    plt.savefig(os.path.join(fig_dir,f'distance-angle__2d-histogram.png'))\n",
    "#     plt.show()\n",
    "    plt.close()\n",
    "    "
   ]
  },
  {
   "cell_type": "markdown",
   "metadata": {},
   "source": [
    "# Clean up"
   ]
  },
  {
   "cell_type": "code",
   "execution_count": 18,
   "metadata": {},
   "outputs": [],
   "source": [
    "# for trial_file,trial in trials.items():\n",
    "#     locals().update(trial)\n",
    "    \n",
    "#     # Delete figure directory and its contents.\n",
    "# #     os.remove(fig_dir)\n",
    "    "
   ]
  },
  {
   "cell_type": "code",
   "execution_count": null,
   "metadata": {},
   "outputs": [],
   "source": []
  }
 ],
 "metadata": {
  "kernelspec": {
   "display_name": "Python (main)",
   "language": "python",
   "name": "main"
  },
  "language_info": {
   "codemirror_mode": {
    "name": "ipython",
    "version": 3
   },
   "file_extension": ".py",
   "mimetype": "text/x-python",
   "name": "python",
   "nbconvert_exporter": "python",
   "pygments_lexer": "ipython3",
   "version": "3.6.10"
  }
 },
 "nbformat": 4,
 "nbformat_minor": 4
}
