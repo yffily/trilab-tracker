{
 "cells": [
  {
   "cell_type": "code",
   "execution_count": null,
   "metadata": {},
   "outputs": [],
   "source": [
    "import os\n",
    "import os.path as osp\n",
    "import sys\n",
    "import platform\n",
    "import shutil\n",
    "import re\n",
    "import datetime\n",
    "import logging\n",
    "import multiprocessing\n",
    "from glob import glob\n",
    "import cv2\n",
    "import trilabtracker as tt\n",
    "\n",
    "# from importlib import reload\n",
    "# # The loop below reloads every submodule. It only works first time if \n",
    "# # \"tt.__all__\" has the correct order: if submodule A imports submodule B, \n",
    "# # then B needs to be reloaded before A.\n",
    "# for m in tt.__all__:\n",
    "#     eval(f'reload(tt.{m})')\n",
    "# reload(tt)"
   ]
  },
  {
   "cell_type": "markdown",
   "metadata": {},
   "source": [
    "### Decide what to track, with what settings, and where to store the output."
   ]
  },
  {
   "cell_type": "code",
   "execution_count": null,
   "metadata": {
    "scrolled": true
   },
   "outputs": [],
   "source": [
    "# Videos to track.\n",
    "input_files  = sorted(glob('../raw_videos2/videos/*.mkv'))\n",
    "\n",
    "# Store output in this directory, in a subdirectory named after the video.\n",
    "tracking_dir = '../raw_videos2/tracking'\n",
    "\n",
    "# Load settings.\n",
    "filtered_settings = tt.load_filtered_settings('settings/larval-schooling-2.xlsx')\n",
    "\n",
    "# Define how to extract trial info from the video file's path.\n",
    "# Return None if the trial is to be skipped.\n",
    "def extract_trial_info(input_file):\n",
    "    # Extract trial name and number of fish from the video file's path.\n",
    "    d,fn       = osp.split(input_file)\n",
    "    fn,ext     = osp.splitext(fn)\n",
    "    output_dir = osp.join(tracking_dir,fn)\n",
    "    n_ind      = int(re.findall('_n(\\d+)[^\\d]*_',fn)[0])\n",
    "    \n",
    "#     # If a repaired version exists, use that instead.\n",
    "#     repaired_file = osp.join(d,'repaired',fn+'-repaired'+ext)\n",
    "#     input_file = repaired_file if osp.exists(repaired_file) else input_file\n",
    "\n",
    "    # If a trial file already exists, skip.\n",
    "    if osp.exists(osp.join(output_dir,'trial.pik')):\n",
    "        return None\n",
    "    \n",
    "    return dict( input_video=input_file, output_dir=output_dir, \n",
    "                 n_ind=n_ind, trial_name=fn )\n",
    "    \n",
    "#----------------------------------------------------\n",
    "\n",
    "# Create settings for input files.\n",
    "settings_list = []\n",
    "for input_file in input_files:\n",
    "    info = extract_trial_info(input_file)\n",
    "    if info is None:\n",
    "        continue\n",
    "    settings = tt.apply_filtered_settings(filtered_settings, info['trial_name'])\n",
    "    settings.update(info)\n",
    "    settings_list.append(settings)\n",
    "\n",
    "# print(f'{len(settings_list)}/{len(input_files)}')\n",
    "for settings in settings_list:\n",
    "    print(settings['trial_name'])"
   ]
  },
  {
   "cell_type": "markdown",
   "metadata": {},
   "source": [
    "### Set up output directories. Compute backgrounds."
   ]
  },
  {
   "cell_type": "code",
   "execution_count": null,
   "metadata": {},
   "outputs": [],
   "source": [
    "# Look for pre-existing background files in this tracking directory.\n",
    "bkg_dir = None\n",
    "\n",
    "#----------------------------------------------------\n",
    "\n",
    "if not osp.exists(tracking_dir):\n",
    "    os.mkdir(tracking_dir)\n",
    "\n",
    "for i,settings in enumerate(settings_list):\n",
    "    tt.overprint(f'{i+1}/{len(settings_list)}  '+settings['trial_name'])\n",
    "    tracker = tt.Tracker(**settings)\n",
    "    \n",
    "    # Create output directory.\n",
    "    tracker.init_directory()\n",
    "    tracker.save_settings()\n",
    "    tracker.init_video_link()\n",
    "    \n",
    "    # If background file(s) already exist, don't do anything.\n",
    "    b  = settings['bkg.secondary_subtraction']\n",
    "    f1 = osp.join(tracker.output_dir,'background.npz')\n",
    "    f2 = osp.join(tracker.output_dir,'background2.npz')\n",
    "    if osp.exists(f1) and ( (not b) or osp.exists(f2) ):\n",
    "        continue\n",
    "    # If background file exists in bkg_dir, use it.\n",
    "    try:\n",
    "        d = osp.join(bkg_dir,settings['trial_name'])\n",
    "        for i in ['']: #,'2']:\n",
    "            for e in ['npz','png']:\n",
    "                f1 = osp.join(d,f'background{i}.{e}')\n",
    "                f2 = osp.join(settings['output_dir'],f'background{i}.{e}')\n",
    "                shutil.copy2(f1,f2)\n",
    "    except:\n",
    "        pass\n",
    "    # Otherwise, compute background.\n",
    "    tracker.init_video_input()\n",
    "    tracker.init_background()\n",
    "    tracker.init_secondary_background()\n",
    "    tracker.release()"
   ]
  },
  {
   "cell_type": "markdown",
   "metadata": {},
   "source": [
    "### Locate tanks."
   ]
  },
  {
   "cell_type": "code",
   "execution_count": null,
   "metadata": {},
   "outputs": [],
   "source": [
    "# Look for pre-existing tank files in this tracking directory.\n",
    "bkg_dir = osp.relpath(osp.join(tracking_dir,'../full_21-01-17')) # None # \n",
    "\n",
    "#----------------------------------------------------\n",
    "\n",
    "for i,settings in enumerate(settings_list):\n",
    "    tt.overprint(f'{i+1}/{len(settings_list)}  '+settings['trial_name'])\n",
    "    \n",
    "    f = osp.join(settings['output_dir'], 'tank.pik')\n",
    "    if osp.exists(f):\n",
    "        continue\n",
    "    \n",
    "    try:\n",
    "        d = osp.join(tank_dir, settings['trial_name'])\n",
    "        for e in ['pik','png']:\n",
    "            f2 = osp.join(settings['output_dir'],f'tank.{e}')\n",
    "            if not osp.exists(f2):\n",
    "                f1 = osp.join(d,f'tank.{e}')\n",
    "                shutil.copy2(f1,f2)\n",
    "    except:\n",
    "        pass\n",
    "    \n",
    "    tracker = tt.Tracker(**settings)\n",
    "    tracker.init_video_input()\n",
    "    tracker.init_background()\n",
    "    tracker.release()\n",
    "    tracker.init_tank(thresh=2,dilate=80)"
   ]
  },
  {
   "cell_type": "code",
   "execution_count": null,
   "metadata": {},
   "outputs": [],
   "source": [
    "# Clean up openCV windows if needed.\n",
    "cv2.destroyAllWindows()"
   ]
  },
  {
   "cell_type": "markdown",
   "metadata": {},
   "source": [
    "## Track."
   ]
  },
  {
   "cell_type": "code",
   "execution_count": null,
   "metadata": {
    "scrolled": false
   },
   "outputs": [],
   "source": [
    "n_threads = 4\n",
    "# This multi-threading does not work in Windows. \n",
    "# If the OS is Windows, use a single thread.\n",
    "if n_threads==1 or ('windows' in platform.system().lower()):\n",
    "    for settings in settings_list:\n",
    "        tt.reset_logging()\n",
    "        tt.add_log_stream(sys.stdout, overwrite=True)\n",
    "        logging.info(settings['input_video']+'\\n')\n",
    "        tt.Tracker(**settings).track_video()\n",
    "else:\n",
    "    def track(settings):\n",
    "        tt.reset_logging()\n",
    "        return tt.Tracker(**settings).track_video()\n",
    "    pool = multiprocessing.Pool(n_threads)\n",
    "    pool.map(track,settings_list)"
   ]
  },
  {
   "cell_type": "markdown",
   "metadata": {},
   "source": [
    "## View output."
   ]
  },
  {
   "cell_type": "code",
   "execution_count": null,
   "metadata": {},
   "outputs": [],
   "source": [
    "# import numpy as np\n",
    "# import matplotlib.pyplot as plt\n",
    "# from matplotlib.patches import Ellipse\n",
    "\n",
    "# trial_files = glob(osp.join(tracking_dir,'*/trial.pik'))\n",
    "# print(*trial_files, sep='\\n', end='\\n\\n')\n",
    "# trial_file = trial_files[0]\n",
    "\n",
    "# trial = tt.load_trial(trial_file)\n",
    "# data,frames = trial['data'],trial['frame_list']\n",
    "\n",
    "# plt.figure(figsize=(6,6))\n",
    "# xy = trial['data'][:,:,:2]\n",
    "# for i in range(xy.shape[1]):\n",
    "#     plt.plot(*xy[:,i,:].T,label=f'{i}')\n",
    "# xc,yc,R = (trial['tank'][k] for k in ['xc', 'yc', 'R'])\n",
    "# print(xc,yc,R)\n",
    "# plt.gca().add_artist(Ellipse((xc,yc), 2*R, 2*R, fc='None', ec='k', lw=0.5))\n",
    "# plt.legend(loc=(1.05,0.5))\n",
    "# plt.axis('equal')\n",
    "# plt.xlim(xc-1.1*R,xc+1.1*R)\n",
    "# plt.ylim(yc-1.1*R,yc+1.1*R)\n",
    "# plt.show()"
   ]
  },
  {
   "cell_type": "code",
   "execution_count": null,
   "metadata": {},
   "outputs": [],
   "source": []
  }
 ],
 "metadata": {
  "kernelspec": {
   "display_name": "Python (main)",
   "language": "python",
   "name": "main"
  },
  "language_info": {
   "codemirror_mode": {
    "name": "ipython",
    "version": 3
   },
   "file_extension": ".py",
   "mimetype": "text/x-python",
   "name": "python",
   "nbconvert_exporter": "python",
   "pygments_lexer": "ipython3",
   "version": "3.6.10"
  }
 },
 "nbformat": 4,
 "nbformat_minor": 4
}
