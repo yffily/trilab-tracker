{
 "cells": [
  {
   "cell_type": "code",
   "execution_count": 2,
   "metadata": {},
   "outputs": [],
   "source": [
    "import platform, os, sys, datetime, re\n",
    "from os.path import join\n",
    "from glob import glob\n",
    "import cv2\n",
    "import numpy as np\n",
    "import matplotlib.pyplot as plt\n",
    "# sys.path.append(join(root_dir,'cvtracer'))\n",
    "from cvt.TrAQ.Trial import Trial\n",
    "from cvt.TrAQ.Tank import Tank\n",
    "from cvt.TrAQ.Group import Group\n",
    "from cvt.TrAQ.CVTracer import CVTracer, create_named_window, wait_on_named_window"
   ]
  },
  {
   "cell_type": "code",
   "execution_count": 3,
   "metadata": {},
   "outputs": [
    {
     "name": "stdout",
     "output_type": "stream",
     "text": [
      "../tracking/Pa_Fri_7dpf_GroupA_n2_2020-06-05-120920-0000/trial.pik\n",
      "\n",
      "        Trial loaded from ../tracking/Pa_Fri_7dpf_GroupA_n2_2020-06-05-120920-0000/trial.pik \n"
     ]
    },
    {
     "data": {
      "text/plain": [
       "True"
      ]
     },
     "execution_count": 3,
     "metadata": {},
     "output_type": "execute_result"
    }
   ],
   "source": [
    "trial_files = sorted(glob('../tracking/*/trial.pik'))\n",
    "trial_file = trial_files[0]\n",
    "print(trial_file)\n",
    "\n",
    "trial = Trial()\n",
    "trial.load(trial_file)"
   ]
  },
  {
   "cell_type": "code",
   "execution_count": 26,
   "metadata": {},
   "outputs": [
    {
     "name": "stdout",
     "output_type": "stream",
     "text": [
      "\n",
      "       Converting pixels to (x,y) space in (cm,cm).\n",
      "\n",
      "       using to tank size and location from ../tracking/Pa_Fri_7dpf_GroupA_n2_2020-06-05-120920-0000/tank.pik\n",
      "       Calculating kinematics...\n",
      "\n",
      "        Trial object saved as ../tracking/Pa_Fri_7dpf_GroupA_n2_2020-06-05-120920-0000/trial.pik \n",
      "\n",
      "       ... kinematics calculated for Trial and saved in\n",
      "             ../tracking/Pa_Fri_7dpf_GroupA_n2_2020-06-05-120920-0000/trial.pik \n",
      "\n",
      "\n",
      "  Generating occlusion cut using min d_nn = 0.00 cm with 2 buffer frames\n",
      " Shape before cuts:  (34541, 2)\n",
      " Shape after cuts:  (34541, 2)\n",
      "    ... for fish 0, \n",
      " Shape before cuts:  (34541, 2)\n",
      " Shape after cuts:  (34541, 2)\n",
      "    ... for fish 1, \n",
      "\n",
      "\n",
      "  Generating speed cut using range [0.00, 0.48] cm/s with 2 buffer frames\n",
      "    ... for fish 0, \n",
      "    ... for fish 1, \n",
      "\n",
      "\n",
      "  Generating angular speed cut using range [-20.00, 20.00] rad/s with 2 buffer frames\n",
      "    ... for fish 0, \n",
      "    ... for fish 1, \n",
      "\n",
      "\n",
      "  Combining all cuts.... \n",
      "    ... for fish 0, \n",
      "    ... for fish 1, \n",
      " mean and err 0.07893157496098518 0.03389668003715118\n",
      " mean and err 0.06888685257921172 0.03567009233366727\n",
      " mean and err 3.488760515791527 0.6195456253237845\n",
      " mean and err 0.0056386585003207566 0.0011326398077963495\n",
      " mean and err 0.012487930238175153 0.0033389521097882515\n",
      " mean and err 117.62757917700927 41.19874158577218\n",
      " mean and err 3.86859756533535e-19 2.7355115721303936e-19\n",
      " mean and err 0.9177008429188576 0.1073521440549673\n",
      " mean and err 167.3638327086014 31.805174034930193\n"
     ]
    },
    {
     "data": {
      "text/plain": [
       "<Figure size 432x288 with 0 Axes>"
      ]
     },
     "metadata": {},
     "output_type": "display_data"
    }
   ],
   "source": [
    "trial.convert_pixels_to_cm()\n",
    "trial.calculate_kinematics()\n",
    "# trial.save()\n",
    "\n",
    "val_name  = ['dwall', 'speed', 'omega']\n",
    "val_range = [ [0, trial.tank.r_cm], \n",
    "              [0, trial.tank.r_cm], \n",
    "              [-20, 20] ]\n",
    "val_bins  = [ 40, 40, 40 ]\n",
    "\n",
    "n_buffer_frames = 2\n",
    "\n",
    "tag = trial.evaluate_cuts(n_buffer_frames = n_buffer_frames,\n",
    "                          ocut = 0,\n",
    "                          vcut = val_range[1],\n",
    "                          wcut = val_range[2] )\n",
    "\n",
    "trial.calculate_statistics(val_name = val_name, \n",
    "                           val_range = val_range, \n",
    "                           val_bins = val_bins,\n",
    "                           ocut = True, vcut = True, wcut = True,\n",
    "                           tag = tag)"
   ]
  },
  {
   "cell_type": "code",
   "execution_count": 12,
   "metadata": {},
   "outputs": [
    {
     "name": "stdout",
     "output_type": "stream",
     "text": [
      " Shape before cuts:  (34541, 2)\n",
      " Shape after cuts:  (33899, 2)\n",
      " Shape before cuts:  (34541, 2)\n",
      " Shape after cuts:  (34174, 2)\n"
     ]
    },
    {
     "data": {
      "image/png": "[encoded data removed]",
      "text/plain": [
       "<Figure size 432x288 with 2 Axes>"
      ]
     },
     "metadata": {},
     "output_type": "display_data"
    }
   ],
   "source": [
    "# Plot the joint distribution of pair distance and pair angle.\n",
    "trial.group.collect_distance_alignment(ocut = True, \n",
    "                                       vcut = True, \n",
    "                                       wcut = True)\n",
    "dist_align = np.copy(trial.group.dij_mij)\n",
    "dist_align[:,1] = 180/np.pi*np.arccos(dist_align[:,1]) # convert to degrees\n",
    "\n",
    "plt.hist2d(dist_align[:,0], dist_align[:,1], bins = [20,20], \n",
    "           range=[[0,2*trial.tank.r_cm],[0,180]], cmap=plt.cm.hot_r)\n",
    "plt.xlabel(\"pair distance (cm)\")\n",
    "plt.ylabel(\"pair angle (deg)\")\n",
    "plt.colorbar()\n",
    "# plt.savefig(trial.make_fig_file('pairs',tag),**trial.plot_options)\n",
    "plt.show()\n",
    "# plt.clf()"
   ]
  },
  {
   "cell_type": "code",
   "execution_count": null,
   "metadata": {},
   "outputs": [],
   "source": []
  },
  {
   "cell_type": "code",
   "execution_count": 8,
   "metadata": {},
   "outputs": [
    {
     "data": {
      "text/plain": [
       "Index(['t', 'x', 'y', 'theta', 'col', 'row', 'theta_pix', 'dwall', 'vx', 'vy',\n",
       "       'speed', 'ax', 'ay', 'ex', 'ey', 'etheta', 'omega', 'alpha', 'af', 'al',\n",
       "       'd_n0', 'm_n0', 'd_nn', 'ocut', 'vcut', 'wcut', 'cut'],\n",
       "      dtype='object')"
      ]
     },
     "execution_count": 8,
     "metadata": {},
     "output_type": "execute_result"
    }
   ],
   "source": [
    "df.columns"
   ]
  },
  {
   "cell_type": "code",
   "execution_count": 20,
   "metadata": {},
   "outputs": [
    {
     "data": {
      "image/png": "[encoded data removed]",
      "text/plain": [
       "<Figure size 432x288 with 1 Axes>"
      ]
     },
     "metadata": {},
     "output_type": "display_data"
    }
   ],
   "source": [
    "df = trial.group.fish[0].df\n",
    "h,b = np.histogram(df['omega'].dropna(),bins=100)\n",
    "x = (b[1:]+b[:-1])/2\n",
    "# print(h.shape,b.shape,x.shape)\n",
    "plt.bar(x,h,width=x[1]-x[0])\n",
    "plt.yscale('log')\n",
    "# plt.ylim(None,500)\n",
    "plt.show()"
   ]
  },
  {
   "cell_type": "code",
   "execution_count": 21,
   "metadata": {},
   "outputs": [
    {
     "data": {
      "image/png": "[encoded data removed]",
      "text/plain": [
       "<Figure size 432x288 with 1 Axes>"
      ]
     },
     "metadata": {},
     "output_type": "display_data"
    }
   ],
   "source": [
    "df = trial.group.fish[0].df\n",
    "h,b = np.histogram(df['speed'].dropna(),bins=100)\n",
    "x = (b[1:]+b[:-1])/2\n",
    "# print(h.shape,b.shape,x.shape)\n",
    "plt.bar(x,h,width=x[1]-x[0])\n",
    "plt.yscale('log')\n",
    "# plt.ylim(None,500)\n",
    "plt.show()"
   ]
  },
  {
   "cell_type": "code",
   "execution_count": 14,
   "metadata": {},
   "outputs": [
    {
     "data": {
      "image/png": "[encoded data removed]",
      "text/plain": [
       "<Figure size 432x288 with 1 Axes>"
      ]
     },
     "metadata": {},
     "output_type": "display_data"
    }
   ],
   "source": [
    "# %matplotlib notebook\n",
    "%matplotlib inline\n",
    "\n",
    "for f in trial.group.fish:\n",
    "    t   = f.df['t']\n",
    "    th  = f.df['theta']\n",
    "\n",
    "    dth = th.diff()\n",
    "    dth = dth - 2*np.pi*np.rint(dth/(2*np.pi))\n",
    "    th  = np.cumsum(dth)\n",
    "\n",
    "    I = (t>297) & (t<301)\n",
    "    # t,th = t[I],th[I]\n",
    "\n",
    "    # plt.figure(figsize=(12,6))\n",
    "    # plt.xlim(297,301)\n",
    "    plt.plot(t,th) #,marker='.')\n",
    "\n",
    "plt.xlabel('Time (s)')\n",
    "plt.ylabel('Angle (rad)')\n",
    "plt.savefig(trial.make_fig_file('angle-vs-time',''),**trial.plot_options)\n",
    "plt.show()"
   ]
  },
  {
   "cell_type": "code",
   "execution_count": null,
   "metadata": {},
   "outputs": [],
   "source": []
  },
  {
   "cell_type": "code",
   "execution_count": null,
   "metadata": {},
   "outputs": [],
   "source": []
  },
  {
   "cell_type": "code",
   "execution_count": null,
   "metadata": {},
   "outputs": [],
   "source": []
  },
  {
   "cell_type": "code",
   "execution_count": null,
   "metadata": {},
   "outputs": [],
   "source": []
  },
  {
   "cell_type": "code",
   "execution_count": null,
   "metadata": {},
   "outputs": [],
   "source": []
  }
 ],
 "metadata": {
  "kernelspec": {
   "display_name": "Python 3",
   "language": "python",
   "name": "python3"
  },
  "language_info": {
   "codemirror_mode": {
    "name": "ipython",
    "version": 3
   },
   "file_extension": ".py",
   "mimetype": "text/x-python",
   "name": "python",
   "nbconvert_exporter": "python",
   "pygments_lexer": "ipython3",
   "version": "3.6.9"
  }
 },
 "nbformat": 4,
 "nbformat_minor": 4
}
