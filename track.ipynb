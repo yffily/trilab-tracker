{
 "cells": [
  {
   "cell_type": "code",
   "execution_count": null,
   "metadata": {},
   "outputs": [],
   "source": [
    "import os\n",
    "import sys\n",
    "import platform\n",
    "import shutil\n",
    "import re\n",
    "import datetime\n",
    "import logging\n",
    "import multiprocessing\n",
    "from glob import glob\n",
    "import trilabtracker as tt\n",
    "# import numpy as np\n",
    "# import pandas as pd\n",
    "\n",
    "from importlib import reload\n",
    "for m in tt.__all__:\n",
    "    eval(f'reload(tt.{m})')\n",
    "reload(tt)"
   ]
  },
  {
   "cell_type": "code",
   "execution_count": null,
   "metadata": {},
   "outputs": [],
   "source": [
    "# Video to track.\n",
    "input_file   = '../raw_videos2/videos/sf_thur_7dpf_groupA_n5b_20210513_2021-05-13-142401.mkv'\n",
    "\n",
    "# Store output in this directory, in a subdirectory named after the video.\n",
    "tracking_dir = 'output'\n",
    "\n",
    "# Load predefined settings...\n",
    "settings = tt.load_filtered_settings('settings/larval-schooling-2.xlsx')['*']\n",
    "# # ..or define your own.\n",
    "# settings = dict( t_start = 0, t_end = -1, n_extra = 1, n_report = 100, \n",
    "#                  n_blur = 5, block_size = 31, threshold_offset = 13, \n",
    "#                  min_area = 20, max_area = 800, ideal_area = 150, \n",
    "#                  max_aspect = 15, ideal_aspect = 8, area_penalty = 0.5, \n",
    "#                  morph_transform = [], reversal_threshold = None, \n",
    "#                  bkg = dict( t_start = 0, t_end = -1, n_training_frames = 100, \n",
    "#                              contrast_factor = 5, secondary_subtraction = True,\n",
    "#                              secondary_factor = 1 )\n",
    "#                ) \n",
    "\n",
    "# Extract trial name and number of fish from the video file's path.\n",
    "d,fn       = os.path.split(input_file)\n",
    "fn,ext     = os.path.splitext(fn)\n",
    "output_dir = os.path.join(tracking_dir,fn)\n",
    "n_ind      = int(re.findall('_n(\\d+)[^\\d]*_',fn)[0])\n",
    "\n",
    "# Create tracker. Compute background. Detect tank interactively.\n",
    "# settings = tt.apply_filtered_settings(filtered_settings, fn)\n",
    "settings.update( input_video=input_file, output_dir=output_dir, \n",
    "                 n_ind=n_ind, trial_name=fn )\n",
    "if not os.path.exists(tracking_dir):\n",
    "    os.mkdir(tracking_dir)\n",
    "tt.reset_logging()\n",
    "tt.add_log_stream(sys.stdout, overwrite=True)\n",
    "logging.info(settings['input_video']+'\\n')\n",
    "tracker = tt.Tracker(**settings)\n",
    "tracker.init_all()\n",
    "\n",
    "# Run tracker.\n",
    "tracker.track_video()\n",
    "\n",
    "tt.reset_logging()"
   ]
  },
  {
   "cell_type": "code",
   "execution_count": null,
   "metadata": {
    "scrolled": false
   },
   "outputs": [],
   "source": [
    "tt.start_gui(tracker.output_dir)"
   ]
  },
  {
   "cell_type": "code",
   "execution_count": null,
   "metadata": {},
   "outputs": [],
   "source": [
    "# import matplotlib.pyplot as plt\n",
    "\n",
    "# trial = tt.load_trial(tracker.output_dir)\n",
    "# xy = trial['data'][:,:,:2]\n",
    "# for i in range(xy.shape[1]):\n",
    "#     plt.plot(*xy[:,i,:2].T)"
   ]
  },
  {
   "cell_type": "code",
   "execution_count": null,
   "metadata": {},
   "outputs": [],
   "source": []
  }
 ],
 "metadata": {
  "kernelspec": {
   "display_name": "Python (main)",
   "language": "python",
   "name": "main"
  },
  "language_info": {
   "codemirror_mode": {
    "name": "ipython",
    "version": 3
   },
   "file_extension": ".py",
   "mimetype": "text/x-python",
   "name": "python",
   "nbconvert_exporter": "python",
   "pygments_lexer": "ipython3",
   "version": "3.8.10"
  }
 },
 "nbformat": 4,
 "nbformat_minor": 4
}
