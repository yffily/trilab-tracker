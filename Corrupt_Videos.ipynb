{
 "cells": [
  {
   "cell_type": "code",
   "execution_count": 1,
   "metadata": {},
   "outputs": [],
   "source": [
    "import platform, os, sys, datetime, re\n",
    "from os.path import join\n",
    "from glob import glob\n",
    "import numpy as np\n",
    "import matplotlib.pyplot as plt\n",
    "import cv2"
   ]
  },
  {
   "cell_type": "code",
   "execution_count": 2,
   "metadata": {},
   "outputs": [
    {
     "data": {
      "text/plain": [
       "['../raw_videos/broken/Pa_Fri_7dpf_GroupB_n2_2020-06-05-124632-0000.avi',\n",
       " '../raw_videos/broken/Pa_Fri_7dpf_GroupC_n2_2020-06-05-132924-0000.avi',\n",
       " '../raw_videos/broken/Pa_Fri_7dpf_GroupC_n2b_2020-06-05-122929-0000.avi']"
      ]
     },
     "metadata": {},
     "output_type": "display_data"
    },
    {
     "data": {
      "text/plain": [
       "['../raw_videos/Pa_Fri_14dpf_GroupA_n2_15FPS.avi',\n",
       " '../raw_videos/Pa_Fri_14dpf_GroupA_n2b_15FPS.avi',\n",
       " '../raw_videos/Pa_Fri_14dpf_GroupA_n2b_30FPS-0000.avi',\n",
       " '../raw_videos/Pa_Fri_14dpf_GroupB_n2-0000-0000.avi',\n",
       " '../raw_videos/Pa_Fri_14dpf_groupA_n5_15FPS.avi',\n",
       " '../raw_videos/Pa_Fri_7dpf_GroupA_n2_2020-06-05-120920-0000.avi',\n",
       " '../raw_videos/Pa_Fri_7dpf_GroupA_n2b_2020-06-05-103456-0000.avi',\n",
       " '../raw_videos/Pa_Fri_7dpf_GroupA_n5_2020-06-05-083453-0000.avi',\n",
       " '../raw_videos/Pa_Fri_7dpf_GroupB_n2b_2020-06-05-114635-0000.avi',\n",
       " '../raw_videos/Pa_Fri_7dpf_GroupB_n5_2020-06-05-094643-0000.avi']"
      ]
     },
     "metadata": {},
     "output_type": "display_data"
    }
   ],
   "source": [
    "# input_files = sorted(glob('../raw_videos/*.avi'))\n",
    "input_files = sorted(glob('../raw_videos/broken/*.avi'))\n",
    "display(input_files)\n",
    "\n",
    "input_files = sorted(glob('../raw_videos/*.avi'))\n",
    "display(input_files)"
   ]
  },
  {
   "cell_type": "code",
   "execution_count": 3,
   "metadata": {},
   "outputs": [
    {
     "name": "stdout",
     "output_type": "stream",
     "text": [
      "../raw_videos/broken/Pa_Fri_7dpf_GroupB_n2_2020-06-05-124632-0000.avi\n",
      "37100/37116\n",
      "Done\n",
      "\n",
      "../raw_videos/broken/Pa_Fri_7dpf_GroupC_n2_2020-06-05-132924-0000.avi\n",
      "40400/40417\n",
      "Done\n",
      "\n",
      "../raw_videos/broken/Pa_Fri_7dpf_GroupC_n2b_2020-06-05-122929-0000.avi\n",
      "5600/45086\n",
      "Couldn't read frame 5620.\n",
      "Done\n",
      "\n"
     ]
    }
   ],
   "source": [
    "input_files = sorted(glob('../raw_videos/broken/*.avi'))\n",
    "\n",
    "# input_file = input_files[-1]\n",
    "for input_file in input_files:\n",
    "    \n",
    "    print(input_file)\n",
    "\n",
    "    cap     = cv2.VideoCapture(input_file)\n",
    "    Nframes = int(cap.get(cv2.CAP_PROP_FRAME_COUNT))\n",
    "\n",
    "    try:\n",
    "        for i in range(Nframes):\n",
    "            if i%100==0:\n",
    "                print(f'{i}/{Nframes}',end='\\r')\n",
    "            if not cap.grab():\n",
    "                print(f'\\nCouldn\\'t read frame {i}.',end='')\n",
    "                break\n",
    "    except:\n",
    "        pass\n",
    "\n",
    "    cap.release()\n",
    "    print('\\nDone\\n')"
   ]
  },
  {
   "cell_type": "code",
   "execution_count": 4,
   "metadata": {},
   "outputs": [
    {
     "name": "stdout",
     "output_type": "stream",
     "text": [
      "../raw_videos/Pa_Fri_14dpf_GroupA_n2_15FPS.avi\n",
      "34600/34663\n",
      "Done\n",
      "\n",
      "../raw_videos/Pa_Fri_14dpf_GroupA_n2b_15FPS.avi\n",
      "16300/16362\n",
      "Done\n",
      "\n",
      "../raw_videos/Pa_Fri_14dpf_GroupA_n2b_30FPS-0000.avi\n",
      "38400/38431\n",
      "Done\n",
      "\n",
      "../raw_videos/Pa_Fri_14dpf_GroupB_n2-0000-0000.avi\n",
      "\n",
      "Done\n",
      "\n",
      "../raw_videos/Pa_Fri_14dpf_groupA_n5_15FPS.avi\n",
      "10900/15870\n",
      "Couldn't read frame 10976.\n",
      "Done\n",
      "\n",
      "../raw_videos/Pa_Fri_7dpf_GroupA_n2_2020-06-05-120920-0000.avi\n",
      "34500/34541\n",
      "Done\n",
      "\n",
      "../raw_videos/Pa_Fri_7dpf_GroupA_n2b_2020-06-05-103456-0000.avi\n",
      "38100/38143\n",
      "Done\n",
      "\n",
      "../raw_videos/Pa_Fri_7dpf_GroupA_n5_2020-06-05-083453-0000.avi\n",
      "37600/37636\n",
      "Done\n",
      "\n",
      "../raw_videos/Pa_Fri_7dpf_GroupB_n2b_2020-06-05-114635-0000.avi\n",
      "38200/38253\n",
      "Done\n",
      "\n",
      "../raw_videos/Pa_Fri_7dpf_GroupB_n5_2020-06-05-094643-0000.avi\n",
      "37300/37359\n",
      "Done\n",
      "\n"
     ]
    }
   ],
   "source": [
    "input_files = sorted(glob('../raw_videos/*.avi'))\n",
    "\n",
    "# input_file = input_files[-1]\n",
    "for input_file in input_files:\n",
    "    \n",
    "    print(input_file)\n",
    "\n",
    "    cap     = cv2.VideoCapture(input_file)\n",
    "    Nframes = int(cap.get(cv2.CAP_PROP_FRAME_COUNT))\n",
    "\n",
    "    try:\n",
    "        for i in range(Nframes):\n",
    "            if i%100==0:\n",
    "                print(f'{i}/{Nframes}',end='\\r')\n",
    "            if not cap.grab():\n",
    "                print(f'\\nCouldn\\'t read frame {i}.',end='')\n",
    "                break\n",
    "    except:\n",
    "        pass\n",
    "\n",
    "    cap.release()\n",
    "    print('\\nDone\\n')"
   ]
  },
  {
   "cell_type": "code",
   "execution_count": null,
   "metadata": {},
   "outputs": [],
   "source": []
  }
 ],
 "metadata": {
  "kernelspec": {
   "display_name": "Python (cvtracer)",
   "language": "python",
   "name": "cvtracer"
  },
  "language_info": {
   "codemirror_mode": {
    "name": "ipython",
    "version": 3
   },
   "file_extension": ".py",
   "mimetype": "text/x-python",
   "name": "python",
   "nbconvert_exporter": "python",
   "pygments_lexer": "ipython3",
   "version": "3.7.7"
  }
 },
 "nbformat": 4,
 "nbformat_minor": 4
}
