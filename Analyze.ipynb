{
 "cells": [
  {
   "cell_type": "code",
   "execution_count": 1,
   "metadata": {},
   "outputs": [],
   "source": [
    "from importlib import reload\n",
    "import platform, os, sys, datetime, re, itertools\n",
    "from os.path import join\n",
    "from glob import glob\n",
    "import cv2\n",
    "import numpy as np\n",
    "import pandas as pd\n",
    "import matplotlib.pyplot as plt\n",
    "# sys.path.append(join(root_dir,'cvtracer'))\n",
    "import cvt\n",
    "from cvt.TrAQ.Trial import Trial\n",
    "from cvt.TrAQ.Tank import Tank\n",
    "# from cvt.TrAQ.CVTracer import CVTracer, create_named_window, wait_on_named_window"
   ]
  },
  {
   "cell_type": "code",
   "execution_count": 2,
   "metadata": {},
   "outputs": [],
   "source": [
    "reload(cvt.TrAQ.Trial)\n",
    "from cvt.TrAQ.Trial import Trial\n",
    "reload(cvt.TrAQ.Tank)\n",
    "from cvt.TrAQ.Tank import Tank"
   ]
  },
  {
   "cell_type": "markdown",
   "metadata": {},
   "source": [
    "# Load a trial"
   ]
  },
  {
   "cell_type": "code",
   "execution_count": 3,
   "metadata": {},
   "outputs": [
    {
     "data": {
      "text/plain": [
       "['../tracking/partial/Pa_Fri_7dpf_GroupB_n2b_2020-06-05-114635-0000/trial.pik',\n",
       " '../tracking/partial/Pa_Fri_7dpf_GroupB_n5_2020-06-05-094643-0000/trial.pik']"
      ]
     },
     "metadata": {},
     "output_type": "display_data"
    },
    {
     "name": "stdout",
     "output_type": "stream",
     "text": [
      "\n",
      "        Trial loaded from ../tracking/partial/Pa_Fri_7dpf_GroupB_n5_2020-06-05-094643-0000/trial.pik \n"
     ]
    },
    {
     "data": {
      "text/html": [
       "<div>\n",
       "<style scoped>\n",
       "    .dataframe tbody tr th:only-of-type {\n",
       "        vertical-align: middle;\n",
       "    }\n",
       "\n",
       "    .dataframe tbody tr th {\n",
       "        vertical-align: top;\n",
       "    }\n",
       "\n",
       "    .dataframe thead tr th {\n",
       "        text-align: left;\n",
       "    }\n",
       "\n",
       "    .dataframe thead tr:last-of-type th {\n",
       "        text-align: right;\n",
       "    }\n",
       "</style>\n",
       "<table border=\"1\" class=\"dataframe\">\n",
       "  <thead>\n",
       "    <tr>\n",
       "      <th></th>\n",
       "      <th colspan=\"4\" halign=\"left\">0</th>\n",
       "      <th colspan=\"4\" halign=\"left\">1</th>\n",
       "      <th colspan=\"4\" halign=\"left\">2</th>\n",
       "      <th colspan=\"4\" halign=\"left\">3</th>\n",
       "      <th colspan=\"4\" halign=\"left\">4</th>\n",
       "    </tr>\n",
       "    <tr>\n",
       "      <th></th>\n",
       "      <th>x_px</th>\n",
       "      <th>y_px</th>\n",
       "      <th>ang</th>\n",
       "      <th>area</th>\n",
       "      <th>x_px</th>\n",
       "      <th>y_px</th>\n",
       "      <th>ang</th>\n",
       "      <th>area</th>\n",
       "      <th>x_px</th>\n",
       "      <th>y_px</th>\n",
       "      <th>ang</th>\n",
       "      <th>area</th>\n",
       "      <th>x_px</th>\n",
       "      <th>y_px</th>\n",
       "      <th>ang</th>\n",
       "      <th>area</th>\n",
       "      <th>x_px</th>\n",
       "      <th>y_px</th>\n",
       "      <th>ang</th>\n",
       "      <th>area</th>\n",
       "    </tr>\n",
       "    <tr>\n",
       "      <th>frame</th>\n",
       "      <th></th>\n",
       "      <th></th>\n",
       "      <th></th>\n",
       "      <th></th>\n",
       "      <th></th>\n",
       "      <th></th>\n",
       "      <th></th>\n",
       "      <th></th>\n",
       "      <th></th>\n",
       "      <th></th>\n",
       "      <th></th>\n",
       "      <th></th>\n",
       "      <th></th>\n",
       "      <th></th>\n",
       "      <th></th>\n",
       "      <th></th>\n",
       "      <th></th>\n",
       "      <th></th>\n",
       "      <th></th>\n",
       "      <th></th>\n",
       "    </tr>\n",
       "  </thead>\n",
       "  <tbody>\n",
       "    <tr>\n",
       "      <th>1801</th>\n",
       "      <td>1500.792023</td>\n",
       "      <td>735.712251</td>\n",
       "      <td>0.062246</td>\n",
       "      <td>58.5</td>\n",
       "      <td>1471.845938</td>\n",
       "      <td>726.630252</td>\n",
       "      <td>-0.679472</td>\n",
       "      <td>59.5</td>\n",
       "      <td>1103.768448</td>\n",
       "      <td>816.681934</td>\n",
       "      <td>-0.290330</td>\n",
       "      <td>65.5</td>\n",
       "      <td>850.261728</td>\n",
       "      <td>644.335802</td>\n",
       "      <td>0.231995</td>\n",
       "      <td>67.5</td>\n",
       "      <td>1092.965035</td>\n",
       "      <td>861.948718</td>\n",
       "      <td>1.481761</td>\n",
       "      <td>71.5</td>\n",
       "    </tr>\n",
       "    <tr>\n",
       "      <th>1802</th>\n",
       "      <td>1501.182336</td>\n",
       "      <td>735.803419</td>\n",
       "      <td>0.034510</td>\n",
       "      <td>58.5</td>\n",
       "      <td>1471.564738</td>\n",
       "      <td>726.721763</td>\n",
       "      <td>-0.698818</td>\n",
       "      <td>60.5</td>\n",
       "      <td>1103.239186</td>\n",
       "      <td>816.865140</td>\n",
       "      <td>-0.288911</td>\n",
       "      <td>65.5</td>\n",
       "      <td>850.378788</td>\n",
       "      <td>644.348485</td>\n",
       "      <td>0.220397</td>\n",
       "      <td>66.0</td>\n",
       "      <td>1092.986207</td>\n",
       "      <td>861.894253</td>\n",
       "      <td>1.485195</td>\n",
       "      <td>72.5</td>\n",
       "    </tr>\n",
       "    <tr>\n",
       "      <th>1803</th>\n",
       "      <td>1500.944444</td>\n",
       "      <td>735.836111</td>\n",
       "      <td>0.039423</td>\n",
       "      <td>60.0</td>\n",
       "      <td>1471.494152</td>\n",
       "      <td>726.795322</td>\n",
       "      <td>-0.718249</td>\n",
       "      <td>57.0</td>\n",
       "      <td>1103.624339</td>\n",
       "      <td>816.595238</td>\n",
       "      <td>-0.260666</td>\n",
       "      <td>63.0</td>\n",
       "      <td>850.536341</td>\n",
       "      <td>644.348371</td>\n",
       "      <td>0.223180</td>\n",
       "      <td>66.5</td>\n",
       "      <td>1092.936508</td>\n",
       "      <td>861.596372</td>\n",
       "      <td>1.479325</td>\n",
       "      <td>73.5</td>\n",
       "    </tr>\n",
       "  </tbody>\n",
       "</table>\n",
       "</div>"
      ],
      "text/plain": [
       "                 0                                        1              \\\n",
       "              x_px        y_px       ang  area         x_px        y_px   \n",
       "frame                                                                     \n",
       "1801   1500.792023  735.712251  0.062246  58.5  1471.845938  726.630252   \n",
       "1802   1501.182336  735.803419  0.034510  58.5  1471.564738  726.721763   \n",
       "1803   1500.944444  735.836111  0.039423  60.0  1471.494152  726.795322   \n",
       "\n",
       "                                 2                                       3  \\\n",
       "            ang  area         x_px        y_px       ang  area        x_px   \n",
       "frame                                                                        \n",
       "1801  -0.679472  59.5  1103.768448  816.681934 -0.290330  65.5  850.261728   \n",
       "1802  -0.698818  60.5  1103.239186  816.865140 -0.288911  65.5  850.378788   \n",
       "1803  -0.718249  57.0  1103.624339  816.595238 -0.260666  63.0  850.536341   \n",
       "\n",
       "                                             4                              \n",
       "             y_px       ang  area         x_px        y_px       ang  area  \n",
       "frame                                                                       \n",
       "1801   644.335802  0.231995  67.5  1092.965035  861.948718  1.481761  71.5  \n",
       "1802   644.348485  0.220397  66.0  1092.986207  861.894253  1.485195  72.5  \n",
       "1803   644.348371  0.223180  66.5  1092.936508  861.596372  1.479325  73.5  "
      ]
     },
     "metadata": {},
     "output_type": "display_data"
    }
   ],
   "source": [
    "# trial_files = sorted(glob('../tracking/full/*/trial.pik'))\n",
    "trial_files = sorted(glob('../tracking/partial/*/trial.pik'))\n",
    "display(trial_files)\n",
    "\n",
    "trial = Trial()\n",
    "trial.load(trial_files[1])\n",
    "display(trial.df[:3])\n",
    "# trial.df.to_excel(trial.output_dir+'/df.xlsx')"
   ]
  },
  {
   "cell_type": "markdown",
   "metadata": {},
   "source": [
    "# Compute spatial and kinematic quantities"
   ]
  },
  {
   "cell_type": "code",
   "execution_count": 4,
   "metadata": {},
   "outputs": [
    {
     "data": {
      "text/html": [
       "<div>\n",
       "<style scoped>\n",
       "    .dataframe tbody tr th:only-of-type {\n",
       "        vertical-align: middle;\n",
       "    }\n",
       "\n",
       "    .dataframe tbody tr th {\n",
       "        vertical-align: top;\n",
       "    }\n",
       "\n",
       "    .dataframe thead tr th {\n",
       "        text-align: left;\n",
       "    }\n",
       "\n",
       "    .dataframe thead tr:last-of-type th {\n",
       "        text-align: right;\n",
       "    }\n",
       "</style>\n",
       "<table border=\"1\" class=\"dataframe\">\n",
       "  <thead>\n",
       "    <tr>\n",
       "      <th></th>\n",
       "      <th colspan=\"10\" halign=\"left\">0</th>\n",
       "      <th>...</th>\n",
       "      <th colspan=\"10\" halign=\"left\">4</th>\n",
       "    </tr>\n",
       "    <tr>\n",
       "      <th></th>\n",
       "      <th>x_px</th>\n",
       "      <th>y_px</th>\n",
       "      <th>area</th>\n",
       "      <th>ang</th>\n",
       "      <th>v_ang</th>\n",
       "      <th>x</th>\n",
       "      <th>y</th>\n",
       "      <th>v_x</th>\n",
       "      <th>v_y</th>\n",
       "      <th>v</th>\n",
       "      <th>...</th>\n",
       "      <th>y_px</th>\n",
       "      <th>area</th>\n",
       "      <th>ang</th>\n",
       "      <th>v_ang</th>\n",
       "      <th>x</th>\n",
       "      <th>y</th>\n",
       "      <th>v_x</th>\n",
       "      <th>v_y</th>\n",
       "      <th>v</th>\n",
       "      <th>d_wall</th>\n",
       "    </tr>\n",
       "    <tr>\n",
       "      <th>frame</th>\n",
       "      <th></th>\n",
       "      <th></th>\n",
       "      <th></th>\n",
       "      <th></th>\n",
       "      <th></th>\n",
       "      <th></th>\n",
       "      <th></th>\n",
       "      <th></th>\n",
       "      <th></th>\n",
       "      <th></th>\n",
       "      <th></th>\n",
       "      <th></th>\n",
       "      <th></th>\n",
       "      <th></th>\n",
       "      <th></th>\n",
       "      <th></th>\n",
       "      <th></th>\n",
       "      <th></th>\n",
       "      <th></th>\n",
       "      <th></th>\n",
       "      <th></th>\n",
       "    </tr>\n",
       "  </thead>\n",
       "  <tbody>\n",
       "    <tr>\n",
       "      <th>1801</th>\n",
       "      <td>1500.792023</td>\n",
       "      <td>735.712251</td>\n",
       "      <td>58.5</td>\n",
       "      <td>0.062246</td>\n",
       "      <td>NaN</td>\n",
       "      <td>4.087090</td>\n",
       "      <td>-1.794069</td>\n",
       "      <td>NaN</td>\n",
       "      <td>NaN</td>\n",
       "      <td>NaN</td>\n",
       "      <td>...</td>\n",
       "      <td>861.948718</td>\n",
       "      <td>71.5</td>\n",
       "      <td>1.481761</td>\n",
       "      <td>NaN</td>\n",
       "      <td>-0.509177</td>\n",
       "      <td>-3.216771</td>\n",
       "      <td>NaN</td>\n",
       "      <td>NaN</td>\n",
       "      <td>NaN</td>\n",
       "      <td>1.543180</td>\n",
       "    </tr>\n",
       "    <tr>\n",
       "      <th>1802</th>\n",
       "      <td>1501.182336</td>\n",
       "      <td>735.803419</td>\n",
       "      <td>58.5</td>\n",
       "      <td>0.034510</td>\n",
       "      <td>-0.832095</td>\n",
       "      <td>4.091488</td>\n",
       "      <td>-1.795096</td>\n",
       "      <td>0.131967</td>\n",
       "      <td>-0.030824</td>\n",
       "      <td>0.135519</td>\n",
       "      <td>...</td>\n",
       "      <td>861.894253</td>\n",
       "      <td>72.5</td>\n",
       "      <td>1.485195</td>\n",
       "      <td>0.103016</td>\n",
       "      <td>-0.508939</td>\n",
       "      <td>-3.216158</td>\n",
       "      <td>0.007158</td>\n",
       "      <td>0.018415</td>\n",
       "      <td>0.019757</td>\n",
       "      <td>1.543823</td>\n",
       "    </tr>\n",
       "    <tr>\n",
       "      <th>1803</th>\n",
       "      <td>1500.944444</td>\n",
       "      <td>735.836111</td>\n",
       "      <td>60.0</td>\n",
       "      <td>0.039423</td>\n",
       "      <td>0.147403</td>\n",
       "      <td>4.088807</td>\n",
       "      <td>-1.795465</td>\n",
       "      <td>-0.080432</td>\n",
       "      <td>-0.011053</td>\n",
       "      <td>0.081188</td>\n",
       "      <td>...</td>\n",
       "      <td>861.596372</td>\n",
       "      <td>73.5</td>\n",
       "      <td>1.479325</td>\n",
       "      <td>-0.176081</td>\n",
       "      <td>-0.509499</td>\n",
       "      <td>-3.212800</td>\n",
       "      <td>-0.016803</td>\n",
       "      <td>0.100715</td>\n",
       "      <td>0.102107</td>\n",
       "      <td>1.547051</td>\n",
       "    </tr>\n",
       "  </tbody>\n",
       "</table>\n",
       "<p>3 rows × 55 columns</p>\n",
       "</div>"
      ],
      "text/plain": [
       "                 0                                                            \\\n",
       "              x_px        y_px  area       ang     v_ang         x         y   \n",
       "frame                                                                          \n",
       "1801   1500.792023  735.712251  58.5  0.062246       NaN  4.087090 -1.794069   \n",
       "1802   1501.182336  735.803419  58.5  0.034510 -0.832095  4.091488 -1.795096   \n",
       "1803   1500.944444  735.836111  60.0  0.039423  0.147403  4.088807 -1.795465   \n",
       "\n",
       "                                     ...           4                  \\\n",
       "            v_x       v_y         v  ...        y_px  area       ang   \n",
       "frame                                ...                               \n",
       "1801        NaN       NaN       NaN  ...  861.948718  71.5  1.481761   \n",
       "1802   0.131967 -0.030824  0.135519  ...  861.894253  72.5  1.485195   \n",
       "1803  -0.080432 -0.011053  0.081188  ...  861.596372  73.5  1.479325   \n",
       "\n",
       "                                                                             \n",
       "          v_ang         x         y       v_x       v_y         v    d_wall  \n",
       "frame                                                                        \n",
       "1801        NaN -0.509177 -3.216771       NaN       NaN       NaN  1.543180  \n",
       "1802   0.103016 -0.508939 -3.216158  0.007158  0.018415  0.019757  1.543823  \n",
       "1803  -0.176081 -0.509499 -3.212800 -0.016803  0.100715  0.102107  1.547051  \n",
       "\n",
       "[3 rows x 55 columns]"
      ]
     },
     "metadata": {},
     "output_type": "display_data"
    }
   ],
   "source": [
    "trial.convert_pixels_to_cm()\n",
    "\n",
    "fish = trial.df.columns.levels[0]\n",
    "\n",
    "for f in fish:\n",
    "    \n",
    "    trial.df[f,'d_wall'] = trial.tank.r_cm - np.hypot(trial.df[f,'x'],trial.df[f,'y'])\n",
    "    \n",
    "    trial.df[f,'v_x']    = trial.df[f,'x'].diff()*trial.fps\n",
    "    trial.df[f,'v_y']    = trial.df[f,'y'].diff()*trial.fps\n",
    "    trial.df[f,'v']      = np.hypot(trial.df[f,'v_x'],trial.df[f,'v_y'])\n",
    "    \n",
    "    ang_diff             = trial.df[f,'ang'].diff()\n",
    "    ang_diff            -= 2*np.pi*np.rint(ang_diff/(2*np.pi))\n",
    "    trial.df[f,'v_ang']  = ang_diff*trial.fps\n",
    "    \n",
    "# Reorder columns.\n",
    "# trial.df = trial.df.sort_index(axis=1) # Sort alphabetically, which also sorts by fish.\n",
    "columns = [ (f,q) for f in fish for q in ['x_px', 'y_px', 'area', 'ang', 'v_ang', \n",
    "                                          'x', 'y', 'v_x', 'v_y', 'v', 'd_wall'] ]\n",
    "trial.df = trial.df.reindex(columns=columns)\n",
    "display(trial.df[:3])"
   ]
  },
  {
   "cell_type": "markdown",
   "metadata": {},
   "source": [
    "# Perform cuts"
   ]
  },
  {
   "cell_type": "code",
   "execution_count": 5,
   "metadata": {},
   "outputs": [
    {
     "data": {
      "text/plain": [
       "{'d_wall': 1.0,\n",
       " 'v': 0.9940066592674806,\n",
       " 'v_ang': 0.9988901220865705,\n",
       " 'final': 0.9940066592674806}"
      ]
     },
     "metadata": {},
     "output_type": "display_data"
    },
    {
     "data": {
      "image/png": "[encoded data removed]",
      "text/plain": [
       "<Figure size 432x288 with 1 Axes>"
      ]
     },
     "metadata": {
      "needs_background": "light"
     },
     "output_type": "display_data"
    },
    {
     "data": {
      "text/html": [
       "<div>\n",
       "<style scoped>\n",
       "    .dataframe tbody tr th:only-of-type {\n",
       "        vertical-align: middle;\n",
       "    }\n",
       "\n",
       "    .dataframe tbody tr th {\n",
       "        vertical-align: top;\n",
       "    }\n",
       "\n",
       "    .dataframe thead tr th {\n",
       "        text-align: left;\n",
       "    }\n",
       "\n",
       "    .dataframe thead tr:last-of-type th {\n",
       "        text-align: right;\n",
       "    }\n",
       "</style>\n",
       "<table border=\"1\" class=\"dataframe\">\n",
       "  <thead>\n",
       "    <tr>\n",
       "      <th></th>\n",
       "      <th colspan=\"8\" halign=\"left\">0</th>\n",
       "      <th colspan=\"2\" halign=\"left\">1</th>\n",
       "      <th>...</th>\n",
       "      <th colspan=\"2\" halign=\"left\">3</th>\n",
       "      <th colspan=\"8\" halign=\"left\">4</th>\n",
       "    </tr>\n",
       "    <tr>\n",
       "      <th></th>\n",
       "      <th>ang</th>\n",
       "      <th>v_ang</th>\n",
       "      <th>x</th>\n",
       "      <th>y</th>\n",
       "      <th>v_x</th>\n",
       "      <th>v_y</th>\n",
       "      <th>v</th>\n",
       "      <th>d_wall</th>\n",
       "      <th>ang</th>\n",
       "      <th>v_ang</th>\n",
       "      <th>...</th>\n",
       "      <th>v</th>\n",
       "      <th>d_wall</th>\n",
       "      <th>ang</th>\n",
       "      <th>v_ang</th>\n",
       "      <th>x</th>\n",
       "      <th>y</th>\n",
       "      <th>v_x</th>\n",
       "      <th>v_y</th>\n",
       "      <th>v</th>\n",
       "      <th>d_wall</th>\n",
       "    </tr>\n",
       "    <tr>\n",
       "      <th>frame</th>\n",
       "      <th></th>\n",
       "      <th></th>\n",
       "      <th></th>\n",
       "      <th></th>\n",
       "      <th></th>\n",
       "      <th></th>\n",
       "      <th></th>\n",
       "      <th></th>\n",
       "      <th></th>\n",
       "      <th></th>\n",
       "      <th></th>\n",
       "      <th></th>\n",
       "      <th></th>\n",
       "      <th></th>\n",
       "      <th></th>\n",
       "      <th></th>\n",
       "      <th></th>\n",
       "      <th></th>\n",
       "      <th></th>\n",
       "      <th></th>\n",
       "      <th></th>\n",
       "    </tr>\n",
       "  </thead>\n",
       "  <tbody>\n",
       "    <tr>\n",
       "      <th>1801</th>\n",
       "      <td>NaN</td>\n",
       "      <td>NaN</td>\n",
       "      <td>NaN</td>\n",
       "      <td>NaN</td>\n",
       "      <td>NaN</td>\n",
       "      <td>NaN</td>\n",
       "      <td>NaN</td>\n",
       "      <td>NaN</td>\n",
       "      <td>NaN</td>\n",
       "      <td>NaN</td>\n",
       "      <td>...</td>\n",
       "      <td>NaN</td>\n",
       "      <td>NaN</td>\n",
       "      <td>NaN</td>\n",
       "      <td>NaN</td>\n",
       "      <td>NaN</td>\n",
       "      <td>NaN</td>\n",
       "      <td>NaN</td>\n",
       "      <td>NaN</td>\n",
       "      <td>NaN</td>\n",
       "      <td>NaN</td>\n",
       "    </tr>\n",
       "    <tr>\n",
       "      <th>1802</th>\n",
       "      <td>0.034510</td>\n",
       "      <td>-0.832095</td>\n",
       "      <td>4.091488</td>\n",
       "      <td>-1.795096</td>\n",
       "      <td>0.131967</td>\n",
       "      <td>-0.030824</td>\n",
       "      <td>0.135519</td>\n",
       "      <td>0.332042</td>\n",
       "      <td>-0.698818</td>\n",
       "      <td>-0.580367</td>\n",
       "      <td>...</td>\n",
       "      <td>0.039810</td>\n",
       "      <td>1.467979</td>\n",
       "      <td>1.485195</td>\n",
       "      <td>0.103016</td>\n",
       "      <td>-0.508939</td>\n",
       "      <td>-3.216158</td>\n",
       "      <td>0.007158</td>\n",
       "      <td>0.018415</td>\n",
       "      <td>0.019757</td>\n",
       "      <td>1.543823</td>\n",
       "    </tr>\n",
       "    <tr>\n",
       "      <th>1803</th>\n",
       "      <td>0.039423</td>\n",
       "      <td>0.147403</td>\n",
       "      <td>4.088807</td>\n",
       "      <td>-1.795465</td>\n",
       "      <td>-0.080432</td>\n",
       "      <td>-0.011053</td>\n",
       "      <td>0.081188</td>\n",
       "      <td>0.334349</td>\n",
       "      <td>-0.718249</td>\n",
       "      <td>-0.582945</td>\n",
       "      <td>...</td>\n",
       "      <td>0.053269</td>\n",
       "      <td>1.469708</td>\n",
       "      <td>1.479325</td>\n",
       "      <td>-0.176081</td>\n",
       "      <td>-0.509499</td>\n",
       "      <td>-3.212800</td>\n",
       "      <td>-0.016803</td>\n",
       "      <td>0.100715</td>\n",
       "      <td>0.102107</td>\n",
       "      <td>1.547051</td>\n",
       "    </tr>\n",
       "  </tbody>\n",
       "</table>\n",
       "<p>3 rows × 40 columns</p>\n",
       "</div>"
      ],
      "text/plain": [
       "              0                                                              \\\n",
       "            ang     v_ang         x         y       v_x       v_y         v   \n",
       "frame                                                                         \n",
       "1801        NaN       NaN       NaN       NaN       NaN       NaN       NaN   \n",
       "1802   0.034510 -0.832095  4.091488 -1.795096  0.131967 -0.030824  0.135519   \n",
       "1803   0.039423  0.147403  4.088807 -1.795465 -0.080432 -0.011053  0.081188   \n",
       "\n",
       "                        1            ...         3                   4  \\\n",
       "         d_wall       ang     v_ang  ...         v    d_wall       ang   \n",
       "frame                                ...                                 \n",
       "1801        NaN       NaN       NaN  ...       NaN       NaN       NaN   \n",
       "1802   0.332042 -0.698818 -0.580367  ...  0.039810  1.467979  1.485195   \n",
       "1803   0.334349 -0.718249 -0.582945  ...  0.053269  1.469708  1.479325   \n",
       "\n",
       "                                                                             \n",
       "          v_ang         x         y       v_x       v_y         v    d_wall  \n",
       "frame                                                                        \n",
       "1801        NaN       NaN       NaN       NaN       NaN       NaN       NaN  \n",
       "1802   0.103016 -0.508939 -3.216158  0.007158  0.018415  0.019757  1.543823  \n",
       "1803  -0.176081 -0.509499 -3.212800 -0.016803  0.100715  0.102107  1.547051  \n",
       "\n",
       "[3 rows x 40 columns]"
      ]
     },
     "metadata": {},
     "output_type": "display_data"
    }
   ],
   "source": [
    "cut_ranges = { 'd_wall': [0,trial.tank.r_cm], \n",
    "               'v':      [0,np.inf], \n",
    "               'v_ang':  [-np.inf,np.inf] }\n",
    "\n",
    "\n",
    "# Locate fish/frame combinations that didn't make the cut(s).\n",
    "cut_names = [ 'cut_'+q for q in cut_ranges.keys() ]\n",
    "valid_fraction = {}\n",
    "for f in fish:\n",
    "    for q,(vmin,vmax) in cut_ranges.items():\n",
    "        trial.df[f,'cut_'+q]  = (trial.df[f,q]>vmin) & (trial.df[f,q]<vmax)\n",
    "    trial.df[f,'cut_final'] = trial.df.loc[:,(f,cut_names)].all(axis=1)\n",
    "\n",
    "    \n",
    "# # For each fish, compute the fraction of points that made it through each cut.\n",
    "# valid_fraction = {}\n",
    "# for f in fish:\n",
    "#     for c in list(cut_ranges.keys())+['final']:\n",
    "#         valid_fraction[f,c] = trial.df[f,'cut_'+c].mean()\n",
    "# display(valid_fraction)\n",
    "\n",
    "# Compute the fraction of points that made it through each cut.\n",
    "valid_fraction = {}\n",
    "for c in list(cut_ranges.keys())+['final']:\n",
    "    B = [trial.df[f,'cut_'+c] for f in fish]\n",
    "    valid_fraction[c] = sum([b.sum() for b in B])/sum([len(b) for b in B])\n",
    "display(valid_fraction)\n",
    "\n",
    "# Plot the fraction of points that made it through each cut.\n",
    "plt.bar(*zip(*valid_fraction.items()))\n",
    "plt.xlabel('Cut')\n",
    "plt.ylabel('Valid fraction')\n",
    "plt.show()\n",
    "\n",
    "\n",
    "# Reorder columns.\n",
    "columns = [ (f,q) for f in fish for q in ['x_px', 'y_px', 'area', \n",
    "                                          'ang', 'v_ang', 'cut_v_ang', \n",
    "                                          'x', 'y', 'v_x', 'v_y', 'v', 'cut_v', \n",
    "                                          'd_wall', 'cut_d_wall', \n",
    "                                          'cut_final'] ]\n",
    "trial.df = trial.df.reindex(columns=columns)\n",
    "# display(trial.df[0][:3])\n",
    "\n",
    "\n",
    "# Create a filtered dataframe.\n",
    "cols = ['ang', 'v_ang', 'x', 'y', 'v_x', 'v_y', 'v', 'd_wall']\n",
    "df = trial.df.loc[:,(slice(None),cols)].copy()\n",
    "for f in fish:\n",
    "    df.loc[~trial.df[f,'cut_final'],f] = np.nan\n",
    "display(df[:3])    "
   ]
  },
  {
   "cell_type": "markdown",
   "metadata": {},
   "source": [
    "# Compute and plot distributions\n",
    "\n",
    "TODO: Compute histogram for each fish, then use the standard error as the uncertainty on the distribution."
   ]
  },
  {
   "cell_type": "markdown",
   "metadata": {},
   "source": [
    "### Distance to the wall"
   ]
  },
  {
   "cell_type": "code",
   "execution_count": 6,
   "metadata": {},
   "outputs": [
    {
     "data": {
      "image/png": "[encoded data removed]",
      "text/plain": [
       "<Figure size 432x288 with 1 Axes>"
      ]
     },
     "metadata": {
      "needs_background": "light"
     },
     "output_type": "display_data"
    }
   ],
   "source": [
    "quantity = 'd_wall'\n",
    "unit = 'cm'\n",
    "bins = np.linspace(0,trial.tank.r_cm,15)\n",
    "\n",
    "values = df.loc[:,(slice(None),quantity)].values.flatten()\n",
    "plt.hist(values,bins=bins)\n",
    "plt.xlabel(f'{quantity} ({unit})')\n",
    "plt.ylabel('frequency')\n",
    "plt.show()"
   ]
  },
  {
   "cell_type": "markdown",
   "metadata": {},
   "source": [
    "### Velocity"
   ]
  },
  {
   "cell_type": "code",
   "execution_count": 7,
   "metadata": {},
   "outputs": [
    {
     "name": "stderr",
     "output_type": "stream",
     "text": [
      "/home/yaouen/software/miniconda3/envs/cvtracer/lib/python3.7/site-packages/numpy/lib/histograms.py:839: RuntimeWarning: invalid value encountered in greater_equal\n",
      "  keep = (tmp_a >= first_edge)\n",
      "/home/yaouen/software/miniconda3/envs/cvtracer/lib/python3.7/site-packages/numpy/lib/histograms.py:840: RuntimeWarning: invalid value encountered in less_equal\n",
      "  keep &= (tmp_a <= last_edge)\n"
     ]
    },
    {
     "data": {
      "image/png": "[encoded data removed]",
      "text/plain": [
       "<Figure size 432x288 with 1 Axes>"
      ]
     },
     "metadata": {
      "needs_background": "light"
     },
     "output_type": "display_data"
    }
   ],
   "source": [
    "quantity = 'v'\n",
    "unit = 'cm/s'\n",
    "bins = 30\n",
    "\n",
    "values = df.loc[:,(slice(None),quantity)].values.flatten()\n",
    "plt.hist(values,bins=bins)\n",
    "plt.xlabel(f'{quantity} ({unit})')\n",
    "plt.ylabel('frequency')\n",
    "plt.yscale('log')\n",
    "plt.show()"
   ]
  },
  {
   "cell_type": "code",
   "execution_count": 8,
   "metadata": {},
   "outputs": [],
   "source": [
    "# fast = trial.df.loc[:,(slice(None),'v')]>6\n",
    "# print(np.nonzero(fast.values))\n",
    "# display(trial.df.iloc[266:269][4])"
   ]
  },
  {
   "cell_type": "markdown",
   "metadata": {},
   "source": [
    "### Angular velocity"
   ]
  },
  {
   "cell_type": "code",
   "execution_count": 9,
   "metadata": {},
   "outputs": [
    {
     "data": {
      "image/png": "[encoded data removed]",
      "text/plain": [
       "<Figure size 432x288 with 1 Axes>"
      ]
     },
     "metadata": {
      "needs_background": "light"
     },
     "output_type": "display_data"
    }
   ],
   "source": [
    "quantity = 'v_ang'\n",
    "unit = 'rad/s'\n",
    "bins = 50\n",
    "\n",
    "values = df.loc[:,(slice(None),quantity)].values.flatten()\n",
    "plt.hist(values,bins=bins)\n",
    "plt.xlabel(f'{quantity} ({unit})')\n",
    "plt.ylabel('frequency')\n",
    "plt.yscale('log')\n",
    "plt.show()"
   ]
  },
  {
   "cell_type": "code",
   "execution_count": 10,
   "metadata": {},
   "outputs": [
    {
     "name": "stdout",
     "output_type": "stream",
     "text": [
      "v_ang for pi/3 in (1/30) second: 31.415926535897928\n",
      "Instances of unusually high v_ang:\n"
     ]
    },
    {
     "name": "stderr",
     "output_type": "stream",
     "text": [
      "/home/yaouen/software/miniconda3/envs/cvtracer/lib/python3.7/site-packages/ipykernel_launcher.py:9: RuntimeWarning: invalid value encountered in greater\n",
      "  if __name__ == '__main__':\n"
     ]
    },
    {
     "data": {
      "text/plain": [
       "frame\n",
       "2044    0.923934\n",
       "2045    2.089075\n",
       "2046    1.706627\n",
       "Name: (0, ang), dtype: float64"
      ]
     },
     "metadata": {},
     "output_type": "display_data"
    },
    {
     "data": {
      "text/plain": [
       "frame\n",
       "1978   -0.915164\n",
       "1979    2.170932\n",
       "1980    2.202160\n",
       "Name: (1, ang), dtype: float64"
      ]
     },
     "metadata": {},
     "output_type": "display_data"
    },
    {
     "data": {
      "text/plain": [
       "frame\n",
       "2555   -0.668096\n",
       "2556    0.598230\n",
       "2557   -0.386382\n",
       "Name: (2, ang), dtype: float64"
      ]
     },
     "metadata": {},
     "output_type": "display_data"
    }
   ],
   "source": [
    "# At 30 fps, |v_ang|=30 (about where the rare peaks start) \n",
    "# corresponds to about pi/3 in one frame.\n",
    "print('v_ang for pi/3 in (1/30) second:',np.pi/3*trial.fps)\n",
    "\n",
    "print('Instances of unusually high v_ang:')\n",
    "for f in fish:\n",
    "    ang_diff  = trial.df[f,'ang'].diff()\n",
    "    ang_diff -= 2*np.pi*np.rint(ang_diff/(2*np.pi))\n",
    "    I = np.nonzero(np.absolute(ang_diff.values)>1)[0]\n",
    "    for i in I:\n",
    "        display(trial.df[f,'ang'][i-1:i+2])"
   ]
  },
  {
   "cell_type": "markdown",
   "metadata": {},
   "source": [
    "### Pair distance-pair angle distribution"
   ]
  },
  {
   "cell_type": "code",
   "execution_count": 11,
   "metadata": {},
   "outputs": [
    {
     "data": {
      "image/png": "[encoded data removed]",
      "text/plain": [
       "<Figure size 432x288 with 2 Axes>"
      ]
     },
     "metadata": {
      "needs_background": "light"
     },
     "output_type": "display_data"
    }
   ],
   "source": [
    "bins_d = np.linspace(0,2*trial.tank.r_cm,15)\n",
    "bins_a = np.linspace(0,np.pi,15)\n",
    "H      = [] # np.zeros((len(bins_d)-1,len(bins_a)-1))\n",
    "for f1,f2 in itertools.combinations(fish,2):\n",
    "#     print(f1,f2)\n",
    "    d = np.hypot(df[f1,'x']-df[f2,'x'],df[f1,'y']-df[f2,'y'])\n",
    "    a = df[f1,'ang']-df[f2,'ang']\n",
    "    a = a - 2*np.pi*np.rint(a/(2*np.pi))\n",
    "    \n",
    "    h,_,_ = np.histogram2d(d,a,bins=(bins_d,bins_a),normed=True)\n",
    "    H.append(h)\n",
    "\n",
    "H   = np.mean(H,axis=0)\n",
    "plt.pcolormesh(bins_d,bins_a,H.T)\n",
    "plt.xlabel('pair distance (cm)')\n",
    "plt.ylabel('pair angle (rad)')\n",
    "plt.colorbar()\n",
    "plt.show()"
   ]
  },
  {
   "cell_type": "markdown",
   "metadata": {},
   "source": [
    "# Angular dynamics"
   ]
  },
  {
   "cell_type": "code",
   "execution_count": 12,
   "metadata": {},
   "outputs": [
    {
     "data": {
      "image/png": "[encoded data removed]",
      "text/plain": [
       "<Figure size 864x432 with 1 Axes>"
      ]
     },
     "metadata": {
      "needs_background": "light"
     },
     "output_type": "display_data"
    }
   ],
   "source": [
    "# %matplotlib notebook\n",
    "# %matplotlib notebook\n",
    "# %matplotlib inline\n",
    "\n",
    "plt.figure(figsize=(12,6))\n",
    "for f in fish:\n",
    "    t    = df.index/trial.fps\n",
    "    ang  = df[f,'ang']\n",
    "\n",
    "    dang = ang.diff()\n",
    "    dang = dang - 2*np.pi*np.rint(dang/(2*np.pi))\n",
    "    ang  = np.cumsum(dang)\n",
    "\n",
    "    I = (t>297) & (t<301)\n",
    "    # t,th = t[I],th[I]\n",
    "\n",
    "    # plt.figure(figsize=(12,6))\n",
    "    # plt.xlim(297,301)\n",
    "    plt.plot(t,ang,label=f) #,marker='.')\n",
    "\n",
    "plt.xlabel('Time (s)')\n",
    "plt.ylabel('Angle (rad)')\n",
    "# plt.savefig(trial.make_fig_file('angle-vs-time',''),**trial.plot_options)\n",
    "plt.legend()\n",
    "plt.show()"
   ]
  },
  {
   "cell_type": "code",
   "execution_count": null,
   "metadata": {},
   "outputs": [],
   "source": []
  }
 ],
 "metadata": {
  "kernelspec": {
   "display_name": "Python (cvtracer)",
   "language": "python",
   "name": "cvtracer"
  },
  "language_info": {
   "codemirror_mode": {
    "name": "ipython",
    "version": 3
   },
   "file_extension": ".py",
   "mimetype": "text/x-python",
   "name": "python",
   "nbconvert_exporter": "python",
   "pygments_lexer": "ipython3",
   "version": "3.7.7"
  }
 },
 "nbformat": 4,
 "nbformat_minor": 4
}
