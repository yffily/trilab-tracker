{
 "cells": [
  {
   "cell_type": "code",
   "execution_count": 5,
   "metadata": {},
   "outputs": [],
   "source": [
    "import os\n",
    "from glob import glob\n",
    "from converter import Converter\n",
    "import pandas as pd"
   ]
  },
  {
   "cell_type": "code",
   "execution_count": 2,
   "metadata": {},
   "outputs": [],
   "source": [
    "raw_dir = '../../raw_videos/google-drive'\n",
    "repaired_dir = os.path.join(raw_dir,'repaired')"
   ]
  },
  {
   "cell_type": "markdown",
   "metadata": {},
   "source": [
    "# Detect and decide"
   ]
  },
  {
   "cell_type": "code",
   "execution_count": 15,
   "metadata": {},
   "outputs": [],
   "source": [
    "input_files = sorted(glob(os.path.join(raw_dir,'*.avi')))\n",
    "\n",
    "repair_info = {}\n",
    "\n",
    "conv = Converter()\n",
    "for f1 in input_files:\n",
    "    fn,ext = os.path.splitext(os.path.basename(f1))\n",
    "    if type(conv.probe(f1).video.bitrate)==type(None):\n",
    "        f2 = os.path.join(repaired_dir,fn+'-repaired'+ext)\n",
    "        repair_info[fn] = 'repaired' if os.path.exists(f2) else 'corrupt'\n",
    "    else:\n",
    "        repair_info[fn] = 'valid'"
   ]
  },
  {
   "cell_type": "code",
   "execution_count": 18,
   "metadata": {},
   "outputs": [],
   "source": [
    "df = pd.DataFrame(repair_info.items(),columns=['file','status'])\n",
    "\n",
    "writer = pd.ExcelWriter('repair-info.xlsx')\n",
    "df.to_excel(writer,sheet_name='sheet1',index=None)\n",
    "sheet = writer.sheets['sheet1']\n",
    "for col,width in zip('AB',[60,10]):\n",
    "    sheet.column_dimensions[col].width = width\n",
    "writer.save()"
   ]
  },
  {
   "cell_type": "markdown",
   "metadata": {},
   "source": [
    "# Repair"
   ]
  },
  {
   "cell_type": "code",
   "execution_count": 22,
   "metadata": {
    "scrolled": false
   },
   "outputs": [
    {
     "name": "stdout",
     "output_type": "stream",
     "text": [
      "Pa_Sun_14dpf_GroupB_n2c_2020-06-21-114550-0000   90.0%\r\n"
     ]
    }
   ],
   "source": [
    "input_files = sorted(glob(os.path.join(raw_dir,'*.avi')))\n",
    "\n",
    "conv = Converter()\n",
    "for f1 in input_files:\n",
    "    if type(conv.probe(f1).video.bitrate)==type(None):\n",
    "        fn,ext = os.path.splitext(os.path.basename(f1))\n",
    "        f2 = os.path.join(repaired_dir,fn+'-repaired'+ext)\n",
    "        if not os.path.exists(f2):\n",
    "#             print(fn)\n",
    "            convert = conv.convert(f1, f2, {\n",
    "                'format':'avi', \n",
    "                'video': {'codec':'copy'},\n",
    "                })\n",
    "            for progress in convert:\n",
    "                print(f'{fn}   {100*progress:.1f}%',end='\\r')\n",
    "            print()"
   ]
  },
  {
   "cell_type": "code",
   "execution_count": null,
   "metadata": {
    "scrolled": false
   },
   "outputs": [],
   "source": []
  }
 ],
 "metadata": {
  "kernelspec": {
   "display_name": "Python (main)",
   "language": "python",
   "name": "main"
  },
  "language_info": {
   "codemirror_mode": {
    "name": "ipython",
    "version": 3
   },
   "file_extension": ".py",
   "mimetype": "text/x-python",
   "name": "python",
   "nbconvert_exporter": "python",
   "pygments_lexer": "ipython3",
   "version": "3.6.10"
  }
 },
 "nbformat": 4,
 "nbformat_minor": 4
}
