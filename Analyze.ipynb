{
 "cells": [
  {
   "cell_type": "code",
   "execution_count": 1,
   "metadata": {},
   "outputs": [],
   "source": [
    "from importlib import reload\n",
    "import platform, os, sys, datetime, re, itertools\n",
    "from os.path import join\n",
    "from glob import glob\n",
    "import cv2\n",
    "import numpy as np\n",
    "import pandas as pd\n",
    "import matplotlib.pyplot as plt\n",
    "# sys.path.append(join(root_dir,'cvtracer'))\n",
    "# from cvt.TrAQ.Trial import Trial\n",
    "from cvt.TrAQ.Tank import Tank\n",
    "import cvt.utils as utils\n",
    "\n",
    "tank_diameter_vs_age = { 7:9.6, 14:10.4, 21:12.8, 28:17.7, 42:33.8 }"
   ]
  },
  {
   "cell_type": "markdown",
   "metadata": {},
   "source": [
    "# Load a trial and parse its name."
   ]
  },
  {
   "cell_type": "code",
   "execution_count": 2,
   "metadata": {},
   "outputs": [
    {
     "data": {
      "text/plain": [
       "['test/Pa_Fri_7dpf_GroupB_n2b_2020-06-05-114635-0000/trial.pik',\n",
       " 'test/Pa_Fri_7dpf_GroupB_n5_2020-06-05-094643-0000/trial.pik']"
      ]
     },
     "metadata": {},
     "output_type": "display_data"
    },
    {
     "data": {
      "text/html": [
       "<div>\n",
       "<style scoped>\n",
       "    .dataframe tbody tr th:only-of-type {\n",
       "        vertical-align: middle;\n",
       "    }\n",
       "\n",
       "    .dataframe tbody tr th {\n",
       "        vertical-align: top;\n",
       "    }\n",
       "\n",
       "    .dataframe thead tr th {\n",
       "        text-align: left;\n",
       "    }\n",
       "\n",
       "    .dataframe thead tr:last-of-type th {\n",
       "        text-align: right;\n",
       "    }\n",
       "</style>\n",
       "<table border=\"1\" class=\"dataframe\">\n",
       "  <thead>\n",
       "    <tr>\n",
       "      <th></th>\n",
       "      <th colspan=\"4\" halign=\"left\">0</th>\n",
       "      <th colspan=\"4\" halign=\"left\">1</th>\n",
       "      <th colspan=\"4\" halign=\"left\">2</th>\n",
       "      <th colspan=\"4\" halign=\"left\">3</th>\n",
       "      <th colspan=\"4\" halign=\"left\">4</th>\n",
       "    </tr>\n",
       "    <tr>\n",
       "      <th></th>\n",
       "      <th>x_px</th>\n",
       "      <th>y_px</th>\n",
       "      <th>ang</th>\n",
       "      <th>area</th>\n",
       "      <th>x_px</th>\n",
       "      <th>y_px</th>\n",
       "      <th>ang</th>\n",
       "      <th>area</th>\n",
       "      <th>x_px</th>\n",
       "      <th>y_px</th>\n",
       "      <th>ang</th>\n",
       "      <th>area</th>\n",
       "      <th>x_px</th>\n",
       "      <th>y_px</th>\n",
       "      <th>ang</th>\n",
       "      <th>area</th>\n",
       "      <th>x_px</th>\n",
       "      <th>y_px</th>\n",
       "      <th>ang</th>\n",
       "      <th>area</th>\n",
       "    </tr>\n",
       "    <tr>\n",
       "      <th>frame</th>\n",
       "      <th></th>\n",
       "      <th></th>\n",
       "      <th></th>\n",
       "      <th></th>\n",
       "      <th></th>\n",
       "      <th></th>\n",
       "      <th></th>\n",
       "      <th></th>\n",
       "      <th></th>\n",
       "      <th></th>\n",
       "      <th></th>\n",
       "      <th></th>\n",
       "      <th></th>\n",
       "      <th></th>\n",
       "      <th></th>\n",
       "      <th></th>\n",
       "      <th></th>\n",
       "      <th></th>\n",
       "      <th></th>\n",
       "      <th></th>\n",
       "    </tr>\n",
       "  </thead>\n",
       "  <tbody>\n",
       "    <tr>\n",
       "      <th>121</th>\n",
       "      <td>1528.263889</td>\n",
       "      <td>590.019444</td>\n",
       "      <td>1.005212</td>\n",
       "      <td>60.0</td>\n",
       "      <td>1223.677083</td>\n",
       "      <td>729.669271</td>\n",
       "      <td>-0.422986</td>\n",
       "      <td>64.0</td>\n",
       "      <td>939.063260</td>\n",
       "      <td>457.744526</td>\n",
       "      <td>0.567666</td>\n",
       "      <td>68.5</td>\n",
       "      <td>1140.139860</td>\n",
       "      <td>788.815851</td>\n",
       "      <td>-1.146751</td>\n",
       "      <td>71.5</td>\n",
       "      <td>1483.377246</td>\n",
       "      <td>365.459082</td>\n",
       "      <td>-0.737273</td>\n",
       "      <td>83.5</td>\n",
       "    </tr>\n",
       "    <tr>\n",
       "      <th>122</th>\n",
       "      <td>1528.376437</td>\n",
       "      <td>589.543103</td>\n",
       "      <td>0.377148</td>\n",
       "      <td>58.0</td>\n",
       "      <td>1223.403646</td>\n",
       "      <td>729.723958</td>\n",
       "      <td>-0.445276</td>\n",
       "      <td>64.0</td>\n",
       "      <td>938.713911</td>\n",
       "      <td>457.611549</td>\n",
       "      <td>0.561332</td>\n",
       "      <td>63.5</td>\n",
       "      <td>1140.167832</td>\n",
       "      <td>788.731935</td>\n",
       "      <td>-1.158315</td>\n",
       "      <td>71.5</td>\n",
       "      <td>1483.197531</td>\n",
       "      <td>365.407407</td>\n",
       "      <td>-0.748393</td>\n",
       "      <td>81.0</td>\n",
       "    </tr>\n",
       "    <tr>\n",
       "      <th>123</th>\n",
       "      <td>1530.387464</td>\n",
       "      <td>589.507123</td>\n",
       "      <td>0.448214</td>\n",
       "      <td>58.5</td>\n",
       "      <td>1223.362903</td>\n",
       "      <td>729.755376</td>\n",
       "      <td>-0.438456</td>\n",
       "      <td>62.0</td>\n",
       "      <td>938.838710</td>\n",
       "      <td>457.709677</td>\n",
       "      <td>0.546256</td>\n",
       "      <td>62.0</td>\n",
       "      <td>1140.100719</td>\n",
       "      <td>788.889688</td>\n",
       "      <td>-1.144738</td>\n",
       "      <td>69.5</td>\n",
       "      <td>1483.548571</td>\n",
       "      <td>364.807619</td>\n",
       "      <td>-1.019837</td>\n",
       "      <td>87.5</td>\n",
       "    </tr>\n",
       "  </tbody>\n",
       "</table>\n",
       "</div>"
      ],
      "text/plain": [
       "                 0                                        1              \\\n",
       "              x_px        y_px       ang  area         x_px        y_px   \n",
       "frame                                                                     \n",
       "121    1528.263889  590.019444  1.005212  60.0  1223.677083  729.669271   \n",
       "122    1528.376437  589.543103  0.377148  58.0  1223.403646  729.723958   \n",
       "123    1530.387464  589.507123  0.448214  58.5  1223.362903  729.755376   \n",
       "\n",
       "                                2                                        3  \\\n",
       "            ang  area        x_px        y_px       ang  area         x_px   \n",
       "frame                                                                        \n",
       "121   -0.422986  64.0  939.063260  457.744526  0.567666  68.5  1140.139860   \n",
       "122   -0.445276  64.0  938.713911  457.611549  0.561332  63.5  1140.167832   \n",
       "123   -0.438456  62.0  938.838710  457.709677  0.546256  62.0  1140.100719   \n",
       "\n",
       "                                             4                              \n",
       "             y_px       ang  area         x_px        y_px       ang  area  \n",
       "frame                                                                       \n",
       "121    788.815851 -1.146751  71.5  1483.377246  365.459082 -0.737273  83.5  \n",
       "122    788.731935 -1.158315  71.5  1483.197531  365.407407 -0.748393  81.0  \n",
       "123    788.889688 -1.144738  69.5  1483.548571  364.807619 -1.019837  87.5  "
      ]
     },
     "metadata": {},
     "output_type": "display_data"
    }
   ],
   "source": [
    "# trial_files = sorted(glob('../tracking/full/*/trial.pik'))\n",
    "trial_files = sorted(glob('test/*/trial.pik'))\n",
    "display(trial_files)\n",
    "\n",
    "trial_file  = trial_files[1]\n",
    "\n",
    "\n",
    "pop,_,age,group,Nfish = os.path.basename(os.path.dirname(trial_file)).split('_')[:5]\n",
    "age   = int(age[:-3])\n",
    "n_ind = int(re.findall('\\d+',Nfish)[0])\n",
    "# print(pop,age,group,n_ind)\n",
    "trial = { k:globals()[k] for k in ['pop','age','group','n_ind'] }\n",
    "\n",
    "trial.update(utils.load_pik(trial_file))\n",
    "# print(trial) #.keys())\n",
    "globals().update(trial)\n",
    "\n",
    "display(df[:3])\n",
    "# trial.df.to_excel(trial.output_dir+'/df.xlsx')"
   ]
  },
  {
   "cell_type": "markdown",
   "metadata": {},
   "source": [
    "# Compute spatial and kinematic quantities"
   ]
  },
  {
   "cell_type": "code",
   "execution_count": 3,
   "metadata": {},
   "outputs": [
    {
     "data": {
      "text/html": [
       "<div>\n",
       "<style scoped>\n",
       "    .dataframe tbody tr th:only-of-type {\n",
       "        vertical-align: middle;\n",
       "    }\n",
       "\n",
       "    .dataframe tbody tr th {\n",
       "        vertical-align: top;\n",
       "    }\n",
       "\n",
       "    .dataframe thead tr th {\n",
       "        text-align: left;\n",
       "    }\n",
       "\n",
       "    .dataframe thead tr:last-of-type th {\n",
       "        text-align: right;\n",
       "    }\n",
       "</style>\n",
       "<table border=\"1\" class=\"dataframe\">\n",
       "  <thead>\n",
       "    <tr>\n",
       "      <th></th>\n",
       "      <th colspan=\"10\" halign=\"left\">0</th>\n",
       "      <th>...</th>\n",
       "      <th colspan=\"10\" halign=\"left\">4</th>\n",
       "    </tr>\n",
       "    <tr>\n",
       "      <th></th>\n",
       "      <th>x_px</th>\n",
       "      <th>y_px</th>\n",
       "      <th>area</th>\n",
       "      <th>ang</th>\n",
       "      <th>v_ang</th>\n",
       "      <th>x</th>\n",
       "      <th>y</th>\n",
       "      <th>v_x</th>\n",
       "      <th>v_y</th>\n",
       "      <th>v</th>\n",
       "      <th>...</th>\n",
       "      <th>y_px</th>\n",
       "      <th>area</th>\n",
       "      <th>ang</th>\n",
       "      <th>v_ang</th>\n",
       "      <th>x</th>\n",
       "      <th>y</th>\n",
       "      <th>v_x</th>\n",
       "      <th>v_y</th>\n",
       "      <th>v</th>\n",
       "      <th>d_wall</th>\n",
       "    </tr>\n",
       "    <tr>\n",
       "      <th>frame</th>\n",
       "      <th></th>\n",
       "      <th></th>\n",
       "      <th></th>\n",
       "      <th></th>\n",
       "      <th></th>\n",
       "      <th></th>\n",
       "      <th></th>\n",
       "      <th></th>\n",
       "      <th></th>\n",
       "      <th></th>\n",
       "      <th></th>\n",
       "      <th></th>\n",
       "      <th></th>\n",
       "      <th></th>\n",
       "      <th></th>\n",
       "      <th></th>\n",
       "      <th></th>\n",
       "      <th></th>\n",
       "      <th></th>\n",
       "      <th></th>\n",
       "      <th></th>\n",
       "    </tr>\n",
       "  </thead>\n",
       "  <tbody>\n",
       "    <tr>\n",
       "      <th>121</th>\n",
       "      <td>1528.263889</td>\n",
       "      <td>590.019444</td>\n",
       "      <td>60.0</td>\n",
       "      <td>1.005212</td>\n",
       "      <td>NaN</td>\n",
       "      <td>4.438222</td>\n",
       "      <td>-0.139492</td>\n",
       "      <td>NaN</td>\n",
       "      <td>NaN</td>\n",
       "      <td>NaN</td>\n",
       "      <td>...</td>\n",
       "      <td>365.459082</td>\n",
       "      <td>83.5</td>\n",
       "      <td>-0.737273</td>\n",
       "      <td>NaN</td>\n",
       "      <td>3.930700</td>\n",
       "      <td>2.399558</td>\n",
       "      <td>NaN</td>\n",
       "      <td>NaN</td>\n",
       "      <td>NaN</td>\n",
       "      <td>0.194755</td>\n",
       "    </tr>\n",
       "    <tr>\n",
       "      <th>122</th>\n",
       "      <td>1528.376437</td>\n",
       "      <td>589.543103</td>\n",
       "      <td>58.0</td>\n",
       "      <td>0.377148</td>\n",
       "      <td>-18.841934</td>\n",
       "      <td>4.439495</td>\n",
       "      <td>-0.134106</td>\n",
       "      <td>0.038177</td>\n",
       "      <td>0.161576</td>\n",
       "      <td>0.166025</td>\n",
       "      <td>...</td>\n",
       "      <td>365.407407</td>\n",
       "      <td>81.0</td>\n",
       "      <td>-0.748393</td>\n",
       "      <td>-0.333598</td>\n",
       "      <td>3.928668</td>\n",
       "      <td>2.400142</td>\n",
       "      <td>-0.060960</td>\n",
       "      <td>0.017528</td>\n",
       "      <td>0.063430</td>\n",
       "      <td>0.196185</td>\n",
       "    </tr>\n",
       "    <tr>\n",
       "      <th>123</th>\n",
       "      <td>1530.387464</td>\n",
       "      <td>589.507123</td>\n",
       "      <td>58.5</td>\n",
       "      <td>0.448214</td>\n",
       "      <td>2.131973</td>\n",
       "      <td>4.462233</td>\n",
       "      <td>-0.133699</td>\n",
       "      <td>0.682146</td>\n",
       "      <td>0.012205</td>\n",
       "      <td>0.682255</td>\n",
       "      <td>...</td>\n",
       "      <td>364.807619</td>\n",
       "      <td>87.5</td>\n",
       "      <td>-1.019837</td>\n",
       "      <td>-8.143336</td>\n",
       "      <td>3.932637</td>\n",
       "      <td>2.406924</td>\n",
       "      <td>0.119074</td>\n",
       "      <td>0.203450</td>\n",
       "      <td>0.235734</td>\n",
       "      <td>0.189261</td>\n",
       "    </tr>\n",
       "  </tbody>\n",
       "</table>\n",
       "<p>3 rows × 55 columns</p>\n",
       "</div>"
      ],
      "text/plain": [
       "                 0                                                             \\\n",
       "              x_px        y_px  area       ang      v_ang         x         y   \n",
       "frame                                                                           \n",
       "121    1528.263889  590.019444  60.0  1.005212        NaN  4.438222 -0.139492   \n",
       "122    1528.376437  589.543103  58.0  0.377148 -18.841934  4.439495 -0.134106   \n",
       "123    1530.387464  589.507123  58.5  0.448214   2.131973  4.462233 -0.133699   \n",
       "\n",
       "                                     ...           4                  \\\n",
       "            v_x       v_y         v  ...        y_px  area       ang   \n",
       "frame                                ...                               \n",
       "121         NaN       NaN       NaN  ...  365.459082  83.5 -0.737273   \n",
       "122    0.038177  0.161576  0.166025  ...  365.407407  81.0 -0.748393   \n",
       "123    0.682146  0.012205  0.682255  ...  364.807619  87.5 -1.019837   \n",
       "\n",
       "                                                                             \n",
       "          v_ang         x         y       v_x       v_y         v    d_wall  \n",
       "frame                                                                        \n",
       "121         NaN  3.930700  2.399558       NaN       NaN       NaN  0.194755  \n",
       "122   -0.333598  3.928668  2.400142 -0.060960  0.017528  0.063430  0.196185  \n",
       "123   -8.143336  3.932637  2.406924  0.119074  0.203450  0.235734  0.189261  \n",
       "\n",
       "[3 rows x 55 columns]"
      ]
     },
     "metadata": {},
     "output_type": "display_data"
    }
   ],
   "source": [
    "globals().update(trial)\n",
    "\n",
    "# Convert pixels to cm.\n",
    "tank.r_cm = tank_diameter_vs_age[age]/2\n",
    "a = tank.r_cm/tank.r_px\n",
    "for i in range(n_ind):\n",
    "    df[i,'x'] =  a*(df[i,'x_px']-tank.x_px)\n",
    "    df[i,'y'] = -a*(df[i,'y_px']-tank.y_px)\n",
    "\n",
    "fish = df.columns.levels[0]\n",
    "\n",
    "for f in fish:\n",
    "    \n",
    "    df[f,'d_wall'] = tank.r_cm - np.hypot(df[f,'x'],df[f,'y'])\n",
    "    \n",
    "    df[f,'v_x']    = df[f,'x'].diff()*fps\n",
    "    df[f,'v_y']    = df[f,'y'].diff()*fps\n",
    "    df[f,'v']      = np.hypot(df[f,'v_x'],df[f,'v_y'])\n",
    "    \n",
    "    ang_diff             = df[f,'ang'].diff()\n",
    "    ang_diff            -= 2*np.pi*np.rint(ang_diff/(2*np.pi))\n",
    "    df[f,'v_ang']  = ang_diff*fps\n",
    "    \n",
    "# Reorder columns.\n",
    "# df = df.sort_index(axis=1) # Sort alphabetically, which also sorts by fish.\n",
    "columns = [ (f,q) for f in fish for q in ['x_px', 'y_px', 'area', 'ang', 'v_ang', \n",
    "                                          'x', 'y', 'v_x', 'v_y', 'v', 'd_wall'] ]\n",
    "df = df.reindex(columns=columns)\n",
    "display(df[:3])"
   ]
  },
  {
   "cell_type": "markdown",
   "metadata": {},
   "source": [
    "# Perform cuts"
   ]
  },
  {
   "cell_type": "code",
   "execution_count": 4,
   "metadata": {},
   "outputs": [
    {
     "data": {
      "text/plain": [
       "{'d_wall': 1.0,\n",
       " 'v': 0.967741935483871,\n",
       " 'v_ang': 0.967741935483871,\n",
       " 'final': 0.967741935483871}"
      ]
     },
     "metadata": {},
     "output_type": "display_data"
    },
    {
     "data": {
      "text/html": [
       "<div>\n",
       "<style scoped>\n",
       "    .dataframe tbody tr th:only-of-type {\n",
       "        vertical-align: middle;\n",
       "    }\n",
       "\n",
       "    .dataframe tbody tr th {\n",
       "        vertical-align: top;\n",
       "    }\n",
       "\n",
       "    .dataframe thead tr th {\n",
       "        text-align: left;\n",
       "    }\n",
       "\n",
       "    .dataframe thead tr:last-of-type th {\n",
       "        text-align: right;\n",
       "    }\n",
       "</style>\n",
       "<table border=\"1\" class=\"dataframe\">\n",
       "  <thead>\n",
       "    <tr>\n",
       "      <th></th>\n",
       "      <th colspan=\"8\" halign=\"left\">0</th>\n",
       "      <th colspan=\"2\" halign=\"left\">1</th>\n",
       "      <th>...</th>\n",
       "      <th colspan=\"2\" halign=\"left\">3</th>\n",
       "      <th colspan=\"8\" halign=\"left\">4</th>\n",
       "    </tr>\n",
       "    <tr>\n",
       "      <th></th>\n",
       "      <th>ang</th>\n",
       "      <th>v_ang</th>\n",
       "      <th>x</th>\n",
       "      <th>y</th>\n",
       "      <th>v_x</th>\n",
       "      <th>v_y</th>\n",
       "      <th>v</th>\n",
       "      <th>d_wall</th>\n",
       "      <th>ang</th>\n",
       "      <th>v_ang</th>\n",
       "      <th>...</th>\n",
       "      <th>v</th>\n",
       "      <th>d_wall</th>\n",
       "      <th>ang</th>\n",
       "      <th>v_ang</th>\n",
       "      <th>x</th>\n",
       "      <th>y</th>\n",
       "      <th>v_x</th>\n",
       "      <th>v_y</th>\n",
       "      <th>v</th>\n",
       "      <th>d_wall</th>\n",
       "    </tr>\n",
       "    <tr>\n",
       "      <th>frame</th>\n",
       "      <th></th>\n",
       "      <th></th>\n",
       "      <th></th>\n",
       "      <th></th>\n",
       "      <th></th>\n",
       "      <th></th>\n",
       "      <th></th>\n",
       "      <th></th>\n",
       "      <th></th>\n",
       "      <th></th>\n",
       "      <th></th>\n",
       "      <th></th>\n",
       "      <th></th>\n",
       "      <th></th>\n",
       "      <th></th>\n",
       "      <th></th>\n",
       "      <th></th>\n",
       "      <th></th>\n",
       "      <th></th>\n",
       "      <th></th>\n",
       "      <th></th>\n",
       "    </tr>\n",
       "  </thead>\n",
       "  <tbody>\n",
       "    <tr>\n",
       "      <th>121</th>\n",
       "      <td>NaN</td>\n",
       "      <td>NaN</td>\n",
       "      <td>NaN</td>\n",
       "      <td>NaN</td>\n",
       "      <td>NaN</td>\n",
       "      <td>NaN</td>\n",
       "      <td>NaN</td>\n",
       "      <td>NaN</td>\n",
       "      <td>NaN</td>\n",
       "      <td>NaN</td>\n",
       "      <td>...</td>\n",
       "      <td>NaN</td>\n",
       "      <td>NaN</td>\n",
       "      <td>NaN</td>\n",
       "      <td>NaN</td>\n",
       "      <td>NaN</td>\n",
       "      <td>NaN</td>\n",
       "      <td>NaN</td>\n",
       "      <td>NaN</td>\n",
       "      <td>NaN</td>\n",
       "      <td>NaN</td>\n",
       "    </tr>\n",
       "    <tr>\n",
       "      <th>122</th>\n",
       "      <td>0.377148</td>\n",
       "      <td>-18.841934</td>\n",
       "      <td>4.439495</td>\n",
       "      <td>-0.134106</td>\n",
       "      <td>0.038177</td>\n",
       "      <td>0.161576</td>\n",
       "      <td>0.166025</td>\n",
       "      <td>0.358480</td>\n",
       "      <td>-0.445276</td>\n",
       "      <td>-0.668707</td>\n",
       "      <td>...</td>\n",
       "      <td>0.030004</td>\n",
       "      <td>2.413188</td>\n",
       "      <td>-0.748393</td>\n",
       "      <td>-0.333598</td>\n",
       "      <td>3.928668</td>\n",
       "      <td>2.400142</td>\n",
       "      <td>-0.060960</td>\n",
       "      <td>0.017528</td>\n",
       "      <td>0.063430</td>\n",
       "      <td>0.196185</td>\n",
       "    </tr>\n",
       "    <tr>\n",
       "      <th>123</th>\n",
       "      <td>0.448214</td>\n",
       "      <td>2.131973</td>\n",
       "      <td>4.462233</td>\n",
       "      <td>-0.133699</td>\n",
       "      <td>0.682146</td>\n",
       "      <td>0.012205</td>\n",
       "      <td>0.682255</td>\n",
       "      <td>0.335765</td>\n",
       "      <td>-0.438456</td>\n",
       "      <td>0.204593</td>\n",
       "      <td>...</td>\n",
       "      <td>0.058152</td>\n",
       "      <td>2.411420</td>\n",
       "      <td>-1.019837</td>\n",
       "      <td>-8.143336</td>\n",
       "      <td>3.932637</td>\n",
       "      <td>2.406924</td>\n",
       "      <td>0.119074</td>\n",
       "      <td>0.203450</td>\n",
       "      <td>0.235734</td>\n",
       "      <td>0.189261</td>\n",
       "    </tr>\n",
       "  </tbody>\n",
       "</table>\n",
       "<p>3 rows × 40 columns</p>\n",
       "</div>"
      ],
      "text/plain": [
       "              0                                                               \\\n",
       "            ang      v_ang         x         y       v_x       v_y         v   \n",
       "frame                                                                          \n",
       "121         NaN        NaN       NaN       NaN       NaN       NaN       NaN   \n",
       "122    0.377148 -18.841934  4.439495 -0.134106  0.038177  0.161576  0.166025   \n",
       "123    0.448214   2.131973  4.462233 -0.133699  0.682146  0.012205  0.682255   \n",
       "\n",
       "                        1            ...         3                   4  \\\n",
       "         d_wall       ang     v_ang  ...         v    d_wall       ang   \n",
       "frame                                ...                                 \n",
       "121         NaN       NaN       NaN  ...       NaN       NaN       NaN   \n",
       "122    0.358480 -0.445276 -0.668707  ...  0.030004  2.413188 -0.748393   \n",
       "123    0.335765 -0.438456  0.204593  ...  0.058152  2.411420 -1.019837   \n",
       "\n",
       "                                                                             \n",
       "          v_ang         x         y       v_x       v_y         v    d_wall  \n",
       "frame                                                                        \n",
       "121         NaN       NaN       NaN       NaN       NaN       NaN       NaN  \n",
       "122   -0.333598  3.928668  2.400142 -0.060960  0.017528  0.063430  0.196185  \n",
       "123   -8.143336  3.932637  2.406924  0.119074  0.203450  0.235734  0.189261  \n",
       "\n",
       "[3 rows x 40 columns]"
      ]
     },
     "metadata": {},
     "output_type": "display_data"
    }
   ],
   "source": [
    "cut_ranges = { 'd_wall': [0,tank.r_cm], \n",
    "               'v':      [0,np.inf], \n",
    "               'v_ang':  [-np.inf,np.inf] }\n",
    "\n",
    "\n",
    "# Locate fish/frame combinations that didn't make the cut(s).\n",
    "cut_names = [ 'cut_'+q for q in cut_ranges.keys() ]\n",
    "valid_fraction = {}\n",
    "for f in fish:\n",
    "    for q,(vmin,vmax) in cut_ranges.items():\n",
    "        df[f,'cut_'+q]  = (df[f,q]>vmin) & (df[f,q]<vmax)\n",
    "    df[f,'cut_final'] = df.loc[:,(f,cut_names)].all(axis=1)\n",
    "\n",
    "    \n",
    "# # For each fish, compute the fraction of points that made it through each cut.\n",
    "# valid_fraction = {}\n",
    "# for f in fish:\n",
    "#     for c in list(cut_ranges.keys())+['final']:\n",
    "#         valid_fraction[f,c] = df[f,'cut_'+c].mean()\n",
    "# display(valid_fraction)\n",
    "\n",
    "# Compute the fraction of points that made it through each cut.\n",
    "valid_fraction = {}\n",
    "for c in list(cut_ranges.keys())+['final']:\n",
    "    B = [df[f,'cut_'+c] for f in fish]\n",
    "    valid_fraction[c] = sum([b.sum() for b in B])/sum([len(b) for b in B])\n",
    "display(valid_fraction)\n",
    "\n",
    "# # Plot the fraction of points that made it through each cut.\n",
    "# plt.bar(*zip(*valid_fraction.items()))\n",
    "# plt.xlabel('Cut')\n",
    "# plt.ylabel('Valid fraction')\n",
    "# plt.show()\n",
    "\n",
    "\n",
    "# Reorder columns.\n",
    "columns = [ (f,q) for f in fish for q in ['x_px', 'y_px', 'area', \n",
    "                                          'ang', 'v_ang', 'cut_v_ang', \n",
    "                                          'x', 'y', 'v_x', 'v_y', 'v', 'cut_v', \n",
    "                                          'd_wall', 'cut_d_wall', \n",
    "                                          'cut_final'] ]\n",
    "df  = df.reindex(columns=columns)\n",
    "df0 = df.copy()\n",
    "# display(df0[:5])\n",
    "\n",
    "\n",
    "# Create a filtered dataframe.\n",
    "cols = ['ang', 'v_ang', 'x', 'y', 'v_x', 'v_y', 'v', 'd_wall']\n",
    "df   = df0.loc[:,(slice(None),cols)].copy()\n",
    "for f in fish:\n",
    "    df.loc[~df0[f,'cut_final'],f] = np.nan\n",
    "display(df[:3])"
   ]
  },
  {
   "cell_type": "markdown",
   "metadata": {},
   "source": [
    "# Compute and plot distributions\n",
    "\n",
    "TODO: Compute histogram for each fish, then use the standard error as the uncertainty on the distribution."
   ]
  },
  {
   "cell_type": "markdown",
   "metadata": {},
   "source": [
    "### Distance to the wall"
   ]
  },
  {
   "cell_type": "code",
   "execution_count": 5,
   "metadata": {},
   "outputs": [
    {
     "data": {
      "image/png": "[encoded data removed]",
      "text/plain": [
       "<Figure size 432x288 with 1 Axes>"
      ]
     },
     "metadata": {
      "needs_background": "light"
     },
     "output_type": "display_data"
    }
   ],
   "source": [
    "quantity = 'd_wall'\n",
    "unit = 'cm'\n",
    "bins = np.linspace(0,tank.r_cm,15)\n",
    "\n",
    "values = df.loc[:,(slice(None),quantity)].values.flatten()\n",
    "plt.hist(values,bins=bins)\n",
    "plt.xlabel(f'{quantity} ({unit})')\n",
    "plt.ylabel('frequency')\n",
    "plt.show()"
   ]
  },
  {
   "cell_type": "markdown",
   "metadata": {},
   "source": [
    "### Velocity"
   ]
  },
  {
   "cell_type": "code",
   "execution_count": 6,
   "metadata": {},
   "outputs": [
    {
     "name": "stderr",
     "output_type": "stream",
     "text": [
      "/home/yaouen/software/miniconda3/envs/cvtracer/lib/python3.7/site-packages/numpy/lib/histograms.py:839: RuntimeWarning: invalid value encountered in greater_equal\n",
      "  keep = (tmp_a >= first_edge)\n",
      "/home/yaouen/software/miniconda3/envs/cvtracer/lib/python3.7/site-packages/numpy/lib/histograms.py:840: RuntimeWarning: invalid value encountered in less_equal\n",
      "  keep &= (tmp_a <= last_edge)\n"
     ]
    },
    {
     "data": {
      "image/png": "[encoded data removed]",
      "text/plain": [
       "<Figure size 432x288 with 1 Axes>"
      ]
     },
     "metadata": {
      "needs_background": "light"
     },
     "output_type": "display_data"
    }
   ],
   "source": [
    "quantity = 'v'\n",
    "unit = 'cm/s'\n",
    "bins = 30\n",
    "\n",
    "values = df.loc[:,(slice(None),quantity)].values.flatten()\n",
    "plt.hist(values,bins=bins)\n",
    "plt.xlabel(f'{quantity} ({unit})')\n",
    "plt.ylabel('frequency')\n",
    "plt.yscale('log')\n",
    "plt.show()"
   ]
  },
  {
   "cell_type": "code",
   "execution_count": 7,
   "metadata": {},
   "outputs": [],
   "source": [
    "# fast = df.loc[:,(slice(None),'v')]>6\n",
    "# print(np.nonzero(fast.values))\n",
    "# display(df.iloc[266:269][4])"
   ]
  },
  {
   "cell_type": "markdown",
   "metadata": {},
   "source": [
    "### Angular velocity"
   ]
  },
  {
   "cell_type": "code",
   "execution_count": 8,
   "metadata": {},
   "outputs": [
    {
     "data": {
      "image/png": "[encoded data removed]",
      "text/plain": [
       "<Figure size 432x288 with 1 Axes>"
      ]
     },
     "metadata": {
      "needs_background": "light"
     },
     "output_type": "display_data"
    }
   ],
   "source": [
    "quantity = 'v_ang'\n",
    "unit = 'rad/s'\n",
    "bins = 50\n",
    "\n",
    "values = df.loc[:,(slice(None),quantity)].values.flatten()\n",
    "plt.hist(values,bins=bins)\n",
    "plt.xlabel(f'{quantity} ({unit})')\n",
    "plt.ylabel('frequency')\n",
    "plt.yscale('log')\n",
    "plt.show()"
   ]
  },
  {
   "cell_type": "code",
   "execution_count": 9,
   "metadata": {},
   "outputs": [
    {
     "name": "stdout",
     "output_type": "stream",
     "text": [
      "v_ang for pi/3 in (1/30) second: 31.415926535897928\n",
      "Instances of unusually high v_ang:\n"
     ]
    },
    {
     "name": "stderr",
     "output_type": "stream",
     "text": [
      "/home/yaouen/software/miniconda3/envs/cvtracer/lib/python3.7/site-packages/ipykernel_launcher.py:9: RuntimeWarning: invalid value encountered in greater\n",
      "  if __name__ == '__main__':\n"
     ]
    },
    {
     "data": {
      "text/plain": [
       "frame\n",
       "146    1.054505\n",
       "147    5.252119\n",
       "148    5.379137\n",
       "Name: (0, ang), dtype: float64"
      ]
     },
     "metadata": {},
     "output_type": "display_data"
    },
    {
     "data": {
      "text/plain": [
       "frame\n",
       "150    5.506404\n",
       "151    8.613955\n",
       "Name: (0, ang), dtype: float64"
      ]
     },
     "metadata": {},
     "output_type": "display_data"
    },
    {
     "data": {
      "text/plain": [
       "frame\n",
       "123   -1.019837\n",
       "124   -2.151252\n",
       "125   -1.139379\n",
       "Name: (4, ang), dtype: float64"
      ]
     },
     "metadata": {},
     "output_type": "display_data"
    },
    {
     "data": {
      "text/plain": [
       "frame\n",
       "124   -2.151252\n",
       "125   -1.139379\n",
       "126   -1.323827\n",
       "Name: (4, ang), dtype: float64"
      ]
     },
     "metadata": {},
     "output_type": "display_data"
    },
    {
     "data": {
      "text/plain": [
       "frame\n",
       "141   -1.148209\n",
       "142   -2.495257\n",
       "143   -2.992477\n",
       "Name: (4, ang), dtype: float64"
      ]
     },
     "metadata": {},
     "output_type": "display_data"
    }
   ],
   "source": [
    "# At 30 fps, |v_ang|=30 (about where the rare peaks start) \n",
    "# corresponds to about pi/3 in one frame.\n",
    "print('v_ang for pi/3 in (1/30) second:',np.pi/3*fps)\n",
    "\n",
    "print('Instances of unusually high v_ang:')\n",
    "for f in fish:\n",
    "    ang_diff  = df[f,'ang'].diff()\n",
    "    ang_diff -= 2*np.pi*np.rint(ang_diff/(2*np.pi))\n",
    "    I = np.nonzero(np.absolute(ang_diff.values)>1)[0]\n",
    "    for i in I:\n",
    "        display(df[f,'ang'][i-1:i+2])"
   ]
  },
  {
   "cell_type": "markdown",
   "metadata": {},
   "source": [
    "### Pair distance-pair angle distribution"
   ]
  },
  {
   "cell_type": "code",
   "execution_count": 27,
   "metadata": {},
   "outputs": [
    {
     "data": {
      "image/png": "[encoded data removed]",
      "text/plain": [
       "<Figure size 432x288 with 2 Axes>"
      ]
     },
     "metadata": {
      "needs_background": "light"
     },
     "output_type": "display_data"
    }
   ],
   "source": [
    "bins_d = np.linspace(0,2*tank.r_cm,15)\n",
    "bins_a = np.linspace(0,np.pi,15)\n",
    "H      = [] # np.zeros((len(bins_d)-1,len(bins_a)-1))\n",
    "for f1,f2 in itertools.combinations(fish,2):\n",
    "#     print(f1,f2)\n",
    "    d = np.hypot(df[f1,'x']-df[f2,'x'],df[f1,'y']-df[f2,'y'])\n",
    "    a = df[f1,'ang']-df[f2,'ang']\n",
    "    a = np.absolute(a - 2*np.pi*np.rint(a/(2*np.pi)))\n",
    "    h,_,_ = np.histogram2d(d,a,bins=(bins_d,bins_a),normed=True)\n",
    "    H.append(h)\n",
    "\n",
    "H   = np.mean(H,axis=0)\n",
    "plt.pcolormesh(bins_d,bins_a,H.T)\n",
    "plt.xlabel('pair distance (cm)')\n",
    "plt.ylabel('pair angle (rad)')\n",
    "plt.colorbar()\n",
    "plt.show()"
   ]
  },
  {
   "cell_type": "markdown",
   "metadata": {},
   "source": [
    "# Angular dynamics"
   ]
  },
  {
   "cell_type": "code",
   "execution_count": 28,
   "metadata": {},
   "outputs": [
    {
     "data": {
      "image/png": "[encoded data removed]",
      "text/plain": [
       "<Figure size 864x432 with 1 Axes>"
      ]
     },
     "metadata": {
      "needs_background": "light"
     },
     "output_type": "display_data"
    }
   ],
   "source": [
    "# %matplotlib notebook\n",
    "# %matplotlib notebook\n",
    "# %matplotlib inline\n",
    "\n",
    "plt.figure(figsize=(12,6))\n",
    "for f in fish:\n",
    "\n",
    "    ang  = df[f,'ang']\n",
    "    t    = ang.index/fps\n",
    "    \n",
    "    dang = ang.diff()\n",
    "    dang = dang - 2*np.pi*np.rint(dang/(2*np.pi))\n",
    "    ang  = np.cumsum(dang)\n",
    "\n",
    "#     I = (t>297) & (t<301)\n",
    "#     t,th = t[I],th[I]\n",
    "\n",
    "    plt.plot(t,ang,label=f) #,marker='.')\n",
    "\n",
    "plt.xlabel('Time (s)')\n",
    "plt.ylabel('Angle (rad)')\n",
    "# plt.savefig(trial.make_fig_file('angle-vs-time',''),**trial.plot_options)\n",
    "plt.legend()\n",
    "plt.show()"
   ]
  },
  {
   "cell_type": "code",
   "execution_count": null,
   "metadata": {},
   "outputs": [],
   "source": []
  }
 ],
 "metadata": {
  "kernelspec": {
   "display_name": "Python (cvtracer)",
   "language": "python",
   "name": "cvtracer"
  },
  "language_info": {
   "codemirror_mode": {
    "name": "ipython",
    "version": 3
   },
   "file_extension": ".py",
   "mimetype": "text/x-python",
   "name": "python",
   "nbconvert_exporter": "python",
   "pygments_lexer": "ipython3",
   "version": "3.7.7"
  }
 },
 "nbformat": 4,
 "nbformat_minor": 4
}
