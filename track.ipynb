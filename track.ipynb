{
 "cells": [
  {
   "cell_type": "code",
   "execution_count": 1,
   "metadata": {},
   "outputs": [],
   "source": [
    "from importlib import reload\n",
    "import os\n",
    "import sys\n",
    "import platform\n",
    "import re\n",
    "import datetime\n",
    "import multiprocessing\n",
    "from glob import glob\n",
    "import logging\n",
    "from tracker.tank import Tank\n",
    "from tracker.tracker import Tracker\n",
    "from tracker import utils\n",
    "import cv2\n",
    "from converter import Converter\n",
    "\n",
    "import tracker\n",
    "reload(tracker.utils)\n",
    "from tracker import utils\n",
    "reload(tracker.tank)\n",
    "from tracker.tank import Tank\n",
    "reload(tracker.tracker)\n",
    "from tracker.tracker import Tracker"
   ]
  },
  {
   "cell_type": "code",
   "execution_count": 11,
   "metadata": {},
   "outputs": [
    {
     "name": "stdout",
     "output_type": "stream",
     "text": [
      "1\n",
      "../raw_videos/SF_Sat_14dpf_GroupA_n5_20200613_1205.avi\n"
     ]
    }
   ],
   "source": [
    "''' Select input files to track and an output directory for each. '''\n",
    "\n",
    "# tracking_dir = '../tracking/full_21-01-03'\n",
    "tracking_dir = 'output'\n",
    "\n",
    "# input_files = sorted(glob('../raw_videos/*.avi')) #[:2]\n",
    "input_files = [ '../raw_videos/SF_Sat_14dpf_GroupA_n5_20200613_1205.avi' ]\n",
    "# input_files = [ '../raw_videos/Pa_fri_70dpf_GroupA_n5_20200807_1600.avi' ]\n",
    "# input_files = glob('../raw_videos/Pa_[Ff]*_[Gg]roupA_n5_*') \\\n",
    "#                + glob('../raw_videos/SF_Sat*_[Gg]roupA_n5_*')\n",
    "\n",
    "input_dict = {}\n",
    "for input_file in input_files:\n",
    "    d,fn       = os.path.split(input_file)\n",
    "    fn,ext     = os.path.splitext(fn)\n",
    "    output_dir = os.path.join(tracking_dir,fn)\n",
    "    n_ind      = int(re.findall('_n(\\d+)[^\\d]*_',fn)[0])\n",
    "    \n",
    "    # If a repaired version exists, use that instead.\n",
    "    repaired_file = os.path.join(d,'repaired',fn+'-repaired'+ext)\n",
    "    input_file = repaired_file if os.path.exists(repaired_file) else input_file\n",
    "    \n",
    "#     # If a trial file already exists, skip.\n",
    "#     if os.path.exists(os.path.join(output_dir,'trial.pik')):\n",
    "#         continue\n",
    "        \n",
    "    input_dict[input_file] = dict( output_dir=output_dir, n_ind=n_ind )\n",
    "\n",
    "print(len(input_dict))\n",
    "\n",
    "for f,D in input_dict.items():\n",
    "    print(f)\n",
    "#     print('   ',D)"
   ]
  },
  {
   "cell_type": "code",
   "execution_count": 62,
   "metadata": {},
   "outputs": [
    {
     "name": "stdout",
     "output_type": "stream",
     "text": [
      "\r",
      "                                                                                                                                                                                                        \r",
      "     Video capture released"
     ]
    }
   ],
   "source": [
    "import tracker\n",
    "reload(tracker.utils)\n",
    "from tracker import utils\n",
    "reload(tracker.tank)\n",
    "from tracker.tank import Tank\n",
    "reload(tracker.tracker)\n",
    "from tracker.tracker import Tracker\n",
    "\n",
    "\n",
    "''' Create output directories. Compute backgrounds. '''\n",
    "\n",
    "settings = dict(\n",
    "    threshold_offset = 13,    # threshold offset for contour-finding\n",
    "    # Background subtraction (for naive background subtraction only).\n",
    "    bkgSub_options   = dict( n_training_frames = 200, # number of frames used to compute background\n",
    "                             t_start = 0, t_end = -1, # time range used to compute background\n",
    "                             contrast_factor = 4,     # post-subtraction contrast enhancement factor\n",
    "                             secondary_subtraction = True, \n",
    "                             secondary_factor = 2 # frame = frame-secondary_factor*secondary_background\n",
    "                           )\n",
    "    )\n",
    "\n",
    "for input_file,D in input_dict.items():\n",
    "    tracker = Tracker(input_video=input_file, **D)\n",
    "    \n",
    "    # Create output directory.\n",
    "    tracker.init_directory()\n",
    "    \n",
    "    # Create a link to the input video in the output directory.\n",
    "    output_dir = D['output_dir']\n",
    "    input_shortcut = os.path.join(output_dir,'raw'+ext)\n",
    "#     if not 'windows' in platform.system().lower() and not os.path.exists(input_shortcut):\n",
    "    try:\n",
    "        os.symlink(os.path.relpath(input_file,output_dir),input_shortcut)\n",
    "    except:\n",
    "        pass\n",
    "        \n",
    "    # Detect background.\n",
    "    tracker.init_video_input()\n",
    "    tracker.bkgSub_options   = settings['bkgSub_options']\n",
    "    tracker.offset           = settings['threshold_offset']\n",
    "    tracker.init_background()\n",
    "    tracker.init_secondary_background()\n",
    "    tracker.release()"
   ]
  },
  {
   "cell_type": "code",
   "execution_count": 63,
   "metadata": {},
   "outputs": [
    {
     "name": "stdout",
     "output_type": "stream",
     "text": [
      "     Tank loaded from output/SF_Sat_14dpf_GroupA_n5_20200613_1205/tank.pik                                                                                                                              "
     ]
    }
   ],
   "source": [
    "''' Trace tanks. '''\n",
    "\n",
    "for input_file,D in input_dict.items():\n",
    "    tracker = Tracker(input_video=input_file, **D)\n",
    "    tracker.init_background()\n",
    "    tracker.release()\n",
    "    tracker.init_tank(thresh=6,dilate=15)\n",
    "\n",
    "# cv2.destroyAllWindows()"
   ]
  },
  {
   "cell_type": "code",
   "execution_count": 64,
   "metadata": {
    "scrolled": false
   },
   "outputs": [
    {
     "name": "stdout",
     "output_type": "stream",
     "text": [
      "../raw_videos/SF_Sat_14dpf_GroupA_n5_20200613_1205.avi\n",
      "     Done                                                                                                                                                                                               "
     ]
    }
   ],
   "source": [
    "import tracker\n",
    "reload(tracker.utils)\n",
    "from tracker import utils\n",
    "reload(tracker.tank)\n",
    "from tracker.tank import Tank\n",
    "reload(tracker.tracker)\n",
    "from tracker.tracker import Tracker\n",
    "\n",
    "settings.update(dict(\n",
    "    t_start          = 0,     # Time at which to start tracking, in seconds.\n",
    "    t_end            = 30,    # Time at which to end tracking, in seconds.\n",
    "    \n",
    "    # Contour detection.\n",
    "    n_pixel_blur     =  7,    # square-root of n-pixels for threshold blurring\n",
    "    block_size       = 15,    # contour block size\n",
    "    threshold_offset = 13,    # threshold offset for contour-finding\n",
    "    min_area         = 25,    # minimum area for detection\n",
    "    max_area         = 600,   # maximum area for detection\n",
    "    ideal_area       = 100,   # ideal area to rank contours in first frame (default=(min_area+max_area)/2)\n",
    "    max_aspect       = 15,    # maximum aspect ratio for detection\n",
    "    ideal_aspect     = 3,     # ideal aspect ratio to rank contours in first frame (default=max_aspect/2)\n",
    "    area_penalty     = 0.5,   # weight of area change when connecting fish across frames\n",
    "    n_extra          = 2,     # number of extra contours to keep track of\n",
    "    morph_transform  = [], \n",
    "#     morph_transform  = [(cv2.MORPH_OPEN,2),(cv2.MORPH_CLOSE,2)], \n",
    "#     morph_transform  = [(cv2.MORPH_CLOSE,20),(cv2.MORPH_OPEN,3)], \n",
    "#     morph_transform  = [(cv2.MORPH_DILATE,5),(cv2.MORPH_OPEN,8)], \n",
    "                              # sequence of morphological operations to perform\n",
    "                              # on thresholded image before extracting contours.\n",
    "    reversal_threshold = 0.5, # average frame-to-frame displacement against the director \n",
    "                              # over the last few frames to trigger a reversal. \n",
    "    live_preview     = False, # Toggle live preview of tracking.\n",
    "    save_video       = False, \n",
    "    # What information to draw on the tracking output video.\n",
    "    video_output_options = dict( tank=True, points=False, directors=True, \n",
    "                                 extra_points=True, timestamp=True, \n",
    "                                 contours=True, contour_color=(100,255,0), \n",
    "                                 contour_thickness=1 )\n",
    "    ))\n",
    "\n",
    "def track(input_file):\n",
    "    \n",
    "    globals().update(settings)\n",
    "    globals().update(input_dict[input_file])\n",
    "    video_output_options = settings['video_output_options']\n",
    "    \n",
    "    utils.add_log_file(os.path.join(output_dir,'log.txt'))\n",
    "    logging.info(utils.parindent+'Initializing')\n",
    "    tracker = Tracker( input_video=input_file, **input_dict[input_file], **settings )\n",
    "    tracker.init_all()\n",
    "    tracker.save_settings()\n",
    "    try:\n",
    "        tracker.set_frame(tracker.frame_start)\n",
    "        n_report = max(1,int((tracker.frame_end-tracker.frame_start)/50))\n",
    "        for i_frame in range(tracker.frame_start, tracker.frame_end+1):\n",
    "            if i_frame%n_report==0:\n",
    "                tracker.save_trial()\n",
    "                percent = (i_frame-tracker.frame_start)/(tracker.frame_end-tracker.frame_start)\n",
    "                logging.info(utils.parindent + f'Tracking: {tracker.get_current_timestamp()}, ' +\n",
    "                             f'{tracker.get_percent_complete():4.1f}% complete')\n",
    "            tracker.track_next_frame(save_frames=False)\n",
    "        tracker.release()\n",
    "        logging.info(utils.parindent+'Saving')\n",
    "        tracker.save_trial()\n",
    "        logging.info(utils.parindent+'Done')\n",
    "\n",
    "    except:\n",
    "        tracker.release()\n",
    "        logging.info('Failed')\n",
    "        for info in sys.exc_info():\n",
    "            logging.warning(info)\n",
    "        %tb\n",
    "\n",
    "    return\n",
    "\n",
    "\n",
    "# Multi-threading doesn't work in Windows. If the OS is Windows, set n_thread to 1.\n",
    "n_threads = 1 if 'windows' in platform.system().lower() else 1\n",
    "\n",
    "if n_threads==1:\n",
    "    \n",
    "    for input_file in input_dict.keys():\n",
    "        utils.reset_logging()\n",
    "        utils.add_log_stream(sys.stdout)\n",
    "        logging.info(input_file)\n",
    "        handler = logging.root.handlers[-1]\n",
    "        handler.terminator = ''\n",
    "        handler.setFormatter(logging.Formatter('\\r'+' '*200+'\\r     %(message)s'))\n",
    "        track(input_file)\n",
    "        break\n",
    "    \n",
    "else:\n",
    "    def track_(k):\n",
    "        utils.reset_logging()\n",
    "        return track(k)\n",
    "    pool = multiprocessing.Pool(n_threads)\n",
    "    pool.map(track_,input_dict.keys())"
   ]
  },
  {
   "cell_type": "code",
   "execution_count": null,
   "metadata": {},
   "outputs": [],
   "source": []
  },
  {
   "cell_type": "code",
   "execution_count": 51,
   "metadata": {},
   "outputs": [
    {
     "name": "stdout",
     "output_type": "stream",
     "text": [
      "output/SF_Sat_14dpf_GroupA_n5_20200613_1205/trial.pik\n",
      "0\n"
     ]
    },
    {
     "data": {
      "text/plain": [
       "array([[691.        ,   8.38516909],\n",
       "       [692.        ,   8.34035332],\n",
       "       [693.        ,   8.2420516 ],\n",
       "       [694.        ,   8.2420516 ],\n",
       "       [695.        ,   8.66789289],\n",
       "       [696.        ,   8.26678991],\n",
       "       [697.        ,   8.24903365],\n",
       "       [698.        ,   8.55723259],\n",
       "       [699.        ,   8.48607623],\n",
       "       [700.        ,   8.27986523],\n",
       "       [701.        ,   8.06190112],\n",
       "       [702.        ,   8.17279399],\n",
       "       [703.        ,   8.32850634],\n",
       "       [704.        ,   8.27986523],\n",
       "       [705.        ,   8.31106825],\n",
       "       [706.        ,   8.31816901],\n",
       "       [707.        ,   8.34709195],\n",
       "       [708.        ,   8.48534614],\n",
       "       [709.        ,   8.25384134],\n",
       "       [710.        ,   7.72467901],\n",
       "       [711.        ,   4.64827176],\n",
       "       [712.        ,   6.79978262],\n",
       "       [713.        ,   6.32343359],\n",
       "       [714.        ,   4.30898815],\n",
       "       [715.        ,   7.28747581],\n",
       "       [716.        ,   7.63751209],\n",
       "       [717.        ,   7.71986938],\n",
       "       [718.        ,   7.78305376],\n",
       "       [719.        ,   7.78111894],\n",
       "       [720.        ,   7.4156169 ]])"
      ]
     },
     "execution_count": 51,
     "metadata": {},
     "output_type": "execute_result"
    }
   ],
   "source": [
    "import numpy as np\n",
    "\n",
    "trial_files = glob(os.path.join(tracking_dir,'*/trial.pik'))\n",
    "# display(trial_files)\n",
    "\n",
    "trial_file = trial_files[1]\n",
    "print(trial_file)\n",
    "trial = utils.load_pik(trial_file)\n",
    "data,frames = trial['data'],trial['frame_list']\n",
    "print(np.searchsorted(frames,18))\n",
    "np.array([frames,data[:,4,4]]).T"
   ]
  },
  {
   "cell_type": "code",
   "execution_count": null,
   "metadata": {},
   "outputs": [],
   "source": []
  },
  {
   "cell_type": "code",
   "execution_count": null,
   "metadata": {},
   "outputs": [],
   "source": [
    "list(input_dict.keys())"
   ]
  },
  {
   "cell_type": "code",
   "execution_count": null,
   "metadata": {},
   "outputs": [],
   "source": [
    "input_file,D = next(iter(input_dict.items()))\n",
    "trial_file   = Tracker(input_video=input_file, **D).trial_file\n",
    "with open(trial_file,'rb') as f:\n",
    "    trial = pickle.load(f)\n",
    "print(trial.keys())\n",
    "\n",
    "xy = trial['data'][:,:trial['n_ind'],:2]\n",
    "xy[:,0,:].shape\n",
    "for i in range(xy.shape[1]):\n",
    "    plt.plot(*xy[:,i,:].T,label=f'{i}')\n",
    "plt.legend(loc=(1.05,0.5))\n",
    "plt.show()"
   ]
  },
  {
   "cell_type": "code",
   "execution_count": null,
   "metadata": {},
   "outputs": [],
   "source": [
    "import tracker\n",
    "reload(tracker)\n",
    "import tracker.analyze as analyze\n",
    "reload(tracker.analyze)\n",
    "\n",
    "input_file,D = next(iter(input_dict.items()))\n",
    "trial_file   = Tracker(input_video=input_file, **D).trial_file\n",
    "trial        = analyze.load_trial(trial_file)\n",
    "globals().update(trial)\n",
    "\n",
    "for i in range(n_ind):\n",
    "    plt.plot(df[(i,'x_px')],df[(i,'y_px')],label=f'{i}')\n",
    "plt.legend(loc=(1.05,0.5))\n",
    "plt.show()"
   ]
  },
  {
   "cell_type": "code",
   "execution_count": null,
   "metadata": {},
   "outputs": [],
   "source": [
    "for input_file,D in input_dict.items():\n",
    "    \n",
    "    tracker = Tracker(input_video=input_file, **D)\n",
    "    with open(tracker.trial_file,'rb') as f:\n",
    "        trial = pickle.load(f)\n",
    "\n",
    "    # area\n",
    "    plt.plot(trial['data'][:,:,3])\n",
    "    plt.ylim(0,None)\n",
    "    plt.show()\n",
    "    \n",
    "    # aspect ratio\n",
    "    plt.plot(trial['data'][:,:,4])\n",
    "    plt.ylim(1,None)\n",
    "    plt.show()\n",
    "    break"
   ]
  },
  {
   "cell_type": "code",
   "execution_count": null,
   "metadata": {},
   "outputs": [],
   "source": []
  }
 ],
 "metadata": {
  "kernelspec": {
   "display_name": "Python (main)",
   "language": "python",
   "name": "main"
  },
  "language_info": {
   "codemirror_mode": {
    "name": "ipython",
    "version": 3
   },
   "file_extension": ".py",
   "mimetype": "text/x-python",
   "name": "python",
   "nbconvert_exporter": "python",
   "pygments_lexer": "ipython3",
   "version": "3.6.10"
  }
 },
 "nbformat": 4,
 "nbformat_minor": 4
}
