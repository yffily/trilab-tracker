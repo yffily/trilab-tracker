{
 "cells": [
  {
   "cell_type": "markdown",
   "metadata": {},
   "source": [
    "**Description:** Extract trial data from raw data filenames from the larval schooling project. Count the number of trials of various kinds (grouped by population, age, and number of fish)."
   ]
  },
  {
   "cell_type": "code",
   "execution_count": null,
   "metadata": {
    "executionInfo": {
     "elapsed": 903,
     "status": "ok",
     "timestamp": 1614134107166,
     "user": {
      "displayName": "Yaouen Fily",
      "photoUrl": "https://lh3.googleusercontent.com/a-/AOh14GiIf-JuxmbJLLRgK-bNQI3QUQLQwPANc67L_Fbo=s64",
      "userId": "17037854930994159070"
     },
     "user_tz": 300
    },
    "id": "05Ne_7bstEUD"
   },
   "outputs": [],
   "source": [
    "import platform, os, sys, datetime, re, itertools\n",
    "from os.path import join\n",
    "from glob import glob\n",
    "import numpy as np\n",
    "import pandas as pd\n",
    "import matplotlib.pyplot as plt\n",
    "from IPython.display import display, Markdown, Latex\n",
    "\n",
    "# plt.rcParams['figure.dpi'] = 150\n",
    "plt.rcParams['figure.figsize'] = 9,6"
   ]
  },
  {
   "cell_type": "code",
   "execution_count": null,
   "metadata": {
    "colab": {
     "base_uri": "https://localhost:8080/"
    },
    "executionInfo": {
     "elapsed": 46087,
     "status": "ok",
     "timestamp": 1614134152357,
     "user": {
      "displayName": "Yaouen Fily",
      "photoUrl": "https://lh3.googleusercontent.com/a-/AOh14GiIf-JuxmbJLLRgK-bNQI3QUQLQwPANc67L_Fbo=s64",
      "userId": "17037854930994159070"
     },
     "user_tz": 300
    },
    "id": "VYKYfpnvAoRn",
    "outputId": "346271ce-1912-4444-b972-c13a89c415ce"
   },
   "outputs": [],
   "source": [
    "''' \n",
    "Is this running on google drive or on a local computer? \n",
    "On google drive you have to authenticate and copy/paste a code, twice.\n",
    "'''\n",
    "on_google_drive = True # False # \n",
    "\n",
    "if on_google_drive:\n",
    "    from google.colab import drive\n",
    "    drive.mount('/content/drive',force_remount=True)\n",
    "    project_dir = '/content/drive/Shared drives/larval_schooling'\n",
    "    from google.colab import auth\n",
    "    import gspread\n",
    "    from oauth2client.client import GoogleCredentials\n",
    "    auth.authenticate_user()\n",
    "    gc    = gspread.authorize(GoogleCredentials.get_application_default())\n",
    "    # sheet = gc.open('trial_list')\n",
    "    sheet = gc.open_by_url('https://docs.google.com/spreadsheets/d/1kkuDMjHZF4sRYKsrLFapVVNqYphUL9ywCUNcAZ_bmNE')\n",
    "    rows  = sheet.sheet1.get_all_values()\n",
    "    df    = pd.DataFrame.from_records(rows[1:],columns=rows[0])\n",
    "else:\n",
    "    project_dir = '../..'\n",
    "    df = pd.read_excel(join(trial_dir,'trial_list.xlsx'))\n",
    "    \n",
    "df    = df[['n','Group','Tracking (Ethovision)','Video File Name']]\n",
    "df['Tracking (Ethovision)'] = pd.to_numeric(df['Tracking (Ethovision)'], errors='coerce').astype(float)\n",
    "trial_list = df.loc[df['Tracking (Ethovision)']==1,'Video File Name']\n"
   ]
  },
  {
   "cell_type": "code",
   "execution_count": null,
   "metadata": {
    "executionInfo": {
     "elapsed": 9670,
     "status": "ok",
     "timestamp": 1614134163798,
     "user": {
      "displayName": "Yaouen Fily",
      "photoUrl": "https://lh3.googleusercontent.com/a-/AOh14GiIf-JuxmbJLLRgK-bNQI3QUQLQwPANc67L_Fbo=s64",
      "userId": "17037854930994159070"
     },
     "user_tz": 300
    },
    "id": "F7ijjR70w9CS"
   },
   "outputs": [],
   "source": [
    "def parse_filename(name,mode=''):\n",
    "    try:\n",
    "        # Remove directory names and extension.\n",
    "        name = os.path.basename(name)\n",
    "        name = os.path.splitext(name)[0]\n",
    "        # For ethovision raw data files, only keep the bit between the dashes.\n",
    "        if mode=='etho':\n",
    "          name = name.split('-')[1]\n",
    "        # Extract trial info.\n",
    "        split  = name.lower().split('_')\n",
    "        pop,day,age,group,n = split[:5]\n",
    "        extra  = None if len(split)==5 else ','.join(split[5:])\n",
    "        n      = int(re.findall('(\\d+)',n)[0])\n",
    "        age    = int(age[:-3])\n",
    "        # Merge 43dpf with 42dpf and 71dpf with 70dpf.\n",
    "        age = 42 if age==43 else (70 if age==71 else age)\n",
    "        # Merge RC and SF.\n",
    "        pop = 'sf' if pop.lower()=='rc' else pop\n",
    "        return { k:v for k,v in locals().items() if k in \n",
    "                ['name', 'pop', 'age', 'group', 'n'] }\n",
    "    except:\n",
    "        return {}\n",
    "\n",
    "def count_trials(df):\n",
    "    df = df.set_index('name')\n",
    "    grouped_trials = df.groupby(['pop','age','n'])\n",
    "    count  = pd.DataFrame(grouped_trials['n'].count().rename('count'))\n",
    "    count = count.unstack(1)\n",
    "    count.columns = count.columns.droplevel()\n",
    "    count[pd.isna(count)] = 0\n",
    "    return count.astype(int)\n",
    "\n",
    "trials = {}\n",
    "\n",
    "raw_files      = glob(join(project_dir,'raw_videos/*.avi'))\n",
    "trials['raw']  = pd.DataFrame([ parse_filename(f) for f in raw_files])\n",
    "\n",
    "etho_files     = glob(join(project_dir,'ethovision/Raw_Data/*.xlsx'))\n",
    "trials['etho'] = pd.DataFrame([ parse_filename(f,mode='etho') for f in etho_files])\n",
    "\n",
    "# trials['list'] = pd.DataFrame([ parse_filename(f) for f in trial_list])\n",
    "rows           = [ parse_filename(f) for f in trial_list ] # get rid of missing filenames\n",
    "trials['list'] = pd.DataFrame([r for r in rows if len(r)>0])\n",
    "\n",
    "breakdown      = { k:count_trials(trials[k]) for k in trials.keys() }\n",
    "\n",
    "def show_breakdown(k):\n",
    "    display(Markdown(f'## {k.capitalize()}'))\n",
    "    display(breakdown[k])\n",
    "    for pop in breakdown[k].index.get_level_values('pop').unique():\n",
    "        breakdown[k].loc[pop].T.plot(marker='o',figsize=(9,4))\n",
    "        plt.legend(loc=(1.1,0.4),title='n')\n",
    "        plt.xlabel('age (dpf)')\n",
    "        plt.ylabel('number of trials')\n",
    "        plt.title(pop)\n",
    "        plt.show()"
   ]
  },
  {
   "cell_type": "code",
   "execution_count": null,
   "metadata": {
    "colab": {
     "base_uri": "https://localhost:8080/",
     "height": 904
    },
    "executionInfo": {
     "elapsed": 9762,
     "status": "ok",
     "timestamp": 1614134164412,
     "user": {
      "displayName": "Yaouen Fily",
      "photoUrl": "https://lh3.googleusercontent.com/a-/AOh14GiIf-JuxmbJLLRgK-bNQI3QUQLQwPANc67L_Fbo=s64",
      "userId": "17037854930994159070"
     },
     "user_tz": 300
    },
    "id": "_QD7fEg0evpa",
    "outputId": "de2c722b-cf43-4b5a-f5c6-ce9f3c9eaccf"
   },
   "outputs": [],
   "source": [
    "show_breakdown('raw')"
   ]
  },
  {
   "cell_type": "code",
   "execution_count": null,
   "metadata": {
    "colab": {
     "base_uri": "https://localhost:8080/",
     "height": 872
    },
    "executionInfo": {
     "elapsed": 9436,
     "status": "ok",
     "timestamp": 1614134164843,
     "user": {
      "displayName": "Yaouen Fily",
      "photoUrl": "https://lh3.googleusercontent.com/a-/AOh14GiIf-JuxmbJLLRgK-bNQI3QUQLQwPANc67L_Fbo=s64",
      "userId": "17037854930994159070"
     },
     "user_tz": 300
    },
    "id": "m4E5KoIVeEYc",
    "outputId": "86b03750-7246-4678-be78-3c6bff57d17b"
   },
   "outputs": [],
   "source": [
    "show_breakdown('etho')"
   ]
  },
  {
   "cell_type": "code",
   "execution_count": null,
   "metadata": {
    "colab": {
     "base_uri": "https://localhost:8080/",
     "height": 872
    },
    "executionInfo": {
     "elapsed": 9463,
     "status": "ok",
     "timestamp": 1614134165333,
     "user": {
      "displayName": "Yaouen Fily",
      "photoUrl": "https://lh3.googleusercontent.com/a-/AOh14GiIf-JuxmbJLLRgK-bNQI3QUQLQwPANc67L_Fbo=s64",
      "userId": "17037854930994159070"
     },
     "user_tz": 300
    },
    "id": "1rF6Lk7hdrwX",
    "outputId": "e5f61381-205c-42f0-c44f-ab61f6c6c2e1"
   },
   "outputs": [],
   "source": [
    "show_breakdown('list')"
   ]
  },
  {
   "cell_type": "code",
   "execution_count": null,
   "metadata": {
    "id": "a8zTnwvSa-Ao"
   },
   "outputs": [],
   "source": []
  }
 ],
 "metadata": {
  "colab": {
   "collapsed_sections": [],
   "name": "count_raw_data.ipynb",
   "provenance": []
  },
  "kernelspec": {
   "display_name": "Python (main)",
   "language": "python",
   "name": "main"
  },
  "language_info": {
   "codemirror_mode": {
    "name": "ipython",
    "version": 3
   },
   "file_extension": ".py",
   "mimetype": "text/x-python",
   "name": "python",
   "nbconvert_exporter": "python",
   "pygments_lexer": "ipython3",
   "version": "3.6.10"
  }
 },
 "nbformat": 4,
 "nbformat_minor": 1
}
