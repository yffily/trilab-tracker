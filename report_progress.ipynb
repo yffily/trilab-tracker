{
 "cells": [
  {
   "cell_type": "code",
   "execution_count": 7,
   "metadata": {},
   "outputs": [],
   "source": [
    "import os, sys, re\n",
    "from glob import glob\n",
    "\n",
    "def get_info(trial_dir):\n",
    "    name  = os.path.basename(trial_dir)\n",
    "    if not os.path.isdir(trial_dir):\n",
    "        return dict(name=name, status='not found')\n",
    "    in_trial_dir   = lambda x: os.path.join(trial_dir,x)\n",
    "    has_tank       = os.path.exists(in_trial_dir('tank.pik'))\n",
    "    has_background = os.path.exists(in_trial_dir('background.npz'))\n",
    "    has_trial      = os.path.exists(in_trial_dir('trial.pik'))\n",
    "    try:\n",
    "        with open(in_trial_dir('settings.txt')) as f:\n",
    "            settings = [ [x.strip() for x in line.split('=')] for line in f.readlines() ]\n",
    "    except:\n",
    "        settings = None\n",
    "    try:\n",
    "        with open(in_trial_dir('log.txt')) as f:\n",
    "            log = [ line.strip() for line in f.readlines() ]\n",
    "        if 'Failed' in log:\n",
    "            status = 'failed'\n",
    "        elif log[-1] == 'Done':\n",
    "            status = 'complete'\n",
    "        else:\n",
    "            progress = [ line.strip() for line in log if 'Tracking' in line ]\n",
    "            if len(progress)==0:\n",
    "                status = 'tracking (0%)'\n",
    "            else:\n",
    "                percent = re.findall('[\\d.]*%',progress[-1])[0]\n",
    "                status  = f'tracking ({percent})'\n",
    "    except:\n",
    "        status = 'no log'\n",
    "    \n",
    "    return locals()\n",
    "\n",
    "statuses = ['no log','tracking','complete','failed']"
   ]
  },
  {
   "cell_type": "code",
   "execution_count": 8,
   "metadata": {},
   "outputs": [
    {
     "data": {
      "text/plain": [
       "682"
      ]
     },
     "execution_count": 8,
     "metadata": {},
     "output_type": "execute_result"
    }
   ],
   "source": [
    "trial_dirs = sorted(glob('../tracking/full_21-01-22/*'))\n",
    "len(trial_dirs)"
   ]
  },
  {
   "cell_type": "code",
   "execution_count": 9,
   "metadata": {},
   "outputs": [],
   "source": [
    "# from tracker import utils\n",
    "\n",
    "# for d in trial_dirs:\n",
    "# #     print(d)\n",
    "#     settings = utils.load_txt(os.path.join(d,'settings.txt'))\n",
    "#     print(f\"{settings['frame_end']}/{settings['frame_end']}\")\n",
    "# #     break"
   ]
  },
  {
   "cell_type": "code",
   "execution_count": 17,
   "metadata": {
    "scrolled": false
   },
   "outputs": [
    {
     "name": "stdout",
     "output_type": "stream",
     "text": [
      "complete             Pa_Fri_14dpf_GroupA_n2_20200612_1400\n",
      "complete             Pa_Fri_14dpf_GroupA_n2b_20200612_1300_10FPS\n",
      "complete             Pa_Fri_14dpf_GroupA_n2b_20200612_1400\n",
      "complete             Pa_Fri_14dpf_GroupB_n2_20200612_1430\n",
      "complete             Pa_Fri_14dpf_GroupB_n2b_20200612_1430\n",
      "complete             Pa_Fri_14dpf_GroupC_n2_20200612_1515\n",
      "complete             Pa_Fri_14dpf_GroupC_n2b_20200612_1515\n",
      "complete             Pa_Fri_14dpf_GroupD_n2_20200612_1600\n",
      "tracking (72.0%)     Pa_Fri_14dpf_GroupD_n2b_20200612_1600\n",
      "complete             Pa_Fri_14dpf_groupA_n5_20200612_1300_10FPS\n",
      "complete             Pa_Fri_14dpf_groupB_n5_20200612_1430\n",
      "complete             Pa_Fri_14dpf_groupC_n5_20200612_1515\n",
      "complete             Pa_Fri_14dpf_groupD_n5_20200612_1600\n",
      "complete             Pa_Fri_21dpf_GroupA_n1_20200619_1530\n",
      "complete             Pa_Fri_21dpf_GroupA_n2_20200619_1345\n",
      "complete             Pa_Fri_21dpf_GroupA_n2b_20200619_1345\n",
      "complete             Pa_Fri_21dpf_GroupA_n5_20200619_1345\n",
      "tracking (62.0%)     Pa_Fri_21dpf_GroupB_n2_20200619_1245\n",
      "complete             Pa_Fri_21dpf_GroupB_n2b_20200619_1245\n",
      "complete             Pa_Fri_21dpf_GroupB_n5_20200619_1245\n",
      "complete             Pa_Fri_21dpf_GroupC_n1_20200619_1440\n",
      "complete             Pa_Fri_21dpf_GroupC_n2_20200619_1440\n",
      "complete             Pa_Fri_21dpf_GroupC_n2b_20200619_1440\n",
      "complete             Pa_Fri_21dpf_GroupC_n5_20200619_1440\n",
      "complete             Pa_Fri_21dpf_GroupD_n1_20200619_1530\n",
      "complete             Pa_Fri_21dpf_GroupD_n2_20200619_1200\n",
      "tracking (4.0%)      Pa_Fri_21dpf_GroupD_n2b_20200619_1200\n",
      "complete             Pa_Fri_21dpf_GroupD_n5_20200619_1200\n",
      "complete             Pa_Fri_28dpf_GroupA_n2_20200626_1800\n",
      "complete             Pa_Fri_28dpf_GroupB_n2_20200626_1730\n",
      "complete             Pa_Fri_28dpf_GroupC_n2_20200626_1840\n",
      "complete             Pa_Fri_28dpf_GroupD_n2_20200626_1700\n",
      "complete             Pa_Fri_28dpf_groupA_n5_20200626_1800\n",
      "complete             Pa_Fri_28dpf_groupB_n5_20200626_1730\n",
      "tracking (89.0%)     Pa_Fri_28dpf_groupC_n5_20200626_1840\n",
      "complete             Pa_Fri_42dpf_GroupB_n2_20200710_1725\n",
      "complete             Pa_Fri_42dpf_GroupB_n5_20200710_1725\n",
      "complete             Pa_Fri_43dpf_GroupAD_n1_20200711_1510\n",
      "complete             Pa_Fri_43dpf_GroupAD_n2a_20200711_1430\n",
      "complete             Pa_Fri_43dpf_GroupAD_n2b_20200711_1510\n",
      "complete             Pa_Fri_43dpf_GroupAD_n5_20200711_1430\n",
      "complete             Pa_Fri_43dpf_GroupC_n2a_20200711_1550\n",
      "complete             Pa_Fri_43dpf_GroupC_n2b_20200711_1630\n",
      "tracking (4.0%)      Pa_Fri_43dpf_GroupC_n5_20200711_1550\n"
     ]
    }
   ],
   "source": [
    "for trial_dir in trial_dirs:\n",
    "    try:\n",
    "        globals().update(get_info(trial_dir))\n",
    "        if status in ['complete','no log']:\n",
    "#         if 'tracking' not in status:\n",
    "            continue\n",
    "        print(f'{status:20s} {name}')\n",
    "    except:\n",
    "        print(f'No info for {trial_dir}')"
   ]
  },
  {
   "cell_type": "code",
   "execution_count": 16,
   "metadata": {},
   "outputs": [
    {
     "data": {
      "text/plain": [
       "{'no log': 638, 'tracking': 5, 'complete': 39, 'failed': 0}"
      ]
     },
     "metadata": {},
     "output_type": "display_data"
    }
   ],
   "source": [
    "status_count = { s:0 for s in statuses }\n",
    "\n",
    "for path in trial_dirs:\n",
    "    for s in statuses:\n",
    "        if s in get_info(path)['status']:\n",
    "            status_count[s] += 1\n",
    "    \n",
    "display(status_count)"
   ]
  },
  {
   "cell_type": "code",
   "execution_count": 21,
   "metadata": {},
   "outputs": [],
   "source": [
    "# for trial_dir in trial_dirs:\n",
    "#     locals().update(get_info(trial_dir))\n",
    "#     if status=='no log':\n",
    "#         trial_file = os.path.join(trial_dir,'trial.pik')\n",
    "#         log_file = os.path.join(trial_dir,'log.txt')\n",
    "#         if os.path.exists(trial_file):\n",
    "#             print(trial_dir)\n",
    "#             display(os.listdir(trial_dir))\n",
    "# #             os.remove(trial_file)\n"
   ]
  },
  {
   "cell_type": "code",
   "execution_count": null,
   "metadata": {},
   "outputs": [],
   "source": []
  }
 ],
 "metadata": {
  "kernelspec": {
   "display_name": "Python (main)",
   "language": "python",
   "name": "main"
  },
  "language_info": {
   "codemirror_mode": {
    "name": "ipython",
    "version": 3
   },
   "file_extension": ".py",
   "mimetype": "text/x-python",
   "name": "python",
   "nbconvert_exporter": "python",
   "pygments_lexer": "ipython3",
   "version": "3.6.10"
  }
 },
 "nbformat": 4,
 "nbformat_minor": 4
}
