{
 "cells": [
  {
   "cell_type": "code",
   "execution_count": 1,
   "metadata": {},
   "outputs": [],
   "source": [
    "from importlib import reload\n",
    "import platform, os, sys, datetime, re, itertools\n",
    "from os.path import join\n",
    "from glob import glob\n",
    "import cv2\n",
    "import numpy as np\n",
    "import pandas as pd\n",
    "import matplotlib.pyplot as plt\n",
    "# sys.path.append(join(root_dir,'cvtracer'))\n",
    "import cvt\n",
    "from cvt.TrAQ.Trial import Trial\n",
    "from cvt.TrAQ.Tank import Tank\n",
    "# from cvt.TrAQ.CVTracer import CVTracer, create_named_window, wait_on_named_window"
   ]
  },
  {
   "cell_type": "code",
   "execution_count": 2,
   "metadata": {},
   "outputs": [],
   "source": [
    "reload(cvt.TrAQ.Trial)\n",
    "from cvt.TrAQ.Trial import Trial\n",
    "reload(cvt.TrAQ.Tank)\n",
    "from cvt.TrAQ.Tank import Tank"
   ]
  },
  {
   "cell_type": "markdown",
   "metadata": {},
   "source": [
    "# Load a trial"
   ]
  },
  {
   "cell_type": "code",
   "execution_count": 3,
   "metadata": {},
   "outputs": [
    {
     "data": {
      "text/plain": [
       "['./test/output/Pa_Fri_7dpf_GroupA_n5_2020-06-05-083453-0000_60-70/trial.pik']"
      ]
     },
     "metadata": {},
     "output_type": "display_data"
    },
    {
     "name": "stdout",
     "output_type": "stream",
     "text": [
      "\n",
      "        Trial loaded from ./test/output/Pa_Fri_7dpf_GroupA_n5_2020-06-05-083453-0000_60-70/trial.pik \n"
     ]
    },
    {
     "data": {
      "text/html": [
       "<div>\n",
       "<style scoped>\n",
       "    .dataframe tbody tr th:only-of-type {\n",
       "        vertical-align: middle;\n",
       "    }\n",
       "\n",
       "    .dataframe tbody tr th {\n",
       "        vertical-align: top;\n",
       "    }\n",
       "\n",
       "    .dataframe thead tr th {\n",
       "        text-align: left;\n",
       "    }\n",
       "\n",
       "    .dataframe thead tr:last-of-type th {\n",
       "        text-align: right;\n",
       "    }\n",
       "</style>\n",
       "<table border=\"1\" class=\"dataframe\">\n",
       "  <thead>\n",
       "    <tr>\n",
       "      <th></th>\n",
       "      <th colspan=\"4\" halign=\"left\">0</th>\n",
       "      <th colspan=\"4\" halign=\"left\">1</th>\n",
       "      <th colspan=\"4\" halign=\"left\">2</th>\n",
       "      <th colspan=\"4\" halign=\"left\">3</th>\n",
       "      <th colspan=\"4\" halign=\"left\">4</th>\n",
       "    </tr>\n",
       "    <tr>\n",
       "      <th></th>\n",
       "      <th>x_px</th>\n",
       "      <th>y_px</th>\n",
       "      <th>ang</th>\n",
       "      <th>area</th>\n",
       "      <th>x_px</th>\n",
       "      <th>y_px</th>\n",
       "      <th>ang</th>\n",
       "      <th>area</th>\n",
       "      <th>x_px</th>\n",
       "      <th>y_px</th>\n",
       "      <th>ang</th>\n",
       "      <th>area</th>\n",
       "      <th>x_px</th>\n",
       "      <th>y_px</th>\n",
       "      <th>ang</th>\n",
       "      <th>area</th>\n",
       "      <th>x_px</th>\n",
       "      <th>y_px</th>\n",
       "      <th>ang</th>\n",
       "      <th>area</th>\n",
       "    </tr>\n",
       "    <tr>\n",
       "      <th>frame</th>\n",
       "      <th></th>\n",
       "      <th></th>\n",
       "      <th></th>\n",
       "      <th></th>\n",
       "      <th></th>\n",
       "      <th></th>\n",
       "      <th></th>\n",
       "      <th></th>\n",
       "      <th></th>\n",
       "      <th></th>\n",
       "      <th></th>\n",
       "      <th></th>\n",
       "      <th></th>\n",
       "      <th></th>\n",
       "      <th></th>\n",
       "      <th></th>\n",
       "      <th></th>\n",
       "      <th></th>\n",
       "      <th></th>\n",
       "      <th></th>\n",
       "    </tr>\n",
       "  </thead>\n",
       "  <tbody>\n",
       "    <tr>\n",
       "      <th>1</th>\n",
       "      <td>1225.784512</td>\n",
       "      <td>964.097643</td>\n",
       "      <td>-0.269401</td>\n",
       "      <td>49.5</td>\n",
       "      <td>659.601246</td>\n",
       "      <td>826.557632</td>\n",
       "      <td>1.133934</td>\n",
       "      <td>53.5</td>\n",
       "      <td>1053.948012</td>\n",
       "      <td>740.568807</td>\n",
       "      <td>1.419361</td>\n",
       "      <td>54.5</td>\n",
       "      <td>1173.619529</td>\n",
       "      <td>633.272727</td>\n",
       "      <td>-0.105694</td>\n",
       "      <td>49.5</td>\n",
       "      <td>613.112319</td>\n",
       "      <td>591.010870</td>\n",
       "      <td>1.033016</td>\n",
       "      <td>46.0</td>\n",
       "    </tr>\n",
       "    <tr>\n",
       "      <th>2</th>\n",
       "      <td>1229.255892</td>\n",
       "      <td>962.245791</td>\n",
       "      <td>-0.360581</td>\n",
       "      <td>49.5</td>\n",
       "      <td>659.678788</td>\n",
       "      <td>826.712121</td>\n",
       "      <td>1.130506</td>\n",
       "      <td>55.0</td>\n",
       "      <td>1053.934579</td>\n",
       "      <td>740.819315</td>\n",
       "      <td>1.451906</td>\n",
       "      <td>53.5</td>\n",
       "      <td>1173.250000</td>\n",
       "      <td>633.250000</td>\n",
       "      <td>-0.075710</td>\n",
       "      <td>50.0</td>\n",
       "      <td>613.275986</td>\n",
       "      <td>591.437276</td>\n",
       "      <td>1.008969</td>\n",
       "      <td>46.5</td>\n",
       "    </tr>\n",
       "    <tr>\n",
       "      <th>3</th>\n",
       "      <td>1231.894231</td>\n",
       "      <td>961.336538</td>\n",
       "      <td>-0.348254</td>\n",
       "      <td>52.0</td>\n",
       "      <td>659.600601</td>\n",
       "      <td>826.537538</td>\n",
       "      <td>1.105541</td>\n",
       "      <td>55.5</td>\n",
       "      <td>1054.009091</td>\n",
       "      <td>740.709091</td>\n",
       "      <td>1.435091</td>\n",
       "      <td>55.0</td>\n",
       "      <td>1173.255452</td>\n",
       "      <td>633.133956</td>\n",
       "      <td>-0.079897</td>\n",
       "      <td>53.5</td>\n",
       "      <td>612.904762</td>\n",
       "      <td>591.027778</td>\n",
       "      <td>0.996083</td>\n",
       "      <td>42.0</td>\n",
       "    </tr>\n",
       "  </tbody>\n",
       "</table>\n",
       "</div>"
      ],
      "text/plain": [
       "                 0                                       1              \\\n",
       "              x_px        y_px       ang  area        x_px        y_px   \n",
       "frame                                                                    \n",
       "1      1225.784512  964.097643 -0.269401  49.5  659.601246  826.557632   \n",
       "2      1229.255892  962.245791 -0.360581  49.5  659.678788  826.712121   \n",
       "3      1231.894231  961.336538 -0.348254  52.0  659.600601  826.537538   \n",
       "\n",
       "                                 2                                        3  \\\n",
       "            ang  area         x_px        y_px       ang  area         x_px   \n",
       "frame                                                                         \n",
       "1      1.133934  53.5  1053.948012  740.568807  1.419361  54.5  1173.619529   \n",
       "2      1.130506  55.0  1053.934579  740.819315  1.451906  53.5  1173.250000   \n",
       "3      1.105541  55.5  1054.009091  740.709091  1.435091  55.0  1173.255452   \n",
       "\n",
       "                                            4                              \n",
       "             y_px       ang  area        x_px        y_px       ang  area  \n",
       "frame                                                                      \n",
       "1      633.272727 -0.105694  49.5  613.112319  591.010870  1.033016  46.0  \n",
       "2      633.250000 -0.075710  50.0  613.275986  591.437276  1.008969  46.5  \n",
       "3      633.133956 -0.079897  53.5  612.904762  591.027778  0.996083  42.0  "
      ]
     },
     "metadata": {},
     "output_type": "display_data"
    }
   ],
   "source": [
    "# trial_files = sorted(glob('../tracking/full/*/trial.pik'))\n",
    "trial_files = sorted(glob('./test/output/*/trial.pik'))\n",
    "display(trial_files)\n",
    "\n",
    "trial = Trial()\n",
    "trial.load(trial_files[0])\n",
    "display(trial.df[:3])\n",
    "# trial.df.to_excel(trial.output_dir+'/df.xlsx')"
   ]
  },
  {
   "cell_type": "markdown",
   "metadata": {},
   "source": [
    "# Compute spatial and kinematic quantities"
   ]
  },
  {
   "cell_type": "code",
   "execution_count": 4,
   "metadata": {},
   "outputs": [
    {
     "data": {
      "text/html": [
       "<div>\n",
       "<style scoped>\n",
       "    .dataframe tbody tr th:only-of-type {\n",
       "        vertical-align: middle;\n",
       "    }\n",
       "\n",
       "    .dataframe tbody tr th {\n",
       "        vertical-align: top;\n",
       "    }\n",
       "\n",
       "    .dataframe thead tr th {\n",
       "        text-align: left;\n",
       "    }\n",
       "\n",
       "    .dataframe thead tr:last-of-type th {\n",
       "        text-align: right;\n",
       "    }\n",
       "</style>\n",
       "<table border=\"1\" class=\"dataframe\">\n",
       "  <thead>\n",
       "    <tr>\n",
       "      <th></th>\n",
       "      <th colspan=\"10\" halign=\"left\">0</th>\n",
       "      <th>...</th>\n",
       "      <th colspan=\"10\" halign=\"left\">4</th>\n",
       "    </tr>\n",
       "    <tr>\n",
       "      <th></th>\n",
       "      <th>x_px</th>\n",
       "      <th>y_px</th>\n",
       "      <th>area</th>\n",
       "      <th>ang</th>\n",
       "      <th>v_ang</th>\n",
       "      <th>x</th>\n",
       "      <th>y</th>\n",
       "      <th>v_x</th>\n",
       "      <th>v_y</th>\n",
       "      <th>v</th>\n",
       "      <th>...</th>\n",
       "      <th>y_px</th>\n",
       "      <th>area</th>\n",
       "      <th>ang</th>\n",
       "      <th>v_ang</th>\n",
       "      <th>x</th>\n",
       "      <th>y</th>\n",
       "      <th>v_x</th>\n",
       "      <th>v_y</th>\n",
       "      <th>v</th>\n",
       "      <th>d_wall</th>\n",
       "    </tr>\n",
       "    <tr>\n",
       "      <th>frame</th>\n",
       "      <th></th>\n",
       "      <th></th>\n",
       "      <th></th>\n",
       "      <th></th>\n",
       "      <th></th>\n",
       "      <th></th>\n",
       "      <th></th>\n",
       "      <th></th>\n",
       "      <th></th>\n",
       "      <th></th>\n",
       "      <th></th>\n",
       "      <th></th>\n",
       "      <th></th>\n",
       "      <th></th>\n",
       "      <th></th>\n",
       "      <th></th>\n",
       "      <th></th>\n",
       "      <th></th>\n",
       "      <th></th>\n",
       "      <th></th>\n",
       "      <th></th>\n",
       "    </tr>\n",
       "  </thead>\n",
       "  <tbody>\n",
       "    <tr>\n",
       "      <th>1</th>\n",
       "      <td>1225.784512</td>\n",
       "      <td>964.097643</td>\n",
       "      <td>49.5</td>\n",
       "      <td>-0.269401</td>\n",
       "      <td>NaN</td>\n",
       "      <td>2.335802</td>\n",
       "      <td>-3.866045</td>\n",
       "      <td>NaN</td>\n",
       "      <td>NaN</td>\n",
       "      <td>NaN</td>\n",
       "      <td>...</td>\n",
       "      <td>591.010870</td>\n",
       "      <td>46.0</td>\n",
       "      <td>1.033016</td>\n",
       "      <td>NaN</td>\n",
       "      <td>-4.591322</td>\n",
       "      <td>0.352227</td>\n",
       "      <td>NaN</td>\n",
       "      <td>NaN</td>\n",
       "      <td>NaN</td>\n",
       "      <td>0.195187</td>\n",
       "    </tr>\n",
       "    <tr>\n",
       "      <th>2</th>\n",
       "      <td>1229.255892</td>\n",
       "      <td>962.245791</td>\n",
       "      <td>49.5</td>\n",
       "      <td>-0.360581</td>\n",
       "      <td>-2.735399</td>\n",
       "      <td>2.375051</td>\n",
       "      <td>-3.845108</td>\n",
       "      <td>1.177466</td>\n",
       "      <td>0.628134</td>\n",
       "      <td>1.334533</td>\n",
       "      <td>...</td>\n",
       "      <td>591.437276</td>\n",
       "      <td>46.5</td>\n",
       "      <td>1.008969</td>\n",
       "      <td>-0.721426</td>\n",
       "      <td>-4.589472</td>\n",
       "      <td>0.347406</td>\n",
       "      <td>0.055515</td>\n",
       "      <td>-0.144634</td>\n",
       "      <td>0.154922</td>\n",
       "      <td>0.197398</td>\n",
       "    </tr>\n",
       "    <tr>\n",
       "      <th>3</th>\n",
       "      <td>1231.894231</td>\n",
       "      <td>961.336538</td>\n",
       "      <td>52.0</td>\n",
       "      <td>-0.348254</td>\n",
       "      <td>0.369820</td>\n",
       "      <td>2.404881</td>\n",
       "      <td>-3.834827</td>\n",
       "      <td>0.894904</td>\n",
       "      <td>0.308412</td>\n",
       "      <td>0.946558</td>\n",
       "      <td>...</td>\n",
       "      <td>591.027778</td>\n",
       "      <td>42.0</td>\n",
       "      <td>0.996083</td>\n",
       "      <td>-0.386592</td>\n",
       "      <td>-4.593669</td>\n",
       "      <td>0.352036</td>\n",
       "      <td>-0.125916</td>\n",
       "      <td>0.138899</td>\n",
       "      <td>0.187477</td>\n",
       "      <td>0.192862</td>\n",
       "    </tr>\n",
       "  </tbody>\n",
       "</table>\n",
       "<p>3 rows × 55 columns</p>\n",
       "</div>"
      ],
      "text/plain": [
       "                 0                                                            \\\n",
       "              x_px        y_px  area       ang     v_ang         x         y   \n",
       "frame                                                                          \n",
       "1      1225.784512  964.097643  49.5 -0.269401       NaN  2.335802 -3.866045   \n",
       "2      1229.255892  962.245791  49.5 -0.360581 -2.735399  2.375051 -3.845108   \n",
       "3      1231.894231  961.336538  52.0 -0.348254  0.369820  2.404881 -3.834827   \n",
       "\n",
       "                                     ...           4                  \\\n",
       "            v_x       v_y         v  ...        y_px  area       ang   \n",
       "frame                                ...                               \n",
       "1           NaN       NaN       NaN  ...  591.010870  46.0  1.033016   \n",
       "2      1.177466  0.628134  1.334533  ...  591.437276  46.5  1.008969   \n",
       "3      0.894904  0.308412  0.946558  ...  591.027778  42.0  0.996083   \n",
       "\n",
       "                                                                             \n",
       "          v_ang         x         y       v_x       v_y         v    d_wall  \n",
       "frame                                                                        \n",
       "1           NaN -4.591322  0.352227       NaN       NaN       NaN  0.195187  \n",
       "2     -0.721426 -4.589472  0.347406  0.055515 -0.144634  0.154922  0.197398  \n",
       "3     -0.386592 -4.593669  0.352036 -0.125916  0.138899  0.187477  0.192862  \n",
       "\n",
       "[3 rows x 55 columns]"
      ]
     },
     "metadata": {},
     "output_type": "display_data"
    }
   ],
   "source": [
    "trial.convert_pixels_to_cm()\n",
    "\n",
    "fish = trial.df.columns.levels[0]\n",
    "\n",
    "for f in fish:\n",
    "    \n",
    "    trial.df[f,'d_wall'] = trial.tank.r_cm - np.hypot(trial.df[f,'x'],trial.df[f,'y'])\n",
    "    \n",
    "    trial.df[f,'v_x']    = trial.df[f,'x'].diff()*trial.fps\n",
    "    trial.df[f,'v_y']    = trial.df[f,'y'].diff()*trial.fps\n",
    "    trial.df[f,'v']      = np.hypot(trial.df[f,'v_x'],trial.df[f,'v_y'])\n",
    "    \n",
    "    ang_diff             = trial.df[f,'ang'].diff()\n",
    "    ang_diff            -= 2*np.pi*np.rint(ang_diff/(2*np.pi))\n",
    "    trial.df[f,'v_ang']  = ang_diff*trial.fps\n",
    "    \n",
    "# Reorder columns.\n",
    "# trial.df = trial.df.sort_index(axis=1) # Sort alphabetically, which also sorts by fish.\n",
    "columns = [ (f,q) for f in fish for q in ['x_px', 'y_px', 'area', 'ang', 'v_ang', \n",
    "                                          'x', 'y', 'v_x', 'v_y', 'v', 'd_wall'] ]\n",
    "trial.df = trial.df.reindex(columns=columns)\n",
    "display(trial.df[:3])"
   ]
  },
  {
   "cell_type": "markdown",
   "metadata": {},
   "source": [
    "# Perform cuts"
   ]
  },
  {
   "cell_type": "code",
   "execution_count": 5,
   "metadata": {},
   "outputs": [
    {
     "data": {
      "text/plain": [
       "{'d_wall': 1.0,\n",
       " 'v': 0.9906976744186047,\n",
       " 'v_ang': 0.9966777408637874,\n",
       " 'final': 0.9906976744186047}"
      ]
     },
     "metadata": {},
     "output_type": "display_data"
    },
    {
     "data": {
      "image/png": "[encoded data removed]",
      "text/plain": [
       "<Figure size 432x288 with 1 Axes>"
      ]
     },
     "metadata": {
      "needs_background": "light"
     },
     "output_type": "display_data"
    },
    {
     "data": {
      "text/html": [
       "<div>\n",
       "<style scoped>\n",
       "    .dataframe tbody tr th:only-of-type {\n",
       "        vertical-align: middle;\n",
       "    }\n",
       "\n",
       "    .dataframe tbody tr th {\n",
       "        vertical-align: top;\n",
       "    }\n",
       "\n",
       "    .dataframe thead tr th {\n",
       "        text-align: left;\n",
       "    }\n",
       "\n",
       "    .dataframe thead tr:last-of-type th {\n",
       "        text-align: right;\n",
       "    }\n",
       "</style>\n",
       "<table border=\"1\" class=\"dataframe\">\n",
       "  <thead>\n",
       "    <tr>\n",
       "      <th></th>\n",
       "      <th colspan=\"8\" halign=\"left\">0</th>\n",
       "      <th colspan=\"2\" halign=\"left\">1</th>\n",
       "      <th>...</th>\n",
       "      <th colspan=\"2\" halign=\"left\">3</th>\n",
       "      <th colspan=\"8\" halign=\"left\">4</th>\n",
       "    </tr>\n",
       "    <tr>\n",
       "      <th></th>\n",
       "      <th>ang</th>\n",
       "      <th>v_ang</th>\n",
       "      <th>x</th>\n",
       "      <th>y</th>\n",
       "      <th>v_x</th>\n",
       "      <th>v_y</th>\n",
       "      <th>v</th>\n",
       "      <th>d_wall</th>\n",
       "      <th>ang</th>\n",
       "      <th>v_ang</th>\n",
       "      <th>...</th>\n",
       "      <th>v</th>\n",
       "      <th>d_wall</th>\n",
       "      <th>ang</th>\n",
       "      <th>v_ang</th>\n",
       "      <th>x</th>\n",
       "      <th>y</th>\n",
       "      <th>v_x</th>\n",
       "      <th>v_y</th>\n",
       "      <th>v</th>\n",
       "      <th>d_wall</th>\n",
       "    </tr>\n",
       "    <tr>\n",
       "      <th>frame</th>\n",
       "      <th></th>\n",
       "      <th></th>\n",
       "      <th></th>\n",
       "      <th></th>\n",
       "      <th></th>\n",
       "      <th></th>\n",
       "      <th></th>\n",
       "      <th></th>\n",
       "      <th></th>\n",
       "      <th></th>\n",
       "      <th></th>\n",
       "      <th></th>\n",
       "      <th></th>\n",
       "      <th></th>\n",
       "      <th></th>\n",
       "      <th></th>\n",
       "      <th></th>\n",
       "      <th></th>\n",
       "      <th></th>\n",
       "      <th></th>\n",
       "      <th></th>\n",
       "    </tr>\n",
       "  </thead>\n",
       "  <tbody>\n",
       "    <tr>\n",
       "      <th>1</th>\n",
       "      <td>NaN</td>\n",
       "      <td>NaN</td>\n",
       "      <td>NaN</td>\n",
       "      <td>NaN</td>\n",
       "      <td>NaN</td>\n",
       "      <td>NaN</td>\n",
       "      <td>NaN</td>\n",
       "      <td>NaN</td>\n",
       "      <td>NaN</td>\n",
       "      <td>NaN</td>\n",
       "      <td>...</td>\n",
       "      <td>NaN</td>\n",
       "      <td>NaN</td>\n",
       "      <td>NaN</td>\n",
       "      <td>NaN</td>\n",
       "      <td>NaN</td>\n",
       "      <td>NaN</td>\n",
       "      <td>NaN</td>\n",
       "      <td>NaN</td>\n",
       "      <td>NaN</td>\n",
       "      <td>NaN</td>\n",
       "    </tr>\n",
       "    <tr>\n",
       "      <th>2</th>\n",
       "      <td>-0.360581</td>\n",
       "      <td>-2.735399</td>\n",
       "      <td>2.375051</td>\n",
       "      <td>-3.845108</td>\n",
       "      <td>1.177466</td>\n",
       "      <td>0.628134</td>\n",
       "      <td>1.334533</td>\n",
       "      <td>0.280518</td>\n",
       "      <td>1.130506</td>\n",
       "      <td>-0.102818</td>\n",
       "      <td>...</td>\n",
       "      <td>0.125578</td>\n",
       "      <td>3.053671</td>\n",
       "      <td>1.008969</td>\n",
       "      <td>-0.721426</td>\n",
       "      <td>-4.589472</td>\n",
       "      <td>0.347406</td>\n",
       "      <td>0.055515</td>\n",
       "      <td>-0.144634</td>\n",
       "      <td>0.154922</td>\n",
       "      <td>0.197398</td>\n",
       "    </tr>\n",
       "    <tr>\n",
       "      <th>3</th>\n",
       "      <td>-0.348254</td>\n",
       "      <td>0.369820</td>\n",
       "      <td>2.404881</td>\n",
       "      <td>-3.834827</td>\n",
       "      <td>0.894904</td>\n",
       "      <td>0.308412</td>\n",
       "      <td>0.946558</td>\n",
       "      <td>0.273483</td>\n",
       "      <td>1.105541</td>\n",
       "      <td>-0.748961</td>\n",
       "      <td>...</td>\n",
       "      <td>0.039405</td>\n",
       "      <td>3.053703</td>\n",
       "      <td>0.996083</td>\n",
       "      <td>-0.386592</td>\n",
       "      <td>-4.593669</td>\n",
       "      <td>0.352036</td>\n",
       "      <td>-0.125916</td>\n",
       "      <td>0.138899</td>\n",
       "      <td>0.187477</td>\n",
       "      <td>0.192862</td>\n",
       "    </tr>\n",
       "  </tbody>\n",
       "</table>\n",
       "<p>3 rows × 40 columns</p>\n",
       "</div>"
      ],
      "text/plain": [
       "              0                                                              \\\n",
       "            ang     v_ang         x         y       v_x       v_y         v   \n",
       "frame                                                                         \n",
       "1           NaN       NaN       NaN       NaN       NaN       NaN       NaN   \n",
       "2     -0.360581 -2.735399  2.375051 -3.845108  1.177466  0.628134  1.334533   \n",
       "3     -0.348254  0.369820  2.404881 -3.834827  0.894904  0.308412  0.946558   \n",
       "\n",
       "                        1            ...         3                   4  \\\n",
       "         d_wall       ang     v_ang  ...         v    d_wall       ang   \n",
       "frame                                ...                                 \n",
       "1           NaN       NaN       NaN  ...       NaN       NaN       NaN   \n",
       "2      0.280518  1.130506 -0.102818  ...  0.125578  3.053671  1.008969   \n",
       "3      0.273483  1.105541 -0.748961  ...  0.039405  3.053703  0.996083   \n",
       "\n",
       "                                                                             \n",
       "          v_ang         x         y       v_x       v_y         v    d_wall  \n",
       "frame                                                                        \n",
       "1           NaN       NaN       NaN       NaN       NaN       NaN       NaN  \n",
       "2     -0.721426 -4.589472  0.347406  0.055515 -0.144634  0.154922  0.197398  \n",
       "3     -0.386592 -4.593669  0.352036 -0.125916  0.138899  0.187477  0.192862  \n",
       "\n",
       "[3 rows x 40 columns]"
      ]
     },
     "metadata": {},
     "output_type": "display_data"
    }
   ],
   "source": [
    "cut_ranges = { 'd_wall': [0,trial.tank.r_cm], \n",
    "               'v':      [0,np.inf], \n",
    "               'v_ang':  [-np.inf,np.inf] }\n",
    "\n",
    "\n",
    "# Locate fish/frame combinations that didn't make the cut(s).\n",
    "cut_names = [ 'cut_'+q for q in cut_ranges.keys() ]\n",
    "valid_fraction = {}\n",
    "for f in fish:\n",
    "    for q,(vmin,vmax) in cut_ranges.items():\n",
    "        trial.df[f,'cut_'+q]  = (trial.df[f,q]>vmin) & (trial.df[f,q]<vmax)\n",
    "    trial.df[f,'cut_final'] = trial.df.loc[:,(f,cut_names)].all(axis=1)\n",
    "\n",
    "    \n",
    "# # For each fish, compute the fraction of points that made it through each cut.\n",
    "# valid_fraction = {}\n",
    "# for f in fish:\n",
    "#     for c in list(cut_ranges.keys())+['final']:\n",
    "#         valid_fraction[f,c] = trial.df[f,'cut_'+c].mean()\n",
    "# display(valid_fraction)\n",
    "\n",
    "# Compute the fraction of points that made it through each cut.\n",
    "valid_fraction = {}\n",
    "for c in list(cut_ranges.keys())+['final']:\n",
    "    B = [trial.df[f,'cut_'+c] for f in fish]\n",
    "    valid_fraction[c] = sum([b.sum() for b in B])/sum([len(b) for b in B])\n",
    "display(valid_fraction)\n",
    "\n",
    "# Plot the fraction of points that made it through each cut.\n",
    "plt.bar(*zip(*valid_fraction.items()))\n",
    "plt.xlabel('Cut')\n",
    "plt.ylabel('Valid fraction')\n",
    "plt.show()\n",
    "\n",
    "\n",
    "# Reorder columns.\n",
    "columns = [ (f,q) for f in fish for q in ['x_px', 'y_px', 'area', \n",
    "                                          'ang', 'v_ang', 'cut_v_ang', \n",
    "                                          'x', 'y', 'v_x', 'v_y', 'v', 'cut_v', \n",
    "                                          'd_wall', 'cut_d_wall', \n",
    "                                          'cut_final'] ]\n",
    "trial.df = trial.df.reindex(columns=columns)\n",
    "# display(trial.df[0][:3])\n",
    "\n",
    "\n",
    "# Create a filtered dataframe.\n",
    "cols = ['ang', 'v_ang', 'x', 'y', 'v_x', 'v_y', 'v', 'd_wall']\n",
    "df = trial.df.loc[:,(slice(None),cols)].copy()\n",
    "for f in fish:\n",
    "    df.loc[~trial.df[f,'cut_final'],f] = np.nan\n",
    "display(df[:3])    "
   ]
  },
  {
   "cell_type": "markdown",
   "metadata": {},
   "source": [
    "# Compute and plot distributions\n",
    "\n",
    "TODO: Compute histogram for each fish, then use the standard error as the uncertainty on the distribution."
   ]
  },
  {
   "cell_type": "markdown",
   "metadata": {},
   "source": [
    "### Distance to the wall"
   ]
  },
  {
   "cell_type": "code",
   "execution_count": 6,
   "metadata": {},
   "outputs": [
    {
     "data": {
      "image/png": "[encoded data removed]",
      "text/plain": [
       "<Figure size 432x288 with 1 Axes>"
      ]
     },
     "metadata": {
      "needs_background": "light"
     },
     "output_type": "display_data"
    }
   ],
   "source": [
    "quantity = 'd_wall'\n",
    "unit = 'cm'\n",
    "bins = np.linspace(0,trial.tank.r_cm,15)\n",
    "\n",
    "values = df.loc[:,(slice(None),quantity)].values.flatten()\n",
    "plt.hist(values,bins=bins)\n",
    "plt.xlabel(f'{quantity} ({unit})')\n",
    "plt.ylabel('frequency')\n",
    "plt.show()"
   ]
  },
  {
   "cell_type": "markdown",
   "metadata": {},
   "source": [
    "### Velocity"
   ]
  },
  {
   "cell_type": "code",
   "execution_count": 7,
   "metadata": {},
   "outputs": [
    {
     "name": "stderr",
     "output_type": "stream",
     "text": [
      "/home/yaouen/software/miniconda3/envs/cvtracer/lib/python3.7/site-packages/numpy/lib/histograms.py:839: RuntimeWarning: invalid value encountered in greater_equal\n",
      "  keep = (tmp_a >= first_edge)\n",
      "/home/yaouen/software/miniconda3/envs/cvtracer/lib/python3.7/site-packages/numpy/lib/histograms.py:840: RuntimeWarning: invalid value encountered in less_equal\n",
      "  keep &= (tmp_a <= last_edge)\n"
     ]
    },
    {
     "data": {
      "image/png": "[encoded data removed]",
      "text/plain": [
       "<Figure size 432x288 with 1 Axes>"
      ]
     },
     "metadata": {
      "needs_background": "light"
     },
     "output_type": "display_data"
    }
   ],
   "source": [
    "quantity = 'v'\n",
    "unit = 'cm/s'\n",
    "bins = 30\n",
    "\n",
    "values = df.loc[:,(slice(None),quantity)].values.flatten()\n",
    "plt.hist(values,bins=bins)\n",
    "plt.xlabel(f'{quantity} ({unit})')\n",
    "plt.ylabel('frequency')\n",
    "plt.yscale('log')\n",
    "plt.show()"
   ]
  },
  {
   "cell_type": "code",
   "execution_count": 8,
   "metadata": {},
   "outputs": [],
   "source": [
    "# fast = trial.df.loc[:,(slice(None),'v')]>6\n",
    "# print(np.nonzero(fast.values))\n",
    "# display(trial.df.iloc[266:269][4])"
   ]
  },
  {
   "cell_type": "markdown",
   "metadata": {},
   "source": [
    "### Angular velocity"
   ]
  },
  {
   "cell_type": "code",
   "execution_count": 9,
   "metadata": {},
   "outputs": [
    {
     "data": {
      "image/png": "[encoded data removed]",
      "text/plain": [
       "<Figure size 432x288 with 1 Axes>"
      ]
     },
     "metadata": {
      "needs_background": "light"
     },
     "output_type": "display_data"
    }
   ],
   "source": [
    "quantity = 'v_ang'\n",
    "unit = 'rad/s'\n",
    "bins = 50\n",
    "\n",
    "values = df.loc[:,(slice(None),quantity)].values.flatten()\n",
    "plt.hist(values,bins=bins)\n",
    "plt.xlabel(f'{quantity} ({unit})')\n",
    "plt.ylabel('frequency')\n",
    "plt.yscale('log')\n",
    "plt.show()"
   ]
  },
  {
   "cell_type": "code",
   "execution_count": 10,
   "metadata": {},
   "outputs": [
    {
     "name": "stdout",
     "output_type": "stream",
     "text": [
      "v_ang for pi/3 in (1/30) second: 31.415926535897928\n",
      "Instances of unusually high v_ang:\n"
     ]
    },
    {
     "name": "stderr",
     "output_type": "stream",
     "text": [
      "/home/yaouen/software/miniconda3/envs/cvtracer/lib/python3.7/site-packages/ipykernel_launcher.py:9: RuntimeWarning: invalid value encountered in greater\n",
      "  if __name__ == '__main__':\n"
     ]
    },
    {
     "data": {
      "text/plain": [
       "frame\n",
       "208   -2.651258\n",
       "209   -3.781640\n",
       "210   -3.747212\n",
       "Name: (0, ang), dtype: float64"
      ]
     },
     "metadata": {},
     "output_type": "display_data"
    },
    {
     "data": {
      "text/plain": [
       "frame\n",
       "40   -0.126642\n",
       "41    3.038630\n",
       "42    3.086760\n",
       "Name: (3, ang), dtype: float64"
      ]
     },
     "metadata": {},
     "output_type": "display_data"
    },
    {
     "data": {
      "text/plain": [
       "frame\n",
       "134    1.211825\n",
       "135    4.312780\n",
       "136    4.280874\n",
       "Name: (4, ang), dtype: float64"
      ]
     },
     "metadata": {},
     "output_type": "display_data"
    },
    {
     "data": {
      "text/plain": [
       "frame\n",
       "266     5.603216\n",
       "267     7.938640\n",
       "268    11.913747\n",
       "Name: (4, ang), dtype: float64"
      ]
     },
     "metadata": {},
     "output_type": "display_data"
    },
    {
     "data": {
      "text/plain": [
       "frame\n",
       "267     7.938640\n",
       "268    11.913747\n",
       "269    11.711038\n",
       "Name: (4, ang), dtype: float64"
      ]
     },
     "metadata": {},
     "output_type": "display_data"
    }
   ],
   "source": [
    "# At 30 fps, |v_ang|=30 (about where the rare peaks start) \n",
    "# corresponds to about pi/3 in one frame.\n",
    "print('v_ang for pi/3 in (1/30) second:',np.pi/3*trial.fps)\n",
    "\n",
    "print('Instances of unusually high v_ang:')\n",
    "for f in fish:\n",
    "    ang_diff  = trial.df[f,'ang'].diff()\n",
    "    ang_diff -= 2*np.pi*np.rint(ang_diff/(2*np.pi))\n",
    "    I = np.nonzero(np.absolute(ang_diff.values)>1)[0]\n",
    "    for i in I:\n",
    "        display(trial.df[f,'ang'][i-1:i+2])"
   ]
  },
  {
   "cell_type": "markdown",
   "metadata": {},
   "source": [
    "### Pair distance-pair angle distribution"
   ]
  },
  {
   "cell_type": "code",
   "execution_count": 11,
   "metadata": {},
   "outputs": [
    {
     "data": {
      "image/png": "[encoded data removed]",
      "text/plain": [
       "<Figure size 432x288 with 2 Axes>"
      ]
     },
     "metadata": {
      "needs_background": "light"
     },
     "output_type": "display_data"
    }
   ],
   "source": [
    "bins_d = np.linspace(0,2*trial.tank.r_cm,15)\n",
    "bins_a = np.linspace(0,np.pi,15)\n",
    "H      = [] # np.zeros((len(bins_d)-1,len(bins_a)-1))\n",
    "for f1,f2 in itertools.combinations(fish,2):\n",
    "#     print(f1,f2)\n",
    "    d = np.hypot(df[f1,'x']-df[f2,'x'],df[f1,'y']-df[f2,'y'])\n",
    "    a = df[f1,'ang']-df[f2,'ang']\n",
    "    a = a - 2*np.pi*np.rint(a/(2*np.pi))\n",
    "    \n",
    "    h,_,_ = np.histogram2d(d,a,bins=(bins_d,bins_a),normed=True)\n",
    "    H.append(h)\n",
    "\n",
    "H   = np.mean(H,axis=0)\n",
    "plt.pcolormesh(bins_d,bins_a,H.T)\n",
    "plt.xlabel('pair distance (cm)')\n",
    "plt.ylabel('pair angle (rad)')\n",
    "plt.colorbar()\n",
    "plt.show()"
   ]
  },
  {
   "cell_type": "markdown",
   "metadata": {},
   "source": [
    "# Angular dynamics"
   ]
  },
  {
   "cell_type": "code",
   "execution_count": 12,
   "metadata": {},
   "outputs": [
    {
     "data": {
      "image/png": "[encoded data removed]",
      "text/plain": [
       "<Figure size 864x432 with 1 Axes>"
      ]
     },
     "metadata": {
      "needs_background": "light"
     },
     "output_type": "display_data"
    }
   ],
   "source": [
    "# %matplotlib notebook\n",
    "# %matplotlib notebook\n",
    "# %matplotlib inline\n",
    "\n",
    "plt.figure(figsize=(12,6))\n",
    "for f in fish:\n",
    "    t    = df.index/trial.fps\n",
    "    ang  = df[f,'ang']\n",
    "\n",
    "    dang = ang.diff()\n",
    "    dang = dang - 2*np.pi*np.rint(dang/(2*np.pi))\n",
    "    ang  = np.cumsum(dang)\n",
    "\n",
    "    I = (t>297) & (t<301)\n",
    "    # t,th = t[I],th[I]\n",
    "\n",
    "    # plt.figure(figsize=(12,6))\n",
    "    # plt.xlim(297,301)\n",
    "    plt.plot(t,ang,label=f) #,marker='.')\n",
    "\n",
    "plt.xlabel('Time (s)')\n",
    "plt.ylabel('Angle (rad)')\n",
    "# plt.savefig(trial.make_fig_file('angle-vs-time',''),**trial.plot_options)\n",
    "plt.legend()\n",
    "plt.show()"
   ]
  },
  {
   "cell_type": "code",
   "execution_count": null,
   "metadata": {},
   "outputs": [],
   "source": []
  }
 ],
 "metadata": {
  "kernelspec": {
   "display_name": "Python (cvtracer)",
   "language": "python",
   "name": "cvtracer"
  },
  "language_info": {
   "codemirror_mode": {
    "name": "ipython",
    "version": 3
   },
   "file_extension": ".py",
   "mimetype": "text/x-python",
   "name": "python",
   "nbconvert_exporter": "python",
   "pygments_lexer": "ipython3",
   "version": "3.7.7"
  }
 },
 "nbformat": 4,
 "nbformat_minor": 4
}
