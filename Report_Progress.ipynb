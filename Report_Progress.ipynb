{
 "cells": [
  {
   "cell_type": "code",
   "execution_count": 1,
   "metadata": {},
   "outputs": [],
   "source": [
    "import os, sys, re\n",
    "from glob import glob\n",
    "\n",
    "def get_info(trial_dir):\n",
    "    name  = os.path.basename(trial_dir)\n",
    "    if not os.path.isdir(trial_dir):\n",
    "        return dict(name=name, status='not found')\n",
    "    in_trial_dir   = lambda x: os.path.join(trial_dir,x)\n",
    "    has_tank       = os.path.exists(in_trial_dir('tank.pik'))\n",
    "    has_background = os.path.exists(in_trial_dir('background.npz'))\n",
    "    has_trial      = os.path.exists(in_trial_dir('trial.pik'))\n",
    "    try:\n",
    "        with open(in_trial_dir('settings.txt')) as f:\n",
    "            settings = [ [x.strip() for x in line.split('=')] for line in f.readlines() ]\n",
    "    except:\n",
    "        settings = None\n",
    "    try:\n",
    "        with open(in_trial_dir('log.txt')) as f:\n",
    "            log = [ line.strip() for line in f.readlines() ]\n",
    "        if 'Failed' in log:\n",
    "            status = 'failed'\n",
    "        elif log[-1] == 'Done':\n",
    "            status = 'complete'\n",
    "        else:\n",
    "            progress = [ line.strip() for line in log if 'Tracking' in line ]\n",
    "            if len(progress)==0:\n",
    "                status = 'tracking (0%)'\n",
    "            else:\n",
    "                percent = re.findall('[\\d.]*%',progress[-1])[0]\n",
    "                status  = f'tracking ({percent})'\n",
    "    except:\n",
    "        status = 'no log'\n",
    "    \n",
    "    return locals()\n",
    "\n",
    "statuses = ['no log','tracking','complete','failed']"
   ]
  },
  {
   "cell_type": "code",
   "execution_count": 4,
   "metadata": {},
   "outputs": [
    {
     "data": {
      "text/plain": [
       "66"
      ]
     },
     "execution_count": 4,
     "metadata": {},
     "output_type": "execute_result"
    }
   ],
   "source": [
    "trial_dirs = sorted(glob('../tracking/full_20-10-06/Pa*4dpf*'))\n",
    "len(trial_dirs)"
   ]
  },
  {
   "cell_type": "code",
   "execution_count": 12,
   "metadata": {
    "scrolled": true
   },
   "outputs": [
    {
     "name": "stdout",
     "output_type": "stream",
     "text": [
      "complete             Pa_Fri_14dpf_GroupA_n2_20200612_1400\n",
      "complete             Pa_Fri_14dpf_GroupA_n2b_20200612_1300_10FPS\n",
      "complete             Pa_Fri_14dpf_GroupA_n2b_20200612_1400\n",
      "complete             Pa_Fri_14dpf_GroupB_n2_20200612_1430\n",
      "complete             Pa_Fri_14dpf_GroupB_n2b_20200612_1430\n",
      "complete             Pa_Fri_14dpf_GroupC_n2_20200612_1515\n",
      "complete             Pa_Fri_14dpf_GroupC_n2b_20200612_1515\n",
      "complete             Pa_Fri_14dpf_GroupD_n2_20200612_1600\n",
      "complete             Pa_Fri_14dpf_GroupD_n2b_20200612_1600\n",
      "complete             Pa_Fri_14dpf_groupA_n5_20200612_1300_10FPS\n",
      "complete             Pa_Fri_14dpf_groupB_n5_20200612_1430\n",
      "complete             Pa_Fri_14dpf_groupC_n5_20200612_1515\n",
      "complete             Pa_Fri_14dpf_groupD_n5_20200612_1600\n",
      "complete             Pa_Fri_84dpf_GroupA_n2_20200821_1304\n",
      "complete             Pa_Fri_84dpf_GroupA_n2b_20200821_1304\n",
      "complete             Pa_Fri_84dpf_GroupA_n5_20200821_1304\n",
      "complete             Pa_Fri_84dpf_GroupB_n1_20200821_1415\n",
      "complete             Pa_Fri_84dpf_GroupB_n1c_20200821_1415\n",
      "complete             Pa_Fri_84dpf_GroupB_n2_20200821_1340\n",
      "complete             Pa_Fri_84dpf_GroupB_n2b_20200821_1340\n",
      "complete             Pa_Fri_84dpf_GroupB_n5_20200821_1340\n",
      "complete             Pa_Fri_84dpf_GroupC_n1_20200821_1450\n",
      "complete             Pa_Fri_84dpf_GroupC_n2_20200821_1450\n",
      "failed               Pa_Fri_84dpf_GroupC_n5_20200821_1450\n",
      "complete             Pa_Mon_14dpf_GroupA_n1a_20200713_1725\n",
      "complete             Pa_Mon_14dpf_GroupA_n1b_20200713_1725\n",
      "complete             Pa_Mon_14dpf_GroupA_n1c_20200713_1725\n",
      "complete             Pa_Mon_14dpf_GroupA_n2_20200713_1650\n",
      "complete             Pa_Mon_14dpf_GroupA_n2b_20200713_1650\n",
      "complete             Pa_Mon_14dpf_GroupA_n5_20200713_1650\n",
      "complete             Pa_Mon_14dpf_GroupD_n1a_20200713_1830\n",
      "complete             Pa_Mon_14dpf_GroupD_n1b_20200713_1830\n",
      "complete             Pa_Mon_14dpf_GroupD_n1c_20200713_1830\n",
      "complete             Pa_Mon_14dpf_GroupD_n2a_20200713_1800\n",
      "complete             Pa_Mon_14dpf_GroupD_n2b_20200713_1800\n",
      "complete             Pa_Mon_14dpf_GroupD_n5_20200713_1800\n",
      "complete             Pa_Sun_14dpf_GroupA_n1a_20200621_1600\n",
      "complete             Pa_Sun_14dpf_GroupA_n1b_20200621_1600\n",
      "complete             Pa_Sun_14dpf_GroupA_n2a_20200621_1530\n",
      "complete             Pa_Sun_14dpf_GroupA_n2b_20200621_1525\n",
      "complete             Pa_Sun_14dpf_GroupA_n2c_20200621_1600\n",
      "complete             Pa_Sun_14dpf_GroupA_n5_20200621_1525\n",
      "complete             Pa_Sun_14dpf_GroupB_n1_20200621_1445\n",
      "complete             Pa_Sun_14dpf_GroupB_n2a_20200621_1410\n",
      "complete             Pa_Sun_14dpf_GroupB_n2b_20200621_1410\n",
      "complete             Pa_Sun_14dpf_GroupB_n2c_20200621_1445\n",
      "complete             Pa_Sun_14dpf_GroupB_n5a_20200621_1410\n",
      "complete             Pa_Sun_14dpf_GroupB_n5b_20200621_1445\n",
      "complete             Pa_Sun_14dpf_GroupC_n1a_20200621_1330\n",
      "complete             Pa_Sun_14dpf_GroupC_n1b_20200621_1600\n",
      "complete             Pa_Sun_14dpf_GroupC_n2a_20200621_1255\n",
      "complete             Pa_Sun_14dpf_GroupC_n2b_20200621_1255\n",
      "complete             Pa_Sun_14dpf_GroupC_n5a_20200621_1255\n",
      "complete             Pa_Sun_14dpf_GroupC_n5b_20200621_1330\n",
      "complete             Pa_Sun_84dpf_ GroupAa_n2b_20200830_1330\n",
      "complete             Pa_Sun_84dpf_GroupAa_n2_20200830_1330\n",
      "complete             Pa_Sun_84dpf_GroupAa_n5_20200830_1330\n",
      "complete             Pa_Sun_84dpf_GroupAb_n1_20200830_1300\n",
      "complete             Pa_Sun_84dpf_GroupAb_n2_20200830_1300\n",
      "tracking (87.9%)     Pa_Sun_84dpf_GroupAb_n5_20200830_1300\n",
      "complete             Pa_Sun_84dpf_GroupBa_n2_20200830_1410\n",
      "complete             Pa_Sun_84dpf_GroupBa_n2b_20200830_1410\n",
      "complete             Pa_Sun_84dpf_GroupBa_n5_20200830_1410\n",
      "complete             Pa_Sun_84dpf_GroupBb_n1_20200830_1215\n",
      "tracking (90.0%)     Pa_Sun_84dpf_GroupBb_n2_20200830_1215\n",
      "no log               Pa_Sun_84dpf_GroupBb_n5_20200830_1215\n"
     ]
    }
   ],
   "source": [
    "for trial_dir in trial_dirs:\n",
    "    try:\n",
    "        globals().update(get_info(trial_dir))\n",
    "#         if status == 'complete':\n",
    "#         if 'tracking' not in status:\n",
    "#             continue\n",
    "        print(f'{status:20s} {name}')\n",
    "    except:\n",
    "        print(f'No info for {trial_dir}')"
   ]
  },
  {
   "cell_type": "code",
   "execution_count": 11,
   "metadata": {},
   "outputs": [
    {
     "data": {
      "text/plain": [
       "{'no log': 1, 'tracking': 2, 'complete': 62, 'failed': 1}"
      ]
     },
     "metadata": {},
     "output_type": "display_data"
    }
   ],
   "source": [
    "status_count = { s:0 for s in statuses }\n",
    "\n",
    "for path in trial_dirs:\n",
    "    for s in statuses:\n",
    "        if s in get_info(path)['status']:\n",
    "            status_count[s] += 1\n",
    "    \n",
    "display(status_count)"
   ]
  },
  {
   "cell_type": "code",
   "execution_count": 18,
   "metadata": {},
   "outputs": [],
   "source": [
    "# for trial_dir in trial_dirs:\n",
    "#     locals().update(get_info(trial_dir))\n",
    "#     if status=='no log':\n",
    "#         trial_file = os.path.join(trial_dir,'trial.pik')\n",
    "#         log_file = os.path.join(trial_dir,'log.txt')\n",
    "#         if os.path.exists(trial_file):\n",
    "#             print(trial_dir)\n",
    "#             display(os.listdir(trial_dir))\n",
    "# #             os.remove(trial_file)\n"
   ]
  },
  {
   "cell_type": "code",
   "execution_count": null,
   "metadata": {},
   "outputs": [],
   "source": []
  }
 ],
 "metadata": {
  "kernelspec": {
   "display_name": "Python (main)",
   "language": "python",
   "name": "main"
  },
  "language_info": {
   "codemirror_mode": {
    "name": "ipython",
    "version": 3
   },
   "file_extension": ".py",
   "mimetype": "text/x-python",
   "name": "python",
   "nbconvert_exporter": "python",
   "pygments_lexer": "ipython3",
   "version": "3.6.10"
  }
 },
 "nbformat": 4,
 "nbformat_minor": 4
}
