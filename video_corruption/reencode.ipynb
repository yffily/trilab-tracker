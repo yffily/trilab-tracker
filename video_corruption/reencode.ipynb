{
 "cells": [
  {
   "cell_type": "code",
   "execution_count": 23,
   "metadata": {},
   "outputs": [],
   "source": [
    "import os, cv2\n",
    "import numpy as np"
   ]
  },
  {
   "cell_type": "code",
   "execution_count": 43,
   "metadata": {},
   "outputs": [
    {
     "name": "stdout",
     "output_type": "stream",
     "text": [
      "../raw_videos/fixed/SF_Sat_28dpf_GroupD_n1c_2020-06-27-165707-0000.avi\n",
      "70112\r"
     ]
    }
   ],
   "source": [
    "input_file = '../../raw_videos/google-drive/SF_Sat_28dpf_GroupD_n1c_2020-06-27-165707-0000.avi'\n",
    "\n",
    "# vlc can only reads 5 min 33 sec (~10000 frames) of this one.\n",
    "\n",
    "output_file = input_file.replace('google-drive','fixed')\n",
    "print(output_file)\n",
    "\n",
    "if output_file != input_file:\n",
    "\n",
    "    cap    = cv2.VideoCapture(input_file)\n",
    "    fps    = int(cap.get(cv2.CAP_PROP_FPS))\n",
    "    fourcc = int(cap.get(cv2.CAP_PROP_FOURCC))\n",
    "    width  = int(cap.get(cv2.CAP_PROP_FRAME_WIDTH))\n",
    "    height = int(cap.get(cv2.CAP_PROP_FRAME_HEIGHT))\n",
    "    out    = cv2.VideoWriter( filename = output_file, frameSize = (width,height), \n",
    "                               fourcc = fourcc, fps = fps, isColor = True )\n",
    "    \n",
    "    print(fps,fourcc,width,height)\n",
    "\n",
    "    try:\n",
    "        i = 0\n",
    "        while True:\n",
    "            i += 1\n",
    "            print(f'{i}',end='\\r')\n",
    "            ret,frame = cap.read()\n",
    "            if not ret:\n",
    "                break\n",
    "#             if i%1000==0:\n",
    "#                 print(output_file[:-4]+f'--{i}.jpg')\n",
    "#                 cv2.imwrite(output_file[:-4]+f'--{i}.jpg',frame)\n",
    "            out.write(frame)\n",
    "    except:\n",
    "        pass\n",
    "\n",
    "    cap.release()\n",
    "    out.release()"
   ]
  },
  {
   "cell_type": "code",
   "execution_count": null,
   "metadata": {},
   "outputs": [],
   "source": []
  },
  {
   "cell_type": "code",
   "execution_count": 44,
   "metadata": {},
   "outputs": [
    {
     "name": "stdout",
     "output_type": "stream",
     "text": [
      "../raw_videos/fixed/SF_Sat_7dpf_GroupA_n2a_CORRUPT.avi\n",
      "30 1196444237 1920 1200\n",
      "41032\r"
     ]
    }
   ],
   "source": [
    "input_file = '../../raw_videos/google-drive/SF_Sat_7dpf_GroupA_n2a_CORRUPT.avi'\n",
    "\n",
    "# vlc can only reads 5 min 33 sec (~10000 frames) of this one.\n",
    "\n",
    "output_file = input_file.replace('google-drive','fixed')\n",
    "print(output_file)\n",
    "\n",
    "if output_file != input_file:\n",
    "\n",
    "    cap    = cv2.VideoCapture(input_file)\n",
    "    fps    = int(cap.get(cv2.CAP_PROP_FPS))\n",
    "    fourcc = int(cap.get(cv2.CAP_PROP_FOURCC))\n",
    "    width  = int(cap.get(cv2.CAP_PROP_FRAME_WIDTH))\n",
    "    height = int(cap.get(cv2.CAP_PROP_FRAME_HEIGHT))\n",
    "    out    = cv2.VideoWriter( filename = output_file, frameSize = (width,height), \n",
    "                               fourcc = fourcc, fps = fps, isColor = True )\n",
    "    \n",
    "    print(fps,fourcc,width,height)\n",
    "\n",
    "    try:\n",
    "        i = 0\n",
    "        while True:\n",
    "            i += 1\n",
    "            print(f'{i}',end='\\r')\n",
    "            ret,frame = cap.read()\n",
    "            if not ret:\n",
    "                break\n",
    "#             if i%1000==0:\n",
    "#                 print(output_file[:-4]+f'--{i}.jpg')\n",
    "#                 cv2.imwrite(output_file[:-4]+f'--{i}.jpg',frame)\n",
    "            out.write(frame)\n",
    "    except:\n",
    "        pass\n",
    "\n",
    "    cap.release()\n",
    "    out.release()"
   ]
  },
  {
   "cell_type": "code",
   "execution_count": null,
   "metadata": {},
   "outputs": [],
   "source": []
  }
 ],
 "metadata": {
  "kernelspec": {
   "display_name": "Python (main)",
   "language": "python",
   "name": "main"
  },
  "language_info": {
   "codemirror_mode": {
    "name": "ipython",
    "version": 3
   },
   "file_extension": ".py",
   "mimetype": "text/x-python",
   "name": "python",
   "nbconvert_exporter": "python",
   "pygments_lexer": "ipython3",
   "version": "3.6.10"
  }
 },
 "nbformat": 4,
 "nbformat_minor": 4
}
