{
 "cells": [
  {
   "cell_type": "code",
   "execution_count": 1,
   "metadata": {},
   "outputs": [
    {
     "ename": "ModuleNotFoundError",
     "evalue": "No module named 'cv2'",
     "output_type": "error",
     "traceback": [
      "\u001b[0;31m---------------------------------------------------------------------------\u001b[0m",
      "\u001b[0;31mModuleNotFoundError\u001b[0m                       Traceback (most recent call last)",
      "\u001b[0;32m<ipython-input-1-67e6b12eb912>\u001b[0m in \u001b[0;36m<module>\u001b[0;34m\u001b[0m\n\u001b[1;32m      4\u001b[0m \u001b[0;32mfrom\u001b[0m \u001b[0mos\u001b[0m\u001b[0;34m.\u001b[0m\u001b[0mpath\u001b[0m \u001b[0;32mimport\u001b[0m \u001b[0mjoin\u001b[0m\u001b[0;34m\u001b[0m\u001b[0;34m\u001b[0m\u001b[0m\n\u001b[1;32m      5\u001b[0m \u001b[0;32mfrom\u001b[0m \u001b[0mglob\u001b[0m \u001b[0;32mimport\u001b[0m \u001b[0mglob\u001b[0m\u001b[0;34m\u001b[0m\u001b[0;34m\u001b[0m\u001b[0m\n\u001b[0;32m----> 6\u001b[0;31m \u001b[0;32mimport\u001b[0m \u001b[0mcv2\u001b[0m\u001b[0;34m\u001b[0m\u001b[0;34m\u001b[0m\u001b[0m\n\u001b[0m\u001b[1;32m      7\u001b[0m \u001b[0;32mimport\u001b[0m \u001b[0mnumpy\u001b[0m \u001b[0;32mas\u001b[0m \u001b[0mnp\u001b[0m\u001b[0;34m\u001b[0m\u001b[0;34m\u001b[0m\u001b[0m\n\u001b[1;32m      8\u001b[0m \u001b[0;32mimport\u001b[0m \u001b[0mmatplotlib\u001b[0m\u001b[0;34m.\u001b[0m\u001b[0mpyplot\u001b[0m \u001b[0;32mas\u001b[0m \u001b[0mplt\u001b[0m\u001b[0;34m\u001b[0m\u001b[0;34m\u001b[0m\u001b[0m\n",
      "\u001b[0;31mModuleNotFoundError\u001b[0m: No module named 'cv2'"
     ]
    }
   ],
   "source": [
    "from importlib import reload\n",
    "import platform, os, sys, datetime, re\n",
    "import multiprocessing\n",
    "from os.path import join\n",
    "from glob import glob\n",
    "import cv2\n",
    "import numpy as np\n",
    "import matplotlib.pyplot as plt\n",
    "import pandas as pd\n",
    "# sys.path.append(join(root_dir,'cvtracer'))\n",
    "from cvt.TrAQ.Tank import Tank\n",
    "from cvt.TrAQ.Tracker import Tracker\n",
    "from cvt.utils import *\n",
    "from converter import Converter\n",
    "\n",
    "\n",
    "tank_diameter_vs_age = { 7:9.6, 14:10.4, 21:12.8, 28:17.7, 42:33.8 }\n",
    "\n",
    "\n",
    "default_settings = dict(\n",
    "    t_start        = 0,     # Time at which to start tracking, in seconds.\n",
    "    t_end          = -1,    # Time at which to end tracking, in seconds.\n",
    "    \n",
    "    # Contour detection.\n",
    "    n_pixel_blur   =  7,    # square-root of n-pixels for threshold blurring\n",
    "    block_size     = 15,    # contour block size\n",
    "    thresh_offset  = 13,    # threshold offset for contour-finding\n",
    "    min_area       = 30,    # minimum area for detection\n",
    "    max_area       = 400,   # maximum area for detection\n",
    "    ideal_area     = 50,    # ideal area to rank contours in first frame (default=(min_area+max_area)/2)\n",
    "    max_aspect     = 20,    # maximum aspect ratio for detection\n",
    "    ideal_aspect   = 3,     # ideal aspect ratio to rank contours in first frame (default=max_aspect/2)\n",
    "    area_penalty   = 0.5,   # weight of area change when connecting fish across frames\n",
    "    reversal_threshold = 0.5, # average frame-to-frame displacement against the director \n",
    "                            # over the last few frames to trigger a reversal. \n",
    "    RGB            = True,  # track in color, false does greyscale\n",
    "    online_viewer  = False, # Toggle live preview of tracking.\n",
    "\n",
    "    # Background subtraction (for naive background subtraction only).\n",
    "    bkgSub_options = dict( n_training_frames = 100, # number of frames used to compute background\n",
    "                           t_start = 0, t_end = -1, # time range used to compute background\n",
    "                           contrast_factor = 4 ),   # post-subtraction contrast enhancement factor\n",
    "    \n",
    "    # What information to draw on the tracking output video.\n",
    "    video_output_options = dict( tank=True, points=False, directors=True, timestamp=True, \n",
    "                                 contours=True, contour_color=(100,255,0), contour_thickness=1 )\n",
    "    )\n",
    "\n",
    "\n",
    "def create_settings_(input_file, tracking_dir, settings):\n",
    "    settings = settings.copy()\n",
    "    globals().update(settings)\n",
    "    \n",
    "    ''' Extract trial info from the filename. '''\n",
    "    filename,ext = os.path.splitext(os.path.basename(input_file))\n",
    "    pop,_,age,group,Nfish = filename.split('_')[:5]\n",
    "    Nfish    = int(re.findall('\\d+',Nfish)[0])\n",
    "    age      = int(age[:-3])\n",
    "\n",
    "    ''' Define and create necessary folders/files/links. '''\n",
    "    output_dir = join(tracking_dir,filename)\n",
    "    new_input_file = input_file\n",
    "    if not 'windows' in platform.system().lower():\n",
    "        new_input_file = join(output_dir,'raw'+ext)\n",
    "    trial_file    = join(output_dir,'trial.pik')\n",
    "    tank_file     = join(output_dir,'tank.pik')\n",
    "    log_file      = join(output_dir,'log.txt')\n",
    "    \n",
    "    # Return as a settings dictionary.\n",
    "    for k,v in locals().items():\n",
    "        if k not in ['settings']:\n",
    "            settings[k] = v\n",
    "        \n",
    "    return settings\n",
    "\n",
    "\n",
    "def create_directories(settings):\n",
    "    for k in 'tracking_dir','output_dir','input_file','new_input_file':\n",
    "        globals()[k] = settings[k]\n",
    "    if not os.path.exists(tracking_dir):\n",
    "        os.mkdir(tracking_dir)\n",
    "    if not os.path.exists(output_dir):\n",
    "        os.mkdir(output_dir)\n",
    "    if not 'windows' in platform.system().lower():\n",
    "        if not os.path.exists(new_input_file):\n",
    "            os.symlink(os.path.relpath(input_file,output_dir),new_input_file)\n",
    "    return"
   ]
  },
  {
   "cell_type": "markdown",
   "metadata": {},
   "source": [
    "# Locate input/output and allocate CPU's\n",
    "\n",
    "`tracking_dir` sets the top-level output directory. The output of tracking each video will go in `tracking_dir`, in a subdirectory named after the input video file.  \n",
    "\n",
    "`n_threads` controls the number of tracking tasks to execute simulataneously. `n_threads = None` defaults to the number of CPU's on the machine running the notebook. **This feature doesn't work in Windows, if you're using Windows\n",
    "\n",
    "`input_files` set the list of video files to perform tracking on."
   ]
  },
  {
   "cell_type": "code",
   "execution_count": 2,
   "metadata": {},
   "outputs": [
    {
     "data": {
      "text/plain": [
       "['../raw_videos/google-drive/Pa_Fri_7dpf_GroupA_n2_2020-06-05-120920-0000.avi',\n",
       " '../raw_videos/google-drive/Pa_Fri_7dpf_GroupA_n2b_2020-06-05-103456-0000.avi',\n",
       " '../raw_videos/google-drive/Pa_Fri_7dpf_GroupA_n5_2020-06-05-083453-0000.avi',\n",
       " '../raw_videos/google-drive/repaired/Pa_Fri_7dpf_GroupB_n2_2020-06-05-124632-0000_CORRUPT-repaired.avi',\n",
       " '../raw_videos/google-drive/Pa_Fri_7dpf_GroupB_n2b_2020-06-05-114635-0000.avi',\n",
       " '../raw_videos/google-drive/Pa_Fri_7dpf_GroupB_n5_2020-06-05-094643-0000.avi',\n",
       " '../raw_videos/google-drive/repaired/Pa_Fri_7dpf_GroupC_n2_2020-06-05-132924-0000_CORRUPT-repaired.avi',\n",
       " '../raw_videos/google-drive/repaired/Pa_Fri_7dpf_GroupC_n2b_2020-06-05-122929-0000_CORRUPT-repaired.avi',\n",
       " '../raw_videos/google-drive/repaired/Pa_Fri_7dpf_GroupC_n5_CORRUPT-repaired.avi',\n",
       " '../raw_videos/google-drive/Pa_Fri_7dpf_GroupD_n2_2020-06-05-141433-0000.avi',\n",
       " '../raw_videos/google-drive/Pa_Fri_7dpf_GroupD_n2b_2020-06-05-131438-0000.avi',\n",
       " '../raw_videos/google-drive/Pa_Fri_7dpf_GroupD_n5_2020-06-05-111448-0000.avi']"
      ]
     },
     "metadata": {},
     "output_type": "display_data"
    }
   ],
   "source": [
    "tracking_dir = '../tracking/full_20-07-14'\n",
    "# tracking_dir = 'test'\n",
    "\n",
    "def create_settings(input_file,tracking_dir=tracking_dir,settings=default_settings):\n",
    "    return create_settings_(input_file,tracking_dir,settings)\n",
    "\n",
    "#-----------------------------\n",
    "\n",
    "n_threads = 6 # None\n",
    "# Multi-threading doesn't work in Windows. If the OS is Windows, set n_thread to 1.\n",
    "if 'windows' in platform.system().lower():\n",
    "    n_threads = 1\n",
    "\n",
    "#-----------------------------\n",
    "\n",
    "# input_files = ['../raw_videos/dropbox/SF_Sat_14dpf_GroupA_n2a_2020-06-13-090438-0000.avi']\n",
    "# input_files = ['../raw_videos/dropbox/SF_Sat_14dpf_GroupB_n2a_2020-06-13-115534-0000.avi']\n",
    "# input_files = ['../raw_videos/google-drive/SF_Sat_7dpf_GroupA_n2a_CORRUPT.avi']\n",
    "# input_files = ['../raw_videos/google-drive/Pa_Fri_7dpf_GroupA_n5_2020-06-05-083453-0000.avi']\n",
    "# input_files = ['../raw_videos/google-drive/Pa_Fri_7dpf_GroupB_n2b_2020-06-05-114635-0000.avi']\n",
    "# input_files = ['../raw_videos/google-drive/repaired/Pa_Fri_7dpf_GroupB_n2_2020-06-05-124632-0000_CORRUPT-repaired.avi']\n",
    "# input_files = ['../raw_videos/google-drive/Pa_Fri_7dpf_GroupD_n5_2020-06-05-111448-0000.avi']\n",
    "\n",
    "input_files = sorted(glob('../raw_videos/google-drive/Pa_Fri_7dpf_*.avi'))\n",
    "\n",
    "\n",
    "# Filter out corrupt videos. Replace them with repaired video if available.\n",
    "def swap_repaired_version(f):\n",
    "    d,fn = os.path.split(f)\n",
    "    fn,ext = os.path.splitext(fn)\n",
    "    f2   = os.path.join(d,'repaired',fn+'-repaired'+ext)\n",
    "    return f2 if os.path.exists(f2) else f\n",
    "\n",
    "input_files = [ swap_repaired_version(f) for f in input_files ]\n",
    "\n",
    "\n",
    "# Filter out videos that already have a tracking output in the current tracking_dir.\n",
    "# input_files = [ f for f in input_files if not os.path.exists(create_settings(f)['trial_file']) ]\n",
    "\n",
    "\n",
    "# input_files = input_files[1:2]\n",
    "display(input_files)"
   ]
  },
  {
   "cell_type": "markdown",
   "metadata": {},
   "source": [
    "# Locate the tanks"
   ]
  },
  {
   "cell_type": "code",
   "execution_count": 3,
   "metadata": {
    "scrolled": false
   },
   "outputs": [
    {
     "name": "stdout",
     "output_type": "stream",
     "text": [
      "../raw_videos/google-drive/Pa_Fri_7dpf_GroupA_n2_2020-06-05-120920-0000.avi\n",
      "../raw_videos/google-drive/Pa_Fri_7dpf_GroupA_n2b_2020-06-05-103456-0000.avi\n",
      "../raw_videos/google-drive/Pa_Fri_7dpf_GroupA_n5_2020-06-05-083453-0000.avi\n",
      "../raw_videos/google-drive/repaired/Pa_Fri_7dpf_GroupB_n2_2020-06-05-124632-0000_CORRUPT-repaired.avi\n",
      "../raw_videos/google-drive/Pa_Fri_7dpf_GroupB_n2b_2020-06-05-114635-0000.avi\n",
      "../raw_videos/google-drive/Pa_Fri_7dpf_GroupB_n5_2020-06-05-094643-0000.avi\n",
      "../raw_videos/google-drive/repaired/Pa_Fri_7dpf_GroupC_n2_2020-06-05-132924-0000_CORRUPT-repaired.avi\n",
      "../raw_videos/google-drive/repaired/Pa_Fri_7dpf_GroupC_n2b_2020-06-05-122929-0000_CORRUPT-repaired.avi\n",
      "../raw_videos/google-drive/repaired/Pa_Fri_7dpf_GroupC_n5_CORRUPT-repaired.avi\n",
      "../raw_videos/google-drive/Pa_Fri_7dpf_GroupD_n2_2020-06-05-141433-0000.avi\n",
      "../raw_videos/google-drive/Pa_Fri_7dpf_GroupD_n2b_2020-06-05-131438-0000.avi\n",
      "../raw_videos/google-drive/Pa_Fri_7dpf_GroupD_n5_2020-06-05-111448-0000.avi\n"
     ]
    }
   ],
   "source": [
    "import cvt\n",
    "reload(cvt.utils)\n",
    "from cvt.utils import *\n",
    "reload(cvt.TrAQ.Tank)\n",
    "from cvt.TrAQ.Tank import Tank\n",
    "reload(cvt.TrAQ.Tracker)\n",
    "from cvt.TrAQ.Tracker import Tracker\n",
    "\n",
    "\n",
    "for input_file in input_files:\n",
    "    print(input_file)\n",
    "    settings = create_settings(input_file)\n",
    "    create_directories(settings)\n",
    "    globals().update(settings)\n",
    "    tank = Tank()\n",
    "    tank.load_or_locate_and_save(tank_file,input_file)"
   ]
  },
  {
   "cell_type": "markdown",
   "metadata": {},
   "source": [
    "# Track"
   ]
  },
  {
   "cell_type": "code",
   "execution_count": null,
   "metadata": {
    "scrolled": false
   },
   "outputs": [
    {
     "name": "stdout",
     "output_type": "stream",
     "text": [
      "../raw_videos/google-drive/Pa_Fri_7dpf_GroupA_n2_2020-06-05-120920-0000.avi\n",
      "../raw_videos/google-drive/Pa_Fri_7dpf_GroupB_n5_2020-06-05-094643-0000.avi\n",
      "../raw_videos/google-drive/repaired/Pa_Fri_7dpf_GroupB_n2_2020-06-05-124632-0000_CORRUPT-repaired.avi\n",
      "../raw_videos/google-drive/Pa_Fri_7dpf_GroupB_n2b_2020-06-05-114635-0000.avi\n",
      "../raw_videos/google-drive/Pa_Fri_7dpf_GroupA_n5_2020-06-05-083453-0000.avi\n",
      "../raw_videos/google-drive/Pa_Fri_7dpf_GroupA_n2b_2020-06-05-103456-0000.avi\n",
      "     Current tracking time: 00:00:02.83\r"
     ]
    }
   ],
   "source": [
    "import cvt\n",
    "reload(cvt.utils)\n",
    "from cvt.utils import *\n",
    "reload(cvt.TrAQ.Tank)\n",
    "from cvt.TrAQ.Tank import Tank\n",
    "reload(cvt.TrAQ.Tracker)\n",
    "from cvt.TrAQ.Tracker import Tracker\n",
    "\n",
    "\n",
    "tweaks = dict( #t_start=815, t_end=855, \n",
    "#                ideal_area=50, ideal_aspect=3\n",
    "             )\n",
    "\n",
    "\n",
    "def track(input_file):\n",
    "    \n",
    "    sys.stdout.write(input_file+'\\n')\n",
    "    sys.stdout.flush()\n",
    "\n",
    "    settings = create_settings(input_file)\n",
    "    settings.update(tweaks)\n",
    "    globals().update(settings)\n",
    "    \n",
    "    with open(log_file,'w') as f_log:\n",
    "        \n",
    "        f_log.write('Initializing...\\n')\n",
    "        tracker = Tracker( input_video=new_input_file, output_dir=output_dir, \n",
    "                           n_ind=Nfish, t_start=t_start, t_end=t_end, \n",
    "                           n_pixel_blur=n_pixel_blur, block_size=block_size, \n",
    "                           threshold_offset=thresh_offset, \n",
    "                           min_area=min_area, max_area=max_area, \n",
    "                           ideal_area=ideal_area, max_aspect=max_aspect, \n",
    "                           ideal_aspect=ideal_aspect, area_penalty=area_penalty, \n",
    "                           reversal_threshold=reversal_threshold, \n",
    "                           bkgSub_options=bkgSub_options, RGB=True, live_preview=online_viewer )\n",
    "\n",
    "        tracker.save_settings()\n",
    "\n",
    "        frames_dir = join(output_dir,'frames')\n",
    "\n",
    "        try:\n",
    "            tracker.set_frame(tracker.frame_start)\n",
    "            tracker.init_live_preview()\n",
    "            for i_frame in range(tracker.frame_start, tracker.frame_end+1):\n",
    "                if i_frame%200==0:\n",
    "                    i1,i2 = i_frame-tracker.frame_start, tracker.frame_end-tracker.frame_start\n",
    "                    f_log.write(f'Tracking frame {i1}/{i2}...\\n')\n",
    "                    f_log.flush()\n",
    "                \n",
    "                if tracker.get_next_frame():\n",
    "                    # Use b to output detailed information about the subset of the frames.\n",
    "                    # Whenever b evaluates to True, images are saved in \"[output_dir]/frames\" \n",
    "                    # showing each step of the tracking process.\n",
    "                    b = False # True # 260<tracker.frame_num<275 # \n",
    "                    if b:\n",
    "                        if not os.path.exists(frames_dir):\n",
    "                            os.mkdir(frames_dir)\n",
    "    #                     cv2.imwrite(join(frames_dir,f'{tracker.frame_num}-1_raw.png'),tracker.frame)\n",
    "                    tracker.subtract_background()\n",
    "                    tracker.mask_tank()\n",
    "                    tracker.detect_contours()\n",
    "                    tracker.connect_frames()\n",
    "                    if b:\n",
    "#                         cv2.imwrite(join(frames_dir,f'{tracker.frame_num}-2_masked.png'),tracker.frame)\n",
    "                        video_output_options.update(directors=False)\n",
    "                        tracker.draw(**video_output_options)\n",
    "                        cv2.imwrite(join(frames_dir,f'{tracker.frame_num}-3_contours.png'),tracker.frame)\n",
    "                        video_output_options.update(directors=True)\n",
    "                    tracker.draw(**video_output_options)\n",
    "                    if b:\n",
    "                        cv2.imwrite(join(frames_dir,f'{tracker.frame_num}-4_directors.png'),tracker.frame)\n",
    "                    tracker.write_frame()\n",
    "                    if not tracker.post_frame(delay=1):\n",
    "                        break\n",
    "#                     if i_frame%10==0:\n",
    "                    tracker.print_current_frame()\n",
    "            tracker.release()\n",
    "            \n",
    "        except:\n",
    "            tracker.release()\n",
    "            f_log.write('\\nFailed\\n')\n",
    "            map(f_log.write,sys.exc_info())\n",
    "            %tb\n",
    "    \n",
    "        f_log.write('Saving...\\n')\n",
    "        tracker.save_trial()\n",
    "        \n",
    "    return\n",
    "\n",
    "\n",
    "# display(input_files)\n",
    "n_threads = 6\n",
    "\n",
    "if n_threads==1:\n",
    "\n",
    "    for input_file in input_files:\n",
    "        tracker = track(input_file)\n",
    "    \n",
    "else:\n",
    "    \n",
    "    pool = multiprocessing.Pool(n_threads)\n",
    "    pool.map(track,input_files)\n"
   ]
  },
  {
   "cell_type": "code",
   "execution_count": null,
   "metadata": {},
   "outputs": [],
   "source": [
    "# cv2.destroyAllWindows()"
   ]
  },
  {
   "cell_type": "markdown",
   "metadata": {},
   "source": [
    "# Load output and plot trajectories"
   ]
  },
  {
   "cell_type": "code",
   "execution_count": null,
   "metadata": {},
   "outputs": [],
   "source": [
    "display(input_files)"
   ]
  },
  {
   "cell_type": "code",
   "execution_count": null,
   "metadata": {},
   "outputs": [],
   "source": [
    "for input_file in input_files[:1]:\n",
    "    \n",
    "    print(input_file)\n",
    "    settings = create_settings(input_file)\n",
    "#     settings.update(tweaks)\n",
    "    globals().update(settings)\n",
    "    globals().update(load_pik(trial_file))\n",
    "    display(trial_file)\n",
    "    \n",
    "    # Plot trajectories.\n",
    "    plt.figure(figsize=(8,)*2)\n",
    "    circle = plt.Circle( (tank.x_px,tank.y_px), tank.r_px,\n",
    "                         facecolor='None', edgecolor='k', lw=0.5 )\n",
    "    plt.gca().add_patch(circle)\n",
    "    for fish in range(data.shape[1]):\n",
    "        x,y,theta,area = data[:,fish].T\n",
    "#         plt.plot(x,y,marker='o',ms=2,mew=0.5,mfc='None',lw=0,label=str(fish))\n",
    "        plt.plot(x,y,lw=1,label=str(fish))\n",
    "    plt.axis('equal')\n",
    "    plt.gca().yaxis.set_inverted(True)\n",
    "    plt.legend()\n",
    "    plt.show()\n"
   ]
  },
  {
   "cell_type": "code",
   "execution_count": null,
   "metadata": {},
   "outputs": [],
   "source": [
    "np.sum(np.isnan(data))/data.size"
   ]
  },
  {
   "cell_type": "code",
   "execution_count": null,
   "metadata": {},
   "outputs": [],
   "source": [
    "print(data.shape,data.size,np.sum(np.isnan(data)))"
   ]
  },
  {
   "cell_type": "code",
   "execution_count": null,
   "metadata": {},
   "outputs": [],
   "source": []
  }
 ],
 "metadata": {
  "kernelspec": {
   "display_name": "Python (cv)",
   "language": "python",
   "name": "cv"
  },
  "language_info": {
   "codemirror_mode": {
    "name": "ipython",
    "version": 3
   },
   "file_extension": ".py",
   "mimetype": "text/x-python",
   "name": "python",
   "nbconvert_exporter": "python",
   "pygments_lexer": "ipython3",
   "version": "3.6.10"
  }
 },
 "nbformat": 4,
 "nbformat_minor": 4
}
