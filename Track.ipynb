{
 "cells": [
  {
   "cell_type": "code",
   "execution_count": 1,
   "metadata": {},
   "outputs": [],
   "source": [
    "from importlib import reload\n",
    "import platform, os, sys, datetime, re\n",
    "import multiprocessing\n",
    "from os.path import join\n",
    "from glob import glob\n",
    "import cv2\n",
    "import numpy as np\n",
    "import matplotlib.pyplot as plt\n",
    "import pandas as pd\n",
    "# sys.path.append(join(root_dir,'cvtracer'))\n",
    "import cvt\n",
    "from cvt.TrAQ.Trial import Trial\n",
    "from cvt.TrAQ.Tank import Tank\n",
    "from cvt.TrAQ.CVTracer import CVTracer, create_named_window, wait_on_named_window\n",
    "from cvt.utils import *\n",
    "\n",
    "default_settings = dict(\n",
    "    t_start        = 0,     # Time at which to start tracking, in seconds.\n",
    "    t_end          = -1,    # Time at which to end tracking, in seconds.\n",
    "    \n",
    "    # Background subtraction (for naive background subtraction only).\n",
    "    bkg_frame_skip = 100,   # Using every frame of the video to compute the background takes a while.\n",
    "                            # Instead we only use one frame in bkg_frame_skip.\n",
    "    bkg_sub_amp    = 4,     # Contrast amplification factor applied after background subtraction.\n",
    "    \n",
    "    # Contour detection.\n",
    "    n_pixel_blur   =  7,    # square-root of n-pixels for threshold blurring\n",
    "    block_size     = 15,    # contour block size\n",
    "    thresh_offset  = 15,    # threshold offset for contour-finding\n",
    "    min_area       = 25,    # minimum area for threhold detection\n",
    "    max_area       = 60,    # maximum area for threhold detection\n",
    "    RGB            = False, # track in color, false does greyscale\n",
    "    online_viewer  = False, # Toggle live preview of tracking.\n",
    "\n",
    "    # What information to draw on the tracking output video.\n",
    "    video_output_options = dict(tank=True, repeat_contours=False, all_contours=True, \n",
    "                                contour_color=(0,200,255), contour_thickness=1, \n",
    "                                points=False, directors=True, timestamp=True)\n",
    "    )\n",
    "\n",
    "settings_list = list(default_settings.keys()) + \\\n",
    "                ['input_file', 'tracking_dir', 'output_dir', 'trial_file',  \n",
    "                 'new_input_file', 'bkg_file', 'tank_file', 'settings_file', \n",
    "                 'tank_radius', 'ext', 'filename', 'pop', 'age', 'group', 'Nfish', \n",
    "                 'Nframes', 'fps', 'fourcc', 'width', 'height']\n",
    "\n",
    "def create_settings_(input_file, tracking_dir, settings):\n",
    "    \n",
    "    globals().update(settings)\n",
    "    tank_diameter_vs_age = { 7:9.6, 14:10.4, 21:12.8, 28:17.7, 42:33.8 }\n",
    "    \n",
    "    ''' Extract trial info from the filename and the video itself. '''\n",
    "\n",
    "    filename,ext = os.path.splitext(os.path.basename(input_file))\n",
    "    pop,_,age,group,Nfish = filename.split('_')[:5]\n",
    "    Nfish    = int(re.findall('\\d+',Nfish)[0])\n",
    "    age      = int(age[:-3])\n",
    "    tank_radius = tank_diameter_vs_age[age]/2\n",
    "\n",
    "    cap      = cv2.VideoCapture(input_file)\n",
    "    cap.read()\n",
    "    Nframes  = int(cap.get(cv2.CAP_PROP_FRAME_COUNT))\n",
    "    fps      = int(cap.get(cv2.CAP_PROP_FPS))\n",
    "    fourcc   = int(cap.get(cv2.CAP_PROP_FOURCC))\n",
    "    width    = int(cap.get(cv2.CAP_PROP_FRAME_WIDTH))\n",
    "    height   = int(cap.get(cv2.CAP_PROP_FRAME_HEIGHT))\n",
    "    cap.release()\n",
    "    \n",
    "    ''' Define and create necessary folders/files/links. '''\n",
    "    \n",
    "    output_dir = join(tracking_dir,filename)\n",
    "\n",
    "    new_input_file = input_file\n",
    "    if not 'windows' in platform.system().lower():\n",
    "        new_input_file = join(output_dir,'raw'+ext)\n",
    "    \n",
    "    settings_file = join(output_dir,'tracking_settings.txt')\n",
    "    trial_file    = join(output_dir,'trial.pik')\n",
    "    tank_file     = join(output_dir,'tank.pik')\n",
    "    bkg_file      = join(output_dir,f'background-{bkg_frame_skip}.npy')\n",
    "    \n",
    "    for k,v in locals().items():\n",
    "        if k not in ['cap','settings','tank_diameter_vs_age','_']:\n",
    "            settings[k] = v\n",
    "        \n",
    "    return settings\n",
    "\n",
    "\n",
    "def create_directories(settings):\n",
    "    for k in 'tracking_dir','output_dir','input_file','new_input_file':\n",
    "        globals()[k] = settings[k]\n",
    "    if not os.path.exists(tracking_dir):\n",
    "        os.mkdir(tracking_dir)\n",
    "    if not os.path.exists(output_dir):\n",
    "        os.mkdir(output_dir)\n",
    "    if not 'windows' in platform.system().lower():\n",
    "        if not os.path.exists(new_input_file):\n",
    "            os.symlink(os.path.relpath(input_file,output_dir),new_input_file)\n",
    "    return\n",
    "\n",
    "\n",
    "def save_settings(settings):\n",
    "    with open(settings['settings_file'],'w') as fh:\n",
    "        for k,v in settings.items():\n",
    "            print(f'{k} = {v}',file=fh)\n",
    "    return"
   ]
  },
  {
   "cell_type": "markdown",
   "metadata": {},
   "source": [
    "# Locate input/output and allocate CPU's\n",
    "\n",
    "`tracking_dir` sets the top-level output directory. The output of tracking each video will go in `tracking_dir`, in a subdirectory named after the input video file.  \n",
    "\n",
    "`n_threads` controls the number of tracking tasks to execute simulataneously. `n_threads = None` defaults to the number of CPU's on the machine running the notebook.\n",
    "\n",
    "`input_files` set the list of video files to perform tracking on."
   ]
  },
  {
   "cell_type": "code",
   "execution_count": 2,
   "metadata": {},
   "outputs": [],
   "source": [
    "# tracking_dir = '../tracking/full' # use this one to track full videos\n",
    "# tracking_dir = '../tracking/partial' # use this one to track small excerpts\n",
    "tracking_dir = './test/output' # use this one to track small excerpts\n",
    "\n",
    "def create_settings(input_file,tracking_dir=tracking_dir,settings=default_settings):\n",
    "    return create_settings_(input_file,tracking_dir,settings)\n",
    "\n",
    "n_threads = None\n",
    "\n",
    "# input_files = sorted(glob('../raw_videos/*.avi'))\n",
    "# input_files = sorted(glob('../raw_videos/*_*_7dpf_*.avi'))\n",
    "\n",
    "# input_files = []\n",
    "# for f in sorted(glob('../raw_videos/*.avi')):\n",
    "#     print(f)\n",
    "#     settings = create_settings(f)\n",
    "#     if not os.path.exists(settings['trial_file']):\n",
    "#         input_files.append(f)\n",
    "# display(input_files)\n",
    "\n",
    "input_files = ['./test/input/Pa_Fri_7dpf_GroupA_n5_2020-06-05-083453-0000_60-70.avi']"
   ]
  },
  {
   "cell_type": "markdown",
   "metadata": {},
   "source": [
    "# Locate the tanks"
   ]
  },
  {
   "cell_type": "code",
   "execution_count": 3,
   "metadata": {
    "scrolled": true
   },
   "outputs": [
    {
     "name": "stdout",
     "output_type": "stream",
     "text": [
      "./test/input/Pa_Fri_7dpf_GroupA_n5_2020-06-05-083453-0000_60-70.avi\n",
      "\n",
      "        Tank object loaded from ./test/output/Pa_Fri_7dpf_GroupA_n5_2020-06-05-083453-0000_60-70/tank.pik \n"
     ]
    }
   ],
   "source": [
    "for input_file in input_files:\n",
    "    print(input_file)\n",
    "    settings = create_settings(input_file)\n",
    "    create_directories(settings)\n",
    "    globals().update(settings)\n",
    "    tank = Tank(r_cm=tank_radius)\n",
    "    tank.load_or_locate_and_save(tank_file,input_file)"
   ]
  },
  {
   "cell_type": "markdown",
   "metadata": {},
   "source": [
    "# Compute backgrounds\n",
    "\n",
    "Compute the background by averaging frames over the entire video. Save it as `background.npy` in the output directory. Use the pre-existing file if there is one."
   ]
  },
  {
   "cell_type": "code",
   "execution_count": 4,
   "metadata": {},
   "outputs": [
    {
     "data": {
      "text/plain": [
       "<Figure size 648x648 with 0 Axes>"
      ]
     },
     "metadata": {},
     "output_type": "display_data"
    }
   ],
   "source": [
    "def subtract_background(frame,bkg,bkg_sub_amp):\n",
    "    return 255-np.minimum(255,bkg_sub_amp*np.absolute(frame-bkg)).astype(np.uint8)    \n",
    "\n",
    "\n",
    "def compute_background(settings):\n",
    "    \n",
    "    globals().update(settings)\n",
    "    \n",
    "    if os.path.exists(bkg_file):\n",
    "        bkg  = np.load(bkg_file)\n",
    "    else:\n",
    "        t0    = datetime.datetime.now()\n",
    "        cap   = cv2.VideoCapture(new_input_file)\n",
    "        _,frame = cap.read()\n",
    "        bkg   = np.zeros(frame.shape,dtype=float)\n",
    "        count = 0\n",
    "        # If bkg_frame_skip is small (<10) it may be faster to use\n",
    "        # cap.grab instead of cap.set.\n",
    "        for n in range(0,Nframes,bkg_frame_skip):\n",
    "            cap.set(cv2.CAP_PROP_POS_FRAMES,n)\n",
    "            ret,frame = cap.read()\n",
    "            bkg      += frame\n",
    "            count    += 1\n",
    "        bkg   = bkg / count\n",
    "        np.save(bkg_file,bkg)\n",
    "        print(input_file)\n",
    "        print('Using every {bkg_frame_skip}th frame.')\n",
    "        print(datetime.datetime.now()-t0)\n",
    "        sys.stdout.flush()\n",
    "\n",
    "    # Show the background.\n",
    "    plt.figure(figsize=(9,9))\n",
    "    plt.imshow(bkg.astype(np.uint))\n",
    "    plt.savefig(join(output_dir,'background.png'),dpi=150)\n",
    "#     plt.show()\n",
    "    plt.clf()\n",
    "    \n",
    "    return\n",
    "\n",
    "#---------------------------------------------------\n",
    "\n",
    "# Single thread version.\n",
    "for f in input_files:\n",
    "    settings = create_settings(f)\n",
    "    compute_background(settings)\n",
    "\n",
    "#----\n",
    "\n",
    "# # Multithread version.\n",
    "# with multiprocessing.Pool(n_threads) as pool:\n",
    "#     pool.map(compute_background,[create_settings(f) for f in input_files])"
   ]
  },
  {
   "cell_type": "code",
   "execution_count": 5,
   "metadata": {},
   "outputs": [],
   "source": [
    "# cv2.destroyAllWindows()"
   ]
  },
  {
   "cell_type": "markdown",
   "metadata": {},
   "source": [
    "### Track with simple background subtraction"
   ]
  },
  {
   "cell_type": "code",
   "execution_count": 6,
   "metadata": {},
   "outputs": [
    {
     "name": "stdout",
     "output_type": "stream",
     "text": [
      "./test/input/Pa_Fri_7dpf_GroupA_n5_2020-06-05-083453-0000_60-70.avi\n",
      "\n",
      "        Tank object loaded from ./test/output/Pa_Fri_7dpf_GroupA_n5_2020-06-05-083453-0000_60-70/tank.pik \n",
      "Using Gaussian Adaptive Threshold\n",
      "Using Inverted Binary Threshold with [0, 100].\n",
      "       Current tracking time: 00:00:10:03 \n",
      "       Video capture released.\n",
      "\n",
      "        Trial object saved as ./test/output/Pa_Fri_7dpf_GroupA_n5_2020-06-05-083453-0000_60-70/trial.pik \n"
     ]
    }
   ],
   "source": [
    "reload(cvt.TrAQ.Trial)\n",
    "from cvt.TrAQ.Trial import Trial\n",
    "reload(cvt.TrAQ.CVTracer)\n",
    "from cvt.TrAQ.CVTracer import CVTracer, create_named_window, wait_on_named_window\n",
    "\n",
    "\n",
    "\n",
    "\n",
    "# tweaks = dict(t_start = 4, t_end = 4.5,\n",
    "tweaks = dict(t_start = 0, t_end = -1,\n",
    "              n_pixel_blur   =  5,    # square-root of n-pixels for threshold blurring\n",
    "              block_size     = 15,    # contour block size\n",
    "              thresh_offset  = 13,    # threshold offset for contour-finding\n",
    "              min_area       = 10,    # minimum area for threhold detection\n",
    "              max_area       = 100,   # maximum area for threhold detection\n",
    "              online_viewer  = True, \n",
    "              video_output_options = dict(tank=True, repeat_contours=False, all_contours=True, \n",
    "                            contour_color=(0,0,255), contour_thickness=1, \n",
    "                            points=False, timestamp=True)\n",
    "             )\n",
    "\n",
    "f = input_files[0]\n",
    "print(input_file)\n",
    "settings = create_settings(f)\n",
    "settings.update(tweaks)\n",
    "\n",
    "save_settings(settings)\n",
    "globals().update(settings)\n",
    "\n",
    "trial   = Trial()\n",
    "trial.init(video_file=new_input_file, output_dir=output_dir, n_ind=Nfish, \n",
    "           fps=fps, tank_radius=tank_radius, t_start=t_start, t_end=t_end)\n",
    "\n",
    "tracker = CVTracer(trial, n_pixel_blur=n_pixel_blur, block_size=block_size, \n",
    "                   threshold_offset=thresh_offset, min_area=min_area, max_area=max_area, \n",
    "                   significant_displacement=2, RGB=True, live_preview=online_viewer)\n",
    "\n",
    "bkg = np.load(bkg_file)\n",
    "\n",
    "try:\n",
    "    tracker.set_frame(tracker.frame_start)\n",
    "    tracker.init_live_preview()\n",
    "    for i_frame in range(tracker.frame_start, tracker.frame_end+1):\n",
    "        if tracker.get_frame():\n",
    "            tracker.frame = subtract_background(tracker.frame,bkg,bkg_sub_amp)\n",
    "            tracker.mask_tank()\n",
    "            tracker.detect_contours()\n",
    "            tracker.connect_frames()\n",
    "#             tracker.draw(directors=False,**video_output_options)\n",
    "#             cv2.imwrite(output_dir+f'/frames/{tracker.frame_num}_contours.png',tracker.frame)\n",
    "            tracker.draw(directors=True,**video_output_options)\n",
    "#             if 260<tracker.frame_num<275:\n",
    "#                 cv2.imwrite(output_dir+f'/frames/{tracker.frame_num}_directors.png',tracker.frame)\n",
    "            tracker.write_frame()\n",
    "            if not tracker.post_frame(delay=1):\n",
    "                break\n",
    "            tracker.print_current_frame()\n",
    "#         break\n",
    "    tracker.release()\n",
    "    tracker.trial.save()\n",
    "except:\n",
    "    tracker.release()\n",
    "#     display(tracker.df)\n",
    "    %tb\n"
   ]
  },
  {
   "cell_type": "code",
   "execution_count": 7,
   "metadata": {},
   "outputs": [
    {
     "data": {
      "image/png": "[encoded data removed]",
      "text/plain": [
       "<Figure size 648x648 with 1 Axes>"
      ]
     },
     "metadata": {
      "needs_background": "light"
     },
     "output_type": "display_data"
    }
   ],
   "source": [
    "plt.figure(figsize=(9,)*2)\n",
    "for fish,df in trial.df.T.groupby(level=0):\n",
    "# for fish in tracker.df.columns.levels[0]:\n",
    "#     df = tracker.df[fish].T\n",
    "    x,y,theta,area = df.values\n",
    "    plt.plot(x,y,marker='o',ms=5,mfc='None',lw=0,label=str(fish))\n",
    "plt.axis('equal')\n",
    "plt.gca().yaxis.set_inverted(True)\n",
    "plt.legend()\n",
    "plt.show()\n",
    "\n",
    "# display(tracker.df.loc[:,(slice(None),['x_','y_'])])"
   ]
  },
  {
   "cell_type": "code",
   "execution_count": null,
   "metadata": {},
   "outputs": [],
   "source": []
  },
  {
   "cell_type": "code",
   "execution_count": null,
   "metadata": {},
   "outputs": [],
   "source": []
  },
  {
   "cell_type": "code",
   "execution_count": null,
   "metadata": {},
   "outputs": [],
   "source": []
  },
  {
   "cell_type": "markdown",
   "metadata": {},
   "source": [
    "# MOG subtraction (older)"
   ]
  },
  {
   "cell_type": "code",
   "execution_count": 8,
   "metadata": {},
   "outputs": [],
   "source": [
    "# #==========================================================================\n",
    "# # Parameter tweaking area.\n",
    "\n",
    "# t_start,t_end = 60,65 # Times between which to track, in seconds.\n",
    "# n_pixel_blur  = 3     # square-root of n-pixels for threshold blurring\n",
    "# block_size    = 15    # contour block size\n",
    "# thresh_offset = 4     # threshold offset for contour-finding\n",
    "# min_area      = 30    # minimum area for threhold detection\n",
    "# max_area      = 100   # maximum area for threhold detection\n",
    "# online_viewer = True\n",
    "\n",
    "# video_output_options = dict(tank=True, repeat_contours=False, all_contours=True, \n",
    "#                             contour_color=(0,255,0), contour_thickness=1, \n",
    "#                             points=False, directors=True, timestamp=True)\n",
    "\n",
    "# #==========================================================================\n",
    "# # Actual tracking.\n",
    "\n",
    "# save_settings()\n",
    "\n",
    "# trial = Trial()\n",
    "# trial.init(video_file=new_input_file, output_dir=output_dir, n=Nfish, t=pop, date=date, \n",
    "#            fps=fps, tank_radius=tank_radius, t_start=t_start, t_end=t_end)\n",
    "\n",
    "# cvt = CVTracer(trial, n_pixel_blur=n_pixel_blur, block_size=block_size, \n",
    "#                threshold_offset=thresh_offset, min_area=min_area, RGB=True,\n",
    "#                online=online_viewer, \n",
    "#                MOG2=True, MOG_history=10000, MOG_initial_skip=500,\n",
    "#                MOG_varThreshold=35, MOG_learning_rate=0.001)\n",
    "\n",
    "# try:\n",
    "#     cvt.set_frame(cvt.frame_start)\n",
    "#     cvt.init_live_preview()\n",
    "#     for i_frame in range(cvt.frame_start, cvt.frame_end+1):\n",
    "#         if cvt.get_frame():\n",
    "#             cvt.mask_tank()\n",
    "#             cvt.mask_background()\n",
    "#             cvt.detect_contours()\n",
    "#             cvt.analyze_contours()\n",
    "#             cvt.connect_frames()\n",
    "#             cvt.update_trial()\n",
    "#             cvt.draw(**video_output_options)\n",
    "#             cvt.write_frame()\n",
    "#             if not cvt.post_frame(delay=1):\n",
    "#                 break\n",
    "#             cvt.print_current_frame()\n",
    "#     cvt.release()\n",
    "#     cvt.trial.save()\n",
    "# except:\n",
    "#     %tb\n",
    "#     cvt.release()"
   ]
  },
  {
   "cell_type": "code",
   "execution_count": null,
   "metadata": {},
   "outputs": [],
   "source": []
  }
 ],
 "metadata": {
  "kernelspec": {
   "display_name": "Python (cvtracer)",
   "language": "python",
   "name": "cvtracer"
  },
  "language_info": {
   "codemirror_mode": {
    "name": "ipython",
    "version": 3
   },
   "file_extension": ".py",
   "mimetype": "text/x-python",
   "name": "python",
   "nbconvert_exporter": "python",
   "pygments_lexer": "ipython3",
   "version": "3.7.7"
  }
 },
 "nbformat": 4,
 "nbformat_minor": 4
}
