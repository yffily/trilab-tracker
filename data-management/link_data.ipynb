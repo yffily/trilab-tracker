{
 "cells": [
  {
   "cell_type": "markdown",
   "metadata": {},
   "source": [
    "**Description:** The output of the analysis of a specific trial is stored in a folder named after that trial. Sometimes it's convenient to have the output of a specific analysis for all the trials together in a folder. This scripts does just that by creating links to the original data.\n",
    "\n",
    "**Note:** There's a quicker, more flexible way to achieve that in linux. For example: `eog SF_*/figures/density_histogram.png` opens all density histogram figures from surface fish trials in eye-of-gnome."
   ]
  },
  {
   "cell_type": "code",
   "execution_count": 1,
   "metadata": {},
   "outputs": [],
   "source": [
    "import os\n",
    "from glob import glob\n",
    "\n",
    "src_dir  = '../../tracking/full_20-09-25'\n",
    "link_dir = '../../analysis/links'"
   ]
  },
  {
   "cell_type": "markdown",
   "metadata": {},
   "source": [
    "### Link files located in the trial's tracking directory"
   ]
  },
  {
   "cell_type": "code",
   "execution_count": 2,
   "metadata": {},
   "outputs": [],
   "source": [
    "src_list = glob(os.path.join(src_dir,'*','tracked.mp4'))\n",
    "dest_dir = os.path.join(link_dir,'tracked_videos')\n",
    "\n",
    "if not os.path.exists(dest_dir):\n",
    "    os.mkdir(dest_dir)\n",
    "for src in src_list:\n",
    "#     print(src)\n",
    "    src  = os.path.join('..',src)\n",
    "    dest = os.path.join(dest_dir,  src.split('/')[-2] + '__tracked.mp4')\n",
    "    if not os.path.exists(dest):\n",
    "        os.symlink(src,dest)"
   ]
  },
  {
   "cell_type": "markdown",
   "metadata": {},
   "source": [
    "### Link files located in the trial's figures directory"
   ]
  },
  {
   "cell_type": "code",
   "execution_count": 7,
   "metadata": {},
   "outputs": [],
   "source": [
    "fig_names = [ 'dwall__histogram.png', 'trajectories.png', 'ang_v__histogram.png', \n",
    "              'valid_fraction.png', 'distance-angle__2d-histogram.png', \n",
    "              'angle-vs-time.png', 'v__histogram.png', 'polar-order-vs-distance.png' ]\n",
    "\n",
    "for fig_name in fig_names:\n",
    "\n",
    "    fn,ext   = os.path.splitext(fig_name) \n",
    "    src_list = glob(os.path.join(src_dir,'*','figures',fig_name))\n",
    "    dest_dir = os.path.join(link_dir,fn)\n",
    "\n",
    "    if not os.path.exists(dest_dir):\n",
    "        os.mkdir(dest_dir)\n",
    "    for src in src_list:\n",
    "    #     print(src)\n",
    "        src  = os.path.join('..',src)\n",
    "        dest = os.path.join(dest_dir,  src.split('/')[-3] + '__{fig_name}')\n",
    "        if not os.path.exists(dest):\n",
    "            os.symlink(src,dest)"
   ]
  },
  {
   "cell_type": "code",
   "execution_count": null,
   "metadata": {},
   "outputs": [],
   "source": []
  }
 ],
 "metadata": {
  "kernelspec": {
   "display_name": "Python 3",
   "language": "python",
   "name": "python3"
  },
  "language_info": {
   "codemirror_mode": {
    "name": "ipython",
    "version": 3
   },
   "file_extension": ".py",
   "mimetype": "text/x-python",
   "name": "python",
   "nbconvert_exporter": "python",
   "pygments_lexer": "ipython3",
   "version": "3.8.10"
  }
 },
 "nbformat": 4,
 "nbformat_minor": 4
}
