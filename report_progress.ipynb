{
 "cells": [
  {
   "cell_type": "code",
   "execution_count": null,
   "metadata": {},
   "outputs": [],
   "source": [
    "import os, sys, re\n",
    "from glob import glob\n",
    "\n",
    "def get_info(trial_dir):\n",
    "    name  = os.path.basename(trial_dir)\n",
    "    if not os.path.isdir(trial_dir):\n",
    "        return dict(name=name, status='not found')\n",
    "    in_trial_dir   = lambda x: os.path.join(trial_dir,x)\n",
    "    has_tank       = os.path.exists(in_trial_dir('tank.pik'))\n",
    "    has_background = os.path.exists(in_trial_dir('background.npz'))\n",
    "    has_trial      = os.path.exists(in_trial_dir('trial.pik'))\n",
    "    try:\n",
    "        with open(in_trial_dir('settings.txt')) as f:\n",
    "            settings = [ [x.strip() for x in line.split('=')] for line in f.readlines() ]\n",
    "    except:\n",
    "        settings = None\n",
    "    try:\n",
    "        with open(in_trial_dir('log.txt')) as f:\n",
    "            log = [ line.strip() for line in f.readlines() ]\n",
    "        if 'Failed' in log:\n",
    "            status = 'failed'\n",
    "        elif log[-1] == 'Done':\n",
    "            status = 'complete'\n",
    "        else:\n",
    "            progress = [ line.strip() for line in log if 'Tracking' in line ]\n",
    "            if len(progress)==0:\n",
    "                status = 'tracking (0%)'\n",
    "            else:\n",
    "                percent = re.findall('[\\d.]*%',progress[-1])[0]\n",
    "                status  = f'tracking ({percent})'\n",
    "    except:\n",
    "        status = 'no log'\n",
    "    \n",
    "    return locals()\n",
    "\n",
    "statuses = ['no log','tracking','complete','failed']"
   ]
  },
  {
   "cell_type": "code",
   "execution_count": null,
   "metadata": {},
   "outputs": [],
   "source": [
    "trial_dirs = sorted(glob('../tracking/full_21-01-22/*'))\n",
    "len(trial_dirs)"
   ]
  },
  {
   "cell_type": "code",
   "execution_count": null,
   "metadata": {
    "scrolled": false
   },
   "outputs": [],
   "source": [
    "for trial_dir in trial_dirs:\n",
    "    try:\n",
    "        globals().update(get_info(trial_dir))\n",
    "        if status in ['complete','no log']:\n",
    "#         if 'tracking' not in status:\n",
    "            continue\n",
    "        print(f'{status:20s} {name}')\n",
    "    except:\n",
    "        print(f'No info for {trial_dir}')"
   ]
  },
  {
   "cell_type": "code",
   "execution_count": null,
   "metadata": {},
   "outputs": [],
   "source": [
    "status_count = { s:0 for s in statuses }\n",
    "\n",
    "for path in trial_dirs:\n",
    "    for s in statuses:\n",
    "        if s in get_info(path)['status']:\n",
    "            status_count[s] += 1\n",
    "    \n",
    "display(status_count)"
   ]
  },
  {
   "cell_type": "code",
   "execution_count": null,
   "metadata": {},
   "outputs": [],
   "source": [
    "# for trial_dir in trial_dirs:\n",
    "#     locals().update(get_info(trial_dir))\n",
    "#     if status=='no log':\n",
    "#         trial_file = os.path.join(trial_dir,'trial.pik')\n",
    "#         log_file = os.path.join(trial_dir,'log.txt')\n",
    "#         if os.path.exists(trial_file):\n",
    "#             print(trial_dir)\n",
    "#             display(os.listdir(trial_dir))\n",
    "# #             os.remove(trial_file)\n"
   ]
  },
  {
   "cell_type": "code",
   "execution_count": null,
   "metadata": {},
   "outputs": [],
   "source": []
  }
 ],
 "metadata": {
  "kernelspec": {
   "display_name": "Python (main)",
   "language": "python",
   "name": "main"
  },
  "language_info": {
   "codemirror_mode": {
    "name": "ipython",
    "version": 3
   },
   "file_extension": ".py",
   "mimetype": "text/x-python",
   "name": "python",
   "nbconvert_exporter": "python",
   "pygments_lexer": "ipython3",
   "version": "3.6.10"
  }
 },
 "nbformat": 4,
 "nbformat_minor": 4
}
