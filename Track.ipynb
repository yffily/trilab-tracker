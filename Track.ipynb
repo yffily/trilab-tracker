{
 "cells": [
  {
   "cell_type": "code",
   "execution_count": 1,
   "metadata": {},
   "outputs": [],
   "source": [
    "from importlib import reload\n",
    "import platform, os, sys, datetime, re\n",
    "import multiprocessing\n",
    "from os.path import join\n",
    "from glob import glob\n",
    "import cv2\n",
    "import numpy as np\n",
    "import matplotlib.pyplot as plt\n",
    "import pandas as pd\n",
    "# sys.path.append(join(root_dir,'cvtracer'))\n",
    "from cvt.TrAQ.Tank import Tank\n",
    "from cvt.TrAQ.Tracker import Tracker\n",
    "from cvt.utils import *\n",
    "\n",
    "\n",
    "tank_diameter_vs_age = { 7:9.6, 14:10.4, 21:12.8, 28:17.7, 42:33.8 }\n",
    "\n",
    "\n",
    "default_settings = dict(\n",
    "    t_start        = 0,     # Time at which to start tracking, in seconds.\n",
    "    t_end          = -1,    # Time at which to end tracking, in seconds.\n",
    "    \n",
    "    # Contour detection.\n",
    "    n_pixel_blur   =  7,    # square-root of n-pixels for threshold blurring\n",
    "    block_size     = 15,    # contour block size\n",
    "    thresh_offset  = 15,    # threshold offset for contour-finding\n",
    "    min_area       = 25,    # minimum area for threhold detection\n",
    "    max_area       = 60,    # maximum area for threhold detection\n",
    "    RGB            = False, # track in color, false does greyscale\n",
    "    online_viewer  = False, # Toggle live preview of tracking.\n",
    "\n",
    "    # Background subtraction (for naive background subtraction only).\n",
    "    bkgSub_options = dict( n_training_frames = 100, # number of frames used to compute background\n",
    "                           t_start = 0, t_end = -1, # time range used to compute background\n",
    "                           contrast_factor = 4 ),   # post-subtraction contrast enhancement factor\n",
    "    \n",
    "    # What information to draw on the tracking output video.\n",
    "    video_output_options = dict(tank=True, repeat_contours=False, all_contours=True, \n",
    "                                contour_color=(0,200,255), contour_thickness=1, \n",
    "                                points=False, directors=True, timestamp=True)\n",
    "    )\n",
    "\n",
    "\n",
    "def create_settings_(input_file, tracking_dir, settings):\n",
    "    \n",
    "    globals().update(settings)\n",
    "    \n",
    "    ''' Extract trial info from the filename. '''\n",
    "    filename,ext = os.path.splitext(os.path.basename(input_file))\n",
    "    pop,_,age,group,Nfish = filename.split('_')[:5]\n",
    "    Nfish    = int(re.findall('\\d+',Nfish)[0])\n",
    "    age      = int(age[:-3])\n",
    "\n",
    "    ''' Define and create necessary folders/files/links. '''\n",
    "    output_dir = join(tracking_dir,filename)\n",
    "    new_input_file = input_file\n",
    "    if not 'windows' in platform.system().lower():\n",
    "        new_input_file = join(output_dir,'raw'+ext)\n",
    "#     settings_file = join(output_dir,'settings.txt')\n",
    "    trial_file    = join(output_dir,'trial.pik')\n",
    "    tank_file     = join(output_dir,'tank.pik')\n",
    "    \n",
    "    # Return as a settings dictionary.\n",
    "    for k,v in locals().items():\n",
    "        if k not in ['settings']:\n",
    "            settings[k] = v\n",
    "        \n",
    "    return settings\n",
    "\n",
    "\n",
    "def create_directories(settings):\n",
    "    for k in 'tracking_dir','output_dir','input_file','new_input_file':\n",
    "        globals()[k] = settings[k]\n",
    "    if not os.path.exists(tracking_dir):\n",
    "        os.mkdir(tracking_dir)\n",
    "    if not os.path.exists(output_dir):\n",
    "        os.mkdir(output_dir)\n",
    "    if not 'windows' in platform.system().lower():\n",
    "        if not os.path.exists(new_input_file):\n",
    "            os.symlink(os.path.relpath(input_file,output_dir),new_input_file)\n",
    "    return\n",
    "\n",
    "\n",
    "# def save_settings(settings):\n",
    "#     with open(settings['settings_file'],'w') as fh:\n",
    "#         for k,v in settings.items():\n",
    "#             print(f'{k} = {v}',file=fh)\n",
    "#     return"
   ]
  },
  {
   "cell_type": "code",
   "execution_count": 2,
   "metadata": {},
   "outputs": [],
   "source": [
    "import cvt\n",
    "reload(cvt.utils)\n",
    "from cvt.utils import *\n",
    "reload(cvt.TrAQ.Tank)\n",
    "from cvt.TrAQ.Tank import Tank\n",
    "reload(cvt.TrAQ.Tracker)\n",
    "from cvt.TrAQ.Tracker import Tracker"
   ]
  },
  {
   "cell_type": "markdown",
   "metadata": {},
   "source": [
    "# Locate input/output and allocate CPU's\n",
    "\n",
    "`tracking_dir` sets the top-level output directory. The output of tracking each video will go in `tracking_dir`, in a subdirectory named after the input video file.  \n",
    "\n",
    "`n_threads` controls the number of tracking tasks to execute simulataneously. `n_threads = None` defaults to the number of CPU's on the machine running the notebook. **This feature doesn't work in Windows, if you're using Windows\n",
    "\n",
    "`input_files` set the list of video files to perform tracking on."
   ]
  },
  {
   "cell_type": "code",
   "execution_count": 3,
   "metadata": {},
   "outputs": [
    {
     "data": {
      "text/plain": [
       "['../raw_videos/Pa_Fri_7dpf_GroupB_n2b_2020-06-05-114635-0000.avi',\n",
       " '../raw_videos/Pa_Fri_7dpf_GroupB_n5_2020-06-05-094643-0000.avi']"
      ]
     },
     "metadata": {},
     "output_type": "display_data"
    }
   ],
   "source": [
    "# tracking_dir = '../tracking/full' # use this one to track full videos\n",
    "# tracking_dir = '../tracking/partial' # use this one to track small excerpts\n",
    "tracking_dir = 'test'\n",
    "\n",
    "def create_settings(input_file,tracking_dir=tracking_dir,settings=default_settings):\n",
    "    return create_settings_(input_file,tracking_dir,settings)\n",
    "\n",
    "#-----------------------------\n",
    "\n",
    "n_threads = 1 # None\n",
    "# Multi-threading doesn't work in Windows. If the OS is Windows, multi-threading doesn't work, set n_thread to 1.\n",
    "if 'windows' in platform.system().lower():\n",
    "    n_threads = 1\n",
    "\n",
    "#-----------------------------\n",
    "\n",
    "# input_files = sorted(glob('../raw_videos/*.avi'))\n",
    "input_files = sorted(glob('../raw_videos/Pa_Fri_7dpf_GroupB_*.avi'))\n",
    "\n",
    "# input_files = []\n",
    "# for f in sorted(glob('../raw_videos/*.avi')):\n",
    "#     print(f)\n",
    "#     settings = create_settings(f)\n",
    "#     if not os.path.exists(settings['trial_file']):\n",
    "#         input_files.append(f)\n",
    "# display(input_files)\n",
    "\n",
    "# input_files = sorted(glob('./test/input/*.avi'))\n",
    "\n",
    "display(input_files)"
   ]
  },
  {
   "cell_type": "markdown",
   "metadata": {},
   "source": [
    "# Locate the tanks"
   ]
  },
  {
   "cell_type": "code",
   "execution_count": 4,
   "metadata": {
    "scrolled": false
   },
   "outputs": [
    {
     "name": "stdout",
     "output_type": "stream",
     "text": [
      "../raw_videos/Pa_Fri_7dpf_GroupB_n2b_2020-06-05-114635-0000.avi\n",
      "    Locating tank edges... \n",
      "\n",
      "       Tank detection complete.\n",
      "../raw_videos/Pa_Fri_7dpf_GroupB_n5_2020-06-05-094643-0000.avi\n",
      "    Locating tank edges... \n",
      "\n",
      "       Tank detection complete.\n"
     ]
    }
   ],
   "source": [
    "for input_file in input_files:\n",
    "    print(input_file)\n",
    "    settings = create_settings(input_file)\n",
    "    create_directories(settings)\n",
    "    globals().update(settings)\n",
    "    tank = Tank()\n",
    "    tank.load_or_locate_and_save(tank_file,input_file)"
   ]
  },
  {
   "cell_type": "markdown",
   "metadata": {},
   "source": [
    "# Track"
   ]
  },
  {
   "cell_type": "code",
   "execution_count": 5,
   "metadata": {},
   "outputs": [
    {
     "name": "stdout",
     "output_type": "stream",
     "text": [
      "../raw_videos/Pa_Fri_7dpf_GroupB_n2b_2020-06-05-114635-0000.avi\n",
      "       Computing background...\n",
      "       Current tracking time: 00:01:30:03 \n",
      "       Video capture released.\n",
      "../raw_videos/Pa_Fri_7dpf_GroupB_n5_2020-06-05-094643-0000.avi\n",
      "       Computing background...\n",
      "       Current tracking time: 00:01:30:03 \n",
      "       Video capture released.\n"
     ]
    }
   ],
   "source": [
    "# tweaks = dict(t_start = 4, t_end = 5,\n",
    "tweaks = dict(t_start = 60, t_end = 90,\n",
    "              n_pixel_blur   =  5,    # square-root of n-pixels for threshold blurring\n",
    "              block_size     = 15,    # contour block size\n",
    "              thresh_offset  = 13,    # threshold offset for contour-finding\n",
    "              min_area       = 15,    # minimum area for threhold detection\n",
    "              max_area       = 100,   # maximum area for threhold detection\n",
    "              online_viewer  = False, \n",
    "              video_output_options = dict( tank = False, contours = True, \n",
    "                                           contour_color = (0,0,255), contour_thickness = 1, \n",
    "                                           points = False, directors = True, timestamp = True ),\n",
    "                                           # Note: There's no point drawing the tank since we're masking\n",
    "                                           # everything outside the tank anyway.\n",
    "             )\n",
    "\n",
    "def track(input_file):\n",
    "    \n",
    "    print(input_file)\n",
    "\n",
    "    settings = create_settings(input_file)\n",
    "    settings.update(tweaks)\n",
    "    # save_settings(settings)\n",
    "    globals().update(settings)\n",
    "\n",
    "    # trial   = Trial()\n",
    "    # trial.init(video_file=new_input_file, output_dir=output_dir, n_ind=Nfish, \n",
    "    #            fps=fps, tank_radius=tank_radius, t_start=t_start, t_end=t_end)\n",
    "\n",
    "    tracker = Tracker( input_video=new_input_file, output_dir=output_dir, n_ind=Nfish, \n",
    "                       t_start=t_start, t_end=t_end, \n",
    "                       n_pixel_blur=n_pixel_blur, block_size=block_size, \n",
    "                       threshold_offset=thresh_offset, min_area=min_area, max_area=max_area, \n",
    "                       bkgSub_options=bkgSub_options, RGB=True, live_preview=online_viewer)\n",
    "\n",
    "    tracker.save_settings()\n",
    "\n",
    "    frames_dir = join(output_dir,'frames')\n",
    "\n",
    "    try:\n",
    "        tracker.set_frame(tracker.frame_start)\n",
    "        tracker.init_live_preview()\n",
    "        print()\n",
    "        for i_frame in range(tracker.frame_start, tracker.frame_end+1):\n",
    "            if tracker.get_next_frame():\n",
    "                # Use b to output detailed information about the subset of the frames.\n",
    "                # Whenever b evaluates to True, images are saved in \"[output_dir]/frames\" \n",
    "                # showing each step of the tracking process.\n",
    "                b = False # True # 260<tracker.frame_num<275 # \n",
    "                if b:\n",
    "                    if not os.path.exists(frames_dir):\n",
    "                        os.mkdir(frames_dir)\n",
    "                    cv2.imwrite(join(frames_dir,f'{tracker.frame_num}-1_raw.png'),tracker.frame)\n",
    "                tracker.subtract_background()\n",
    "                if b:\n",
    "                    cv2.imwrite(join(frames_dir,f'{tracker.frame_num}-2_subtracted.png'),tracker.frame)\n",
    "                tracker.mask_tank()\n",
    "                tracker.detect_contours()\n",
    "                tracker.connect_frames()\n",
    "                if b:\n",
    "                    cv2.imwrite(join(frames_dir,f'{tracker.frame_num}-3_masked.png'),tracker.frame)\n",
    "                    video_output_options.update(directors=False)\n",
    "                    tracker.draw(**video_output_options)\n",
    "                    cv2.imwrite(join(frames_dir,f'{tracker.frame_num}-4_contours.png'),tracker.frame)\n",
    "                    video_output_options.update(directors=True)\n",
    "                tracker.draw(**video_output_options)\n",
    "                if b:\n",
    "                    cv2.imwrite(join(frames_dir,f'{tracker.frame_num}-5_directors.png'),tracker.frame)\n",
    "                tracker.write_frame()\n",
    "                if not tracker.post_frame(delay=1):\n",
    "                    break\n",
    "                tracker.print_current_frame()\n",
    "        tracker.release()\n",
    "    except:\n",
    "        tracker.release()\n",
    "        %tb\n",
    "\n",
    "    tracker.save_trial()\n",
    "    return\n",
    "\n",
    "\n",
    "# display(input_files)\n",
    "\n",
    "if n_threads==1:\n",
    "\n",
    "    for input_file in input_files:\n",
    "        track(input_file)\n",
    "    \n",
    "else:\n",
    "    \n",
    "    pool = multiprocessing.Pool(n_threads)\n",
    "    pool.map(track,input_files)"
   ]
  },
  {
   "cell_type": "markdown",
   "metadata": {},
   "source": [
    "# Load output and plot trajectories"
   ]
  },
  {
   "cell_type": "code",
   "execution_count": 6,
   "metadata": {},
   "outputs": [
    {
     "name": "stdout",
     "output_type": "stream",
     "text": [
      "../raw_videos/Pa_Fri_7dpf_GroupB_n2b_2020-06-05-114635-0000.avi\n"
     ]
    },
    {
     "data": {
      "image/png": "[encoded data removed]",
      "text/plain": [
       "<Figure size 576x576 with 1 Axes>"
      ]
     },
     "metadata": {
      "needs_background": "light"
     },
     "output_type": "display_data"
    }
   ],
   "source": [
    "for input_file in input_files[:1]:\n",
    "    \n",
    "    print(input_file)\n",
    "    settings = create_settings(input_file)\n",
    "#     settings.update(tweaks)\n",
    "    globals().update(settings)\n",
    "    globals().update(load_pik(trial_file))\n",
    "    \n",
    "    # Plot trajectories.\n",
    "    plt.figure(figsize=(8,)*2)\n",
    "    circle = plt.Circle( (tank.x_px,tank.y_px), tank.r_px,\n",
    "                         facecolor='None', edgecolor='k', lw=0.5 )\n",
    "    plt.gca().add_patch(circle)\n",
    "    for fish in df.columns.levels[0]:\n",
    "        x,y,theta,area = df[fish].values.T\n",
    "        plt.plot(x,y,marker='o',ms=2,mew=0.5,mfc='None',lw=0,label=str(fish))\n",
    "    plt.axis('equal')\n",
    "    plt.gca().yaxis.set_inverted(True)\n",
    "    plt.legend()\n",
    "    plt.show()\n"
   ]
  },
  {
   "cell_type": "code",
   "execution_count": null,
   "metadata": {},
   "outputs": [],
   "source": []
  }
 ],
 "metadata": {
  "kernelspec": {
   "display_name": "Python (main)",
   "language": "python",
   "name": "main"
  },
  "language_info": {
   "codemirror_mode": {
    "name": "ipython",
    "version": 3
   },
   "file_extension": ".py",
   "mimetype": "text/x-python",
   "name": "python",
   "nbconvert_exporter": "python",
   "pygments_lexer": "ipython3",
   "version": "3.6.10"
  }
 },
 "nbformat": 4,
 "nbformat_minor": 4
}
