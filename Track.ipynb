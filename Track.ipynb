{
 "cells": [
  {
   "cell_type": "code",
   "execution_count": 1,
   "metadata": {},
   "outputs": [],
   "source": [
    "from importlib import reload\n",
    "import platform, os, sys, datetime, re\n",
    "import multiprocessing\n",
    "from os.path import join\n",
    "from glob import glob\n",
    "import cv2\n",
    "import numpy as np\n",
    "import matplotlib.pyplot as plt\n",
    "import pandas as pd\n",
    "# sys.path.append(join(root_dir,'cvtracer'))\n",
    "import cvt\n",
    "from cvt.TrAQ.Trial import Trial\n",
    "from cvt.TrAQ.Tank import Tank\n",
    "from cvt.TrAQ.CVTracer import CVTracer, create_named_window, wait_on_named_window\n",
    "from cvt.utils import *\n",
    "\n",
    "default_settings = dict(\n",
    "    t_start        = 0,     # Time at which to start tracking, in seconds.\n",
    "    t_end          = -1,    # Time at which to end tracking, in seconds.\n",
    "    \n",
    "    # Contour detection.\n",
    "    n_pixel_blur   =  7,    # square-root of n-pixels for threshold blurring\n",
    "    block_size     = 15,    # contour block size\n",
    "    thresh_offset  = 15,    # threshold offset for contour-finding\n",
    "    min_area       = 25,    # minimum area for threhold detection\n",
    "    max_area       = 60,    # maximum area for threhold detection\n",
    "    RGB            = False, # track in color, false does greyscale\n",
    "    online_viewer  = False, # Toggle live preview of tracking.\n",
    "\n",
    "    # Background subtraction (for naive background subtraction only).\n",
    "    bkgSub_options = dict( n_training_frames = 100, # number of frames used to compute background\n",
    "                           t_start = 0, t_end = -1, # time range used to compute background\n",
    "                           contrast_factor = 4 ),   # post-subtraction contrast enhancement factor\n",
    "    \n",
    "    # What information to draw on the tracking output video.\n",
    "    video_output_options = dict(tank=True, repeat_contours=False, all_contours=True, \n",
    "                                contour_color=(0,200,255), contour_thickness=1, \n",
    "                                points=False, directors=True, timestamp=True)\n",
    "    )\n",
    "\n",
    "def create_settings_(input_file, tracking_dir, settings):\n",
    "    \n",
    "    globals().update(settings)\n",
    "    tank_diameter_vs_age = { 7:9.6, 14:10.4, 21:12.8, 28:17.7, 42:33.8 }\n",
    "    \n",
    "    ''' Extract trial info from the filename and the video itself. '''\n",
    "\n",
    "    filename,ext = os.path.splitext(os.path.basename(input_file))\n",
    "    pop,_,age,group,Nfish = filename.split('_')[:5]\n",
    "    Nfish    = int(re.findall('\\d+',Nfish)[0])\n",
    "    age      = int(age[:-3])\n",
    "    tank_radius = tank_diameter_vs_age[age]/2\n",
    "\n",
    "    cap      = cv2.VideoCapture(input_file)\n",
    "    cap.read()\n",
    "    Nframes  = int(cap.get(cv2.CAP_PROP_FRAME_COUNT))\n",
    "    fps      = int(cap.get(cv2.CAP_PROP_FPS))\n",
    "    fourcc   = int(cap.get(cv2.CAP_PROP_FOURCC))\n",
    "    width    = int(cap.get(cv2.CAP_PROP_FRAME_WIDTH))\n",
    "    height   = int(cap.get(cv2.CAP_PROP_FRAME_HEIGHT))\n",
    "    cap.release()\n",
    "    \n",
    "    ''' Define and create necessary folders/files/links. '''\n",
    "    \n",
    "    output_dir = join(tracking_dir,filename)\n",
    "\n",
    "    new_input_file = input_file\n",
    "    if not 'windows' in platform.system().lower():\n",
    "        new_input_file = join(output_dir,'raw'+ext)\n",
    "    \n",
    "    settings_file = join(output_dir,'tracking_settings.txt')\n",
    "    trial_file    = join(output_dir,'trial.pik')\n",
    "    tank_file     = join(output_dir,'tank.pik')\n",
    "    n_bkg         = bkgSub_options['n_training_frames']\n",
    "    bkg_file      = join(output_dir,f'background-{n_bkg}.npz')\n",
    "    \n",
    "    for k,v in locals().items():\n",
    "        if k not in ['cap','settings','tank_diameter_vs_age','_','n_bkg']:\n",
    "            settings[k] = v\n",
    "        \n",
    "    return settings\n",
    "\n",
    "\n",
    "def create_directories(settings):\n",
    "    for k in 'tracking_dir','output_dir','input_file','new_input_file':\n",
    "        globals()[k] = settings[k]\n",
    "    if not os.path.exists(tracking_dir):\n",
    "        os.mkdir(tracking_dir)\n",
    "    if not os.path.exists(output_dir):\n",
    "        os.mkdir(output_dir)\n",
    "    if not 'windows' in platform.system().lower():\n",
    "        if not os.path.exists(new_input_file):\n",
    "            os.symlink(os.path.relpath(input_file,output_dir),new_input_file)\n",
    "    return\n",
    "\n",
    "\n",
    "def save_settings(settings):\n",
    "    with open(settings['settings_file'],'w') as fh:\n",
    "        for k,v in settings.items():\n",
    "            print(f'{k} = {v}',file=fh)\n",
    "    return"
   ]
  },
  {
   "cell_type": "markdown",
   "metadata": {},
   "source": [
    "# Locate input/output and allocate CPU's\n",
    "\n",
    "`tracking_dir` sets the top-level output directory. The output of tracking each video will go in `tracking_dir`, in a subdirectory named after the input video file.  \n",
    "\n",
    "`n_threads` controls the number of tracking tasks to execute simulataneously. `n_threads = None` defaults to the number of CPU's on the machine running the notebook. **This feature doesn't work in Windows, if you're using Windows\n",
    "\n",
    "`input_files` set the list of video files to perform tracking on."
   ]
  },
  {
   "cell_type": "code",
   "execution_count": 22,
   "metadata": {},
   "outputs": [
    {
     "data": {
      "text/plain": [
       "['../raw_videos/Pa_Fri_7dpf_GroupB_n2b_2020-06-05-114635-0000.avi',\n",
       " '../raw_videos/Pa_Fri_7dpf_GroupB_n5_2020-06-05-094643-0000.avi']"
      ]
     },
     "metadata": {},
     "output_type": "display_data"
    }
   ],
   "source": [
    "# tracking_dir = '../tracking/full' # use this one to track full videos\n",
    "# tracking_dir = '../tracking/partial' # use this one to track small excerpts\n",
    "tracking_dir = '../tracking/test'\n",
    "\n",
    "def create_settings(input_file,tracking_dir=tracking_dir,settings=default_settings):\n",
    "    return create_settings_(input_file,tracking_dir,settings)\n",
    "\n",
    "#-----------------------------\n",
    "\n",
    "n_threads = None\n",
    "# Multi-threading doesn't work in Windows. If the OS is Windows, multi-threading doesn't work, set n_thread to 1.\n",
    "if 'windows' in platform.system().lower():\n",
    "    n_threads = 1\n",
    "\n",
    "#-----------------------------\n",
    "\n",
    "# input_files = sorted(glob('../raw_videos/*.avi'))\n",
    "input_files = sorted(glob('../raw_videos/Pa_Fri_7dpf_GroupB_*.avi'))\n",
    "\n",
    "# input_files = []\n",
    "# for f in sorted(glob('../raw_videos/*.avi')):\n",
    "#     print(f)\n",
    "#     settings = create_settings(f)\n",
    "#     if not os.path.exists(settings['trial_file']):\n",
    "#         input_files.append(f)\n",
    "# display(input_files)\n",
    "\n",
    "# input_files = sorted(glob('./test/input/*.avi'))\n",
    "\n",
    "display(input_files)\n",
    "input_files = [ input_files[0] ]"
   ]
  },
  {
   "cell_type": "markdown",
   "metadata": {},
   "source": [
    "# Locate the tanks"
   ]
  },
  {
   "cell_type": "code",
   "execution_count": 23,
   "metadata": {
    "scrolled": true
   },
   "outputs": [
    {
     "name": "stdout",
     "output_type": "stream",
     "text": [
      "../raw_videos/Pa_Fri_7dpf_GroupB_n2b_2020-06-05-114635-0000.avi\n",
      "\n",
      "       Tank not found ./test/output/Pa_Fri_7dpf_GroupB_n2b_2020-06-05-114635-0000/tank.pik \n",
      "    Locating tank edges... \n",
      "\n",
      "       Tank detection complete.\n"
     ]
    }
   ],
   "source": [
    "for input_file in input_files:\n",
    "    print(input_file)\n",
    "    settings = create_settings(input_file)\n",
    "    create_directories(settings)\n",
    "    globals().update(settings)\n",
    "    tank = Tank(r_cm=tank_radius)\n",
    "    tank.load_or_locate_and_save(tank_file,input_file)"
   ]
  },
  {
   "cell_type": "markdown",
   "metadata": {},
   "source": [
    "# Track"
   ]
  },
  {
   "cell_type": "code",
   "execution_count": 24,
   "metadata": {},
   "outputs": [
    {
     "data": {
      "text/plain": [
       "['../raw_videos/Pa_Fri_7dpf_GroupB_n2b_2020-06-05-114635-0000.avi']"
      ]
     },
     "metadata": {},
     "output_type": "display_data"
    }
   ],
   "source": [
    "display(input_files)"
   ]
  },
  {
   "cell_type": "code",
   "execution_count": 26,
   "metadata": {},
   "outputs": [
    {
     "name": "stdout",
     "output_type": "stream",
     "text": [
      "../raw_videos/Pa_Fri_7dpf_GroupB_n2b_2020-06-05-114635-0000.avi\n",
      "\n",
      "       Tank object loaded from ./test/output/Pa_Fri_7dpf_GroupB_n2b_2020-06-05-114635-0000/tank.pik \n",
      "\n",
      "       Current tracking time: 00:00:04:53 \n",
      "       Video capture released.\n",
      "\n",
      "       Trial object saved as ./test/output/Pa_Fri_7dpf_GroupB_n2b_2020-06-05-114635-0000/trial.pik \n"
     ]
    }
   ],
   "source": [
    "reload(cvt.TrAQ.Trial)\n",
    "from cvt.TrAQ.Trial import Trial\n",
    "reload(cvt.TrAQ.CVTracer)\n",
    "from cvt.TrAQ.CVTracer import CVTracer, create_named_window, wait_on_named_window\n",
    "\n",
    "\n",
    "# tweaks = dict(t_start = 4, t_end = 5,\n",
    "tweaks = dict(t_start = 60, t_end = 90,\n",
    "              n_pixel_blur   =  5,    # square-root of n-pixels for threshold blurring\n",
    "              block_size     = 15,    # contour block size\n",
    "              thresh_offset  = 13,    # threshold offset for contour-finding\n",
    "              min_area       = 15,    # minimum area for threhold detection\n",
    "              max_area       = 100,   # maximum area for threhold detection\n",
    "              online_viewer  = False, \n",
    "              video_output_options = dict( tank = False, repeat_contours = False, all_contours = True, \n",
    "                                           contour_color = (0,0,255), contour_thickness = 1, \n",
    "                                           points = False, timestamp = True ),\n",
    "                                           # Note: There's no point drawing the tank since we're masking\n",
    "                                           # everything outside the tank anyway.\n",
    "             )\n",
    "\n",
    "\n",
    "def track(input_file):\n",
    "    \n",
    "    print(input_file)\n",
    "    \n",
    "    settings = create_settings(input_file)\n",
    "    settings.update(tweaks)\n",
    "\n",
    "    save_settings(settings)\n",
    "    globals().update(settings)\n",
    "\n",
    "    trial   = Trial()\n",
    "    trial.init(video_file=new_input_file, output_dir=output_dir, n_ind=Nfish, \n",
    "               fps=fps, tank_radius=tank_radius, t_start=t_start, t_end=t_end)\n",
    "\n",
    "    tracker = CVTracer(trial, n_pixel_blur=n_pixel_blur, block_size=block_size, \n",
    "                       threshold_offset=thresh_offset, min_area=min_area, max_area=max_area, \n",
    "                       bkgSub_options=bkgSub_options, RGB=True, live_preview=online_viewer)\n",
    "\n",
    "    frames_dir = join(output_dir,'frames')\n",
    "\n",
    "    try:\n",
    "        tracker.set_frame(tracker.frame_start)\n",
    "        tracker.init_live_preview()\n",
    "        print()\n",
    "        for i_frame in range(tracker.frame_start, tracker.frame_end+1):\n",
    "            if tracker.get_frame():\n",
    "                # Use b to output detailed information about the subset of the frames.\n",
    "                # Whenever b evaluates to True, images are saved in \"[output_dir]/frames\" \n",
    "                # showing each step of the tracking process.\n",
    "                b = False # 260<tracker.frame_num<275 # True # \n",
    "                if b:\n",
    "                    if not os.path.exists(frames_dir):\n",
    "                        os.mkdir(frames_dir)\n",
    "                    cv2.imwrite(join(frames_dir,f'{tracker.frame_num}-1_raw.png'),tracker.frame)\n",
    "                tracker.subtract_background()\n",
    "                if b:\n",
    "                    cv2.imwrite(join(frames_dir,f'{tracker.frame_num}-2_subtracted.png'),tracker.frame)\n",
    "                tracker.mask_tank()\n",
    "                tracker.detect_contours()\n",
    "                tracker.connect_frames()\n",
    "                if b:\n",
    "                    cv2.imwrite(join(frames_dir,f'{tracker.frame_num}-3_masked.png'),tracker.frame)\n",
    "                    tracker.draw(directors=False,**video_output_options)\n",
    "                    cv2.imwrite(join(frames_dir,f'{tracker.frame_num}-4_contours.png'),tracker.frame)\n",
    "                tracker.draw(directors=True,**video_output_options)\n",
    "                if b:\n",
    "                    cv2.imwrite(join(frames_dir,f'{tracker.frame_num}-5_directors.png'),tracker.frame)\n",
    "                tracker.write_frame()\n",
    "                if not tracker.post_frame(delay=1):\n",
    "                    break\n",
    "                tracker.print_current_frame()\n",
    "        tracker.release()\n",
    "        tracker.trial.save()\n",
    "    except:\n",
    "        tracker.release()\n",
    "        %tb\n",
    "        \n",
    "    return\n",
    "\n",
    "\n",
    "if n_threads==1:\n",
    "\n",
    "    for input_file in input_files:\n",
    "        track(input_file)\n",
    "    \n",
    "else:\n",
    "    \n",
    "    pool = multiprocessing.Pool(n_threads)\n",
    "    pool.map(track,input_files)\n"
   ]
  },
  {
   "cell_type": "markdown",
   "metadata": {},
   "source": [
    "# Plot the trajectories"
   ]
  },
  {
   "cell_type": "code",
   "execution_count": 21,
   "metadata": {},
   "outputs": [
    {
     "name": "stdout",
     "output_type": "stream",
     "text": [
      "../raw_videos/Pa_Fri_7dpf_GroupB_n2b_2020-06-05-114635-0000.avi\n",
      "\n",
      "        Trial loaded from ../tracking/partial/Pa_Fri_7dpf_GroupB_n2b_2020-06-05-114635-0000/trial.pik \n"
     ]
    },
    {
     "data": {
      "image/png": "[encoded data removed]",
      "text/plain": [
       "<Figure size 576x576 with 1 Axes>"
      ]
     },
     "metadata": {
      "needs_background": "light"
     },
     "output_type": "display_data"
    },
    {
     "name": "stdout",
     "output_type": "stream",
     "text": [
      "../raw_videos/Pa_Fri_7dpf_GroupB_n5_2020-06-05-094643-0000.avi\n",
      "\n",
      "        Trial loaded from ../tracking/partial/Pa_Fri_7dpf_GroupB_n5_2020-06-05-094643-0000/trial.pik \n"
     ]
    },
    {
     "data": {
      "image/png": "[encoded data removed]",
      "text/plain": [
       "<Figure size 576x576 with 1 Axes>"
      ]
     },
     "metadata": {
      "needs_background": "light"
     },
     "output_type": "display_data"
    }
   ],
   "source": [
    "for input_file in input_files:\n",
    "    \n",
    "    print(input_file)\n",
    "    settings = create_settings(input_file)\n",
    "#     settings.update(tweaks)\n",
    "    \n",
    "    trial = Trial()\n",
    "    trial.load(settings['trial_file'])\n",
    "\n",
    "    plt.figure(figsize=(8,)*2)\n",
    "    circle = plt.Circle( (trial.tank.col_c,trial.tank.row_c), trial.tank.r,\n",
    "                         facecolor='None', edgecolor='k', lw=0.5 )\n",
    "    plt.gca().add_patch(circle)\n",
    "    for fish in trial.df.columns.levels[0]:\n",
    "        x,y,theta,area = trial.df[fish].values.T\n",
    "        plt.plot(x,y,marker='o',ms=2,mew=0.5,mfc='None',lw=0,label=str(fish))\n",
    "    plt.axis('equal')\n",
    "    plt.gca().yaxis.set_inverted(True)\n",
    "    plt.legend()\n",
    "    plt.show()\n",
    "\n",
    "# display(tracker.df.loc[:,(slice(None),['x_px','y_px'])])"
   ]
  },
  {
   "cell_type": "code",
   "execution_count": null,
   "metadata": {},
   "outputs": [],
   "source": [
    "help(plt.Circle)"
   ]
  },
  {
   "cell_type": "code",
   "execution_count": null,
   "metadata": {},
   "outputs": [],
   "source": []
  }
 ],
 "metadata": {
  "kernelspec": {
   "display_name": "Python (cvtracer)",
   "language": "python",
   "name": "cvtracer"
  },
  "language_info": {
   "codemirror_mode": {
    "name": "ipython",
    "version": 3
   },
   "file_extension": ".py",
   "mimetype": "text/x-python",
   "name": "python",
   "nbconvert_exporter": "python",
   "pygments_lexer": "ipython3",
   "version": "3.7.7"
  }
 },
 "nbformat": 4,
 "nbformat_minor": 4
}
