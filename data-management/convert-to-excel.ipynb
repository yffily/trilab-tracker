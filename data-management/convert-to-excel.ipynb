{
 "cells": [
  {
   "cell_type": "code",
   "execution_count": 37,
   "metadata": {},
   "outputs": [
    {
     "data": {
      "text/plain": [
       "'/media/yaouen/LarvalSchooling/larval_schooling/trilab-tracker/data-management'"
      ]
     },
     "execution_count": 37,
     "metadata": {},
     "output_type": "execute_result"
    }
   ],
   "source": [
    "import os, sys, re\n",
    "from glob import glob\n",
    "import numpy as np\n",
    "import pandas as pd\n",
    "import matplotlib.pyplot as plt\n",
    "from tqdm import tqdm\n",
    "\n",
    "sys.path.append('..')\n",
    "import trilabtracker as tt\n",
    "\n",
    "from importlib import reload\n",
    "for m in tt.__all__:\n",
    "    eval(f'reload(tt.{m})')\n",
    "reload(tt)\n",
    "\n",
    "os.getcwd()"
   ]
  },
  {
   "cell_type": "markdown",
   "metadata": {},
   "source": [
    "## Prepare trial data.\n",
    "\n",
    "Prepare a dictionary of trials to analyze with basic info for each (path to trial file, population, age, number of individuals, etc)."
   ]
  },
  {
   "cell_type": "code",
   "execution_count": 35,
   "metadata": {},
   "outputs": [
    {
     "data": {
      "text/html": [
       "<div>\n",
       "<style scoped>\n",
       "    .dataframe tbody tr th:only-of-type {\n",
       "        vertical-align: middle;\n",
       "    }\n",
       "\n",
       "    .dataframe tbody tr th {\n",
       "        vertical-align: top;\n",
       "    }\n",
       "\n",
       "    .dataframe thead th {\n",
       "        text-align: right;\n",
       "    }\n",
       "</style>\n",
       "<table border=\"1\" class=\"dataframe\">\n",
       "  <thead>\n",
       "    <tr style=\"text-align: right;\">\n",
       "      <th></th>\n",
       "      <th>age</th>\n",
       "      <th>7</th>\n",
       "    </tr>\n",
       "    <tr>\n",
       "      <th>pop</th>\n",
       "      <th>n_ind</th>\n",
       "      <th></th>\n",
       "    </tr>\n",
       "  </thead>\n",
       "  <tbody>\n",
       "    <tr>\n",
       "      <th>SF</th>\n",
       "      <th>5</th>\n",
       "      <td>1</td>\n",
       "    </tr>\n",
       "  </tbody>\n",
       "</table>\n",
       "</div>"
      ],
      "text/plain": [
       "age        7\n",
       "pop n_ind   \n",
       "SF  5      1"
      ]
     },
     "metadata": {},
     "output_type": "display_data"
    }
   ],
   "source": [
    "tank_diameter_vs_age = { 7:9.6, 14:10.4, 21:12.8, 28:17.7, 42:33.8,\n",
    "                         56:33.8, 70:33.8, 84:3.8 }\n",
    "\n",
    "# Extract trial metadata from the trial's filename.\n",
    "def parse_trial_file(trial_file, etho=False):\n",
    "    if etho:\n",
    "        trial_dir  = None\n",
    "        trial_name = os.path.basename(trial_file)\n",
    "        trial_name = trial_name.split('-')[1]\n",
    "    else:\n",
    "        trial_dir  = os.path.dirname(trial_file)\n",
    "        trial_name = os.path.basename(trial_dir)\n",
    "    pop,day,age,group,n_ind = trial_name.split('_')[:5]\n",
    "    pop        = {'sf':'SF', 'pa':'Pa', 'rc':'RC'}[pop.lower()]\n",
    "    age        = int(age[:-3])\n",
    "    age = 42 if age==43 else (70 if age==71 else age)\n",
    "    n_ind      = int(re.findall('\\d+',n_ind)[0])\n",
    "    R_cm       = tank_diameter_vs_age[age]/2\n",
    "    trial      = { k:v for k,v in locals().items() if k in ['trial_file', 'trial_dir', \n",
    "                                 'trial_name', 'pop', 'age', 'group', 'n_ind', 'R_cm'] }\n",
    "    return trial\n",
    "\n",
    "# Select a set of trials to analyze.\n",
    "trial_files = sorted(glob('../output/*/trial.pik'))\n",
    "# print(trial_files)\n",
    "\n",
    "# Count trials of each type.\n",
    "trials = [ parse_trial_file(f) for f in trial_files]\n",
    "trials = pd.DataFrame(trials,index=trial_files)\n",
    "grouped_trials = trials.groupby(['pop','age','n_ind'])\n",
    "count  = pd.DataFrame(grouped_trials['trial_dir'].count().rename('count'))\n",
    "count = count.unstack(1)\n",
    "count.columns = count.columns.droplevel()\n",
    "count[pd.isna(count)] = 0\n",
    "count = count.astype(int)\n",
    "display(count)\n",
    "\n",
    "def matching_trials(pop=None, age=None, n_ind=None, df=trials):\n",
    "    I = pd.Series(data=True, index=df.index)\n",
    "    if not pop is None:\n",
    "        I = I & (df['pop']==pop)\n",
    "    if not age is None:\n",
    "        I = I & (df['age']==age)\n",
    "    if not n_ind is None:\n",
    "        I = I & (df['n_ind']==n_ind)\n",
    "    return df[I].index.tolist()"
   ]
  },
  {
   "cell_type": "markdown",
   "metadata": {},
   "source": [
    "## Visualize unfixed and fixed trajectories around a fix."
   ]
  },
  {
   "cell_type": "code",
   "execution_count": 3,
   "metadata": {},
   "outputs": [],
   "source": [
    "# trial_file = matching_trials(age=28)[0]\n",
    "# print(trial_file)\n",
    "\n",
    "# trial = tt.load_trial(trial_file, load_fixes=False)\n",
    "# data1 = trial['data'].copy()\n",
    "# trial = tt.load_trial(trial_file, load_fixes=True)\n",
    "# data2 = trial['data'].copy()\n",
    "\n",
    "# plt.figure(figsize=(6,6))\n",
    "# I,J = slice(6050,6150), [0,2,4]\n",
    "# for j in J:\n",
    "#     c = f'C{j}'\n",
    "#     plt.plot(*data1[I,j,:2].T, lw=8, alpha=0.2, color=c, zorder=-5)\n",
    "#     plt.plot(*data2[I,j,:2].T, lw=1, color=c)\n",
    "# # plt.axis('equal')\n",
    "# plt.show()"
   ]
  },
  {
   "cell_type": "markdown",
   "metadata": {},
   "source": [
    "## Convert to excel."
   ]
  },
  {
   "cell_type": "code",
   "execution_count": 61,
   "metadata": {},
   "outputs": [
    {
     "name": "stderr",
     "output_type": "stream",
     "text": [
      "100%|██████████| 1/1 [00:00<00:00, 33.73it/s]"
     ]
    },
    {
     "name": "stdout",
     "output_type": "stream",
     "text": [
      "../output/sf_thur_7dpf_groupA_n5b_20210513_2021-05-13-142401/sf_thur_7dpf_groupA_n5b_20210513_2021-05-13-142401_new.xlsx\n"
     ]
    },
    {
     "name": "stderr",
     "output_type": "stream",
     "text": [
      "\n"
     ]
    }
   ],
   "source": [
    "from importlib import reload\n",
    "for m in tt.__all__:\n",
    "    eval(f'reload(tt.{m})')\n",
    "reload(tt)\n",
    "\n",
    "for trial_file in tqdm(trials.index):\n",
    "    trial = parse_trial_file(trial_file)\n",
    "    trial = tt.preprocess_trial(trial)\n",
    "    globals().update(trial)\n",
    "    \n",
    "    fx = f'../excel/{trial_name}.xlsx'\n",
    "    print(fx)\n",
    "    if os.path.exists(fx):\n",
    "        continue\n",
    "    \n",
    "    writer = pd.ExcelWriter(fx)\n",
    "    for i in range(n_ind):\n",
    "        df = pd.DataFrame(np.concatenate([time[:,None],data[:,i,:3]], axis=1), \n",
    "                          columns=['Time', 'X (cm)', 'Y (cm)', 'Direction (rad)'])\n",
    "        df.to_excel(writer, sheet_name=f'fish {i+1}', index=None)\n",
    "    for sheet in writer.sheets.values():\n",
    "        for col in sheet.columns:\n",
    "            for cell in col:\n",
    "                if isinstance(cell.value,float):\n",
    "                    cell.number_format = '0.000'\n",
    "            sheet.column_dimensions[col[0].column_letter].width = 15\n",
    "    writer.save()\n",
    "    break"
   ]
  },
  {
   "cell_type": "code",
   "execution_count": null,
   "metadata": {},
   "outputs": [],
   "source": []
  }
 ],
 "metadata": {
  "kernelspec": {
   "display_name": "Python (main)",
   "language": "python",
   "name": "main"
  },
  "language_info": {
   "codemirror_mode": {
    "name": "ipython",
    "version": 3
   },
   "file_extension": ".py",
   "mimetype": "text/x-python",
   "name": "python",
   "nbconvert_exporter": "python",
   "pygments_lexer": "ipython3",
   "version": "3.8.3"
  }
 },
 "nbformat": 4,
 "nbformat_minor": 4
}
